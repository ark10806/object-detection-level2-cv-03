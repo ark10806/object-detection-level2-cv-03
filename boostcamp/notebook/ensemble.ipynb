{
 "cells": [
  {
   "cell_type": "code",
   "execution_count": null,
   "metadata": {},
   "outputs": [],
   "source": [
    "# numpy downgrade가 필요할 수 있음\n",
    "#!python -m pip install numpy==1.2"
   ]
  },
  {
   "cell_type": "code",
   "execution_count": 1,
   "metadata": {},
   "outputs": [
    {
     "name": "stdout",
     "output_type": "stream",
     "text": [
      "Collecting ensemble_boxes\n",
      "  Downloading ensemble_boxes-1.0.7-py3-none-any.whl (20 kB)\n",
      "Collecting numba\n",
      "  Downloading numba-0.54.1-cp37-cp37m-manylinux2014_x86_64.manylinux_2_17_x86_64.whl (3.3 MB)\n",
      "\u001b[K     |████████████████████████████████| 3.3 MB 37.8 MB/s eta 0:00:01\n",
      "\u001b[?25hRequirement already satisfied: numpy in /opt/conda/envs/detection/lib/python3.7/site-packages (from ensemble_boxes) (1.20.3)\n",
      "Requirement already satisfied: pandas in /opt/conda/envs/detection/lib/python3.7/site-packages (from ensemble_boxes) (1.3.3)\n",
      "Requirement already satisfied: setuptools in /opt/conda/envs/detection/lib/python3.7/site-packages (from numba->ensemble_boxes) (58.0.4)\n",
      "Collecting llvmlite<0.38,>=0.37.0rc1\n",
      "  Downloading llvmlite-0.37.0-cp37-cp37m-manylinux2014_x86_64.whl (26.3 MB)\n",
      "\u001b[K     |████████████████████████████████| 26.3 MB 88.5 MB/s eta 0:00:01\n",
      "\u001b[?25hRequirement already satisfied: python-dateutil>=2.7.3 in /opt/conda/envs/detection/lib/python3.7/site-packages (from pandas->ensemble_boxes) (2.8.2)\n",
      "Requirement already satisfied: pytz>=2017.3 in /opt/conda/envs/detection/lib/python3.7/site-packages (from pandas->ensemble_boxes) (2021.1)\n",
      "Requirement already satisfied: six>=1.5 in /opt/conda/envs/detection/lib/python3.7/site-packages (from python-dateutil>=2.7.3->pandas->ensemble_boxes) (1.16.0)\n",
      "Installing collected packages: llvmlite, numba, ensemble-boxes\n",
      "Successfully installed ensemble-boxes-1.0.7 llvmlite-0.37.0 numba-0.54.1\n"
     ]
    }
   ],
   "source": [
    "#!pip install ensemble_boxes"
   ]
  },
  {
   "cell_type": "code",
   "execution_count": 1,
   "metadata": {},
   "outputs": [],
   "source": [
    "import pandas as pd\n",
    "from ensemble_boxes import *\n",
    "import numpy as np\n",
    "from pycocotools.coco import COCO\n",
    "from sklearn.preprocessing import normalize"
   ]
  },
  {
   "cell_type": "code",
   "execution_count": 50,
   "metadata": {},
   "outputs": [
    {
     "name": "stdout",
     "output_type": "stream",
     "text": [
      "loading annotations into memory...\n",
      "Done (t=0.01s)\n",
      "creating index...\n",
      "index created!\n"
     ]
    }
   ],
   "source": [
    "# ensemble csv files\n",
    "submission_files = ['/opt/ml/detection/mmdetection_new/boostcamp/submissions/swinB_cascade_rcnn/subm_swinB_fold1_1009.csv',\n",
    "                    '/opt/ml/detection/mmdetection_new/boostcamp/submissions/swinB_cascade_rcnn/subm_swinB_fold2_1009.csv',\n",
    "                    '/opt/ml/detection/mmdetection_new/boostcamp/submissions/swinB_cascade_rcnn/subm_swinB_fold3_1009.csv',\n",
    "                    '/opt/ml/detection/mmdetection_new/boostcamp/submissions/swinB_cascade_rcnn/subm_swinB_fold4_1009.csv',\n",
    "                    '/opt/ml/detection/mmdetection_new/boostcamp/submissions/swinB_cascade_rcnn/subm_swinB_fold5_1009.csv',\n",
    "                    \n",
    "                    '/opt/ml/detection/mmdetection_new/boostcamp/submissions/universe101/universe101_kfold1.csv',\n",
    "                    '/opt/ml/detection/mmdetection_new/boostcamp/submissions/universe101/universe101_kfold2.csv',\n",
    "                    '/opt/ml/detection/mmdetection_new/boostcamp/submissions/universe101/universe101_kfold3.csv',\n",
    "                    '/opt/ml/detection/mmdetection_new/boostcamp/submissions/universe101/universe101_kfold4.csv',\n",
    "                    '/opt/ml/detection/mmdetection_new/boostcamp/submissions/universe101/universe101_kfold5.csv',\n",
    "                    \n",
    "                    '/opt/ml/detection/mmdetection_new/boostcamp/submissions/yolor/yolor_LB6110.csv',\n",
    "                    \n",
    "                    '/opt/ml/detection/mmdetection_new/boostcamp/submissions/jsw_swinB_tta.csv',\n",
    "\n",
    "                    '/opt/ml/detection/mmdetection_new/boostcamp/work_dirs/multi_scale_HTC_swinB_pafpn_full_batch/multi_scale_HTC_swinB_pafpn_full_batch_max300Img_submission_.csv',\n",
    "\n",
    "                    ] # submission lists\n",
    "\n",
    "submission_df = [pd.read_csv(file) for file in submission_files]\n",
    "\n",
    "image_ids = submission_df[0]['image_id'].tolist()\n",
    "\n",
    "annotation = '/opt/ml/detection/dataset/test.json'\n",
    "coco = COCO(annotation)"
   ]
  },
  {
   "cell_type": "code",
   "execution_count": 43,
   "metadata": {},
   "outputs": [],
   "source": [
    "lb_scores = np.array([0.700]*5 + [0.618]*5 + [0.618] + [0.657]) #+ [0.647])\n",
    "# weights = normalize(lb_scores[:,np.newaxis], axis=0).ravel()\n",
    "# weights\n",
    "weights = lb_scores/lb_scores.max()"
   ]
  },
  {
   "cell_type": "code",
   "execution_count": 5,
   "metadata": {},
   "outputs": [
    {
     "data": {
      "text/plain": [
       "array([0.10216129, 0.10216129, 0.10216129, 0.10216129, 0.10216129,\n",
       "       0.06779937, 0.06779937, 0.06779937, 0.06779937, 0.06779937,\n",
       "       0.06779937, 0.08239732])"
      ]
     },
     "execution_count": 5,
     "metadata": {},
     "output_type": "execute_result"
    }
   ],
   "source": [
    "np.exp(lb_scores*5)/np.exp(lb_scores*5).sum()"
   ]
  },
  {
   "cell_type": "code",
   "execution_count": 51,
   "metadata": {},
   "outputs": [
    {
     "name": "stderr",
     "output_type": "stream",
     "text": [
      "/opt/conda/envs/detection/lib/python3.7/site-packages/ensemble_boxes/ensemble_boxes_wbf.py:73: UserWarning: X2 > 1 in box. Set it to 1. Check that you normalize boxes in [0, 1] range.\n",
      "  warnings.warn('X2 > 1 in box. Set it to 1. Check that you normalize boxes in [0, 1] range.')\n",
      "/opt/conda/envs/detection/lib/python3.7/site-packages/ensemble_boxes/ensemble_boxes_wbf.py:64: UserWarning: X1 < 0 in box. Set it to 0.\n",
      "  warnings.warn('X1 < 0 in box. Set it to 0.')\n",
      "/opt/conda/envs/detection/lib/python3.7/site-packages/ensemble_boxes/ensemble_boxes_wbf.py:85: UserWarning: Y2 > 1 in box. Set it to 1. Check that you normalize boxes in [0, 1] range.\n",
      "  warnings.warn('Y2 > 1 in box. Set it to 1. Check that you normalize boxes in [0, 1] range.')\n",
      "/opt/conda/envs/detection/lib/python3.7/site-packages/ensemble_boxes/ensemble_boxes_wbf.py:76: UserWarning: Y1 < 0 in box. Set it to 0.\n",
      "  warnings.warn('Y1 < 0 in box. Set it to 0.')\n"
     ]
    }
   ],
   "source": [
    "prediction_strings = []\n",
    "file_names = []\n",
    "iou_thr = 0.55\n",
    "\n",
    "ensemble_function = weighted_boxes_fusion\n",
    "\n",
    "for i, image_id in enumerate(image_ids):\n",
    "    prediction_string = ''\n",
    "    boxes_list = []\n",
    "    scores_list = []\n",
    "    labels_list = []\n",
    "    image_info = coco.loadImgs(i)[0]\n",
    "    \n",
    "    for df_idx,df in enumerate(submission_df):\n",
    "        predict_string = df[df['image_id'] == image_id]['PredictionString'].tolist()[0]\n",
    "        predict_list = str(predict_string).split()\n",
    "        \n",
    "        if len(predict_list)==0 or len(predict_list)==1:\n",
    "            continue\n",
    "            \n",
    "        predict_list = np.reshape(predict_list, (-1, 6))\n",
    "        box_list = []\n",
    "        \n",
    "        for box in predict_list[:, 2:6].tolist():\n",
    "            box[0] = float(box[0]) / image_info['width']\n",
    "            box[1] = float(box[1]) / image_info['height']\n",
    "            box[2] = float(box[2]) / image_info['width']\n",
    "            box[3] = float(box[3]) / image_info['height']\n",
    "            box_list.append(box)\n",
    "            \n",
    "        boxes_list.append(box_list)\n",
    "        #scores_list.append(list(map(float, predict_list[:, 1].tolist())))\n",
    "        ### weight version\n",
    "        score_list = np.array(list(map(float, predict_list[:, 1].tolist()))) # * weights[df_idx]\n",
    "        scores_list.append(score_list.tolist()) \n",
    "        ###\n",
    "        labels_list.append(list(map(int, predict_list[:, 0].tolist())))\n",
    "\n",
    "    if len(boxes_list):\n",
    "        boxes, scores, labels = ensemble_function(boxes_list, scores_list, labels_list, iou_thr=iou_thr)\n",
    "        for box, score, label in zip(boxes, scores, labels):\n",
    "            if len(prediction_string) < 32000: ## excel 저장 수 제한\n",
    "                score = round(score,6)\n",
    "                #prediction_string += str(int(label)) + ' ' + str(score) + ' ' + str(box[0] * image_info['width']) + ' ' + str(box[1] * image_info['height']) + ' ' + str(box[2] * image_info['width']) + ' ' + str(box[3] * image_info['height']) + ' '\n",
    "                prediction_string += str(int(label)) + ' ' + str(score) + ' ' + str(round(box[0] * image_info['width'],3)) + ' ' + str(round(box[1] * image_info['height'],3)) + ' ' + str(round(box[2] * image_info['width'],3)) + ' ' + str(round(box[3] * image_info['height'],3)) + ' '\n",
    "            else:\n",
    "                break\n",
    "    \n",
    "    prediction_strings.append(prediction_string)\n",
    "    file_names.append(image_id)"
   ]
  },
  {
   "cell_type": "code",
   "execution_count": 52,
   "metadata": {},
   "outputs": [
    {
     "data": {
      "text/html": [
       "<div>\n",
       "<style scoped>\n",
       "    .dataframe tbody tr th:only-of-type {\n",
       "        vertical-align: middle;\n",
       "    }\n",
       "\n",
       "    .dataframe tbody tr th {\n",
       "        vertical-align: top;\n",
       "    }\n",
       "\n",
       "    .dataframe thead th {\n",
       "        text-align: right;\n",
       "    }\n",
       "</style>\n",
       "<table border=\"1\" class=\"dataframe\">\n",
       "  <thead>\n",
       "    <tr style=\"text-align: right;\">\n",
       "      <th></th>\n",
       "      <th>PredictionString</th>\n",
       "      <th>image_id</th>\n",
       "    </tr>\n",
       "  </thead>\n",
       "  <tbody>\n",
       "    <tr>\n",
       "      <th>0</th>\n",
       "      <td>7 0.918427 604.291 519.056 953.369 1022.949 7 ...</td>\n",
       "      <td>test/0000.jpg</td>\n",
       "    </tr>\n",
       "    <tr>\n",
       "      <th>1</th>\n",
       "      <td>5 0.703346 132.973 0.377 494.719 280.018 6 0.5...</td>\n",
       "      <td>test/0001.jpg</td>\n",
       "    </tr>\n",
       "    <tr>\n",
       "      <th>2</th>\n",
       "      <td>1 0.744817 424.662 268.814 642.111 326.28 4 0....</td>\n",
       "      <td>test/0002.jpg</td>\n",
       "    </tr>\n",
       "    <tr>\n",
       "      <th>3</th>\n",
       "      <td>9 0.533196 146.353 256.802 920.591 822.479 9 0...</td>\n",
       "      <td>test/0003.jpg</td>\n",
       "    </tr>\n",
       "    <tr>\n",
       "      <th>4</th>\n",
       "      <td>1 0.554408 210.347 264.402 868.862 772.972 0 0...</td>\n",
       "      <td>test/0004.jpg</td>\n",
       "    </tr>\n",
       "  </tbody>\n",
       "</table>\n",
       "</div>"
      ],
      "text/plain": [
       "                                    PredictionString       image_id\n",
       "0  7 0.918427 604.291 519.056 953.369 1022.949 7 ...  test/0000.jpg\n",
       "1  5 0.703346 132.973 0.377 494.719 280.018 6 0.5...  test/0001.jpg\n",
       "2  1 0.744817 424.662 268.814 642.111 326.28 4 0....  test/0002.jpg\n",
       "3  9 0.533196 146.353 256.802 920.591 822.479 9 0...  test/0003.jpg\n",
       "4  1 0.554408 210.347 264.402 868.862 772.972 0 0...  test/0004.jpg"
      ]
     },
     "execution_count": 52,
     "metadata": {},
     "output_type": "execute_result"
    }
   ],
   "source": [
    "submission = pd.DataFrame()\n",
    "submission['PredictionString'] = prediction_strings\n",
    "submission['image_id'] = file_names\n",
    "submission.to_csv('not_weighted_ensemble_plus_htc_min.csv')\n",
    "\n",
    "submission.head()"
   ]
  },
  {
   "cell_type": "markdown",
   "metadata": {},
   "source": [
    "## nms + soft_nms + wbf + nmw"
   ]
  },
  {
   "cell_type": "code",
   "execution_count": 12,
   "metadata": {},
   "outputs": [
    {
     "name": "stdout",
     "output_type": "stream",
     "text": [
      "loading annotations into memory...\n",
      "Done (t=0.01s)\n",
      "creating index...\n",
      "index created!\n"
     ]
    }
   ],
   "source": [
    "# ensemble csv files\n",
    "submission_files = ['swinB_cascade_swinB_HTC_nmw.csv',\n",
    "                    'swinB_cascade_swinB_HTC_nms.csv',\n",
    "                    'swinB_cascade_swinB_HTC_soft_nms.csv',\n",
    "                    'swinB_cascade_swinB_HTC_wbf.csv'\n",
    "                    ] # submission lists\n",
    "submission_df = [pd.read_csv(file) for file in submission_files]\n",
    "\n",
    "image_ids = submission_df[0]['image_id'].tolist()\n",
    "\n",
    "annotation = '/opt/ml/detection/dataset/test.json'\n",
    "coco = COCO(annotation)"
   ]
  },
  {
   "cell_type": "code",
   "execution_count": 13,
   "metadata": {},
   "outputs": [
    {
     "name": "stdout",
     "output_type": "stream",
     "text": [
      "Warning. Fixed 2 boxes coordinates > 1. Check that your boxes was normalized at [0, 1]\n",
      "Warning. Fixed 1 boxes coordinates > 1. Check that your boxes was normalized at [0, 1]\n",
      "Warning. Fixed 2 boxes coordinates > 1. Check that your boxes was normalized at [0, 1]\n",
      "Warning. Fixed 3 boxes coordinates > 1. Check that your boxes was normalized at [0, 1]\n",
      "Warning. Fixed 1 boxes coordinates > 1. Check that your boxes was normalized at [0, 1]\n",
      "Warning. Fixed 1 boxes coordinates > 1. Check that your boxes was normalized at [0, 1]\n",
      "Warning. Fixed 1 boxes coordinates > 1. Check that your boxes was normalized at [0, 1]\n",
      "Warning. Fixed 1 boxes coordinates > 1. Check that your boxes was normalized at [0, 1]\n",
      "Warning. Fixed 1 boxes coordinates > 1. Check that your boxes was normalized at [0, 1]\n",
      "Warning. Fixed 1 boxes coordinates > 1. Check that your boxes was normalized at [0, 1]\n",
      "Warning. Fixed 1 boxes coordinates > 1. Check that your boxes was normalized at [0, 1]\n",
      "Warning. Fixed 1 boxes coordinates > 1. Check that your boxes was normalized at [0, 1]\n",
      "Warning. Fixed 1 boxes coordinates > 1. Check that your boxes was normalized at [0, 1]\n",
      "Warning. Fixed 2 boxes coordinates > 1. Check that your boxes was normalized at [0, 1]\n",
      "Warning. Fixed 1 boxes coordinates > 1. Check that your boxes was normalized at [0, 1]\n",
      "Warning. Fixed 1 boxes coordinates > 1. Check that your boxes was normalized at [0, 1]\n",
      "Warning. Fixed 1 boxes coordinates > 1. Check that your boxes was normalized at [0, 1]\n",
      "Warning. Fixed 1 boxes coordinates > 1. Check that your boxes was normalized at [0, 1]\n",
      "Warning. Fixed 1 boxes coordinates > 1. Check that your boxes was normalized at [0, 1]\n",
      "Warning. Fixed 1 boxes coordinates > 1. Check that your boxes was normalized at [0, 1]\n",
      "Warning. Fixed 2 boxes coordinates > 1. Check that your boxes was normalized at [0, 1]\n",
      "Warning. Fixed 1 boxes coordinates > 1. Check that your boxes was normalized at [0, 1]\n",
      "Warning. Fixed 1 boxes coordinates > 1. Check that your boxes was normalized at [0, 1]\n",
      "Warning. Fixed 1 boxes coordinates > 1. Check that your boxes was normalized at [0, 1]\n",
      "Warning. Fixed 1 boxes coordinates > 1. Check that your boxes was normalized at [0, 1]\n",
      "Warning. Fixed 1 boxes coordinates > 1. Check that your boxes was normalized at [0, 1]\n",
      "Warning. Fixed 1 boxes coordinates > 1. Check that your boxes was normalized at [0, 1]\n",
      "Warning. Fixed 1 boxes coordinates > 1. Check that your boxes was normalized at [0, 1]\n",
      "Warning. Fixed 2 boxes coordinates > 1. Check that your boxes was normalized at [0, 1]\n",
      "Warning. Fixed 2 boxes coordinates > 1. Check that your boxes was normalized at [0, 1]\n",
      "Warning. Fixed 1 boxes coordinates > 1. Check that your boxes was normalized at [0, 1]\n",
      "Warning. Fixed 1 boxes coordinates > 1. Check that your boxes was normalized at [0, 1]\n",
      "Warning. Fixed 1 boxes coordinates > 1. Check that your boxes was normalized at [0, 1]\n",
      "Warning. Fixed 1 boxes coordinates > 1. Check that your boxes was normalized at [0, 1]\n",
      "Warning. Fixed 2 boxes coordinates > 1. Check that your boxes was normalized at [0, 1]\n",
      "Warning. Fixed 1 boxes coordinates > 1. Check that your boxes was normalized at [0, 1]\n",
      "Warning. Fixed 1 boxes coordinates > 1. Check that your boxes was normalized at [0, 1]\n",
      "Warning. Fixed 1 boxes coordinates > 1. Check that your boxes was normalized at [0, 1]\n",
      "Warning. Fixed 1 boxes coordinates > 1. Check that your boxes was normalized at [0, 1]\n",
      "Warning. Fixed 1 boxes coordinates > 1. Check that your boxes was normalized at [0, 1]\n",
      "Warning. Fixed 1 boxes coordinates > 1. Check that your boxes was normalized at [0, 1]\n",
      "Warning. Fixed 2 boxes coordinates > 1. Check that your boxes was normalized at [0, 1]\n",
      "Warning. Fixed 2 boxes coordinates > 1. Check that your boxes was normalized at [0, 1]\n",
      "Warning. Fixed 1 boxes coordinates > 1. Check that your boxes was normalized at [0, 1]\n",
      "Warning. Fixed 1 boxes coordinates > 1. Check that your boxes was normalized at [0, 1]\n",
      "Warning. Fixed 1 boxes coordinates > 1. Check that your boxes was normalized at [0, 1]\n",
      "Warning. Fixed 1 boxes coordinates > 1. Check that your boxes was normalized at [0, 1]\n",
      "Warning. Fixed 1 boxes coordinates > 1. Check that your boxes was normalized at [0, 1]\n",
      "Warning. Fixed 1 boxes coordinates > 1. Check that your boxes was normalized at [0, 1]\n",
      "Warning. Fixed 1 boxes coordinates > 1. Check that your boxes was normalized at [0, 1]\n",
      "Warning. Fixed 1 boxes coordinates > 1. Check that your boxes was normalized at [0, 1]\n",
      "Warning. Fixed 2 boxes coordinates > 1. Check that your boxes was normalized at [0, 1]\n",
      "Warning. Fixed 1 boxes coordinates > 1. Check that your boxes was normalized at [0, 1]\n",
      "Warning. Fixed 1 boxes coordinates > 1. Check that your boxes was normalized at [0, 1]\n",
      "Warning. Fixed 1 boxes coordinates > 1. Check that your boxes was normalized at [0, 1]\n",
      "Warning. Fixed 1 boxes coordinates > 1. Check that your boxes was normalized at [0, 1]\n",
      "Warning. Fixed 1 boxes coordinates > 1. Check that your boxes was normalized at [0, 1]\n",
      "Warning. Fixed 1 boxes coordinates > 1. Check that your boxes was normalized at [0, 1]\n",
      "Warning. Fixed 1 boxes coordinates > 1. Check that your boxes was normalized at [0, 1]\n",
      "Warning. Fixed 2 boxes coordinates > 1. Check that your boxes was normalized at [0, 1]\n",
      "Warning. Fixed 1 boxes coordinates > 1. Check that your boxes was normalized at [0, 1]\n",
      "Warning. Fixed 3 boxes coordinates > 1. Check that your boxes was normalized at [0, 1]\n",
      "Warning. Fixed 2 boxes coordinates > 1. Check that your boxes was normalized at [0, 1]\n",
      "Warning. Fixed 1 boxes coordinates > 1. Check that your boxes was normalized at [0, 1]\n",
      "Warning. Fixed 1 boxes coordinates > 1. Check that your boxes was normalized at [0, 1]\n",
      "Warning. Fixed 1 boxes coordinates > 1. Check that your boxes was normalized at [0, 1]\n",
      "Warning. Fixed 1 boxes coordinates > 1. Check that your boxes was normalized at [0, 1]\n",
      "Warning. Fixed 1 boxes coordinates > 1. Check that your boxes was normalized at [0, 1]\n",
      "Warning. Fixed 1 boxes coordinates > 1. Check that your boxes was normalized at [0, 1]\n",
      "Warning. Fixed 2 boxes coordinates > 1. Check that your boxes was normalized at [0, 1]\n",
      "Warning. Fixed 1 boxes coordinates > 1. Check that your boxes was normalized at [0, 1]\n",
      "Warning. Fixed 1 boxes coordinates > 1. Check that your boxes was normalized at [0, 1]\n",
      "Warning. Fixed 1 boxes coordinates > 1. Check that your boxes was normalized at [0, 1]\n",
      "Warning. Fixed 1 boxes coordinates > 1. Check that your boxes was normalized at [0, 1]\n",
      "Warning. Fixed 3 boxes coordinates > 1. Check that your boxes was normalized at [0, 1]\n",
      "Warning. Fixed 1 boxes coordinates > 1. Check that your boxes was normalized at [0, 1]\n",
      "Warning. Fixed 1 boxes coordinates > 1. Check that your boxes was normalized at [0, 1]\n",
      "Warning. Fixed 1 boxes coordinates > 1. Check that your boxes was normalized at [0, 1]\n",
      "Warning. Fixed 2 boxes coordinates > 1. Check that your boxes was normalized at [0, 1]\n",
      "Warning. Fixed 2 boxes coordinates > 1. Check that your boxes was normalized at [0, 1]\n",
      "Warning. Fixed 1 boxes coordinates > 1. Check that your boxes was normalized at [0, 1]\n",
      "Warning. Fixed 1 boxes coordinates > 1. Check that your boxes was normalized at [0, 1]\n",
      "Warning. Fixed 3 boxes coordinates > 1. Check that your boxes was normalized at [0, 1]\n",
      "Warning. Fixed 1 boxes coordinates > 1. Check that your boxes was normalized at [0, 1]\n",
      "Warning. Fixed 2 boxes coordinates > 1. Check that your boxes was normalized at [0, 1]\n",
      "Warning. Fixed 1 boxes coordinates > 1. Check that your boxes was normalized at [0, 1]\n",
      "Warning. Fixed 1 boxes coordinates > 1. Check that your boxes was normalized at [0, 1]\n",
      "Warning. Fixed 1 boxes coordinates > 1. Check that your boxes was normalized at [0, 1]\n",
      "Warning. Fixed 2 boxes coordinates > 1. Check that your boxes was normalized at [0, 1]\n",
      "Warning. Fixed 1 boxes coordinates > 1. Check that your boxes was normalized at [0, 1]\n",
      "Warning. Fixed 1 boxes coordinates > 1. Check that your boxes was normalized at [0, 1]\n",
      "Warning. Fixed 1 boxes coordinates > 1. Check that your boxes was normalized at [0, 1]\n",
      "Warning. Fixed 1 boxes coordinates > 1. Check that your boxes was normalized at [0, 1]\n",
      "Warning. Fixed 1 boxes coordinates > 1. Check that your boxes was normalized at [0, 1]\n",
      "Warning. Fixed 1 boxes coordinates > 1. Check that your boxes was normalized at [0, 1]\n"
     ]
    },
    {
     "name": "stdout",
     "output_type": "stream",
     "text": [
      "Warning. Fixed 1 boxes coordinates > 1. Check that your boxes was normalized at [0, 1]\n",
      "Warning. Fixed 1 boxes coordinates > 1. Check that your boxes was normalized at [0, 1]\n",
      "Warning. Fixed 1 boxes coordinates > 1. Check that your boxes was normalized at [0, 1]\n",
      "Warning. Fixed 1 boxes coordinates > 1. Check that your boxes was normalized at [0, 1]\n",
      "Warning. Fixed 1 boxes coordinates > 1. Check that your boxes was normalized at [0, 1]\n",
      "Warning. Fixed 1 boxes coordinates > 1. Check that your boxes was normalized at [0, 1]\n",
      "Warning. Fixed 1 boxes coordinates > 1. Check that your boxes was normalized at [0, 1]\n",
      "Warning. Fixed 2 boxes coordinates > 1. Check that your boxes was normalized at [0, 1]\n",
      "Warning. Fixed 1 boxes coordinates > 1. Check that your boxes was normalized at [0, 1]\n"
     ]
    }
   ],
   "source": [
    "prediction_strings = []\n",
    "file_names = []\n",
    "iou_thr = 0.4\n",
    "\n",
    "ensemble_function =  soft_nms\n",
    "\n",
    "for i, image_id in enumerate(image_ids):\n",
    "    prediction_string = ''\n",
    "    boxes_list = []\n",
    "    scores_list = []\n",
    "    labels_list = []\n",
    "    image_info = coco.loadImgs(i)[0]\n",
    "    \n",
    "    for df in submission_df:\n",
    "        predict_string = df[df['image_id'] == image_id]['PredictionString'].tolist()[0]\n",
    "        predict_list = str(predict_string).split()\n",
    "        \n",
    "        if len(predict_list)==0 or len(predict_list)==1:\n",
    "            continue\n",
    "            \n",
    "        predict_list = np.reshape(predict_list, (-1, 6))\n",
    "        box_list = []\n",
    "        \n",
    "        for box in predict_list[:, 2:6].tolist():\n",
    "            box[0] = float(box[0]) / image_info['width']\n",
    "            box[1] = float(box[1]) / image_info['height']\n",
    "            box[2] = float(box[2]) / image_info['width']\n",
    "            box[3] = float(box[3]) / image_info['height']\n",
    "            box_list.append(box)\n",
    "            \n",
    "        boxes_list.append(box_list)\n",
    "        scores_list.append(list(map(float, predict_list[:, 1].tolist())))\n",
    "        labels_list.append(list(map(int, predict_list[:, 0].tolist())))\n",
    "    \n",
    "    if len(boxes_list):\n",
    "        boxes, scores, labels = ensemble_function(boxes_list, scores_list, labels_list, iou_thr=iou_thr)\n",
    "        for box, score, label in zip(boxes, scores, labels):\n",
    "            prediction_string += str(int(label)) + ' ' + str(score) + ' ' + str(box[0] * image_info['width']) + ' ' + str(box[1] * image_info['height']) + ' ' + str(box[2] * image_info['width']) + ' ' + str(box[3] * image_info['height']) + ' '\n",
    "    \n",
    "    prediction_strings.append(prediction_string)\n",
    "    file_names.append(image_id)"
   ]
  },
  {
   "cell_type": "code",
   "execution_count": 14,
   "metadata": {},
   "outputs": [
    {
     "data": {
      "text/html": [
       "<div>\n",
       "<style scoped>\n",
       "    .dataframe tbody tr th:only-of-type {\n",
       "        vertical-align: middle;\n",
       "    }\n",
       "\n",
       "    .dataframe tbody tr th {\n",
       "        vertical-align: top;\n",
       "    }\n",
       "\n",
       "    .dataframe thead th {\n",
       "        text-align: right;\n",
       "    }\n",
       "</style>\n",
       "<table border=\"1\" class=\"dataframe\">\n",
       "  <thead>\n",
       "    <tr style=\"text-align: right;\">\n",
       "      <th></th>\n",
       "      <th>PredictionString</th>\n",
       "      <th>image_id</th>\n",
       "    </tr>\n",
       "  </thead>\n",
       "  <tbody>\n",
       "    <tr>\n",
       "      <th>0</th>\n",
       "      <td>0 0.30352563 489.4098815917969 585.01861572265...</td>\n",
       "      <td>test/0000.jpg</td>\n",
       "    </tr>\n",
       "    <tr>\n",
       "      <th>1</th>\n",
       "      <td>0 0.17676884 759.9013671875 663.2786865234375 ...</td>\n",
       "      <td>test/0001.jpg</td>\n",
       "    </tr>\n",
       "    <tr>\n",
       "      <th>2</th>\n",
       "      <td>0 0.9725914 880.3657836914062 462.399993896484...</td>\n",
       "      <td>test/0002.jpg</td>\n",
       "    </tr>\n",
       "    <tr>\n",
       "      <th>3</th>\n",
       "      <td>0 0.048839312 6.2980804443359375 0.34271004796...</td>\n",
       "      <td>test/0003.jpg</td>\n",
       "    </tr>\n",
       "    <tr>\n",
       "      <th>4</th>\n",
       "      <td>0 0.93200076 424.5522766113281 406.36660766601...</td>\n",
       "      <td>test/0004.jpg</td>\n",
       "    </tr>\n",
       "  </tbody>\n",
       "</table>\n",
       "</div>"
      ],
      "text/plain": [
       "                                    PredictionString       image_id\n",
       "0  0 0.30352563 489.4098815917969 585.01861572265...  test/0000.jpg\n",
       "1  0 0.17676884 759.9013671875 663.2786865234375 ...  test/0001.jpg\n",
       "2  0 0.9725914 880.3657836914062 462.399993896484...  test/0002.jpg\n",
       "3  0 0.048839312 6.2980804443359375 0.34271004796...  test/0003.jpg\n",
       "4  0 0.93200076 424.5522766113281 406.36660766601...  test/0004.jpg"
      ]
     },
     "execution_count": 14,
     "metadata": {},
     "output_type": "execute_result"
    }
   ],
   "source": [
    "submission = pd.DataFrame()\n",
    "submission['PredictionString'] = prediction_strings\n",
    "submission['image_id'] = file_names\n",
    "submission.to_csv('swinB_cascade_swinB_HTC_total_soft_nms.csv')\n",
    "\n",
    "submission.head()"
   ]
  }
 ],
 "metadata": {
  "interpreter": {
   "hash": "b94c6de4bce9a87a354a5fa9998691adc0532adddb9d4140f5ba941d00b01fae"
  },
  "kernelspec": {
   "display_name": "Python 3.7.11 64-bit ('detection': conda)",
   "name": "python3"
  },
  "language_info": {
   "codemirror_mode": {
    "name": "ipython",
    "version": 3
   },
   "file_extension": ".py",
   "mimetype": "text/x-python",
   "name": "python",
   "nbconvert_exporter": "python",
   "pygments_lexer": "ipython3",
   "version": "3.7.11"
  }
 },
 "nbformat": 4,
 "nbformat_minor": 4
}
