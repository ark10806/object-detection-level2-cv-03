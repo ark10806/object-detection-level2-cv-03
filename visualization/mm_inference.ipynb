{
 "cells": [
  {
   "cell_type": "code",
   "execution_count": null,
   "id": "ee48e4ce",
   "metadata": {},
   "outputs": [],
   "source": [
    "import mmcv\n",
    "from mmcv import Config\n",
    "from mmdet.datasets import (build_dataloader, build_dataset,\n",
    "                            replace_ImageToTensor)\n",
    "from mmdet.models import build_detector\n",
    "from mmdet.apis import inference_detector\n",
    "from mmdet.apis import single_gpu_test\n",
    "from mmcv.runner import load_checkpoint\n",
    "import os\n",
    "from mmcv.parallel import MMDataParallel\n",
    "import pandas as pd\n",
    "from pandas import DataFrame\n",
    "from pycocotools.coco import COCO\n",
    "import numpy as np\n",
    "import pickle"
   ]
  },
  {
   "cell_type": "code",
   "execution_count": null,
   "id": "3b898417",
   "metadata": {},
   "outputs": [],
   "source": [
    "MODEL = 'res2Net_centernet2.py' # model config 경로\n",
    "PATH = '../work_dirs/no-rigid-aug_centernet2_res2Net_pafpn_1x_coco/1' # 모델 저장된 폴더\n",
    "EPOCH ='best_bbox_mAP_50_epoch_24.pth' # model checkpoint 파일이름\n",
    "\n",
    "cfg =Config.fromfile(os.path.join(PATH,MODEL))"
   ]
  },
  {
   "cell_type": "code",
   "execution_count": null,
   "id": "3abbe196",
   "metadata": {},
   "outputs": [],
   "source": [
    "# build dataset & dataloader\n",
    "\n",
    "cfg.data.test.test_mode = True\n",
    "test_dataset = build_dataset(cfg.data.test)\n",
    "test_loader = build_dataloader(\n",
    "        test_dataset,\n",
    "        samples_per_gpu=1,\n",
    "        workers_per_gpu=cfg.data.workers_per_gpu,\n",
    "        dist=False,\n",
    "        shuffle=False)"
   ]
  },
  {
   "cell_type": "code",
   "execution_count": null,
   "id": "f3db0898",
   "metadata": {},
   "outputs": [],
   "source": [
    "# build model\n",
    "\n",
    "checkpoint_path = os.path.join(PATH,EPOCH)\n",
    "\n",
    "cfg.data.test.test_mode = True\n",
    "cfg.model.test_cfg.rpn.nms.type='soft_nms'\n",
    "cfg.model.test_cfg.rcnn.nms.type='soft_nms'\n",
    "#cfg.model.test_cfg.nms.type='soft_nms'\n",
    "\n",
    "# build detector\n",
    "model = build_detector(cfg.model) \n",
    "# ckpt load\n",
    "checkpoint = load_checkpoint(model, checkpoint_path, map_location='cpu')\n",
    "\n",
    "model.CLASSES = test_dataset.CLASSES\n",
    "model = MMDataParallel(model.cuda(), device_ids=[0])"
   ]
  },
  {
   "cell_type": "code",
   "execution_count": null,
   "id": "90bb3d3f",
   "metadata": {},
   "outputs": [],
   "source": [
    "# output 계산\n",
    "output = single_gpu_test(model, test_loader, show_score_thr=0) "
   ]
  },
  {
   "cell_type": "code",
   "execution_count": null,
   "id": "74b2767f",
   "metadata": {},
   "outputs": [],
   "source": [
    "# submission 양식에 맞게 output 후처리\n",
    "prediction_strings = []\n",
    "file_names = []\n",
    "coco = COCO(cfg.data.test.ann_file)\n",
    "img_ids = coco.getImgIds()\n",
    "\n",
    "class_num = 10\n",
    "for i, out in enumerate(output):\n",
    "    prediction_string = ''\n",
    "    image_info = coco.loadImgs(coco.getImgIds(imgIds=i))[0]\n",
    "    for j in range(class_num):\n",
    "        for o in out[j]:\n",
    "            prediction_string += str(j) + ' ' + str(o[4]) + ' ' + str(o[0]) + ' ' + str(o[1]) + ' ' + str(\n",
    "                o[2]) + ' ' + str(o[3]) + ' '\n",
    "        \n",
    "    prediction_strings.append(prediction_string)\n",
    "    file_names.append(image_info['file_name'])\n",
    "\n",
    "\n",
    "submission = pd.DataFrame()\n",
    "submission['image_id'] = file_names\n",
    "submission['PredictionString'] = prediction_strings\n",
    "submission.to_csv(f'{PATH}/{PATH.split(\"/\")[-1]}_submission.csv', index=None)\n",
    "submission.head()"
   ]
  },
  {
   "cell_type": "markdown",
   "id": "b41568df",
   "metadata": {},
   "source": [
    "## Visualization"
   ]
  },
  {
   "cell_type": "code",
   "execution_count": null,
   "id": "62146b9b",
   "metadata": {},
   "outputs": [],
   "source": [
    "import fiftyone as fo\n",
    "from PIL import Image\n",
    "from torchvision.transforms import functional as func\n",
    "from mmdet.apis import inference_detector, show_result_pyplot\n",
    "from PIL import Image\n",
    "from torchvision.transforms import functional as func\n",
    "import fiftyone as fo"
   ]
  },
  {
   "cell_type": "markdown",
   "id": "6cdb468f",
   "metadata": {},
   "source": [
    "### image 한 장 visualization\n",
    "- 위에서 만들었던 submission 파일을 기반으로 visualization하는 것이 아니라, 하나씩 예측한 뒤 바로 visualization\n",
    "- submission 파일 기반 visualization은 아래 __fiftyone__을 이용"
   ]
  },
  {
   "cell_type": "code",
   "execution_count": null,
   "id": "1cff6acd",
   "metadata": {},
   "outputs": [],
   "source": [
    "model.cfg = cfg\n",
    "idx = 11\n",
    "\n",
    "show_result_pyplot(model,test_dataset[idx]['img_metas'][0].data['filename'],output[idx])\n",
    "# or save the visualization results to image files\n",
    "#model.show_result(img, result, out_file='result.jpg')"
   ]
  },
  {
   "cell_type": "markdown",
   "id": "057066ac",
   "metadata": {},
   "source": [
    "# dataset visualization\n",
    "- 위에서 만든 submission 파일 기반으로 visualization"
   ]
  },
  {
   "cell_type": "code",
   "execution_count": null,
   "id": "0d6b7373",
   "metadata": {},
   "outputs": [],
   "source": [
    "dataset = fo.Dataset.from_images_dir(images_dir='/opt/ml/detection/dataset/test')"
   ]
  },
  {
   "cell_type": "code",
   "execution_count": null,
   "id": "6d716c90",
   "metadata": {},
   "outputs": [],
   "source": [
    "session = fo.launch_app(dataset) ## unlabeled dataset visualization"
   ]
  },
  {
   "cell_type": "code",
   "execution_count": null,
   "id": "ec969533",
   "metadata": {},
   "outputs": [],
   "source": [
    "predictions_view = dataset.limit(len(dataset))\n",
    "\n",
    "# Add predictions to samples\n",
    "with fo.ProgressBar() as pb:\n",
    "    for idx,sample in enumerate(pb(predictions_view)):\n",
    "        c, h, w = 3,1024,1024\n",
    "\n",
    "        #result = inference_detector(model, sample.filepath)\n",
    "        #show_result_pyplot(model, sample.filepath, result)\n",
    "        result = output[idx]\n",
    "        labels=[]\n",
    "        scores=[]\n",
    "        boxes=[]\n",
    "        for label,values in enumerate(result):\n",
    "            for pred in values:\n",
    "                labels.append(label)\n",
    "                scores.append(pred[-1])\n",
    "                boxes.append(list(pred[0:4]))\n",
    "\n",
    "        # Convert detections to FiftyOne format\n",
    "        detections = []\n",
    "        for label, score, box in zip(labels, scores, boxes):\n",
    "            # Convert to [top-left-x, top-left-y, width, height]\n",
    "            # in relative coordinates in [0, 1] x [0, 1]\n",
    "            x1, y1, x2, y2 = box\n",
    "            rel_box = [x1 / w, y1 / h, (x2 - x1) / w, (y2 - y1) / h]\n",
    "\n",
    "            detections.append(\n",
    "                fo.Detection(\n",
    "                    label=model.module.CLASSES[label],\n",
    "                    bounding_box=rel_box,\n",
    "                    confidence=score\n",
    "                )\n",
    "            )\n",
    "\n",
    "        # Save predictions to dataset\n",
    "        sample[\"predictions\"] = fo.Detections(detections=detections)\n",
    "        sample.save()"
   ]
  },
  {
   "cell_type": "code",
   "execution_count": null,
   "id": "cf39b15e",
   "metadata": {
    "scrolled": false
   },
   "outputs": [],
   "source": [
    "session.view = predictions_view\n",
    "session.freeze()"
   ]
  }
 ],
 "metadata": {
  "kernelspec": {
   "display_name": "detection",
   "language": "python",
   "name": "detection"
  },
  "language_info": {
   "codemirror_mode": {
    "name": "ipython",
    "version": 3
   },
   "file_extension": ".py",
   "mimetype": "text/x-python",
   "name": "python",
   "nbconvert_exporter": "python",
   "pygments_lexer": "ipython3",
   "version": "3.7.11"
  }
 },
 "nbformat": 4,
 "nbformat_minor": 5
}
