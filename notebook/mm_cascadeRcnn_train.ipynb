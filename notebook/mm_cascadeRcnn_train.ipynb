{
 "cells": [
  {
   "cell_type": "code",
   "execution_count": 3,
   "id": "50c60d9c",
   "metadata": {},
   "outputs": [],
   "source": [
    "import torch\n",
    "from mmcv import Config"
   ]
  },
  {
   "cell_type": "markdown",
   "id": "bcca4b13",
   "metadata": {},
   "source": [
    "### model load"
   ]
  },
  {
   "cell_type": "code",
   "execution_count": 4,
   "id": "14984912",
   "metadata": {},
   "outputs": [],
   "source": [
    "MODEL_PATH ='./configs/cascade_rcnn/cascade_rcnn_x101_64x4d_fpn_1x_coco.py'\n",
    "MODEL = 'cascade_rcnn_x101_64x4d_fpn_1x_coco'\n",
    "NAME = 'multiscale'\n",
    "WORK_DIR = NAME+'_'+MODEL\n",
    "\n",
    "# config file 들고오기\n",
    "cfg = Config.fromfile(MODEL_PATH)"
   ]
  },
  {
   "cell_type": "code",
   "execution_count": 5,
   "id": "013f47d2",
   "metadata": {},
   "outputs": [
    {
     "name": "stdout",
     "output_type": "stream",
     "text": [
      "['model', 'dataset_type', 'data_root', 'img_norm_cfg', 'train_pipeline', 'test_pipeline', 'data', 'evaluation', 'optimizer', 'optimizer_config', 'lr_config', 'runner', 'checkpoint_config', 'log_config', 'custom_hooks', 'dist_params', 'log_level', 'load_from', 'resume_from', 'workflow']\n"
     ]
    }
   ],
   "source": [
    "def print_keys(arg_dict):\n",
    "    print(list(arg_dict.keys()))\n",
    "\n",
    "print_keys(cfg)"
   ]
  },
  {
   "cell_type": "markdown",
   "id": "8be0b240",
   "metadata": {},
   "source": [
    "### Dataset config"
   ]
  },
  {
   "cell_type": "code",
   "execution_count": 6,
   "id": "ed6b4099",
   "metadata": {},
   "outputs": [],
   "source": [
    "dataset_type = 'CocoDataset'\n",
    "classes = (\"General trash\", \"Paper\", \"Paper pack\", \"Metal\", \"Glass\", \n",
    "           \"Plastic\", \"Styrofoam\", \"Plastic bag\", \"Battery\", \"Clothing\")\n",
    "num_classes = len(classes)\n",
    "\n",
    "root='../dataset/'\n",
    "\n",
    "data = dict(\n",
    "    samples_per_gpu=4,\n",
    "    workers_per_gpu=4,\n",
    "    train=dict(\n",
    "        type=dataset_type,\n",
    "        # explicitly add your class names to the field `classes`\n",
    "        classes=classes,\n",
    "        ann_file=root+'kfold/cv_train1.json',\n",
    "        img_prefix=root),\n",
    "    val=dict(\n",
    "        type=dataset_type,\n",
    "        # explicitly add your class names to the field `classes`\n",
    "        classes=classes,\n",
    "        ann_file=root+'kfold/cv_val1.json',\n",
    "        img_prefix=root),\n",
    "    test=dict(\n",
    "        type=dataset_type,\n",
    "        # explicitly add your class names to the field `classes`\n",
    "        classes=classes,\n",
    "        ann_file=root+'test.json',\n",
    "        img_prefix=root))"
   ]
  },
  {
   "cell_type": "markdown",
   "id": "73d00865",
   "metadata": {},
   "source": [
    "### dataset pipeline config\n",
    "- augmentation"
   ]
  },
  {
   "cell_type": "code",
   "execution_count": 7,
   "id": "ab63d6d4",
   "metadata": {},
   "outputs": [],
   "source": [
    "img_norm_cfg = dict(\n",
    "    mean=[123.675, 116.28, 103.53], std=[58.395, 57.12, 57.375], to_rgb=True)\n",
    "\n",
    "train_pipeline = [\n",
    "    dict(type='LoadImageFromFile'),\n",
    "    dict(type='LoadAnnotations', with_bbox=True),\n",
    "    dict(\n",
    "        type='Resize',\n",
    "        img_scale=[(1024, 1024), (512, 512), (256, 256)],\n",
    "        multiscale_mode=\"value\",\n",
    "        keep_ratio=True),\n",
    "    dict(type='RandomFlip', flip_ratio=0.5),\n",
    "    dict(type='Normalize', **img_norm_cfg),\n",
    "    dict(type='Pad', size_divisor=32),\n",
    "    dict(type='DefaultFormatBundle'),\n",
    "    dict(type='Collect', keys=['img', 'gt_bboxes', 'gt_labels']),\n",
    "]\n",
    "test_pipeline = [\n",
    "    dict(type='LoadImageFromFile'),\n",
    "    dict(\n",
    "        type='MultiScaleFlipAug',\n",
    "        img_scale=[(1024,1024),(512,512),(256,256)],\n",
    "        flip=True,\n",
    "        transforms=[\n",
    "            dict(\n",
    "                type='Resize',\n",
    "                keep_ratio=True),\n",
    "            dict(type='RandomFlip'),\n",
    "            dict(type='Normalize', **img_norm_cfg),\n",
    "            dict(type='Pad', size_divisor=32),\n",
    "            dict(type='ImageToTensor', keys=['img']),\n",
    "            dict(type='Collect', keys=['img']),\n",
    "        ])\n",
    "]\n",
    "\n",
    "\n",
    "data['train']['pipeline'] = train_pipeline\n",
    "data['val']['pipeline'] = test_pipeline\n",
    "data['test']['pipeline'] = test_pipeline"
   ]
  },
  {
   "cell_type": "code",
   "execution_count": 8,
   "id": "fec16c82",
   "metadata": {},
   "outputs": [],
   "source": [
    "cfg.data = data\n",
    "cfg.data.test.test_mode = True\n",
    "cfg.data.val.test_mode = True"
   ]
  },
  {
   "cell_type": "markdown",
   "id": "225ccf96",
   "metadata": {},
   "source": [
    "### model config"
   ]
  },
  {
   "cell_type": "code",
   "execution_count": 9,
   "id": "8d0d159c",
   "metadata": {},
   "outputs": [],
   "source": [
    "for bbox_head in cfg.model.roi_head.bbox_head:\n",
    "    bbox_head.num_classes = num_classes\n",
    "\n",
    "# multi anchor box scale\n",
    "cfg.model.rpn_head.anchor_generator.scales =[2,4,8,16]"
   ]
  },
  {
   "cell_type": "markdown",
   "id": "b89b55d6",
   "metadata": {},
   "source": [
    "### optimizer config"
   ]
  },
  {
   "cell_type": "code",
   "execution_count": 10,
   "id": "0b08e4a8",
   "metadata": {},
   "outputs": [
    {
     "name": "stdout",
     "output_type": "stream",
     "text": [
      "{'type': 'SGD', 'lr': 0.02, 'momentum': 0.9, 'weight_decay': 0.0001}\n",
      "{'grad_clip': {'max_norm': 35, 'norm_type': 2}}\n"
     ]
    }
   ],
   "source": [
    "cfg.optimizer_config.grad_clip = dict(max_norm=35, norm_type=2)\n",
    "print(cfg.optimizer)\n",
    "print(cfg.optimizer_config)"
   ]
  },
  {
   "cell_type": "markdown",
   "id": "f71f5bd5",
   "metadata": {},
   "source": [
    "### other config"
   ]
  },
  {
   "cell_type": "code",
   "execution_count": 11,
   "id": "1196d703",
   "metadata": {},
   "outputs": [],
   "source": [
    "cfg.checkpoint_config = dict(interval=1)"
   ]
  },
  {
   "cell_type": "code",
   "execution_count": 12,
   "id": "0c2c809a",
   "metadata": {},
   "outputs": [],
   "source": [
    "cfg.model.test_cfg.rpn.nms.type = 'soft_nms'\n",
    "#cfg.evaluation.metric = 'mAP'"
   ]
  },
  {
   "cell_type": "code",
   "execution_count": 13,
   "id": "704c6b16",
   "metadata": {},
   "outputs": [],
   "source": [
    "cfg.seed = 1010\n",
    "cfg.gpu_ids = [0]\n",
    "cfg.work_dir = f'./work_dirs/{WORK_DIR}'"
   ]
  },
  {
   "cell_type": "code",
   "execution_count": 14,
   "id": "10201125",
   "metadata": {},
   "outputs": [],
   "source": [
    "# wandb\n",
    "log_config = dict(\n",
    "    interval=10,\n",
    "    hooks=[\n",
    "        dict(type='TextLoggerHook'),\n",
    "        dict(\n",
    "            type='WandbLoggerHook',\n",
    "            init_kwargs=dict(\n",
    "                project='p-stage_object_detection',\n",
    "                name=f'{WORK_DIR}'))])\n",
    "cfg.log_config = log_config"
   ]
  },
  {
   "cell_type": "markdown",
   "id": "debc4cec",
   "metadata": {},
   "source": [
    "### config workflow"
   ]
  },
  {
   "cell_type": "code",
   "execution_count": 15,
   "id": "f68d38e8",
   "metadata": {},
   "outputs": [],
   "source": [
    "#cfg.workflow = [('train',1),('val',1)]"
   ]
  },
  {
   "cell_type": "markdown",
   "id": "1e89f274",
   "metadata": {},
   "source": [
    "## train"
   ]
  },
  {
   "cell_type": "code",
   "execution_count": 16,
   "id": "2b92e3e0",
   "metadata": {},
   "outputs": [],
   "source": [
    "from mmdet.datasets import build_dataset\n",
    "from mmdet.models import build_detector\n",
    "from mmdet.apis import train_detector"
   ]
  },
  {
   "cell_type": "code",
   "execution_count": 18,
   "id": "bda75c92",
   "metadata": {},
   "outputs": [
    {
     "name": "stdout",
     "output_type": "stream",
     "text": [
      "loading annotations into memory...\n",
      "Done (t=0.15s)\n",
      "creating index...\n",
      "index created!\n"
     ]
    },
    {
     "name": "stderr",
     "output_type": "stream",
     "text": [
      "/opt/ml/detection/mmdetection/mmdet/core/anchor/builder.py:16: UserWarning: ``build_anchor_generator`` would be deprecated soon, please use ``build_prior_generator`` \n",
      "  '``build_anchor_generator`` would be deprecated soon, please use '\n"
     ]
    }
   ],
   "source": [
    "# Build dataset\n",
    "datasets = [build_dataset(cfg.data.train)]\n",
    "\n",
    "# Build the detector\n",
    "model = build_detector(cfg.model)"
   ]
  },
  {
   "cell_type": "code",
   "execution_count": 19,
   "id": "29a9e656",
   "metadata": {},
   "outputs": [
    {
     "name": "stderr",
     "output_type": "stream",
     "text": [
      "2021-09-29 05:17:20,661 - mmdet - INFO - Start running, host: root@2f4df6ced18c, work_dir: /opt/ml/detection/mmdetection/work_dirs/multiscale_cascade_rcnn_x101_64x4d_fpn_1x_coco\n",
      "2021-09-29 05:17:20,662 - mmdet - INFO - Hooks will be executed in the following order:\n",
      "before_run:\n",
      "(VERY_HIGH   ) StepLrUpdaterHook                  \n",
      "(NORMAL      ) CheckpointHook                     \n",
      "(NORMAL      ) EvalHook                           \n",
      "(VERY_LOW    ) TextLoggerHook                     \n",
      "(VERY_LOW    ) WandbLoggerHook                    \n",
      " -------------------- \n",
      "before_train_epoch:\n",
      "(VERY_HIGH   ) StepLrUpdaterHook                  \n",
      "(NORMAL      ) EvalHook                           \n",
      "(NORMAL      ) NumClassCheckHook                  \n",
      "(LOW         ) IterTimerHook                      \n",
      "(VERY_LOW    ) TextLoggerHook                     \n",
      "(VERY_LOW    ) WandbLoggerHook                    \n",
      " -------------------- \n",
      "before_train_iter:\n",
      "(VERY_HIGH   ) StepLrUpdaterHook                  \n",
      "(NORMAL      ) EvalHook                           \n",
      "(LOW         ) IterTimerHook                      \n",
      " -------------------- \n",
      "after_train_iter:\n",
      "(ABOVE_NORMAL) OptimizerHook                      \n",
      "(NORMAL      ) CheckpointHook                     \n",
      "(NORMAL      ) EvalHook                           \n",
      "(LOW         ) IterTimerHook                      \n",
      "(VERY_LOW    ) TextLoggerHook                     \n",
      "(VERY_LOW    ) WandbLoggerHook                    \n",
      " -------------------- \n",
      "after_train_epoch:\n",
      "(NORMAL      ) CheckpointHook                     \n",
      "(NORMAL      ) EvalHook                           \n",
      "(VERY_LOW    ) TextLoggerHook                     \n",
      "(VERY_LOW    ) WandbLoggerHook                    \n",
      " -------------------- \n",
      "before_val_epoch:\n",
      "(NORMAL      ) NumClassCheckHook                  \n",
      "(LOW         ) IterTimerHook                      \n",
      "(VERY_LOW    ) TextLoggerHook                     \n",
      "(VERY_LOW    ) WandbLoggerHook                    \n",
      " -------------------- \n",
      "before_val_iter:\n",
      "(LOW         ) IterTimerHook                      \n",
      " -------------------- \n",
      "after_val_iter:\n",
      "(LOW         ) IterTimerHook                      \n",
      " -------------------- \n",
      "after_val_epoch:\n",
      "(VERY_LOW    ) TextLoggerHook                     \n",
      "(VERY_LOW    ) WandbLoggerHook                    \n",
      " -------------------- \n",
      "after_run:\n",
      "(VERY_LOW    ) WandbLoggerHook                    \n",
      " -------------------- \n",
      "2021-09-29 05:17:20,663 - mmdet - INFO - workflow: [('train', 1)], max: 12 epochs\n"
     ]
    },
    {
     "name": "stdout",
     "output_type": "stream",
     "text": [
      "loading annotations into memory...\n",
      "Done (t=0.01s)\n",
      "creating index...\n",
      "index created!\n"
     ]
    },
    {
     "name": "stderr",
     "output_type": "stream",
     "text": [
      "\u001b[34m\u001b[1mwandb\u001b[0m: Currently logged in as: \u001b[33mlarcane\u001b[0m (use `wandb login --relogin` to force relogin)\n"
     ]
    },
    {
     "data": {
      "text/html": [
       "\n",
       "                Tracking run with wandb version 0.12.2<br/>\n",
       "                Syncing run <strong style=\"color:#cdcd00\">multiscale_cascade_rcnn_x101_64x4d_fpn_1x_coco</strong> to <a href=\"https://wandb.ai\" target=\"_blank\">Weights & Biases</a> <a href=\"https://docs.wandb.com/integrations/jupyter.html\" target=\"_blank\">(Documentation)</a>.<br/>\n",
       "                Project page: <a href=\"https://wandb.ai/larcane/p-stage_object_detection\" target=\"_blank\">https://wandb.ai/larcane/p-stage_object_detection</a><br/>\n",
       "                Run page: <a href=\"https://wandb.ai/larcane/p-stage_object_detection/runs/3tvq2chf\" target=\"_blank\">https://wandb.ai/larcane/p-stage_object_detection/runs/3tvq2chf</a><br/>\n",
       "                Run data is saved locally in <code>/opt/ml/detection/mmdetection/wandb/run-20210929_051721-3tvq2chf</code><br/><br/>\n",
       "            "
      ],
      "text/plain": [
       "<IPython.core.display.HTML object>"
      ]
     },
     "metadata": {},
     "output_type": "display_data"
    },
    {
     "name": "stderr",
     "output_type": "stream",
     "text": [
      "/opt/ml/detection/mmdetection/mmdet/core/anchor/anchor_generator.py:323: UserWarning: ``grid_anchors`` would be deprecated soon. Please use ``grid_priors`` \n",
      "  warnings.warn('``grid_anchors`` would be deprecated soon. '\n",
      "/opt/ml/detection/mmdetection/mmdet/core/anchor/anchor_generator.py:360: UserWarning: ``single_level_grid_anchors`` would be deprecated soon. Please use ``single_level_grid_priors`` \n",
      "  '``single_level_grid_anchors`` would be deprecated soon. '\n",
      "2021-09-29 05:17:47,081 - mmdet - INFO - Epoch [1][10/980]\tlr: 3.796e-04, eta: 6:28:57, time: 1.986, data_time: 0.248, memory: 18076, loss_rpn_cls: 0.7005, loss_rpn_bbox: 0.1331, s0.loss_cls: 1.9675, s0.acc: 63.0176, s0.loss_bbox: 0.0034, s1.loss_cls: 1.1512, s1.acc: 38.7109, s1.loss_bbox: 0.0007, s2.loss_cls: 0.5955, s2.acc: 17.5781, s2.loss_bbox: 0.0000, loss: 4.5519, grad_norm: 16.4402\n",
      "2021-09-29 05:18:01,776 - mmdet - INFO - Epoch [1][20/980]\tlr: 7.792e-04, eta: 5:38:05, time: 1.470, data_time: 0.011, memory: 18076, loss_rpn_cls: 0.6508, loss_rpn_bbox: 0.1347, s0.loss_cls: 0.3104, s0.acc: 98.4033, s0.loss_bbox: 0.0186, s1.loss_cls: 0.3778, s1.acc: 98.7842, s1.loss_bbox: 0.0060, s2.loss_cls: 0.3018, s2.acc: 98.9355, s2.loss_bbox: 0.0010, loss: 1.8010, grad_norm: 7.3718\n",
      "2021-09-29 05:18:15,488 - mmdet - INFO - Epoch [1][30/980]\tlr: 1.179e-03, eta: 5:14:32, time: 1.371, data_time: 0.010, memory: 18076, loss_rpn_cls: 0.5462, loss_rpn_bbox: 0.1650, s0.loss_cls: 0.5251, s0.acc: 96.9385, s0.loss_bbox: 0.0596, s1.loss_cls: 0.1747, s1.acc: 98.3740, s1.loss_bbox: 0.0150, s2.loss_cls: 0.0932, s2.acc: 98.7891, s2.loss_bbox: 0.0018, loss: 1.5808, grad_norm: 4.7702\n",
      "2021-09-29 05:18:32,681 - mmdet - INFO - Epoch [1][40/980]\tlr: 1.578e-03, eta: 5:19:40, time: 1.719, data_time: 0.010, memory: 18076, loss_rpn_cls: 0.4041, loss_rpn_bbox: 0.1267, s0.loss_cls: 0.4644, s0.acc: 96.6321, s0.loss_bbox: 0.0740, s1.loss_cls: 0.1404, s1.acc: 98.4262, s1.loss_bbox: 0.0196, s2.loss_cls: 0.0700, s2.acc: 99.0079, s2.loss_bbox: 0.0035, loss: 1.3026, grad_norm: 3.3424\n",
      "2021-09-29 05:18:46,333 - mmdet - INFO - Epoch [1][50/980]\tlr: 1.978e-03, eta: 5:08:48, time: 1.365, data_time: 0.010, memory: 18076, loss_rpn_cls: 0.2983, loss_rpn_bbox: 0.0989, s0.loss_cls: 0.3921, s0.acc: 95.6897, s0.loss_bbox: 0.1045, s1.loss_cls: 0.1383, s1.acc: 98.0983, s1.loss_bbox: 0.0308, s2.loss_cls: 0.0528, s2.acc: 99.0048, s2.loss_bbox: 0.0056, loss: 1.1212, grad_norm: 3.7115\n",
      "2021-09-29 05:19:01,383 - mmdet - INFO - Epoch [1][60/980]\tlr: 2.378e-03, eta: 5:06:01, time: 1.505, data_time: 0.010, memory: 18076, loss_rpn_cls: 0.4157, loss_rpn_bbox: 0.2020, s0.loss_cls: 0.3868, s0.acc: 94.9383, s0.loss_bbox: 0.1116, s1.loss_cls: 0.1581, s1.acc: 97.6375, s1.loss_bbox: 0.0272, s2.loss_cls: 0.0585, s2.acc: 98.5029, s2.loss_bbox: 0.0037, loss: 1.3636, grad_norm: 4.8285\n",
      "2021-09-29 05:19:16,411 - mmdet - INFO - Epoch [1][70/980]\tlr: 2.777e-03, eta: 5:03:54, time: 1.503, data_time: 0.011, memory: 18076, loss_rpn_cls: 0.3390, loss_rpn_bbox: 0.1247, s0.loss_cls: 0.2927, s0.acc: 95.5762, s0.loss_bbox: 0.1004, s1.loss_cls: 0.0921, s1.acc: 97.9492, s1.loss_bbox: 0.0302, s2.loss_cls: 0.0327, s2.acc: 98.9014, s2.loss_bbox: 0.0046, loss: 1.0164, grad_norm: 2.9846\n",
      "2021-09-29 05:19:30,329 - mmdet - INFO - Epoch [1][80/980]\tlr: 3.177e-03, eta: 4:59:33, time: 1.392, data_time: 0.010, memory: 18076, loss_rpn_cls: 0.3370, loss_rpn_bbox: 0.1700, s0.loss_cls: 0.3326, s0.acc: 95.5967, s0.loss_bbox: 0.0912, s1.loss_cls: 0.0976, s1.acc: 97.7598, s1.loss_bbox: 0.0283, s2.loss_cls: 0.0383, s2.acc: 98.6010, s2.loss_bbox: 0.0049, loss: 1.1000, grad_norm: 3.3917\n",
      "2021-09-29 05:19:41,982 - mmdet - INFO - Epoch [1][90/980]\tlr: 3.576e-03, eta: 4:51:14, time: 1.165, data_time: 0.008, memory: 18076, loss_rpn_cls: 0.3374, loss_rpn_bbox: 0.1549, s0.loss_cls: 0.3685, s0.acc: 93.6359, s0.loss_bbox: 0.1441, s1.loss_cls: 0.1142, s1.acc: 96.8533, s1.loss_bbox: 0.0473, s2.loss_cls: 0.0384, s2.acc: 98.2468, s2.loss_bbox: 0.0073, loss: 1.2120, grad_norm: 2.9954\n",
      "2021-09-29 05:19:57,123 - mmdet - INFO - Epoch [1][100/980]\tlr: 3.976e-03, eta: 4:51:18, time: 1.514, data_time: 0.010, memory: 18076, loss_rpn_cls: 0.3733, loss_rpn_bbox: 0.1584, s0.loss_cls: 0.4184, s0.acc: 92.7881, s0.loss_bbox: 0.1554, s1.loss_cls: 0.1222, s1.acc: 96.4453, s1.loss_bbox: 0.0483, s2.loss_cls: 0.0427, s2.acc: 97.9150, s2.loss_bbox: 0.0076, loss: 1.3263, grad_norm: 2.6792\n",
      "2021-09-29 05:20:11,945 - mmdet - INFO - Epoch [1][110/980]\tlr: 4.376e-03, eta: 4:50:45, time: 1.482, data_time: 0.010, memory: 18672, loss_rpn_cls: 0.2672, loss_rpn_bbox: 0.1174, s0.loss_cls: 0.3231, s0.acc: 94.6349, s0.loss_bbox: 0.1199, s1.loss_cls: 0.0910, s1.acc: 97.4017, s1.loss_bbox: 0.0398, s2.loss_cls: 0.0269, s2.acc: 98.6737, s2.loss_bbox: 0.0054, loss: 0.9907, grad_norm: 2.2732\n",
      "2021-09-29 05:20:27,094 - mmdet - INFO - Epoch [1][120/980]\tlr: 4.775e-03, eta: 4:50:47, time: 1.515, data_time: 0.011, memory: 18672, loss_rpn_cls: 0.3216, loss_rpn_bbox: 0.2161, s0.loss_cls: 0.3389, s0.acc: 94.4431, s0.loss_bbox: 0.1187, s1.loss_cls: 0.1007, s1.acc: 97.1904, s1.loss_bbox: 0.0382, s2.loss_cls: 0.0346, s2.acc: 98.3641, s2.loss_bbox: 0.0058, loss: 1.1746, grad_norm: 3.3978\n",
      "2021-09-29 05:20:41,138 - mmdet - INFO - Epoch [1][130/980]\tlr: 5.175e-03, eta: 4:49:08, time: 1.404, data_time: 0.009, memory: 18672, loss_rpn_cls: 0.2862, loss_rpn_bbox: 0.1685, s0.loss_cls: 0.3118, s0.acc: 95.1399, s0.loss_bbox: 0.1022, s1.loss_cls: 0.0902, s1.acc: 97.5886, s1.loss_bbox: 0.0332, s2.loss_cls: 0.0293, s2.acc: 98.6387, s2.loss_bbox: 0.0043, loss: 1.0258, grad_norm: 2.9403\n",
      "2021-09-29 05:20:58,261 - mmdet - INFO - Epoch [1][140/980]\tlr: 5.574e-03, eta: 4:51:56, time: 1.712, data_time: 0.012, memory: 18672, loss_rpn_cls: 0.2334, loss_rpn_bbox: 0.1013, s0.loss_cls: 0.2558, s0.acc: 95.6290, s0.loss_bbox: 0.0966, s1.loss_cls: 0.0704, s1.acc: 97.9012, s1.loss_bbox: 0.0330, s2.loss_cls: 0.0223, s2.acc: 98.9113, s2.loss_bbox: 0.0052, loss: 0.8180, grad_norm: 1.9433\n",
      "2021-09-29 05:21:13,182 - mmdet - INFO - Epoch [1][150/980]\tlr: 5.974e-03, eta: 4:51:29, time: 1.492, data_time: 0.010, memory: 18672, loss_rpn_cls: 0.2446, loss_rpn_bbox: 0.1335, s0.loss_cls: 0.3146, s0.acc: 94.7655, s0.loss_bbox: 0.1164, s1.loss_cls: 0.0831, s1.acc: 97.6735, s1.loss_bbox: 0.0323, s2.loss_cls: 0.0268, s2.acc: 98.6914, s2.loss_bbox: 0.0045, loss: 0.9557, grad_norm: 2.4831\n",
      "2021-09-29 05:21:27,064 - mmdet - INFO - Epoch [1][160/980]\tlr: 6.374e-03, eta: 4:49:48, time: 1.388, data_time: 0.011, memory: 18672, loss_rpn_cls: 0.2372, loss_rpn_bbox: 0.0877, s0.loss_cls: 0.3147, s0.acc: 94.9472, s0.loss_bbox: 0.1191, s1.loss_cls: 0.0728, s1.acc: 97.9017, s1.loss_bbox: 0.0329, s2.loss_cls: 0.0206, s2.acc: 98.9919, s2.loss_bbox: 0.0046, loss: 0.8896, grad_norm: 2.5025\n",
      "2021-09-29 05:21:44,387 - mmdet - INFO - Epoch [1][170/980]\tlr: 6.773e-03, eta: 4:52:12, time: 1.732, data_time: 0.012, memory: 18672, loss_rpn_cls: 0.2907, loss_rpn_bbox: 0.1265, s0.loss_cls: 0.3143, s0.acc: 94.1831, s0.loss_bbox: 0.1272, s1.loss_cls: 0.0910, s1.acc: 97.2975, s1.loss_bbox: 0.0378, s2.loss_cls: 0.0296, s2.acc: 98.4614, s2.loss_bbox: 0.0058, loss: 1.0228, grad_norm: 2.7212\n",
      "2021-09-29 05:21:58,449 - mmdet - INFO - Epoch [1][180/980]\tlr: 7.173e-03, eta: 4:50:49, time: 1.406, data_time: 0.011, memory: 18672, loss_rpn_cls: 0.2734, loss_rpn_bbox: 0.1487, s0.loss_cls: 0.3628, s0.acc: 95.4407, s0.loss_bbox: 0.1066, s1.loss_cls: 0.0798, s1.acc: 97.9637, s1.loss_bbox: 0.0301, s2.loss_cls: 0.0233, s2.acc: 98.9306, s2.loss_bbox: 0.0035, loss: 1.0282, grad_norm: 3.3073\n",
      "2021-09-29 05:22:14,745 - mmdet - INFO - Epoch [1][190/980]\tlr: 7.572e-03, eta: 4:51:48, time: 1.630, data_time: 0.011, memory: 18672, loss_rpn_cls: 0.2493, loss_rpn_bbox: 0.1077, s0.loss_cls: 0.3797, s0.acc: 93.6914, s0.loss_bbox: 0.1422, s1.loss_cls: 0.0957, s1.acc: 97.0752, s1.loss_bbox: 0.0471, s2.loss_cls: 0.0283, s2.acc: 98.5498, s2.loss_bbox: 0.0079, loss: 1.0579, grad_norm: 2.6336\n",
      "2021-09-29 05:22:30,932 - mmdet - INFO - Epoch [1][200/980]\tlr: 7.972e-03, eta: 4:52:34, time: 1.619, data_time: 0.011, memory: 18672, loss_rpn_cls: 0.3217, loss_rpn_bbox: 0.1797, s0.loss_cls: 0.4626, s0.acc: 92.1860, s0.loss_bbox: 0.1867, s1.loss_cls: 0.1229, s1.acc: 96.4217, s1.loss_bbox: 0.0537, s2.loss_cls: 0.0373, s2.acc: 98.1497, s2.loss_bbox: 0.0066, loss: 1.3712, grad_norm: 3.1820\n"
     ]
    },
    {
     "name": "stderr",
     "output_type": "stream",
     "text": [
      "2021-09-29 05:22:47,012 - mmdet - INFO - Epoch [1][210/980]\tlr: 8.372e-03, eta: 4:53:08, time: 1.608, data_time: 0.011, memory: 18672, loss_rpn_cls: 0.3209, loss_rpn_bbox: 0.1429, s0.loss_cls: 0.3518, s0.acc: 94.4276, s0.loss_bbox: 0.1303, s1.loss_cls: 0.0883, s1.acc: 97.4901, s1.loss_bbox: 0.0333, s2.loss_cls: 0.0285, s2.acc: 98.5328, s2.loss_bbox: 0.0047, loss: 1.1008, grad_norm: 1.9996\n",
      "2021-09-29 05:23:03,184 - mmdet - INFO - Epoch [1][220/980]\tlr: 8.771e-03, eta: 4:53:42, time: 1.617, data_time: 0.011, memory: 18672, loss_rpn_cls: 0.2780, loss_rpn_bbox: 0.1415, s0.loss_cls: 0.3512, s0.acc: 93.7587, s0.loss_bbox: 0.1374, s1.loss_cls: 0.1034, s1.acc: 97.0044, s1.loss_bbox: 0.0420, s2.loss_cls: 0.0337, s2.acc: 98.2905, s2.loss_bbox: 0.0073, loss: 1.0945, grad_norm: 2.0684\n",
      "2021-09-29 05:23:17,214 - mmdet - INFO - Epoch [1][230/980]\tlr: 9.171e-03, eta: 4:52:25, time: 1.403, data_time: 0.011, memory: 18672, loss_rpn_cls: 0.2819, loss_rpn_bbox: 0.1574, s0.loss_cls: 0.3605, s0.acc: 93.3299, s0.loss_bbox: 0.1559, s1.loss_cls: 0.0936, s1.acc: 97.1274, s1.loss_bbox: 0.0436, s2.loss_cls: 0.0271, s2.acc: 98.5240, s2.loss_bbox: 0.0061, loss: 1.1262, grad_norm: 1.8719\n",
      "2021-09-29 05:23:32,371 - mmdet - INFO - Epoch [1][240/980]\tlr: 9.570e-03, eta: 4:52:07, time: 1.516, data_time: 0.010, memory: 18672, loss_rpn_cls: 0.2617, loss_rpn_bbox: 0.1428, s0.loss_cls: 0.2944, s0.acc: 94.8275, s0.loss_bbox: 0.1258, s1.loss_cls: 0.0795, s1.acc: 97.5654, s1.loss_bbox: 0.0406, s2.loss_cls: 0.0220, s2.acc: 98.8148, s2.loss_bbox: 0.0054, loss: 0.9724, grad_norm: 1.8625\n",
      "2021-09-29 05:23:47,552 - mmdet - INFO - Epoch [1][250/980]\tlr: 9.970e-03, eta: 4:51:50, time: 1.518, data_time: 0.010, memory: 18672, loss_rpn_cls: 0.2642, loss_rpn_bbox: 0.1356, s0.loss_cls: 0.3779, s0.acc: 93.1745, s0.loss_bbox: 0.1542, s1.loss_cls: 0.1023, s1.acc: 96.7910, s1.loss_bbox: 0.0475, s2.loss_cls: 0.0304, s2.acc: 98.2954, s2.loss_bbox: 0.0067, loss: 1.1188, grad_norm: 1.9283\n",
      "2021-09-29 05:24:02,681 - mmdet - INFO - Epoch [1][260/980]\tlr: 1.037e-02, eta: 4:51:31, time: 1.513, data_time: 0.011, memory: 18672, loss_rpn_cls: 0.2545, loss_rpn_bbox: 0.0951, s0.loss_cls: 0.2957, s0.acc: 95.4296, s0.loss_bbox: 0.1037, s1.loss_cls: 0.0746, s1.acc: 97.9526, s1.loss_bbox: 0.0310, s2.loss_cls: 0.0210, s2.acc: 98.9322, s2.loss_bbox: 0.0048, loss: 0.8805, grad_norm: 2.0350\n",
      "2021-09-29 05:24:18,981 - mmdet - INFO - Epoch [1][270/980]\tlr: 1.077e-02, eta: 4:52:02, time: 1.630, data_time: 0.011, memory: 18672, loss_rpn_cls: 0.2255, loss_rpn_bbox: 0.1169, s0.loss_cls: 0.3228, s0.acc: 94.4100, s0.loss_bbox: 0.1303, s1.loss_cls: 0.0800, s1.acc: 97.6002, s1.loss_bbox: 0.0380, s2.loss_cls: 0.0230, s2.acc: 98.8018, s2.loss_bbox: 0.0053, loss: 0.9418, grad_norm: 2.1520\n",
      "2021-09-29 05:24:34,112 - mmdet - INFO - Epoch [1][280/980]\tlr: 1.117e-02, eta: 4:51:42, time: 1.513, data_time: 0.011, memory: 18672, loss_rpn_cls: 0.2383, loss_rpn_bbox: 0.0814, s0.loss_cls: 0.3294, s0.acc: 94.4670, s0.loss_bbox: 0.1277, s1.loss_cls: 0.0847, s1.acc: 97.5038, s1.loss_bbox: 0.0377, s2.loss_cls: 0.0240, s2.acc: 98.7386, s2.loss_bbox: 0.0048, loss: 0.9282, grad_norm: 2.0150\n",
      "2021-09-29 05:24:50,259 - mmdet - INFO - Epoch [1][290/980]\tlr: 1.157e-02, eta: 4:52:02, time: 1.615, data_time: 0.011, memory: 18672, loss_rpn_cls: 0.2301, loss_rpn_bbox: 0.1233, s0.loss_cls: 0.2923, s0.acc: 95.3135, s0.loss_bbox: 0.1155, s1.loss_cls: 0.0714, s1.acc: 98.0927, s1.loss_bbox: 0.0325, s2.loss_cls: 0.0181, s2.acc: 99.1440, s2.loss_bbox: 0.0039, loss: 0.8870, grad_norm: 2.3014\n",
      "2021-09-29 05:25:04,382 - mmdet - INFO - Epoch [1][300/980]\tlr: 1.197e-02, eta: 4:51:03, time: 1.412, data_time: 0.010, memory: 18672, loss_rpn_cls: 0.2582, loss_rpn_bbox: 0.1442, s0.loss_cls: 0.3959, s0.acc: 92.6811, s0.loss_bbox: 0.1725, s1.loss_cls: 0.1013, s1.acc: 96.7856, s1.loss_bbox: 0.0524, s2.loss_cls: 0.0292, s2.acc: 98.3768, s2.loss_bbox: 0.0085, loss: 1.1621, grad_norm: 2.0926\n",
      "2021-09-29 05:25:20,665 - mmdet - INFO - Epoch [1][310/980]\tlr: 1.237e-02, eta: 4:51:26, time: 1.628, data_time: 0.012, memory: 18672, loss_rpn_cls: 0.2830, loss_rpn_bbox: 0.1194, s0.loss_cls: 0.2954, s0.acc: 95.1079, s0.loss_bbox: 0.1083, s1.loss_cls: 0.0805, s1.acc: 97.7613, s1.loss_bbox: 0.0322, s2.loss_cls: 0.0244, s2.acc: 98.7525, s2.loss_bbox: 0.0048, loss: 0.9481, grad_norm: 1.7836\n",
      "2021-09-29 05:25:33,700 - mmdet - INFO - Epoch [1][320/980]\tlr: 1.277e-02, eta: 4:49:51, time: 1.303, data_time: 0.009, memory: 18672, loss_rpn_cls: 0.2816, loss_rpn_bbox: 0.1544, s0.loss_cls: 0.3516, s0.acc: 93.7933, s0.loss_bbox: 0.1424, s1.loss_cls: 0.0924, s1.acc: 97.0638, s1.loss_bbox: 0.0496, s2.loss_cls: 0.0258, s2.acc: 98.6021, s2.loss_bbox: 0.0081, loss: 1.1059, grad_norm: 2.0065\n",
      "2021-09-29 05:25:48,711 - mmdet - INFO - Epoch [1][330/980]\tlr: 1.317e-02, eta: 4:49:29, time: 1.501, data_time: 0.010, memory: 18672, loss_rpn_cls: 0.2708, loss_rpn_bbox: 0.1187, s0.loss_cls: 0.2944, s0.acc: 94.8193, s0.loss_bbox: 0.1168, s1.loss_cls: 0.0808, s1.acc: 97.5098, s1.loss_bbox: 0.0381, s2.loss_cls: 0.0235, s2.acc: 98.7061, s2.loss_bbox: 0.0053, loss: 0.9485, grad_norm: 1.3476\n",
      "2021-09-29 05:26:04,890 - mmdet - INFO - Epoch [1][340/980]\tlr: 1.357e-02, eta: 4:49:47, time: 1.618, data_time: 0.011, memory: 18672, loss_rpn_cls: 0.2279, loss_rpn_bbox: 0.1073, s0.loss_cls: 0.2566, s0.acc: 95.6911, s0.loss_bbox: 0.0949, s1.loss_cls: 0.0689, s1.acc: 98.0042, s1.loss_bbox: 0.0315, s2.loss_cls: 0.0185, s2.acc: 99.0530, s2.loss_bbox: 0.0045, loss: 0.8100, grad_norm: 1.5340\n",
      "2021-09-29 05:26:20,002 - mmdet - INFO - Epoch [1][350/980]\tlr: 1.397e-02, eta: 4:49:28, time: 1.511, data_time: 0.011, memory: 18672, loss_rpn_cls: 0.2779, loss_rpn_bbox: 0.1521, s0.loss_cls: 0.4358, s0.acc: 91.8724, s0.loss_bbox: 0.1949, s1.loss_cls: 0.1124, s1.acc: 96.4163, s1.loss_bbox: 0.0599, s2.loss_cls: 0.0324, s2.acc: 98.1832, s2.loss_bbox: 0.0099, loss: 1.2752, grad_norm: 2.0654\n",
      "2021-09-29 05:26:35,173 - mmdet - INFO - Epoch [1][360/980]\tlr: 1.437e-02, eta: 4:49:11, time: 1.517, data_time: 0.011, memory: 18672, loss_rpn_cls: 0.2331, loss_rpn_bbox: 0.1261, s0.loss_cls: 0.4277, s0.acc: 92.3079, s0.loss_bbox: 0.1866, s1.loss_cls: 0.1081, s1.acc: 96.7822, s1.loss_bbox: 0.0533, s2.loss_cls: 0.0299, s2.acc: 98.4230, s2.loss_bbox: 0.0082, loss: 1.1730, grad_norm: 2.1795\n",
      "2021-09-29 05:26:51,333 - mmdet - INFO - Epoch [1][370/980]\tlr: 1.477e-02, eta: 4:49:25, time: 1.616, data_time: 0.011, memory: 18672, loss_rpn_cls: 0.2278, loss_rpn_bbox: 0.1473, s0.loss_cls: 0.3341, s0.acc: 93.8929, s0.loss_bbox: 0.1417, s1.loss_cls: 0.0931, s1.acc: 97.0918, s1.loss_bbox: 0.0476, s2.loss_cls: 0.0267, s2.acc: 98.5447, s2.loss_bbox: 0.0074, loss: 1.0256, grad_norm: 1.7655\n",
      "2021-09-29 05:27:04,139 - mmdet - INFO - Epoch [1][380/980]\tlr: 1.516e-02, eta: 4:47:57, time: 1.281, data_time: 0.010, memory: 18672, loss_rpn_cls: 0.2966, loss_rpn_bbox: 0.1109, s0.loss_cls: 0.4064, s0.acc: 92.5244, s0.loss_bbox: 0.1632, s1.loss_cls: 0.1166, s1.acc: 96.3379, s1.loss_bbox: 0.0537, s2.loss_cls: 0.0356, s2.acc: 97.9932, s2.loss_bbox: 0.0085, loss: 1.1915, grad_norm: 2.2947\n",
      "2021-09-29 05:27:19,204 - mmdet - INFO - Epoch [1][390/980]\tlr: 1.556e-02, eta: 4:47:38, time: 1.506, data_time: 0.010, memory: 18672, loss_rpn_cls: 0.2744, loss_rpn_bbox: 0.1392, s0.loss_cls: 0.3557, s0.acc: 94.4924, s0.loss_bbox: 0.1194, s1.loss_cls: 0.1142, s1.acc: 97.1654, s1.loss_bbox: 0.0477, s2.loss_cls: 0.0344, s2.acc: 98.7338, s2.loss_bbox: 0.0052, loss: 1.0902, grad_norm: 2.8015\n",
      "2021-09-29 05:27:36,430 - mmdet - INFO - Epoch [1][400/980]\tlr: 1.596e-02, eta: 4:48:21, time: 1.723, data_time: 0.011, memory: 18672, loss_rpn_cls: 0.2645, loss_rpn_bbox: 0.1575, s0.loss_cls: 0.3448, s0.acc: 93.9844, s0.loss_bbox: 0.1392, s1.loss_cls: 0.1036, s1.acc: 97.1289, s1.loss_bbox: 0.0456, s2.loss_cls: 0.0329, s2.acc: 98.5742, s2.loss_bbox: 0.0069, loss: 1.0951, grad_norm: 2.0567\n",
      "2021-09-29 05:27:52,593 - mmdet - INFO - Epoch [1][410/980]\tlr: 1.636e-02, eta: 4:48:32, time: 1.616, data_time: 0.011, memory: 18672, loss_rpn_cls: 0.2620, loss_rpn_bbox: 0.1329, s0.loss_cls: 0.3616, s0.acc: 93.9696, s0.loss_bbox: 0.1341, s1.loss_cls: 0.0950, s1.acc: 97.2081, s1.loss_bbox: 0.0431, s2.loss_cls: 0.0265, s2.acc: 98.6354, s2.loss_bbox: 0.0052, loss: 1.0604, grad_norm: 1.7869\n"
     ]
    },
    {
     "name": "stderr",
     "output_type": "stream",
     "text": [
      "2021-09-29 05:28:03,272 - mmdet - INFO - Epoch [1][420/980]\tlr: 1.676e-02, eta: 4:46:13, time: 1.068, data_time: 0.009, memory: 18672, loss_rpn_cls: 0.2427, loss_rpn_bbox: 0.1122, s0.loss_cls: 0.3980, s0.acc: 92.4250, s0.loss_bbox: 0.1787, s1.loss_cls: 0.1090, s1.acc: 96.4951, s1.loss_bbox: 0.0614, s2.loss_cls: 0.0301, s2.acc: 98.3988, s2.loss_bbox: 0.0089, loss: 1.1409, grad_norm: 1.5661\n",
      "2021-09-29 05:28:19,409 - mmdet - INFO - Epoch [1][430/980]\tlr: 1.716e-02, eta: 4:46:24, time: 1.614, data_time: 0.011, memory: 18672, loss_rpn_cls: 0.2095, loss_rpn_bbox: 0.0922, s0.loss_cls: 0.3573, s0.acc: 93.8255, s0.loss_bbox: 0.1406, s1.loss_cls: 0.0995, s1.acc: 96.9685, s1.loss_bbox: 0.0508, s2.loss_cls: 0.0278, s2.acc: 98.5685, s2.loss_bbox: 0.0076, loss: 0.9853, grad_norm: 1.7757\n",
      "2021-09-29 05:28:34,506 - mmdet - INFO - Epoch [1][440/980]\tlr: 1.756e-02, eta: 4:46:07, time: 1.510, data_time: 0.011, memory: 18672, loss_rpn_cls: 0.2915, loss_rpn_bbox: 0.1618, s0.loss_cls: 0.4946, s0.acc: 91.2287, s0.loss_bbox: 0.2034, s1.loss_cls: 0.1364, s1.acc: 95.6072, s1.loss_bbox: 0.0748, s2.loss_cls: 0.0401, s2.acc: 97.8634, s2.loss_bbox: 0.0120, loss: 1.4146, grad_norm: 2.3628\n",
      "2021-09-29 05:28:49,593 - mmdet - INFO - Epoch [1][450/980]\tlr: 1.796e-02, eta: 4:45:50, time: 1.509, data_time: 0.011, memory: 18672, loss_rpn_cls: 0.2533, loss_rpn_bbox: 0.1385, s0.loss_cls: 0.3850, s0.acc: 93.3887, s0.loss_bbox: 0.1474, s1.loss_cls: 0.1113, s1.acc: 96.6846, s1.loss_bbox: 0.0513, s2.loss_cls: 0.0319, s2.acc: 98.3105, s2.loss_bbox: 0.0072, loss: 1.1258, grad_norm: 1.9901\n",
      "2021-09-29 05:29:02,456 - mmdet - INFO - Epoch [1][460/980]\tlr: 1.836e-02, eta: 4:44:38, time: 1.286, data_time: 0.009, memory: 18672, loss_rpn_cls: 0.2828, loss_rpn_bbox: 0.1138, s0.loss_cls: 0.3211, s0.acc: 94.3973, s0.loss_bbox: 0.1295, s1.loss_cls: 0.0919, s1.acc: 97.2097, s1.loss_bbox: 0.0440, s2.loss_cls: 0.0276, s2.acc: 98.5706, s2.loss_bbox: 0.0061, loss: 1.0167, grad_norm: 1.6135\n",
      "2021-09-29 05:29:19,945 - mmdet - INFO - Epoch [1][470/980]\tlr: 1.876e-02, eta: 4:45:20, time: 1.749, data_time: 0.012, memory: 18672, loss_rpn_cls: 0.2226, loss_rpn_bbox: 0.1167, s0.loss_cls: 0.3356, s0.acc: 94.0186, s0.loss_bbox: 0.1347, s1.loss_cls: 0.0974, s1.acc: 97.0117, s1.loss_bbox: 0.0504, s2.loss_cls: 0.0260, s2.acc: 98.6426, s2.loss_bbox: 0.0069, loss: 0.9903, grad_norm: 1.4815\n",
      "2021-09-29 05:29:33,885 - mmdet - INFO - Epoch [1][480/980]\tlr: 1.916e-02, eta: 4:44:36, time: 1.394, data_time: 0.010, memory: 18672, loss_rpn_cls: 0.2717, loss_rpn_bbox: 0.1114, s0.loss_cls: 0.3668, s0.acc: 93.2861, s0.loss_bbox: 0.1414, s1.loss_cls: 0.1182, s1.acc: 96.1963, s1.loss_bbox: 0.0636, s2.loss_cls: 0.0331, s2.acc: 98.1592, s2.loss_bbox: 0.0103, loss: 1.1165, grad_norm: 1.8526\n",
      "2021-09-29 05:29:50,132 - mmdet - INFO - Epoch [1][490/980]\tlr: 1.956e-02, eta: 4:44:46, time: 1.625, data_time: 0.010, memory: 18672, loss_rpn_cls: 0.2418, loss_rpn_bbox: 0.1194, s0.loss_cls: 0.3712, s0.acc: 93.6956, s0.loss_bbox: 0.1351, s1.loss_cls: 0.1177, s1.acc: 96.2656, s1.loss_bbox: 0.0567, s2.loss_cls: 0.0369, s2.acc: 97.9932, s2.loss_bbox: 0.0106, loss: 1.0894, grad_norm: 1.7552\n",
      "2021-09-29 05:30:04,005 - mmdet - INFO - Epoch [1][500/980]\tlr: 1.996e-02, eta: 4:44:02, time: 1.387, data_time: 0.010, memory: 18672, loss_rpn_cls: 0.2628, loss_rpn_bbox: 0.1239, s0.loss_cls: 0.3281, s0.acc: 94.0825, s0.loss_bbox: 0.1293, s1.loss_cls: 0.0977, s1.acc: 96.9349, s1.loss_bbox: 0.0470, s2.loss_cls: 0.0284, s2.acc: 98.4594, s2.loss_bbox: 0.0077, loss: 1.0249, grad_norm: 1.5433\n",
      "2021-09-29 05:30:21,074 - mmdet - INFO - Epoch [1][510/980]\tlr: 2.000e-02, eta: 4:44:30, time: 1.707, data_time: 0.012, memory: 18672, loss_rpn_cls: 0.2701, loss_rpn_bbox: 0.1156, s0.loss_cls: 0.3756, s0.acc: 92.4070, s0.loss_bbox: 0.1600, s1.loss_cls: 0.1229, s1.acc: 95.6025, s1.loss_bbox: 0.0713, s2.loss_cls: 0.0359, s2.acc: 97.8170, s2.loss_bbox: 0.0114, loss: 1.1629, grad_norm: 1.3621\n",
      "2021-09-29 05:30:34,940 - mmdet - INFO - Epoch [1][520/980]\tlr: 2.000e-02, eta: 4:43:46, time: 1.387, data_time: 0.010, memory: 18672, loss_rpn_cls: 0.2654, loss_rpn_bbox: 0.1515, s0.loss_cls: 0.3174, s0.acc: 93.9282, s0.loss_bbox: 0.1380, s1.loss_cls: 0.0909, s1.acc: 96.9779, s1.loss_bbox: 0.0474, s2.loss_cls: 0.0270, s2.acc: 98.4360, s2.loss_bbox: 0.0077, loss: 1.0453, grad_norm: 1.3988\n",
      "2021-09-29 05:30:47,876 - mmdet - INFO - Epoch [1][530/980]\tlr: 2.000e-02, eta: 4:42:44, time: 1.294, data_time: 0.010, memory: 18672, loss_rpn_cls: 0.2882, loss_rpn_bbox: 0.1384, s0.loss_cls: 0.3754, s0.acc: 93.1138, s0.loss_bbox: 0.1539, s1.loss_cls: 0.1214, s1.acc: 95.9498, s1.loss_bbox: 0.0685, s2.loss_cls: 0.0334, s2.acc: 98.0491, s2.loss_bbox: 0.0110, loss: 1.1902, grad_norm: 1.8668\n",
      "2021-09-29 05:31:05,189 - mmdet - INFO - Epoch [1][540/980]\tlr: 2.000e-02, eta: 4:43:15, time: 1.731, data_time: 0.012, memory: 18672, loss_rpn_cls: 0.2735, loss_rpn_bbox: 0.1085, s0.loss_cls: 0.3539, s0.acc: 93.4231, s0.loss_bbox: 0.1526, s1.loss_cls: 0.1145, s1.acc: 96.5124, s1.loss_bbox: 0.0564, s2.loss_cls: 0.0345, s2.acc: 98.2313, s2.loss_bbox: 0.0092, loss: 1.1030, grad_norm: 1.8472\n",
      "2021-09-29 05:31:18,826 - mmdet - INFO - Epoch [1][550/980]\tlr: 2.000e-02, eta: 4:42:29, time: 1.364, data_time: 0.010, memory: 18672, loss_rpn_cls: 0.2312, loss_rpn_bbox: 0.1224, s0.loss_cls: 0.3940, s0.acc: 92.3008, s0.loss_bbox: 0.1791, s1.loss_cls: 0.1220, s1.acc: 95.8538, s1.loss_bbox: 0.0721, s2.loss_cls: 0.0349, s2.acc: 97.9847, s2.loss_bbox: 0.0133, loss: 1.1691, grad_norm: 1.5497\n",
      "2021-09-29 05:31:36,122 - mmdet - INFO - Epoch [1][560/980]\tlr: 2.000e-02, eta: 4:42:57, time: 1.730, data_time: 0.011, memory: 18672, loss_rpn_cls: 0.2274, loss_rpn_bbox: 0.1337, s0.loss_cls: 0.3613, s0.acc: 93.8481, s0.loss_bbox: 0.1388, s1.loss_cls: 0.1105, s1.acc: 96.4824, s1.loss_bbox: 0.0620, s2.loss_cls: 0.0308, s2.acc: 98.2287, s2.loss_bbox: 0.0125, loss: 1.0769, grad_norm: 1.3918\n",
      "2021-09-29 05:31:51,148 - mmdet - INFO - Epoch [1][570/980]\tlr: 2.000e-02, eta: 4:42:40, time: 1.503, data_time: 0.012, memory: 18672, loss_rpn_cls: 0.2997, loss_rpn_bbox: 0.1356, s0.loss_cls: 0.3501, s0.acc: 93.3157, s0.loss_bbox: 0.1467, s1.loss_cls: 0.1017, s1.acc: 96.4550, s1.loss_bbox: 0.0546, s2.loss_cls: 0.0318, s2.acc: 98.0982, s2.loss_bbox: 0.0097, loss: 1.1299, grad_norm: 1.6536\n",
      "2021-09-29 05:32:06,007 - mmdet - INFO - Epoch [1][580/980]\tlr: 2.000e-02, eta: 4:42:19, time: 1.486, data_time: 0.010, memory: 18672, loss_rpn_cls: 0.3132, loss_rpn_bbox: 0.1312, s0.loss_cls: 0.3942, s0.acc: 93.2075, s0.loss_bbox: 0.1499, s1.loss_cls: 0.1241, s1.acc: 96.1532, s1.loss_bbox: 0.0626, s2.loss_cls: 0.0367, s2.acc: 98.0060, s2.loss_bbox: 0.0122, loss: 1.2240, grad_norm: 1.7566\n",
      "2021-09-29 05:32:21,234 - mmdet - INFO - Epoch [1][590/980]\tlr: 2.000e-02, eta: 4:42:05, time: 1.523, data_time: 0.011, memory: 19497, loss_rpn_cls: 0.3091, loss_rpn_bbox: 0.1604, s0.loss_cls: 0.4154, s0.acc: 92.0801, s0.loss_bbox: 0.1781, s1.loss_cls: 0.1244, s1.acc: 95.9668, s1.loss_bbox: 0.0579, s2.loss_cls: 0.0403, s2.acc: 97.7197, s2.loss_bbox: 0.0104, loss: 1.2960, grad_norm: 1.4467\n",
      "2021-09-29 05:32:36,237 - mmdet - INFO - Epoch [1][600/980]\tlr: 2.000e-02, eta: 4:41:47, time: 1.500, data_time: 0.011, memory: 19497, loss_rpn_cls: 0.2070, loss_rpn_bbox: 0.0962, s0.loss_cls: 0.3315, s0.acc: 94.0073, s0.loss_bbox: 0.1223, s1.loss_cls: 0.1205, s1.acc: 96.3363, s1.loss_bbox: 0.0611, s2.loss_cls: 0.0374, s2.acc: 98.1257, s2.loss_bbox: 0.0133, loss: 0.9893, grad_norm: 1.2288\n",
      "2021-09-29 05:32:53,456 - mmdet - INFO - Epoch [1][610/980]\tlr: 2.000e-02, eta: 4:42:10, time: 1.722, data_time: 0.011, memory: 19497, loss_rpn_cls: 0.2872, loss_rpn_bbox: 0.1273, s0.loss_cls: 0.3991, s0.acc: 92.3241, s0.loss_bbox: 0.1692, s1.loss_cls: 0.1237, s1.acc: 95.7601, s1.loss_bbox: 0.0712, s2.loss_cls: 0.0341, s2.acc: 98.0046, s2.loss_bbox: 0.0108, loss: 1.2225, grad_norm: 1.6081\n",
      "2021-09-29 05:33:08,547 - mmdet - INFO - Epoch [1][620/980]\tlr: 2.000e-02, eta: 4:41:53, time: 1.509, data_time: 0.010, memory: 19497, loss_rpn_cls: 0.2337, loss_rpn_bbox: 0.1065, s0.loss_cls: 0.3298, s0.acc: 94.0023, s0.loss_bbox: 0.1274, s1.loss_cls: 0.1060, s1.acc: 96.4467, s1.loss_bbox: 0.0569, s2.loss_cls: 0.0324, s2.acc: 98.1271, s2.loss_bbox: 0.0118, loss: 1.0044, grad_norm: 1.2126\n"
     ]
    },
    {
     "name": "stderr",
     "output_type": "stream",
     "text": [
      "2021-09-29 05:33:23,529 - mmdet - INFO - Epoch [1][630/980]\tlr: 2.000e-02, eta: 4:41:34, time: 1.498, data_time: 0.011, memory: 19497, loss_rpn_cls: 0.2209, loss_rpn_bbox: 0.0819, s0.loss_cls: 0.3230, s0.acc: 94.1950, s0.loss_bbox: 0.1273, s1.loss_cls: 0.1023, s1.acc: 96.6281, s1.loss_bbox: 0.0557, s2.loss_cls: 0.0299, s2.acc: 98.3035, s2.loss_bbox: 0.0114, loss: 0.9524, grad_norm: 1.7256\n",
      "2021-09-29 05:33:37,612 - mmdet - INFO - Epoch [1][640/980]\tlr: 2.000e-02, eta: 4:41:00, time: 1.408, data_time: 0.010, memory: 19497, loss_rpn_cls: 0.2731, loss_rpn_bbox: 0.1515, s0.loss_cls: 0.3962, s0.acc: 91.8939, s0.loss_bbox: 0.1753, s1.loss_cls: 0.1252, s1.acc: 95.4142, s1.loss_bbox: 0.0745, s2.loss_cls: 0.0362, s2.acc: 97.6997, s2.loss_bbox: 0.0142, loss: 1.2462, grad_norm: 1.3370\n",
      "2021-09-29 05:33:51,625 - mmdet - INFO - Epoch [1][650/980]\tlr: 2.000e-02, eta: 4:40:25, time: 1.401, data_time: 0.010, memory: 19497, loss_rpn_cls: 0.2242, loss_rpn_bbox: 0.1151, s0.loss_cls: 0.3264, s0.acc: 93.4912, s0.loss_bbox: 0.1408, s1.loss_cls: 0.1125, s1.acc: 95.8740, s1.loss_bbox: 0.0743, s2.loss_cls: 0.0306, s2.acc: 98.1592, s2.loss_bbox: 0.0137, loss: 1.0375, grad_norm: 1.3113\n",
      "2021-09-29 05:34:06,797 - mmdet - INFO - Epoch [1][660/980]\tlr: 2.000e-02, eta: 4:40:10, time: 1.517, data_time: 0.010, memory: 19497, loss_rpn_cls: 0.1984, loss_rpn_bbox: 0.0997, s0.loss_cls: 0.3794, s0.acc: 93.5924, s0.loss_bbox: 0.1505, s1.loss_cls: 0.1245, s1.acc: 96.1702, s1.loss_bbox: 0.0665, s2.loss_cls: 0.0384, s2.acc: 97.9357, s2.loss_bbox: 0.0165, loss: 1.0740, grad_norm: 1.7477\n",
      "2021-09-29 05:34:23,032 - mmdet - INFO - Epoch [1][670/980]\tlr: 2.000e-02, eta: 4:40:13, time: 1.624, data_time: 0.012, memory: 19497, loss_rpn_cls: 0.2553, loss_rpn_bbox: 0.1388, s0.loss_cls: 0.3428, s0.acc: 93.8167, s0.loss_bbox: 0.1440, s1.loss_cls: 0.1103, s1.acc: 96.5078, s1.loss_bbox: 0.0542, s2.loss_cls: 0.0354, s2.acc: 97.9338, s2.loss_bbox: 0.0127, loss: 1.0935, grad_norm: 1.4308\n",
      "2021-09-29 05:34:38,199 - mmdet - INFO - Epoch [1][680/980]\tlr: 2.000e-02, eta: 4:39:58, time: 1.517, data_time: 0.011, memory: 19497, loss_rpn_cls: 0.2371, loss_rpn_bbox: 0.1268, s0.loss_cls: 0.4072, s0.acc: 91.9882, s0.loss_bbox: 0.1684, s1.loss_cls: 0.1362, s1.acc: 95.1732, s1.loss_bbox: 0.0795, s2.loss_cls: 0.0417, s2.acc: 97.4823, s2.loss_bbox: 0.0160, loss: 1.2130, grad_norm: 1.1663\n",
      "2021-09-29 05:34:54,254 - mmdet - INFO - Epoch [1][690/980]\tlr: 2.000e-02, eta: 4:39:57, time: 1.606, data_time: 0.011, memory: 19497, loss_rpn_cls: 0.2872, loss_rpn_bbox: 0.1412, s0.loss_cls: 0.4213, s0.acc: 91.9287, s0.loss_bbox: 0.1736, s1.loss_cls: 0.1417, s1.acc: 95.2441, s1.loss_bbox: 0.0748, s2.loss_cls: 0.0428, s2.acc: 97.4219, s2.loss_bbox: 0.0154, loss: 1.2981, grad_norm: 1.3701\n",
      "2021-09-29 05:35:09,571 - mmdet - INFO - Epoch [1][700/980]\tlr: 2.000e-02, eta: 4:39:45, time: 1.532, data_time: 0.012, memory: 19497, loss_rpn_cls: 0.2388, loss_rpn_bbox: 0.1025, s0.loss_cls: 0.3657, s0.acc: 92.9118, s0.loss_bbox: 0.1524, s1.loss_cls: 0.1193, s1.acc: 95.7723, s1.loss_bbox: 0.0731, s2.loss_cls: 0.0335, s2.acc: 98.0086, s2.loss_bbox: 0.0128, loss: 1.0981, grad_norm: 1.3569\n",
      "2021-09-29 05:35:23,583 - mmdet - INFO - Epoch [1][710/980]\tlr: 2.000e-02, eta: 4:39:11, time: 1.401, data_time: 0.011, memory: 19497, loss_rpn_cls: 0.2817, loss_rpn_bbox: 0.1402, s0.loss_cls: 0.4126, s0.acc: 92.1870, s0.loss_bbox: 0.1602, s1.loss_cls: 0.1575, s1.acc: 94.6043, s1.loss_bbox: 0.0892, s2.loss_cls: 0.0472, s2.acc: 97.1351, s2.loss_bbox: 0.0203, loss: 1.3089, grad_norm: 1.6366\n",
      "2021-09-29 05:35:40,849 - mmdet - INFO - Epoch [1][720/980]\tlr: 2.000e-02, eta: 4:39:28, time: 1.727, data_time: 0.012, memory: 19497, loss_rpn_cls: 0.2541, loss_rpn_bbox: 0.0959, s0.loss_cls: 0.3420, s0.acc: 93.7072, s0.loss_bbox: 0.1270, s1.loss_cls: 0.1212, s1.acc: 95.7739, s1.loss_bbox: 0.0665, s2.loss_cls: 0.0416, s2.acc: 97.4717, s2.loss_bbox: 0.0188, loss: 1.0672, grad_norm: 1.1828\n",
      "2021-09-29 05:35:54,847 - mmdet - INFO - Epoch [1][730/980]\tlr: 2.000e-02, eta: 4:38:55, time: 1.400, data_time: 0.011, memory: 19497, loss_rpn_cls: 0.2498, loss_rpn_bbox: 0.1025, s0.loss_cls: 0.3882, s0.acc: 92.6655, s0.loss_bbox: 0.1645, s1.loss_cls: 0.1311, s1.acc: 95.4165, s1.loss_bbox: 0.0791, s2.loss_cls: 0.0386, s2.acc: 97.6728, s2.loss_bbox: 0.0164, loss: 1.1701, grad_norm: 1.4077\n",
      "2021-09-29 05:36:12,093 - mmdet - INFO - Epoch [1][740/980]\tlr: 2.000e-02, eta: 4:39:11, time: 1.725, data_time: 0.012, memory: 19497, loss_rpn_cls: 0.2497, loss_rpn_bbox: 0.1073, s0.loss_cls: 0.3848, s0.acc: 91.6628, s0.loss_bbox: 0.1747, s1.loss_cls: 0.1290, s1.acc: 94.9888, s1.loss_bbox: 0.0778, s2.loss_cls: 0.0421, s2.acc: 97.1517, s2.loss_bbox: 0.0168, loss: 1.1823, grad_norm: 1.1418\n",
      "2021-09-29 05:36:28,413 - mmdet - INFO - Epoch [1][750/980]\tlr: 2.000e-02, eta: 4:39:12, time: 1.632, data_time: 0.011, memory: 19497, loss_rpn_cls: 0.2285, loss_rpn_bbox: 0.1102, s0.loss_cls: 0.3250, s0.acc: 93.9544, s0.loss_bbox: 0.1307, s1.loss_cls: 0.1064, s1.acc: 96.2426, s1.loss_bbox: 0.0588, s2.loss_cls: 0.0349, s2.acc: 97.8564, s2.loss_bbox: 0.0135, loss: 1.0080, grad_norm: 1.2491\n",
      "2021-09-29 05:36:43,395 - mmdet - INFO - Epoch [1][760/980]\tlr: 2.000e-02, eta: 4:38:54, time: 1.498, data_time: 0.011, memory: 19497, loss_rpn_cls: 0.2986, loss_rpn_bbox: 0.1261, s0.loss_cls: 0.3766, s0.acc: 92.1484, s0.loss_bbox: 0.1572, s1.loss_cls: 0.1283, s1.acc: 95.0098, s1.loss_bbox: 0.0788, s2.loss_cls: 0.0420, s2.acc: 97.2021, s2.loss_bbox: 0.0186, loss: 1.2261, grad_norm: 1.4166\n",
      "2021-09-29 05:36:59,613 - mmdet - INFO - Epoch [1][770/980]\tlr: 2.000e-02, eta: 4:38:53, time: 1.622, data_time: 0.012, memory: 19497, loss_rpn_cls: 0.2611, loss_rpn_bbox: 0.1066, s0.loss_cls: 0.4417, s0.acc: 90.6750, s0.loss_bbox: 0.1855, s1.loss_cls: 0.1647, s1.acc: 93.3909, s1.loss_bbox: 0.1087, s2.loss_cls: 0.0531, s2.acc: 96.4438, s2.loss_bbox: 0.0274, loss: 1.3488, grad_norm: 1.1980\n",
      "2021-09-29 05:37:12,570 - mmdet - INFO - Epoch [1][780/980]\tlr: 2.000e-02, eta: 4:38:05, time: 1.296, data_time: 0.010, memory: 19497, loss_rpn_cls: 0.1858, loss_rpn_bbox: 0.1171, s0.loss_cls: 0.3106, s0.acc: 94.2455, s0.loss_bbox: 0.1165, s1.loss_cls: 0.1134, s1.acc: 95.7102, s1.loss_bbox: 0.0683, s2.loss_cls: 0.0375, s2.acc: 97.3948, s2.loss_bbox: 0.0219, loss: 0.9710, grad_norm: 1.3413\n",
      "2021-09-29 05:37:29,903 - mmdet - INFO - Epoch [1][790/980]\tlr: 2.000e-02, eta: 4:38:20, time: 1.733, data_time: 0.013, memory: 19497, loss_rpn_cls: 0.2420, loss_rpn_bbox: 0.1171, s0.loss_cls: 0.3783, s0.acc: 93.0681, s0.loss_bbox: 0.1456, s1.loss_cls: 0.1343, s1.acc: 95.2871, s1.loss_bbox: 0.0804, s2.loss_cls: 0.0424, s2.acc: 97.3901, s2.loss_bbox: 0.0189, loss: 1.1590, grad_norm: 1.4386\n",
      "2021-09-29 05:37:42,824 - mmdet - INFO - Epoch [1][800/980]\tlr: 2.000e-02, eta: 4:37:33, time: 1.292, data_time: 0.010, memory: 19497, loss_rpn_cls: 0.2606, loss_rpn_bbox: 0.1024, s0.loss_cls: 0.3196, s0.acc: 93.8293, s0.loss_bbox: 0.1154, s1.loss_cls: 0.1160, s1.acc: 95.5672, s1.loss_bbox: 0.0696, s2.loss_cls: 0.0403, s2.acc: 97.4106, s2.loss_bbox: 0.0206, loss: 1.0445, grad_norm: 1.4585\n",
      "2021-09-29 05:37:58,984 - mmdet - INFO - Epoch [1][810/980]\tlr: 2.000e-02, eta: 4:37:31, time: 1.616, data_time: 0.011, memory: 19497, loss_rpn_cls: 0.2215, loss_rpn_bbox: 0.0935, s0.loss_cls: 0.3490, s0.acc: 93.2666, s0.loss_bbox: 0.1357, s1.loss_cls: 0.1276, s1.acc: 95.0000, s1.loss_bbox: 0.0789, s2.loss_cls: 0.0452, s2.acc: 96.8164, s2.loss_bbox: 0.0264, loss: 1.0777, grad_norm: 1.3132\n",
      "2021-09-29 05:38:12,943 - mmdet - INFO - Epoch [1][820/980]\tlr: 2.000e-02, eta: 4:36:59, time: 1.396, data_time: 0.010, memory: 19497, loss_rpn_cls: 0.3054, loss_rpn_bbox: 0.1230, s0.loss_cls: 0.4863, s0.acc: 90.2659, s0.loss_bbox: 0.2018, s1.loss_cls: 0.1819, s1.acc: 93.0553, s1.loss_bbox: 0.1088, s2.loss_cls: 0.0613, s2.acc: 95.7375, s2.loss_bbox: 0.0326, loss: 1.5012, grad_norm: 1.5926\n",
      "2021-09-29 05:38:26,895 - mmdet - INFO - Epoch [1][830/980]\tlr: 2.000e-02, eta: 4:36:28, time: 1.395, data_time: 0.012, memory: 19497, loss_rpn_cls: 0.2317, loss_rpn_bbox: 0.1361, s0.loss_cls: 0.3997, s0.acc: 92.2370, s0.loss_bbox: 0.1614, s1.loss_cls: 0.1393, s1.acc: 94.7365, s1.loss_bbox: 0.0863, s2.loss_cls: 0.0453, s2.acc: 97.0495, s2.loss_bbox: 0.0221, loss: 1.2218, grad_norm: 1.4573\n"
     ]
    },
    {
     "name": "stderr",
     "output_type": "stream",
     "text": [
      "2021-09-29 05:38:40,827 - mmdet - INFO - Epoch [1][840/980]\tlr: 2.000e-02, eta: 4:35:56, time: 1.393, data_time: 0.010, memory: 19497, loss_rpn_cls: 0.2200, loss_rpn_bbox: 0.0875, s0.loss_cls: 0.3340, s0.acc: 93.9258, s0.loss_bbox: 0.1286, s1.loss_cls: 0.1049, s1.acc: 96.3770, s1.loss_bbox: 0.0562, s2.loss_cls: 0.0344, s2.acc: 97.8906, s2.loss_bbox: 0.0143, loss: 0.9799, grad_norm: 1.3380\n",
      "2021-09-29 05:38:57,098 - mmdet - INFO - Epoch [1][850/980]\tlr: 2.000e-02, eta: 4:35:55, time: 1.627, data_time: 0.012, memory: 19497, loss_rpn_cls: 0.2401, loss_rpn_bbox: 0.1305, s0.loss_cls: 0.4384, s0.acc: 91.8701, s0.loss_bbox: 0.1748, s1.loss_cls: 0.1482, s1.acc: 94.5850, s1.loss_bbox: 0.0910, s2.loss_cls: 0.0457, s2.acc: 96.9580, s2.loss_bbox: 0.0231, loss: 1.2919, grad_norm: 1.6020\n",
      "2021-09-29 05:39:13,268 - mmdet - INFO - Epoch [1][860/980]\tlr: 2.000e-02, eta: 4:35:53, time: 1.617, data_time: 0.011, memory: 19497, loss_rpn_cls: 0.2176, loss_rpn_bbox: 0.1351, s0.loss_cls: 0.3651, s0.acc: 92.6413, s0.loss_bbox: 0.1699, s1.loss_cls: 0.1063, s1.acc: 96.0352, s1.loss_bbox: 0.0664, s2.loss_cls: 0.0332, s2.acc: 97.9342, s2.loss_bbox: 0.0138, loss: 1.1075, grad_norm: 1.5173\n",
      "2021-09-29 05:39:27,154 - mmdet - INFO - Epoch [1][870/980]\tlr: 2.000e-02, eta: 4:35:21, time: 1.389, data_time: 0.010, memory: 19497, loss_rpn_cls: 0.2348, loss_rpn_bbox: 0.1053, s0.loss_cls: 0.3625, s0.acc: 93.2717, s0.loss_bbox: 0.1437, s1.loss_cls: 0.1114, s1.acc: 96.1412, s1.loss_bbox: 0.0614, s2.loss_cls: 0.0348, s2.acc: 97.8019, s2.loss_bbox: 0.0145, loss: 1.0685, grad_norm: 1.5544\n",
      "2021-09-29 05:39:42,304 - mmdet - INFO - Epoch [1][880/980]\tlr: 2.000e-02, eta: 4:35:06, time: 1.515, data_time: 0.012, memory: 19497, loss_rpn_cls: 0.2266, loss_rpn_bbox: 0.1263, s0.loss_cls: 0.3355, s0.acc: 93.2189, s0.loss_bbox: 0.1413, s1.loss_cls: 0.1081, s1.acc: 95.8885, s1.loss_bbox: 0.0677, s2.loss_cls: 0.0329, s2.acc: 97.8201, s2.loss_bbox: 0.0151, loss: 1.0536, grad_norm: 1.2053\n",
      "2021-09-29 05:39:54,162 - mmdet - INFO - Epoch [1][890/980]\tlr: 2.000e-02, eta: 4:34:10, time: 1.186, data_time: 0.010, memory: 19497, loss_rpn_cls: 0.2605, loss_rpn_bbox: 0.1034, s0.loss_cls: 0.4113, s0.acc: 92.0264, s0.loss_bbox: 0.1625, s1.loss_cls: 0.1537, s1.acc: 94.1602, s1.loss_bbox: 0.0973, s2.loss_cls: 0.0509, s2.acc: 96.5869, s2.loss_bbox: 0.0283, loss: 1.2679, grad_norm: 1.6431\n",
      "2021-09-29 05:40:10,532 - mmdet - INFO - Epoch [1][900/980]\tlr: 2.000e-02, eta: 4:34:10, time: 1.637, data_time: 0.011, memory: 19497, loss_rpn_cls: 0.2875, loss_rpn_bbox: 0.1546, s0.loss_cls: 0.4779, s0.acc: 90.4283, s0.loss_bbox: 0.2064, s1.loss_cls: 0.1706, s1.acc: 93.9246, s1.loss_bbox: 0.1021, s2.loss_cls: 0.0537, s2.acc: 96.6464, s2.loss_bbox: 0.0238, loss: 1.4765, grad_norm: 1.3771\n",
      "2021-09-29 05:40:24,696 - mmdet - INFO - Epoch [1][910/980]\tlr: 2.000e-02, eta: 4:33:43, time: 1.416, data_time: 0.011, memory: 19497, loss_rpn_cls: 0.2241, loss_rpn_bbox: 0.1008, s0.loss_cls: 0.3611, s0.acc: 92.6713, s0.loss_bbox: 0.1483, s1.loss_cls: 0.1244, s1.acc: 95.0953, s1.loss_bbox: 0.0769, s2.loss_cls: 0.0398, s2.acc: 97.1033, s2.loss_bbox: 0.0222, loss: 1.0977, grad_norm: 1.0470\n",
      "2021-09-29 05:40:38,726 - mmdet - INFO - Epoch [1][920/980]\tlr: 2.000e-02, eta: 4:33:15, time: 1.403, data_time: 0.010, memory: 19497, loss_rpn_cls: 0.2735, loss_rpn_bbox: 0.0839, s0.loss_cls: 0.3727, s0.acc: 92.9473, s0.loss_bbox: 0.1371, s1.loss_cls: 0.1281, s1.acc: 95.4482, s1.loss_bbox: 0.0681, s2.loss_cls: 0.0441, s2.acc: 97.1087, s2.loss_bbox: 0.0203, loss: 1.1277, grad_norm: 1.2866\n",
      "2021-09-29 05:40:54,935 - mmdet - INFO - Epoch [1][930/980]\tlr: 2.000e-02, eta: 4:33:12, time: 1.621, data_time: 0.011, memory: 19497, loss_rpn_cls: 0.2245, loss_rpn_bbox: 0.0868, s0.loss_cls: 0.3739, s0.acc: 92.1598, s0.loss_bbox: 0.1592, s1.loss_cls: 0.1353, s1.acc: 94.3711, s1.loss_bbox: 0.0875, s2.loss_cls: 0.0489, s2.acc: 96.1899, s2.loss_bbox: 0.0300, loss: 1.1460, grad_norm: 1.0379\n",
      "2021-09-29 05:41:11,149 - mmdet - INFO - Epoch [1][940/980]\tlr: 2.000e-02, eta: 4:33:10, time: 1.621, data_time: 0.011, memory: 19497, loss_rpn_cls: 0.2064, loss_rpn_bbox: 0.1197, s0.loss_cls: 0.3657, s0.acc: 92.3273, s0.loss_bbox: 0.1579, s1.loss_cls: 0.1352, s1.acc: 94.6279, s1.loss_bbox: 0.0882, s2.loss_cls: 0.0467, s2.acc: 96.7035, s2.loss_bbox: 0.0260, loss: 1.1458, grad_norm: 1.0225\n",
      "2021-09-29 05:41:27,123 - mmdet - INFO - Epoch [1][950/980]\tlr: 2.000e-02, eta: 4:33:04, time: 1.597, data_time: 0.012, memory: 19497, loss_rpn_cls: 0.2393, loss_rpn_bbox: 0.1103, s0.loss_cls: 0.3511, s0.acc: 92.9297, s0.loss_bbox: 0.1412, s1.loss_cls: 0.1228, s1.acc: 95.2686, s1.loss_bbox: 0.0720, s2.loss_cls: 0.0443, s2.acc: 96.9482, s2.loss_bbox: 0.0228, loss: 1.1037, grad_norm: 1.3148\n",
      "2021-09-29 05:41:43,337 - mmdet - INFO - Epoch [1][960/980]\tlr: 2.000e-02, eta: 4:33:01, time: 1.621, data_time: 0.011, memory: 19497, loss_rpn_cls: 0.2547, loss_rpn_bbox: 0.1139, s0.loss_cls: 0.4364, s0.acc: 91.2006, s0.loss_bbox: 0.1712, s1.loss_cls: 0.1555, s1.acc: 93.7778, s1.loss_bbox: 0.0987, s2.loss_cls: 0.0520, s2.acc: 96.3308, s2.loss_bbox: 0.0280, loss: 1.3105, grad_norm: 1.3453\n",
      "2021-09-29 05:42:00,625 - mmdet - INFO - Epoch [1][970/980]\tlr: 2.000e-02, eta: 4:33:09, time: 1.729, data_time: 0.011, memory: 19497, loss_rpn_cls: 0.2465, loss_rpn_bbox: 0.1107, s0.loss_cls: 0.3663, s0.acc: 92.6276, s0.loss_bbox: 0.1385, s1.loss_cls: 0.1444, s1.acc: 94.3123, s1.loss_bbox: 0.0862, s2.loss_cls: 0.0513, s2.acc: 96.3373, s2.loss_bbox: 0.0263, loss: 1.1702, grad_norm: 1.3745\n",
      "2021-09-29 05:42:15,595 - mmdet - INFO - Epoch [1][980/980]\tlr: 2.000e-02, eta: 4:32:52, time: 1.497, data_time: 0.010, memory: 19497, loss_rpn_cls: 0.2075, loss_rpn_bbox: 0.0787, s0.loss_cls: 0.2716, s0.acc: 95.0419, s0.loss_bbox: 0.1040, s1.loss_cls: 0.0993, s1.acc: 96.5474, s1.loss_bbox: 0.0562, s2.loss_cls: 0.0312, s2.acc: 98.0190, s2.loss_bbox: 0.0138, loss: 0.8623, grad_norm: 1.0346\n",
      "2021-09-29 05:42:15,652 - mmdet - INFO - Saving checkpoint at 1 epochs\n"
     ]
    },
    {
     "name": "stdout",
     "output_type": "stream",
     "text": [
      "[>>>>>>>>>>>>>>>>>>>>>>>>>>>>>] 966/966, 1.5 task/s, elapsed: 640s, ETA:     0s"
     ]
    },
    {
     "name": "stderr",
     "output_type": "stream",
     "text": [
      "2021-09-29 05:53:02,124 - mmdet - INFO - Evaluating bbox...\n"
     ]
    },
    {
     "name": "stdout",
     "output_type": "stream",
     "text": [
      "Loading and preparing results...\n",
      "DONE (t=0.00s)\n",
      "creating index...\n",
      "index created!\n",
      "Running per image evaluation...\n",
      "Evaluate annotation type *bbox*\n",
      "DONE (t=1.00s).\n",
      "Accumulating evaluation results...\n"
     ]
    },
    {
     "name": "stderr",
     "output_type": "stream",
     "text": [
      "2021-09-29 05:53:03,422 - mmdet - INFO - Epoch(val) [1][966]\tbbox_mAP: 0.0060, bbox_mAP_50: 0.0140, bbox_mAP_75: 0.0050, bbox_mAP_s: 0.0000, bbox_mAP_m: 0.0000, bbox_mAP_l: 0.0080, bbox_mAP_copypaste: 0.006 0.014 0.005 0.000 0.000 0.008\n"
     ]
    },
    {
     "name": "stdout",
     "output_type": "stream",
     "text": [
      "DONE (t=0.25s).\n",
      " Average Precision  (AP) @[ IoU=0.50:0.95 | area=   all | maxDets=100 ] = 0.006\n",
      " Average Precision  (AP) @[ IoU=0.50      | area=   all | maxDets=1000 ] = 0.014\n",
      " Average Precision  (AP) @[ IoU=0.75      | area=   all | maxDets=1000 ] = 0.005\n",
      " Average Precision  (AP) @[ IoU=0.50:0.95 | area= small | maxDets=1000 ] = 0.000\n",
      " Average Precision  (AP) @[ IoU=0.50:0.95 | area=medium | maxDets=1000 ] = 0.000\n",
      " Average Precision  (AP) @[ IoU=0.50:0.95 | area= large | maxDets=1000 ] = 0.008\n",
      " Average Recall     (AR) @[ IoU=0.50:0.95 | area=   all | maxDets=100 ] = 0.030\n",
      " Average Recall     (AR) @[ IoU=0.50:0.95 | area=   all | maxDets=300 ] = 0.030\n",
      " Average Recall     (AR) @[ IoU=0.50:0.95 | area=   all | maxDets=1000 ] = 0.030\n",
      " Average Recall     (AR) @[ IoU=0.50:0.95 | area= small | maxDets=1000 ] = 0.000\n",
      " Average Recall     (AR) @[ IoU=0.50:0.95 | area=medium | maxDets=1000 ] = 0.000\n",
      " Average Recall     (AR) @[ IoU=0.50:0.95 | area= large | maxDets=1000 ] = 0.041\n"
     ]
    },
    {
     "name": "stderr",
     "output_type": "stream",
     "text": [
      "2021-09-29 05:53:22,992 - mmdet - INFO - Epoch [2][10/980]\tlr: 2.000e-02, eta: 4:33:24, time: 1.955, data_time: 0.244, memory: 19497, loss_rpn_cls: 0.2048, loss_rpn_bbox: 0.0959, s0.loss_cls: 0.2800, s0.acc: 94.2173, s0.loss_bbox: 0.1091, s1.loss_cls: 0.1096, s1.acc: 95.2129, s1.loss_bbox: 0.0682, s2.loss_cls: 0.0425, s2.acc: 96.5090, s2.loss_bbox: 0.0278, loss: 0.9380, grad_norm: 1.1281\n",
      "2021-09-29 05:53:38,071 - mmdet - INFO - Epoch [2][20/980]\tlr: 2.000e-02, eta: 4:33:07, time: 1.508, data_time: 0.012, memory: 19497, loss_rpn_cls: 0.2755, loss_rpn_bbox: 0.1402, s0.loss_cls: 0.4067, s0.acc: 91.5004, s0.loss_bbox: 0.1642, s1.loss_cls: 0.1631, s1.acc: 93.3589, s1.loss_bbox: 0.1060, s2.loss_cls: 0.0601, s2.acc: 95.7803, s2.loss_bbox: 0.0363, loss: 1.3521, grad_norm: 1.8569\n",
      "2021-09-29 05:53:52,040 - mmdet - INFO - Epoch [2][30/980]\tlr: 2.000e-02, eta: 4:32:38, time: 1.397, data_time: 0.010, memory: 19497, loss_rpn_cls: 0.2311, loss_rpn_bbox: 0.1058, s0.loss_cls: 0.3298, s0.acc: 93.9623, s0.loss_bbox: 0.1207, s1.loss_cls: 0.1115, s1.acc: 95.8550, s1.loss_bbox: 0.0659, s2.loss_cls: 0.0354, s2.acc: 97.6330, s2.loss_bbox: 0.0174, loss: 1.0176, grad_norm: 1.2280\n",
      "2021-09-29 05:54:09,362 - mmdet - INFO - Epoch [2][40/980]\tlr: 2.000e-02, eta: 4:32:45, time: 1.732, data_time: 0.011, memory: 19497, loss_rpn_cls: 0.2778, loss_rpn_bbox: 0.1185, s0.loss_cls: 0.4804, s0.acc: 90.1626, s0.loss_bbox: 0.2110, s1.loss_cls: 0.1726, s1.acc: 93.5719, s1.loss_bbox: 0.1099, s2.loss_cls: 0.0559, s2.acc: 96.3697, s2.loss_bbox: 0.0269, loss: 1.4530, grad_norm: 1.5572\n",
      "2021-09-29 05:54:23,015 - mmdet - INFO - Epoch [2][50/980]\tlr: 2.000e-02, eta: 4:32:14, time: 1.365, data_time: 0.010, memory: 19497, loss_rpn_cls: 0.2675, loss_rpn_bbox: 0.1288, s0.loss_cls: 0.3739, s0.acc: 92.3363, s0.loss_bbox: 0.1546, s1.loss_cls: 0.1325, s1.acc: 95.0436, s1.loss_bbox: 0.0780, s2.loss_cls: 0.0445, s2.acc: 97.1359, s2.loss_bbox: 0.0185, loss: 1.1983, grad_norm: 1.1590\n",
      "2021-09-29 05:54:38,179 - mmdet - INFO - Epoch [2][60/980]\tlr: 2.000e-02, eta: 4:31:58, time: 1.516, data_time: 0.011, memory: 19497, loss_rpn_cls: 0.2563, loss_rpn_bbox: 0.1436, s0.loss_cls: 0.4041, s0.acc: 91.5901, s0.loss_bbox: 0.1628, s1.loss_cls: 0.1463, s1.acc: 94.3442, s1.loss_bbox: 0.0851, s2.loss_cls: 0.0492, s2.acc: 96.6740, s2.loss_bbox: 0.0208, loss: 1.2683, grad_norm: 1.3715\n",
      "2021-09-29 05:54:53,288 - mmdet - INFO - Epoch [2][70/980]\tlr: 2.000e-02, eta: 4:31:41, time: 1.511, data_time: 0.011, memory: 19497, loss_rpn_cls: 0.2019, loss_rpn_bbox: 0.1213, s0.loss_cls: 0.3994, s0.acc: 91.9858, s0.loss_bbox: 0.1584, s1.loss_cls: 0.1570, s1.acc: 93.7419, s1.loss_bbox: 0.0978, s2.loss_cls: 0.0544, s2.acc: 96.0551, s2.loss_bbox: 0.0289, loss: 1.2192, grad_norm: 1.2455\n",
      "2021-09-29 05:55:07,370 - mmdet - INFO - Epoch [2][80/980]\tlr: 2.000e-02, eta: 4:31:15, time: 1.408, data_time: 0.012, memory: 19497, loss_rpn_cls: 0.2253, loss_rpn_bbox: 0.1195, s0.loss_cls: 0.3916, s0.acc: 92.5697, s0.loss_bbox: 0.1511, s1.loss_cls: 0.1395, s1.acc: 95.0136, s1.loss_bbox: 0.0785, s2.loss_cls: 0.0490, s2.acc: 96.8889, s2.loss_bbox: 0.0231, loss: 1.1777, grad_norm: 1.2864\n",
      "2021-09-29 05:55:19,210 - mmdet - INFO - Epoch [2][90/980]\tlr: 2.000e-02, eta: 4:30:26, time: 1.184, data_time: 0.008, memory: 19497, loss_rpn_cls: 0.2444, loss_rpn_bbox: 0.0878, s0.loss_cls: 0.3941, s0.acc: 91.7746, s0.loss_bbox: 0.1590, s1.loss_cls: 0.1599, s1.acc: 93.5037, s1.loss_bbox: 0.1015, s2.loss_cls: 0.0590, s2.acc: 95.9134, s2.loss_bbox: 0.0322, loss: 1.2380, grad_norm: 1.6776\n",
      "2021-09-29 05:55:34,395 - mmdet - INFO - Epoch [2][100/980]\tlr: 2.000e-02, eta: 4:30:11, time: 1.518, data_time: 0.010, memory: 19497, loss_rpn_cls: 0.2417, loss_rpn_bbox: 0.0939, s0.loss_cls: 0.3869, s0.acc: 92.7124, s0.loss_bbox: 0.1528, s1.loss_cls: 0.1191, s1.acc: 95.4318, s1.loss_bbox: 0.0723, s2.loss_cls: 0.0404, s2.acc: 97.1786, s2.loss_bbox: 0.0207, loss: 1.1279, grad_norm: 1.5135\n",
      "2021-09-29 05:55:49,198 - mmdet - INFO - Epoch [2][110/980]\tlr: 2.000e-02, eta: 4:29:52, time: 1.480, data_time: 0.010, memory: 19497, loss_rpn_cls: 0.2149, loss_rpn_bbox: 0.1402, s0.loss_cls: 0.3413, s0.acc: 93.7415, s0.loss_bbox: 0.1345, s1.loss_cls: 0.1149, s1.acc: 96.0098, s1.loss_bbox: 0.0642, s2.loss_cls: 0.0362, s2.acc: 97.5894, s2.loss_bbox: 0.0176, loss: 1.0638, grad_norm: 1.2490\n",
      "2021-09-29 05:56:04,367 - mmdet - INFO - Epoch [2][120/980]\tlr: 2.000e-02, eta: 4:29:36, time: 1.517, data_time: 0.011, memory: 19497, loss_rpn_cls: 0.1705, loss_rpn_bbox: 0.0951, s0.loss_cls: 0.2887, s0.acc: 94.1829, s0.loss_bbox: 0.1083, s1.loss_cls: 0.1144, s1.acc: 95.2811, s1.loss_bbox: 0.0719, s2.loss_cls: 0.0412, s2.acc: 96.7669, s2.loss_bbox: 0.0260, loss: 0.9161, grad_norm: 1.1643\n",
      "2021-09-29 05:56:18,316 - mmdet - INFO - Epoch [2][130/980]\tlr: 2.000e-02, eta: 4:29:10, time: 1.395, data_time: 0.009, memory: 19497, loss_rpn_cls: 0.2462, loss_rpn_bbox: 0.1117, s0.loss_cls: 0.3741, s0.acc: 92.3033, s0.loss_bbox: 0.1510, s1.loss_cls: 0.1345, s1.acc: 94.6208, s1.loss_bbox: 0.0845, s2.loss_cls: 0.0468, s2.acc: 96.6143, s2.loss_bbox: 0.0266, loss: 1.1756, grad_norm: 1.1560\n",
      "2021-09-29 05:56:35,530 - mmdet - INFO - Epoch [2][140/980]\tlr: 2.000e-02, eta: 4:29:14, time: 1.721, data_time: 0.011, memory: 19497, loss_rpn_cls: 0.2797, loss_rpn_bbox: 0.0992, s0.loss_cls: 0.3457, s0.acc: 93.1935, s0.loss_bbox: 0.1338, s1.loss_cls: 0.1234, s1.acc: 95.2952, s1.loss_bbox: 0.0723, s2.loss_cls: 0.0422, s2.acc: 97.1552, s2.loss_bbox: 0.0199, loss: 1.1161, grad_norm: 1.2576\n",
      "2021-09-29 05:56:50,474 - mmdet - INFO - Epoch [2][150/980]\tlr: 2.000e-02, eta: 4:28:56, time: 1.494, data_time: 0.010, memory: 19497, loss_rpn_cls: 0.2451, loss_rpn_bbox: 0.1114, s0.loss_cls: 0.4054, s0.acc: 91.3762, s0.loss_bbox: 0.1667, s1.loss_cls: 0.1656, s1.acc: 93.2625, s1.loss_bbox: 0.1081, s2.loss_cls: 0.0575, s2.acc: 95.7541, s2.loss_bbox: 0.0347, loss: 1.2945, grad_norm: 1.5394\n",
      "2021-09-29 05:57:04,240 - mmdet - INFO - Epoch [2][160/980]\tlr: 2.000e-02, eta: 4:28:28, time: 1.377, data_time: 0.010, memory: 19497, loss_rpn_cls: 0.2080, loss_rpn_bbox: 0.0858, s0.loss_cls: 0.3145, s0.acc: 93.7587, s0.loss_bbox: 0.1159, s1.loss_cls: 0.1234, s1.acc: 94.9112, s1.loss_bbox: 0.0702, s2.loss_cls: 0.0436, s2.acc: 96.4396, s2.loss_bbox: 0.0236, loss: 0.9850, grad_norm: 1.2540\n",
      "2021-09-29 05:57:21,532 - mmdet - INFO - Epoch [2][170/980]\tlr: 2.000e-02, eta: 4:28:32, time: 1.729, data_time: 0.012, memory: 19497, loss_rpn_cls: 0.2049, loss_rpn_bbox: 0.1095, s0.loss_cls: 0.3898, s0.acc: 91.2939, s0.loss_bbox: 0.1689, s1.loss_cls: 0.1381, s1.acc: 93.9990, s1.loss_bbox: 0.0951, s2.loss_cls: 0.0478, s2.acc: 96.3477, s2.loss_bbox: 0.0290, loss: 1.1831, grad_norm: 1.3742\n",
      "2021-09-29 05:57:35,520 - mmdet - INFO - Epoch [2][180/980]\tlr: 2.000e-02, eta: 4:28:06, time: 1.399, data_time: 0.010, memory: 19497, loss_rpn_cls: 0.2394, loss_rpn_bbox: 0.1217, s0.loss_cls: 0.3828, s0.acc: 91.7920, s0.loss_bbox: 0.1680, s1.loss_cls: 0.1329, s1.acc: 94.5996, s1.loss_bbox: 0.0844, s2.loss_cls: 0.0453, s2.acc: 96.6846, s2.loss_bbox: 0.0247, loss: 1.1992, grad_norm: 1.2076\n",
      "2021-09-29 05:57:51,823 - mmdet - INFO - Epoch [2][190/980]\tlr: 2.000e-02, eta: 4:28:01, time: 1.630, data_time: 0.010, memory: 19497, loss_rpn_cls: 0.2102, loss_rpn_bbox: 0.1125, s0.loss_cls: 0.4024, s0.acc: 91.1904, s0.loss_bbox: 0.1626, s1.loss_cls: 0.1700, s1.acc: 92.4600, s1.loss_bbox: 0.1097, s2.loss_cls: 0.0642, s2.acc: 94.6578, s2.loss_bbox: 0.0425, loss: 1.2740, grad_norm: 1.5479\n",
      "2021-09-29 05:58:07,967 - mmdet - INFO - Epoch [2][200/980]\tlr: 2.000e-02, eta: 4:27:55, time: 1.614, data_time: 0.011, memory: 19497, loss_rpn_cls: 0.2551, loss_rpn_bbox: 0.1073, s0.loss_cls: 0.3238, s0.acc: 93.7621, s0.loss_bbox: 0.1214, s1.loss_cls: 0.1378, s1.acc: 94.8775, s1.loss_bbox: 0.0751, s2.loss_cls: 0.0517, s2.acc: 96.3765, s2.loss_bbox: 0.0266, loss: 1.0989, grad_norm: 1.3423\n",
      "2021-09-29 05:58:23,968 - mmdet - INFO - Epoch [2][210/980]\tlr: 2.000e-02, eta: 4:27:47, time: 1.600, data_time: 0.011, memory: 19497, loss_rpn_cls: 0.2258, loss_rpn_bbox: 0.0876, s0.loss_cls: 0.3099, s0.acc: 93.8054, s0.loss_bbox: 0.1210, s1.loss_cls: 0.1185, s1.acc: 95.2921, s1.loss_bbox: 0.0800, s2.loss_cls: 0.0381, s2.acc: 97.3951, s2.loss_bbox: 0.0206, loss: 1.0014, grad_norm: 1.2368\n"
     ]
    },
    {
     "name": "stderr",
     "output_type": "stream",
     "text": [
      "2021-09-29 05:58:40,131 - mmdet - INFO - Epoch [2][220/980]\tlr: 2.000e-02, eta: 4:27:40, time: 1.616, data_time: 0.010, memory: 19497, loss_rpn_cls: 0.2673, loss_rpn_bbox: 0.1251, s0.loss_cls: 0.3882, s0.acc: 92.3296, s0.loss_bbox: 0.1639, s1.loss_cls: 0.1237, s1.acc: 95.4375, s1.loss_bbox: 0.0728, s2.loss_cls: 0.0442, s2.acc: 97.0799, s2.loss_bbox: 0.0223, loss: 1.2074, grad_norm: 1.1690\n",
      "2021-09-29 05:58:54,149 - mmdet - INFO - Epoch [2][230/980]\tlr: 2.000e-02, eta: 4:27:14, time: 1.402, data_time: 0.010, memory: 19497, loss_rpn_cls: 0.2061, loss_rpn_bbox: 0.1098, s0.loss_cls: 0.3715, s0.acc: 92.9488, s0.loss_bbox: 0.1448, s1.loss_cls: 0.1324, s1.acc: 95.3480, s1.loss_bbox: 0.0736, s2.loss_cls: 0.0445, s2.acc: 97.2415, s2.loss_bbox: 0.0197, loss: 1.1022, grad_norm: 1.6275\n",
      "2021-09-29 05:59:09,193 - mmdet - INFO - Epoch [2][240/980]\tlr: 2.000e-02, eta: 4:26:58, time: 1.504, data_time: 0.011, memory: 19497, loss_rpn_cls: 0.2472, loss_rpn_bbox: 0.0761, s0.loss_cls: 0.3654, s0.acc: 92.9446, s0.loss_bbox: 0.1406, s1.loss_cls: 0.1308, s1.acc: 95.0370, s1.loss_bbox: 0.0759, s2.loss_cls: 0.0440, s2.acc: 96.8839, s2.loss_bbox: 0.0226, loss: 1.1025, grad_norm: 1.3987\n",
      "2021-09-29 05:59:24,384 - mmdet - INFO - Epoch [2][250/980]\tlr: 2.000e-02, eta: 4:26:43, time: 1.519, data_time: 0.012, memory: 19497, loss_rpn_cls: 0.2435, loss_rpn_bbox: 0.1031, s0.loss_cls: 0.3790, s0.acc: 92.2986, s0.loss_bbox: 0.1627, s1.loss_cls: 0.1347, s1.acc: 94.6540, s1.loss_bbox: 0.0852, s2.loss_cls: 0.0463, s2.acc: 96.5464, s2.loss_bbox: 0.0257, loss: 1.1803, grad_norm: 1.3478\n",
      "2021-09-29 05:59:39,464 - mmdet - INFO - Epoch [2][260/980]\tlr: 2.000e-02, eta: 4:26:26, time: 1.508, data_time: 0.012, memory: 19497, loss_rpn_cls: 0.2570, loss_rpn_bbox: 0.1054, s0.loss_cls: 0.3631, s0.acc: 92.8418, s0.loss_bbox: 0.1442, s1.loss_cls: 0.1237, s1.acc: 95.3289, s1.loss_bbox: 0.0689, s2.loss_cls: 0.0415, s2.acc: 97.0965, s2.loss_bbox: 0.0203, loss: 1.1242, grad_norm: 1.0690\n",
      "2021-09-29 05:59:55,702 - mmdet - INFO - Epoch [2][270/980]\tlr: 2.000e-02, eta: 4:26:20, time: 1.624, data_time: 0.011, memory: 19497, loss_rpn_cls: 0.1863, loss_rpn_bbox: 0.1125, s0.loss_cls: 0.3343, s0.acc: 93.6296, s0.loss_bbox: 0.1330, s1.loss_cls: 0.1242, s1.acc: 95.3898, s1.loss_bbox: 0.0724, s2.loss_cls: 0.0425, s2.acc: 96.9376, s2.loss_bbox: 0.0226, loss: 1.0278, grad_norm: 1.1099\n",
      "2021-09-29 06:00:10,840 - mmdet - INFO - Epoch [2][280/980]\tlr: 2.000e-02, eta: 4:26:04, time: 1.514, data_time: 0.010, memory: 19497, loss_rpn_cls: 0.2311, loss_rpn_bbox: 0.1002, s0.loss_cls: 0.3591, s0.acc: 92.3967, s0.loss_bbox: 0.1401, s1.loss_cls: 0.1383, s1.acc: 94.1059, s1.loss_bbox: 0.0836, s2.loss_cls: 0.0516, s2.acc: 95.5612, s2.loss_bbox: 0.0322, loss: 1.1361, grad_norm: 1.2358\n",
      "2021-09-29 06:00:27,009 - mmdet - INFO - Epoch [2][290/980]\tlr: 2.000e-02, eta: 4:25:57, time: 1.617, data_time: 0.011, memory: 19497, loss_rpn_cls: 0.2084, loss_rpn_bbox: 0.1184, s0.loss_cls: 0.4188, s0.acc: 90.9961, s0.loss_bbox: 0.1743, s1.loss_cls: 0.1633, s1.acc: 92.8955, s1.loss_bbox: 0.1162, s2.loss_cls: 0.0566, s2.acc: 95.5762, s2.loss_bbox: 0.0356, loss: 1.2916, grad_norm: 1.3971\n",
      "2021-09-29 06:00:41,119 - mmdet - INFO - Epoch [2][300/980]\tlr: 2.000e-02, eta: 4:25:33, time: 1.411, data_time: 0.011, memory: 19497, loss_rpn_cls: 0.2269, loss_rpn_bbox: 0.1289, s0.loss_cls: 0.4459, s0.acc: 90.7373, s0.loss_bbox: 0.1933, s1.loss_cls: 0.1576, s1.acc: 93.7305, s1.loss_bbox: 0.1026, s2.loss_cls: 0.0527, s2.acc: 96.1426, s2.loss_bbox: 0.0301, loss: 1.3379, grad_norm: 1.4234\n",
      "2021-09-29 06:00:57,323 - mmdet - INFO - Epoch [2][310/980]\tlr: 2.000e-02, eta: 4:25:26, time: 1.620, data_time: 0.011, memory: 19497, loss_rpn_cls: 0.1949, loss_rpn_bbox: 0.0972, s0.loss_cls: 0.3121, s0.acc: 93.5033, s0.loss_bbox: 0.1174, s1.loss_cls: 0.1343, s1.acc: 94.2414, s1.loss_bbox: 0.0898, s2.loss_cls: 0.0472, s2.acc: 96.1806, s2.loss_bbox: 0.0320, loss: 1.0249, grad_norm: 1.2176\n",
      "2021-09-29 06:01:10,260 - mmdet - INFO - Epoch [2][320/980]\tlr: 2.000e-02, eta: 4:24:52, time: 1.294, data_time: 0.010, memory: 19497, loss_rpn_cls: 0.1946, loss_rpn_bbox: 0.1087, s0.loss_cls: 0.3969, s0.acc: 91.7315, s0.loss_bbox: 0.1675, s1.loss_cls: 0.1423, s1.acc: 93.7798, s1.loss_bbox: 0.0939, s2.loss_cls: 0.0524, s2.acc: 95.5952, s2.loss_bbox: 0.0360, loss: 1.1923, grad_norm: 1.4341\n",
      "2021-09-29 06:01:25,223 - mmdet - INFO - Epoch [2][330/980]\tlr: 2.000e-02, eta: 4:24:35, time: 1.496, data_time: 0.010, memory: 19497, loss_rpn_cls: 0.2604, loss_rpn_bbox: 0.1145, s0.loss_cls: 0.3995, s0.acc: 91.5084, s0.loss_bbox: 0.1534, s1.loss_cls: 0.1770, s1.acc: 92.7215, s1.loss_bbox: 0.1113, s2.loss_cls: 0.0695, s2.acc: 94.7356, s2.loss_bbox: 0.0416, loss: 1.3272, grad_norm: 1.8880\n",
      "2021-09-29 06:01:41,376 - mmdet - INFO - Epoch [2][340/980]\tlr: 2.000e-02, eta: 4:24:28, time: 1.615, data_time: 0.011, memory: 19497, loss_rpn_cls: 0.2210, loss_rpn_bbox: 0.0803, s0.loss_cls: 0.4038, s0.acc: 91.1316, s0.loss_bbox: 0.1671, s1.loss_cls: 0.1626, s1.acc: 93.1145, s1.loss_bbox: 0.1126, s2.loss_cls: 0.0547, s2.acc: 95.8703, s2.loss_bbox: 0.0305, loss: 1.2326, grad_norm: 1.5469\n",
      "2021-09-29 06:01:56,481 - mmdet - INFO - Epoch [2][350/980]\tlr: 2.000e-02, eta: 4:24:12, time: 1.510, data_time: 0.011, memory: 19497, loss_rpn_cls: 0.2291, loss_rpn_bbox: 0.1354, s0.loss_cls: 0.4737, s0.acc: 89.8001, s0.loss_bbox: 0.2127, s1.loss_cls: 0.1768, s1.acc: 92.7327, s1.loss_bbox: 0.1152, s2.loss_cls: 0.0616, s2.acc: 95.3699, s2.loss_bbox: 0.0364, loss: 1.4410, grad_norm: 1.4363\n",
      "2021-09-29 06:02:11,653 - mmdet - INFO - Epoch [2][360/980]\tlr: 2.000e-02, eta: 4:23:56, time: 1.517, data_time: 0.011, memory: 19497, loss_rpn_cls: 0.2613, loss_rpn_bbox: 0.1168, s0.loss_cls: 0.4448, s0.acc: 91.0117, s0.loss_bbox: 0.1787, s1.loss_cls: 0.1512, s1.acc: 94.1995, s1.loss_bbox: 0.0915, s2.loss_cls: 0.0484, s2.acc: 96.6132, s2.loss_bbox: 0.0232, loss: 1.3159, grad_norm: 1.3380\n",
      "2021-09-29 06:02:27,827 - mmdet - INFO - Epoch [2][370/980]\tlr: 2.000e-02, eta: 4:23:49, time: 1.617, data_time: 0.011, memory: 19497, loss_rpn_cls: 0.2469, loss_rpn_bbox: 0.0850, s0.loss_cls: 0.4240, s0.acc: 91.1000, s0.loss_bbox: 0.1806, s1.loss_cls: 0.1704, s1.acc: 92.9606, s1.loss_bbox: 0.1103, s2.loss_cls: 0.0577, s2.acc: 95.5196, s2.loss_bbox: 0.0366, loss: 1.3114, grad_norm: 1.3424\n",
      "2021-09-29 06:02:40,649 - mmdet - INFO - Epoch [2][380/980]\tlr: 2.000e-02, eta: 4:23:15, time: 1.282, data_time: 0.010, memory: 19497, loss_rpn_cls: 0.2289, loss_rpn_bbox: 0.0872, s0.loss_cls: 0.4441, s0.acc: 89.9362, s0.loss_bbox: 0.2043, s1.loss_cls: 0.1837, s1.acc: 92.2448, s1.loss_bbox: 0.1279, s2.loss_cls: 0.0682, s2.acc: 95.0285, s2.loss_bbox: 0.0397, loss: 1.3838, grad_norm: 1.4329\n",
      "2021-09-29 06:02:55,683 - mmdet - INFO - Epoch [2][390/980]\tlr: 2.000e-02, eta: 4:22:59, time: 1.503, data_time: 0.011, memory: 19497, loss_rpn_cls: 0.2146, loss_rpn_bbox: 0.1144, s0.loss_cls: 0.3826, s0.acc: 91.8881, s0.loss_bbox: 0.1604, s1.loss_cls: 0.1544, s1.acc: 93.2891, s1.loss_bbox: 0.1035, s2.loss_cls: 0.0575, s2.acc: 95.3846, s2.loss_bbox: 0.0360, loss: 1.2234, grad_norm: 1.3767\n",
      "2021-09-29 06:03:12,832 - mmdet - INFO - Epoch [2][400/980]\tlr: 2.000e-02, eta: 4:22:58, time: 1.715, data_time: 0.011, memory: 19497, loss_rpn_cls: 0.1813, loss_rpn_bbox: 0.0983, s0.loss_cls: 0.3740, s0.acc: 91.6425, s0.loss_bbox: 0.1738, s1.loss_cls: 0.1461, s1.acc: 93.8511, s1.loss_bbox: 0.1012, s2.loss_cls: 0.0522, s2.acc: 96.1344, s2.loss_bbox: 0.0332, loss: 1.1600, grad_norm: 1.2400\n",
      "2021-09-29 06:03:28,876 - mmdet - INFO - Epoch [2][410/980]\tlr: 2.000e-02, eta: 4:22:49, time: 1.604, data_time: 0.011, memory: 19497, loss_rpn_cls: 0.2105, loss_rpn_bbox: 0.0983, s0.loss_cls: 0.4057, s0.acc: 91.2009, s0.loss_bbox: 0.1757, s1.loss_cls: 0.1568, s1.acc: 93.4468, s1.loss_bbox: 0.1026, s2.loss_cls: 0.0549, s2.acc: 95.7352, s2.loss_bbox: 0.0333, loss: 1.2378, grad_norm: 1.3642\n",
      "2021-09-29 06:03:39,544 - mmdet - INFO - Epoch [2][420/980]\tlr: 2.000e-02, eta: 4:22:01, time: 1.067, data_time: 0.009, memory: 19497, loss_rpn_cls: 0.2361, loss_rpn_bbox: 0.1448, s0.loss_cls: 0.4404, s0.acc: 90.4492, s0.loss_bbox: 0.2073, s1.loss_cls: 0.1506, s1.acc: 93.8770, s1.loss_bbox: 0.1013, s2.loss_cls: 0.0492, s2.acc: 96.3770, s2.loss_bbox: 0.0277, loss: 1.3574, grad_norm: 1.3574\n"
     ]
    },
    {
     "name": "stderr",
     "output_type": "stream",
     "text": [
      "2021-09-29 06:03:55,717 - mmdet - INFO - Epoch [2][430/980]\tlr: 2.000e-02, eta: 4:21:53, time: 1.617, data_time: 0.010, memory: 19497, loss_rpn_cls: 0.2081, loss_rpn_bbox: 0.1122, s0.loss_cls: 0.4159, s0.acc: 91.4648, s0.loss_bbox: 0.1667, s1.loss_cls: 0.1667, s1.acc: 92.9785, s1.loss_bbox: 0.1126, s2.loss_cls: 0.0615, s2.acc: 95.0830, s2.loss_bbox: 0.0404, loss: 1.2842, grad_norm: 1.7724\n",
      "2021-09-29 06:04:10,762 - mmdet - INFO - Epoch [2][440/980]\tlr: 2.000e-02, eta: 4:21:37, time: 1.504, data_time: 0.010, memory: 19497, loss_rpn_cls: 0.2845, loss_rpn_bbox: 0.1309, s0.loss_cls: 0.4363, s0.acc: 90.6735, s0.loss_bbox: 0.1752, s1.loss_cls: 0.1650, s1.acc: 93.1783, s1.loss_bbox: 0.1008, s2.loss_cls: 0.0575, s2.acc: 95.7322, s2.loss_bbox: 0.0294, loss: 1.3794, grad_norm: 1.2824\n",
      "2021-09-29 06:04:25,786 - mmdet - INFO - Epoch [2][450/980]\tlr: 2.000e-02, eta: 4:21:20, time: 1.502, data_time: 0.011, memory: 19497, loss_rpn_cls: 0.2483, loss_rpn_bbox: 0.0946, s0.loss_cls: 0.3761, s0.acc: 92.2622, s0.loss_bbox: 0.1551, s1.loss_cls: 0.1414, s1.acc: 94.2044, s1.loss_bbox: 0.0929, s2.loss_cls: 0.0474, s2.acc: 96.2924, s2.loss_bbox: 0.0300, loss: 1.1858, grad_norm: 1.3214\n",
      "2021-09-29 06:04:38,670 - mmdet - INFO - Epoch [2][460/980]\tlr: 2.000e-02, eta: 4:20:49, time: 1.288, data_time: 0.009, memory: 19497, loss_rpn_cls: 0.2732, loss_rpn_bbox: 0.1109, s0.loss_cls: 0.4443, s0.acc: 89.8047, s0.loss_bbox: 0.1952, s1.loss_cls: 0.1750, s1.acc: 92.0605, s1.loss_bbox: 0.1220, s2.loss_cls: 0.0640, s2.acc: 94.7461, s2.loss_bbox: 0.0399, loss: 1.4244, grad_norm: 1.4569\n",
      "2021-09-29 06:04:56,130 - mmdet - INFO - Epoch [2][470/980]\tlr: 2.000e-02, eta: 4:20:50, time: 1.746, data_time: 0.012, memory: 19497, loss_rpn_cls: 0.2251, loss_rpn_bbox: 0.0957, s0.loss_cls: 0.3962, s0.acc: 92.2831, s0.loss_bbox: 0.1611, s1.loss_cls: 0.1396, s1.acc: 94.6574, s1.loss_bbox: 0.0893, s2.loss_cls: 0.0446, s2.acc: 96.8109, s2.loss_bbox: 0.0262, loss: 1.1778, grad_norm: 1.4206\n",
      "2021-09-29 06:05:10,096 - mmdet - INFO - Epoch [2][480/980]\tlr: 2.000e-02, eta: 4:20:26, time: 1.397, data_time: 0.011, memory: 19497, loss_rpn_cls: 0.2118, loss_rpn_bbox: 0.0992, s0.loss_cls: 0.5041, s0.acc: 89.1553, s0.loss_bbox: 0.2188, s1.loss_cls: 0.1786, s1.acc: 92.4902, s1.loss_bbox: 0.1245, s2.loss_cls: 0.0595, s2.acc: 95.3711, s2.loss_bbox: 0.0388, loss: 1.4355, grad_norm: 1.2730\n",
      "2021-09-29 06:05:26,364 - mmdet - INFO - Epoch [2][490/980]\tlr: 2.000e-02, eta: 4:20:19, time: 1.627, data_time: 0.011, memory: 19497, loss_rpn_cls: 0.2481, loss_rpn_bbox: 0.1274, s0.loss_cls: 0.4067, s0.acc: 91.4502, s0.loss_bbox: 0.1730, s1.loss_cls: 0.1548, s1.acc: 93.5156, s1.loss_bbox: 0.1019, s2.loss_cls: 0.0517, s2.acc: 95.8594, s2.loss_bbox: 0.0320, loss: 1.2955, grad_norm: 1.2353\n",
      "2021-09-29 06:05:40,267 - mmdet - INFO - Epoch [2][500/980]\tlr: 2.000e-02, eta: 4:19:54, time: 1.390, data_time: 0.010, memory: 19497, loss_rpn_cls: 0.2299, loss_rpn_bbox: 0.0918, s0.loss_cls: 0.3494, s0.acc: 93.1384, s0.loss_bbox: 0.1284, s1.loss_cls: 0.1399, s1.acc: 94.4517, s1.loss_bbox: 0.0828, s2.loss_cls: 0.0510, s2.acc: 96.0655, s2.loss_bbox: 0.0309, loss: 1.1042, grad_norm: 1.3461\n",
      "2021-09-29 06:05:57,364 - mmdet - INFO - Epoch [2][510/980]\tlr: 2.000e-02, eta: 4:19:53, time: 1.710, data_time: 0.012, memory: 19497, loss_rpn_cls: 0.2289, loss_rpn_bbox: 0.1181, s0.loss_cls: 0.3548, s0.acc: 92.8356, s0.loss_bbox: 0.1292, s1.loss_cls: 0.1415, s1.acc: 93.7486, s1.loss_bbox: 0.0867, s2.loss_cls: 0.0536, s2.acc: 95.1761, s2.loss_bbox: 0.0379, loss: 1.1508, grad_norm: 1.2594\n",
      "2021-09-29 06:06:11,289 - mmdet - INFO - Epoch [2][520/980]\tlr: 2.000e-02, eta: 4:19:29, time: 1.392, data_time: 0.010, memory: 19497, loss_rpn_cls: 0.2263, loss_rpn_bbox: 0.1414, s0.loss_cls: 0.3320, s0.acc: 93.1430, s0.loss_bbox: 0.1227, s1.loss_cls: 0.1284, s1.acc: 94.4852, s1.loss_bbox: 0.0761, s2.loss_cls: 0.0522, s2.acc: 95.8358, s2.loss_bbox: 0.0312, loss: 1.1102, grad_norm: 1.1240\n",
      "2021-09-29 06:06:24,234 - mmdet - INFO - Epoch [2][530/980]\tlr: 2.000e-02, eta: 4:18:58, time: 1.295, data_time: 0.009, memory: 19497, loss_rpn_cls: 0.2644, loss_rpn_bbox: 0.1255, s0.loss_cls: 0.3571, s0.acc: 93.2037, s0.loss_bbox: 0.1250, s1.loss_cls: 0.1347, s1.acc: 94.7202, s1.loss_bbox: 0.0751, s2.loss_cls: 0.0486, s2.acc: 96.4217, s2.loss_bbox: 0.0245, loss: 1.1550, grad_norm: 1.5628\n",
      "2021-09-29 06:06:41,607 - mmdet - INFO - Epoch [2][540/980]\tlr: 2.000e-02, eta: 4:18:58, time: 1.737, data_time: 0.011, memory: 19497, loss_rpn_cls: 0.2185, loss_rpn_bbox: 0.1431, s0.loss_cls: 0.3491, s0.acc: 92.8189, s0.loss_bbox: 0.1382, s1.loss_cls: 0.1420, s1.acc: 93.8572, s1.loss_bbox: 0.0915, s2.loss_cls: 0.0556, s2.acc: 95.3010, s2.loss_bbox: 0.0337, loss: 1.1718, grad_norm: 1.5159\n",
      "2021-09-29 06:06:55,229 - mmdet - INFO - Epoch [2][550/980]\tlr: 2.000e-02, eta: 4:18:33, time: 1.362, data_time: 0.010, memory: 19497, loss_rpn_cls: 0.2037, loss_rpn_bbox: 0.0957, s0.loss_cls: 0.3370, s0.acc: 93.0176, s0.loss_bbox: 0.1292, s1.loss_cls: 0.1324, s1.acc: 94.6143, s1.loss_bbox: 0.0858, s2.loss_cls: 0.0484, s2.acc: 96.2256, s2.loss_bbox: 0.0328, loss: 1.0649, grad_norm: 1.0866\n",
      "2021-09-29 06:07:12,536 - mmdet - INFO - Epoch [2][560/980]\tlr: 2.000e-02, eta: 4:18:32, time: 1.731, data_time: 0.012, memory: 19497, loss_rpn_cls: 0.2343, loss_rpn_bbox: 0.0971, s0.loss_cls: 0.4341, s0.acc: 91.0886, s0.loss_bbox: 0.1701, s1.loss_cls: 0.1614, s1.acc: 93.6346, s1.loss_bbox: 0.1013, s2.loss_cls: 0.0549, s2.acc: 95.9566, s2.loss_bbox: 0.0320, loss: 1.2852, grad_norm: 1.4242\n",
      "2021-09-29 06:07:27,508 - mmdet - INFO - Epoch [2][570/980]\tlr: 2.000e-02, eta: 4:18:15, time: 1.497, data_time: 0.011, memory: 19497, loss_rpn_cls: 0.1907, loss_rpn_bbox: 0.0835, s0.loss_cls: 0.3505, s0.acc: 92.4825, s0.loss_bbox: 0.1280, s1.loss_cls: 0.1434, s1.acc: 93.2221, s1.loss_bbox: 0.0936, s2.loss_cls: 0.0567, s2.acc: 94.7716, s2.loss_bbox: 0.0434, loss: 1.0898, grad_norm: 1.3790\n",
      "2021-09-29 06:07:42,328 - mmdet - INFO - Epoch [2][580/980]\tlr: 2.000e-02, eta: 4:17:58, time: 1.482, data_time: 0.010, memory: 19497, loss_rpn_cls: 0.2372, loss_rpn_bbox: 0.1142, s0.loss_cls: 0.4385, s0.acc: 90.2750, s0.loss_bbox: 0.2032, s1.loss_cls: 0.1718, s1.acc: 92.5228, s1.loss_bbox: 0.1269, s2.loss_cls: 0.0561, s2.acc: 95.5759, s2.loss_bbox: 0.0360, loss: 1.3840, grad_norm: 1.4260\n",
      "2021-09-29 06:07:57,576 - mmdet - INFO - Epoch [2][590/980]\tlr: 2.000e-02, eta: 4:17:43, time: 1.525, data_time: 0.011, memory: 19497, loss_rpn_cls: 0.2067, loss_rpn_bbox: 0.0890, s0.loss_cls: 0.3803, s0.acc: 91.9727, s0.loss_bbox: 0.1532, s1.loss_cls: 0.1429, s1.acc: 93.9453, s1.loss_bbox: 0.0933, s2.loss_cls: 0.0488, s2.acc: 95.8789, s2.loss_bbox: 0.0332, loss: 1.1474, grad_norm: 1.2549\n",
      "2021-09-29 06:08:12,623 - mmdet - INFO - Epoch [2][600/980]\tlr: 2.000e-02, eta: 4:17:27, time: 1.505, data_time: 0.011, memory: 19497, loss_rpn_cls: 0.2896, loss_rpn_bbox: 0.1153, s0.loss_cls: 0.4882, s0.acc: 89.9219, s0.loss_bbox: 0.2109, s1.loss_cls: 0.1721, s1.acc: 93.2715, s1.loss_bbox: 0.1144, s2.loss_cls: 0.0536, s2.acc: 96.1475, s2.loss_bbox: 0.0297, loss: 1.4738, grad_norm: 1.6278\n",
      "2021-09-29 06:08:29,824 - mmdet - INFO - Epoch [2][610/980]\tlr: 2.000e-02, eta: 4:17:25, time: 1.720, data_time: 0.011, memory: 19497, loss_rpn_cls: 0.2014, loss_rpn_bbox: 0.0797, s0.loss_cls: 0.3473, s0.acc: 92.5977, s0.loss_bbox: 0.1390, s1.loss_cls: 0.1418, s1.acc: 93.7900, s1.loss_bbox: 0.0894, s2.loss_cls: 0.0540, s2.acc: 95.1152, s2.loss_bbox: 0.0392, loss: 1.0919, grad_norm: 1.4297\n",
      "2021-09-29 06:08:44,913 - mmdet - INFO - Epoch [2][620/980]\tlr: 2.000e-02, eta: 4:17:09, time: 1.509, data_time: 0.011, memory: 19497, loss_rpn_cls: 0.2203, loss_rpn_bbox: 0.1093, s0.loss_cls: 0.3814, s0.acc: 91.8251, s0.loss_bbox: 0.1583, s1.loss_cls: 0.1466, s1.acc: 93.7228, s1.loss_bbox: 0.0985, s2.loss_cls: 0.0499, s2.acc: 95.9756, s2.loss_bbox: 0.0318, loss: 1.1961, grad_norm: 1.2227\n",
      "2021-09-29 06:08:59,975 - mmdet - INFO - Epoch [2][630/980]\tlr: 2.000e-02, eta: 4:16:53, time: 1.506, data_time: 0.010, memory: 19497, loss_rpn_cls: 0.2586, loss_rpn_bbox: 0.1057, s0.loss_cls: 0.3657, s0.acc: 92.3564, s0.loss_bbox: 0.1643, s1.loss_cls: 0.1174, s1.acc: 95.2780, s1.loss_bbox: 0.0777, s2.loss_cls: 0.0371, s2.acc: 97.4537, s2.loss_bbox: 0.0172, loss: 1.1438, grad_norm: 1.4085\n"
     ]
    },
    {
     "name": "stderr",
     "output_type": "stream",
     "text": [
      "2021-09-29 06:09:14,010 - mmdet - INFO - Epoch [2][640/980]\tlr: 2.000e-02, eta: 4:16:31, time: 1.404, data_time: 0.011, memory: 19497, loss_rpn_cls: 0.2200, loss_rpn_bbox: 0.1034, s0.loss_cls: 0.4626, s0.acc: 89.8189, s0.loss_bbox: 0.2010, s1.loss_cls: 0.1648, s1.acc: 92.7076, s1.loss_bbox: 0.1183, s2.loss_cls: 0.0565, s2.acc: 95.4323, s2.loss_bbox: 0.0370, loss: 1.3635, grad_norm: 1.3959\n",
      "2021-09-29 06:09:28,093 - mmdet - INFO - Epoch [2][650/980]\tlr: 2.000e-02, eta: 4:16:09, time: 1.408, data_time: 0.010, memory: 19497, loss_rpn_cls: 0.2031, loss_rpn_bbox: 0.1143, s0.loss_cls: 0.3551, s0.acc: 92.7366, s0.loss_bbox: 0.1528, s1.loss_cls: 0.1401, s1.acc: 94.4258, s1.loss_bbox: 0.0959, s2.loss_cls: 0.0500, s2.acc: 96.0842, s2.loss_bbox: 0.0336, loss: 1.1449, grad_norm: 1.4015\n",
      "2021-09-29 06:09:43,272 - mmdet - INFO - Epoch [2][660/980]\tlr: 2.000e-02, eta: 4:15:53, time: 1.518, data_time: 0.010, memory: 19497, loss_rpn_cls: 0.2251, loss_rpn_bbox: 0.0982, s0.loss_cls: 0.3592, s0.acc: 93.2864, s0.loss_bbox: 0.1332, s1.loss_cls: 0.1291, s1.acc: 95.0933, s1.loss_bbox: 0.0674, s2.loss_cls: 0.0470, s2.acc: 96.5794, s2.loss_bbox: 0.0243, loss: 1.0834, grad_norm: 1.4208\n",
      "2021-09-29 06:09:59,450 - mmdet - INFO - Epoch [2][670/980]\tlr: 2.000e-02, eta: 4:15:44, time: 1.618, data_time: 0.011, memory: 19497, loss_rpn_cls: 0.2051, loss_rpn_bbox: 0.0948, s0.loss_cls: 0.4025, s0.acc: 91.2898, s0.loss_bbox: 0.1501, s1.loss_cls: 0.1663, s1.acc: 92.4191, s1.loss_bbox: 0.1050, s2.loss_cls: 0.0633, s2.acc: 94.6887, s2.loss_bbox: 0.0414, loss: 1.2285, grad_norm: 1.2267\n",
      "2021-09-29 06:10:14,529 - mmdet - INFO - Epoch [2][680/980]\tlr: 2.000e-02, eta: 4:15:29, time: 1.508, data_time: 0.011, memory: 19497, loss_rpn_cls: 0.1853, loss_rpn_bbox: 0.0902, s0.loss_cls: 0.4375, s0.acc: 90.9515, s0.loss_bbox: 0.1814, s1.loss_cls: 0.1763, s1.acc: 92.5915, s1.loss_bbox: 0.1144, s2.loss_cls: 0.0628, s2.acc: 94.9608, s2.loss_bbox: 0.0429, loss: 1.2908, grad_norm: 1.2829\n",
      "2021-09-29 06:10:30,628 - mmdet - INFO - Epoch [2][690/980]\tlr: 2.000e-02, eta: 4:15:19, time: 1.610, data_time: 0.011, memory: 19497, loss_rpn_cls: 0.2210, loss_rpn_bbox: 0.0862, s0.loss_cls: 0.3644, s0.acc: 92.1419, s0.loss_bbox: 0.1519, s1.loss_cls: 0.1408, s1.acc: 93.9071, s1.loss_bbox: 0.0907, s2.loss_cls: 0.0516, s2.acc: 95.7545, s2.loss_bbox: 0.0332, loss: 1.1399, grad_norm: 1.2723\n",
      "2021-09-29 06:10:45,816 - mmdet - INFO - Epoch [2][700/980]\tlr: 2.000e-02, eta: 4:15:04, time: 1.519, data_time: 0.011, memory: 19497, loss_rpn_cls: 0.1967, loss_rpn_bbox: 0.0961, s0.loss_cls: 0.3749, s0.acc: 91.5280, s0.loss_bbox: 0.1566, s1.loss_cls: 0.1549, s1.acc: 92.9202, s1.loss_bbox: 0.1114, s2.loss_cls: 0.0546, s2.acc: 95.3651, s2.loss_bbox: 0.0399, loss: 1.1852, grad_norm: 1.3577\n",
      "2021-09-29 06:10:59,826 - mmdet - INFO - Epoch [2][710/980]\tlr: 2.000e-02, eta: 4:14:42, time: 1.401, data_time: 0.010, memory: 19497, loss_rpn_cls: 0.2154, loss_rpn_bbox: 0.1271, s0.loss_cls: 0.4353, s0.acc: 90.5435, s0.loss_bbox: 0.1903, s1.loss_cls: 0.1757, s1.acc: 92.0622, s1.loss_bbox: 0.1219, s2.loss_cls: 0.0631, s2.acc: 94.4702, s2.loss_bbox: 0.0437, loss: 1.3724, grad_norm: 1.3829\n",
      "2021-09-29 06:11:17,201 - mmdet - INFO - Epoch [2][720/980]\tlr: 2.000e-02, eta: 4:14:40, time: 1.738, data_time: 0.012, memory: 19497, loss_rpn_cls: 0.2495, loss_rpn_bbox: 0.1271, s0.loss_cls: 0.4525, s0.acc: 90.5112, s0.loss_bbox: 0.1846, s1.loss_cls: 0.1754, s1.acc: 92.8196, s1.loss_bbox: 0.1090, s2.loss_cls: 0.0627, s2.acc: 95.0697, s2.loss_bbox: 0.0367, loss: 1.3975, grad_norm: 1.5172\n",
      "2021-09-29 06:11:31,225 - mmdet - INFO - Epoch [2][730/980]\tlr: 2.000e-02, eta: 4:14:18, time: 1.402, data_time: 0.011, memory: 19497, loss_rpn_cls: 0.2393, loss_rpn_bbox: 0.0960, s0.loss_cls: 0.4361, s0.acc: 90.3518, s0.loss_bbox: 0.1942, s1.loss_cls: 0.1538, s1.acc: 93.4198, s1.loss_bbox: 0.1082, s2.loss_cls: 0.0527, s2.acc: 95.9271, s2.loss_bbox: 0.0342, loss: 1.3144, grad_norm: 1.2513\n",
      "2021-09-29 06:11:48,431 - mmdet - INFO - Epoch [2][740/980]\tlr: 2.000e-02, eta: 4:14:14, time: 1.721, data_time: 0.012, memory: 19497, loss_rpn_cls: 0.2154, loss_rpn_bbox: 0.0962, s0.loss_cls: 0.3289, s0.acc: 92.6561, s0.loss_bbox: 0.1415, s1.loss_cls: 0.1296, s1.acc: 94.3420, s1.loss_bbox: 0.0866, s2.loss_cls: 0.0459, s2.acc: 96.4234, s2.loss_bbox: 0.0255, loss: 1.0696, grad_norm: 1.1251\n",
      "2021-09-29 06:12:04,656 - mmdet - INFO - Epoch [2][750/980]\tlr: 2.000e-02, eta: 4:14:05, time: 1.622, data_time: 0.011, memory: 19497, loss_rpn_cls: 0.2277, loss_rpn_bbox: 0.1011, s0.loss_cls: 0.4416, s0.acc: 90.5463, s0.loss_bbox: 0.1819, s1.loss_cls: 0.1712, s1.acc: 92.5338, s1.loss_bbox: 0.1120, s2.loss_cls: 0.0614, s2.acc: 94.8435, s2.loss_bbox: 0.0408, loss: 1.3377, grad_norm: 1.3962\n",
      "2021-09-29 06:12:19,660 - mmdet - INFO - Epoch [2][760/980]\tlr: 2.000e-02, eta: 4:13:49, time: 1.500, data_time: 0.011, memory: 19497, loss_rpn_cls: 0.2237, loss_rpn_bbox: 0.0960, s0.loss_cls: 0.4643, s0.acc: 89.4782, s0.loss_bbox: 0.1900, s1.loss_cls: 0.1929, s1.acc: 90.8692, s1.loss_bbox: 0.1249, s2.loss_cls: 0.0746, s2.acc: 92.9779, s2.loss_bbox: 0.0492, loss: 1.4157, grad_norm: 1.7971\n",
      "2021-09-29 06:12:35,822 - mmdet - INFO - Epoch [2][770/980]\tlr: 2.000e-02, eta: 4:13:39, time: 1.616, data_time: 0.011, memory: 19497, loss_rpn_cls: 0.2363, loss_rpn_bbox: 0.0908, s0.loss_cls: 0.4015, s0.acc: 91.0868, s0.loss_bbox: 0.1706, s1.loss_cls: 0.1574, s1.acc: 93.1030, s1.loss_bbox: 0.1132, s2.loss_cls: 0.0534, s2.acc: 95.8245, s2.loss_bbox: 0.0337, loss: 1.2570, grad_norm: 1.5880\n",
      "2021-09-29 06:12:48,844 - mmdet - INFO - Epoch [2][780/980]\tlr: 2.000e-02, eta: 4:13:11, time: 1.302, data_time: 0.010, memory: 19497, loss_rpn_cls: 0.2361, loss_rpn_bbox: 0.1491, s0.loss_cls: 0.3930, s0.acc: 90.9695, s0.loss_bbox: 0.1729, s1.loss_cls: 0.1521, s1.acc: 93.1238, s1.loss_bbox: 0.1057, s2.loss_cls: 0.0534, s2.acc: 95.4844, s2.loss_bbox: 0.0365, loss: 1.2988, grad_norm: 1.3191\n",
      "2021-09-29 06:13:06,183 - mmdet - INFO - Epoch [2][790/980]\tlr: 2.000e-02, eta: 4:13:08, time: 1.734, data_time: 0.011, memory: 19497, loss_rpn_cls: 0.1597, loss_rpn_bbox: 0.0814, s0.loss_cls: 0.3678, s0.acc: 92.4431, s0.loss_bbox: 0.1407, s1.loss_cls: 0.1562, s1.acc: 93.2269, s1.loss_bbox: 0.0995, s2.loss_cls: 0.0592, s2.acc: 95.1792, s2.loss_bbox: 0.0378, loss: 1.1023, grad_norm: 1.3505\n",
      "2021-09-29 06:13:19,094 - mmdet - INFO - Epoch [2][800/980]\tlr: 2.000e-02, eta: 4:12:40, time: 1.291, data_time: 0.010, memory: 19497, loss_rpn_cls: 0.2186, loss_rpn_bbox: 0.1008, s0.loss_cls: 0.3823, s0.acc: 91.6992, s0.loss_bbox: 0.1566, s1.loss_cls: 0.1506, s1.acc: 93.5156, s1.loss_bbox: 0.1064, s2.loss_cls: 0.0528, s2.acc: 96.0400, s2.loss_bbox: 0.0329, loss: 1.2010, grad_norm: 1.5140\n",
      "2021-09-29 06:13:35,320 - mmdet - INFO - Epoch [2][810/980]\tlr: 2.000e-02, eta: 4:12:31, time: 1.623, data_time: 0.011, memory: 19497, loss_rpn_cls: 0.2362, loss_rpn_bbox: 0.0964, s0.loss_cls: 0.3468, s0.acc: 93.0796, s0.loss_bbox: 0.1365, s1.loss_cls: 0.1254, s1.acc: 94.7990, s1.loss_bbox: 0.0784, s2.loss_cls: 0.0456, s2.acc: 96.5278, s2.loss_bbox: 0.0270, loss: 1.0923, grad_norm: 1.2258\n",
      "2021-09-29 06:13:49,197 - mmdet - INFO - Epoch [2][820/980]\tlr: 2.000e-02, eta: 4:12:08, time: 1.388, data_time: 0.010, memory: 19497, loss_rpn_cls: 0.2332, loss_rpn_bbox: 0.1358, s0.loss_cls: 0.3459, s0.acc: 93.8308, s0.loss_bbox: 0.1304, s1.loss_cls: 0.1146, s1.acc: 96.0287, s1.loss_bbox: 0.0592, s2.loss_cls: 0.0401, s2.acc: 97.3037, s2.loss_bbox: 0.0206, loss: 1.0797, grad_norm: 1.2995\n",
      "2021-09-29 06:14:03,119 - mmdet - INFO - Epoch [2][830/980]\tlr: 2.000e-02, eta: 4:11:46, time: 1.392, data_time: 0.011, memory: 19497, loss_rpn_cls: 0.2397, loss_rpn_bbox: 0.1276, s0.loss_cls: 0.3479, s0.acc: 92.8492, s0.loss_bbox: 0.1335, s1.loss_cls: 0.1309, s1.acc: 94.6835, s1.loss_bbox: 0.0759, s2.loss_cls: 0.0486, s2.acc: 96.3630, s2.loss_bbox: 0.0279, loss: 1.1320, grad_norm: 1.4053\n",
      "2021-09-29 06:14:17,111 - mmdet - INFO - Epoch [2][840/980]\tlr: 2.000e-02, eta: 4:11:24, time: 1.399, data_time: 0.010, memory: 19497, loss_rpn_cls: 0.2862, loss_rpn_bbox: 0.1304, s0.loss_cls: 0.4655, s0.acc: 89.4481, s0.loss_bbox: 0.2091, s1.loss_cls: 0.1833, s1.acc: 92.3777, s1.loss_bbox: 0.1098, s2.loss_cls: 0.0710, s2.acc: 94.6893, s2.loss_bbox: 0.0359, loss: 1.4912, grad_norm: 1.2444\n"
     ]
    },
    {
     "name": "stderr",
     "output_type": "stream",
     "text": [
      "2021-09-29 06:14:33,341 - mmdet - INFO - Epoch [2][850/980]\tlr: 2.000e-02, eta: 4:11:15, time: 1.623, data_time: 0.011, memory: 19497, loss_rpn_cls: 0.2326, loss_rpn_bbox: 0.1341, s0.loss_cls: 0.3822, s0.acc: 92.0947, s0.loss_bbox: 0.1609, s1.loss_cls: 0.1327, s1.acc: 94.7021, s1.loss_bbox: 0.0799, s2.loss_cls: 0.0449, s2.acc: 96.5918, s2.loss_bbox: 0.0246, loss: 1.1919, grad_norm: 1.3672\n",
      "2021-09-29 06:14:49,610 - mmdet - INFO - Epoch [2][860/980]\tlr: 2.000e-02, eta: 4:11:06, time: 1.627, data_time: 0.012, memory: 19497, loss_rpn_cls: 0.1816, loss_rpn_bbox: 0.0928, s0.loss_cls: 0.3615, s0.acc: 92.0644, s0.loss_bbox: 0.1498, s1.loss_cls: 0.1419, s1.acc: 93.4524, s1.loss_bbox: 0.0948, s2.loss_cls: 0.0535, s2.acc: 95.2123, s2.loss_bbox: 0.0354, loss: 1.1113, grad_norm: 1.2944\n",
      "2021-09-29 06:15:03,476 - mmdet - INFO - Epoch [2][870/980]\tlr: 2.000e-02, eta: 4:10:43, time: 1.387, data_time: 0.010, memory: 19497, loss_rpn_cls: 0.2179, loss_rpn_bbox: 0.1096, s0.loss_cls: 0.3185, s0.acc: 93.3928, s0.loss_bbox: 0.1220, s1.loss_cls: 0.1250, s1.acc: 94.5832, s1.loss_bbox: 0.0877, s2.loss_cls: 0.0469, s2.acc: 96.1153, s2.loss_bbox: 0.0366, loss: 1.0640, grad_norm: 1.2513\n",
      "2021-09-29 06:15:18,550 - mmdet - INFO - Epoch [2][880/980]\tlr: 2.000e-02, eta: 4:10:28, time: 1.507, data_time: 0.011, memory: 19497, loss_rpn_cls: 0.2009, loss_rpn_bbox: 0.0935, s0.loss_cls: 0.3348, s0.acc: 93.0018, s0.loss_bbox: 0.1339, s1.loss_cls: 0.1300, s1.acc: 94.6818, s1.loss_bbox: 0.0791, s2.loss_cls: 0.0469, s2.acc: 96.2349, s2.loss_bbox: 0.0292, loss: 1.0483, grad_norm: 1.4181\n",
      "2021-09-29 06:15:30,371 - mmdet - INFO - Epoch [2][890/980]\tlr: 2.000e-02, eta: 4:09:55, time: 1.182, data_time: 0.010, memory: 19497, loss_rpn_cls: 0.2482, loss_rpn_bbox: 0.0946, s0.loss_cls: 0.4167, s0.acc: 90.7283, s0.loss_bbox: 0.1760, s1.loss_cls: 0.1549, s1.acc: 93.4422, s1.loss_bbox: 0.1016, s2.loss_cls: 0.0552, s2.acc: 95.7551, s2.loss_bbox: 0.0308, loss: 1.2780, grad_norm: 1.2034\n",
      "2021-09-29 06:15:46,598 - mmdet - INFO - Epoch [2][900/980]\tlr: 2.000e-02, eta: 4:09:45, time: 1.623, data_time: 0.011, memory: 19497, loss_rpn_cls: 0.2268, loss_rpn_bbox: 0.1305, s0.loss_cls: 0.4178, s0.acc: 90.2916, s0.loss_bbox: 0.1832, s1.loss_cls: 0.1679, s1.acc: 92.3692, s1.loss_bbox: 0.1129, s2.loss_cls: 0.0643, s2.acc: 94.5292, s2.loss_bbox: 0.0418, loss: 1.3453, grad_norm: 1.2092\n",
      "2021-09-29 06:16:00,587 - mmdet - INFO - Epoch [2][910/980]\tlr: 2.000e-02, eta: 4:09:24, time: 1.399, data_time: 0.011, memory: 19497, loss_rpn_cls: 0.1801, loss_rpn_bbox: 0.0805, s0.loss_cls: 0.3760, s0.acc: 91.9957, s0.loss_bbox: 0.1503, s1.loss_cls: 0.1635, s1.acc: 92.6293, s1.loss_bbox: 0.1106, s2.loss_cls: 0.0580, s2.acc: 94.7714, s2.loss_bbox: 0.0403, loss: 1.1594, grad_norm: 1.2958\n",
      "2021-09-29 06:16:14,562 - mmdet - INFO - Epoch [2][920/980]\tlr: 2.000e-02, eta: 4:09:03, time: 1.397, data_time: 0.010, memory: 19497, loss_rpn_cls: 0.1711, loss_rpn_bbox: 0.0867, s0.loss_cls: 0.3382, s0.acc: 92.5028, s0.loss_bbox: 0.1495, s1.loss_cls: 0.1328, s1.acc: 93.9369, s1.loss_bbox: 0.0957, s2.loss_cls: 0.0477, s2.acc: 95.4777, s2.loss_bbox: 0.0382, loss: 1.0598, grad_norm: 1.2541\n",
      "2021-09-29 06:16:30,691 - mmdet - INFO - Epoch [2][930/980]\tlr: 2.000e-02, eta: 4:08:52, time: 1.613, data_time: 0.011, memory: 19497, loss_rpn_cls: 0.1892, loss_rpn_bbox: 0.0990, s0.loss_cls: 0.3535, s0.acc: 92.3486, s0.loss_bbox: 0.1388, s1.loss_cls: 0.1437, s1.acc: 93.6768, s1.loss_bbox: 0.0834, s2.loss_cls: 0.0578, s2.acc: 94.8242, s2.loss_bbox: 0.0353, loss: 1.1008, grad_norm: 1.3340\n",
      "2021-09-29 06:16:46,863 - mmdet - INFO - Epoch [2][940/980]\tlr: 2.000e-02, eta: 4:08:42, time: 1.617, data_time: 0.011, memory: 19497, loss_rpn_cls: 0.2620, loss_rpn_bbox: 0.1107, s0.loss_cls: 0.3819, s0.acc: 91.5721, s0.loss_bbox: 0.1717, s1.loss_cls: 0.1475, s1.acc: 93.8318, s1.loss_bbox: 0.1017, s2.loss_cls: 0.0523, s2.acc: 95.7735, s2.loss_bbox: 0.0311, loss: 1.2589, grad_norm: 1.4429\n",
      "2021-09-29 06:17:02,842 - mmdet - INFO - Epoch [2][950/980]\tlr: 2.000e-02, eta: 4:08:31, time: 1.598, data_time: 0.011, memory: 19497, loss_rpn_cls: 0.2285, loss_rpn_bbox: 0.1221, s0.loss_cls: 0.3789, s0.acc: 92.4697, s0.loss_bbox: 0.1450, s1.loss_cls: 0.1346, s1.acc: 94.8481, s1.loss_bbox: 0.0742, s2.loss_cls: 0.0481, s2.acc: 96.3816, s2.loss_bbox: 0.0250, loss: 1.1563, grad_norm: 1.4218\n",
      "2021-09-29 06:17:19,001 - mmdet - INFO - Epoch [2][960/980]\tlr: 2.000e-02, eta: 4:08:21, time: 1.616, data_time: 0.012, memory: 19497, loss_rpn_cls: 0.1814, loss_rpn_bbox: 0.0947, s0.loss_cls: 0.3593, s0.acc: 92.2491, s0.loss_bbox: 0.1386, s1.loss_cls: 0.1460, s1.acc: 93.3324, s1.loss_bbox: 0.0902, s2.loss_cls: 0.0559, s2.acc: 94.6892, s2.loss_bbox: 0.0365, loss: 1.1026, grad_norm: 1.2590\n",
      "2021-09-29 06:17:36,313 - mmdet - INFO - Epoch [2][970/980]\tlr: 2.000e-02, eta: 4:08:17, time: 1.731, data_time: 0.012, memory: 19497, loss_rpn_cls: 0.2501, loss_rpn_bbox: 0.1031, s0.loss_cls: 0.3626, s0.acc: 91.9137, s0.loss_bbox: 0.1469, s1.loss_cls: 0.1534, s1.acc: 93.0828, s1.loss_bbox: 0.1018, s2.loss_cls: 0.0579, s2.acc: 95.2468, s2.loss_bbox: 0.0386, loss: 1.2144, grad_norm: 1.5860\n",
      "2021-09-29 06:17:51,496 - mmdet - INFO - Epoch [2][980/980]\tlr: 2.000e-02, eta: 4:08:02, time: 1.518, data_time: 0.010, memory: 19497, loss_rpn_cls: 0.2263, loss_rpn_bbox: 0.1277, s0.loss_cls: 0.4652, s0.acc: 89.1455, s0.loss_bbox: 0.1993, s1.loss_cls: 0.1808, s1.acc: 91.6992, s1.loss_bbox: 0.1158, s2.loss_cls: 0.0661, s2.acc: 94.3555, s2.loss_bbox: 0.0385, loss: 1.4198, grad_norm: 1.1979\n",
      "2021-09-29 06:17:51,572 - mmdet - INFO - Saving checkpoint at 2 epochs\n"
     ]
    },
    {
     "name": "stdout",
     "output_type": "stream",
     "text": [
      "[>>>>>>>>>>>>>>>>>>>>>>>>>>>>>] 966/966, 1.5 task/s, elapsed: 653s, ETA:     0s"
     ]
    },
    {
     "name": "stderr",
     "output_type": "stream",
     "text": [
      "2021-09-29 06:28:46,860 - mmdet - INFO - Evaluating bbox...\n"
     ]
    },
    {
     "name": "stdout",
     "output_type": "stream",
     "text": [
      "Loading and preparing results...\n",
      "DONE (t=0.19s)\n",
      "creating index...\n",
      "index created!\n",
      "Running per image evaluation...\n",
      "Evaluate annotation type *bbox*\n",
      "DONE (t=1.76s).\n",
      "Accumulating evaluation results...\n"
     ]
    },
    {
     "name": "stderr",
     "output_type": "stream",
     "text": [
      "2021-09-29 06:28:49,450 - mmdet - INFO - Epoch(val) [2][966]\tbbox_mAP: 0.0160, bbox_mAP_50: 0.0310, bbox_mAP_75: 0.0170, bbox_mAP_s: 0.0000, bbox_mAP_m: 0.0020, bbox_mAP_l: 0.0200, bbox_mAP_copypaste: 0.016 0.031 0.017 0.000 0.002 0.020\n"
     ]
    },
    {
     "name": "stdout",
     "output_type": "stream",
     "text": [
      "DONE (t=0.54s).\n",
      " Average Precision  (AP) @[ IoU=0.50:0.95 | area=   all | maxDets=100 ] = 0.016\n",
      " Average Precision  (AP) @[ IoU=0.50      | area=   all | maxDets=1000 ] = 0.031\n",
      " Average Precision  (AP) @[ IoU=0.75      | area=   all | maxDets=1000 ] = 0.017\n",
      " Average Precision  (AP) @[ IoU=0.50:0.95 | area= small | maxDets=1000 ] = 0.000\n",
      " Average Precision  (AP) @[ IoU=0.50:0.95 | area=medium | maxDets=1000 ] = 0.002\n",
      " Average Precision  (AP) @[ IoU=0.50:0.95 | area= large | maxDets=1000 ] = 0.020\n",
      " Average Recall     (AR) @[ IoU=0.50:0.95 | area=   all | maxDets=100 ] = 0.067\n",
      " Average Recall     (AR) @[ IoU=0.50:0.95 | area=   all | maxDets=300 ] = 0.067\n",
      " Average Recall     (AR) @[ IoU=0.50:0.95 | area=   all | maxDets=1000 ] = 0.067\n",
      " Average Recall     (AR) @[ IoU=0.50:0.95 | area= small | maxDets=1000 ] = 0.000\n",
      " Average Recall     (AR) @[ IoU=0.50:0.95 | area=medium | maxDets=1000 ] = 0.005\n",
      " Average Recall     (AR) @[ IoU=0.50:0.95 | area= large | maxDets=1000 ] = 0.087\n"
     ]
    },
    {
     "name": "stderr",
     "output_type": "stream",
     "text": [
      "2021-09-29 06:29:09,039 - mmdet - INFO - Epoch [3][10/980]\tlr: 2.000e-02, eta: 4:08:08, time: 1.957, data_time: 0.240, memory: 19497, loss_rpn_cls: 0.2187, loss_rpn_bbox: 0.1163, s0.loss_cls: 0.3659, s0.acc: 91.9775, s0.loss_bbox: 0.1456, s1.loss_cls: 0.1592, s1.acc: 92.4365, s1.loss_bbox: 0.1006, s2.loss_cls: 0.0622, s2.acc: 94.0918, s2.loss_bbox: 0.0421, loss: 1.2105, grad_norm: 1.5761\n",
      "2021-09-29 06:29:24,168 - mmdet - INFO - Epoch [3][20/980]\tlr: 2.000e-02, eta: 4:07:53, time: 1.513, data_time: 0.011, memory: 19497, loss_rpn_cls: 0.1981, loss_rpn_bbox: 0.1116, s0.loss_cls: 0.3169, s0.acc: 93.3643, s0.loss_bbox: 0.1295, s1.loss_cls: 0.1299, s1.acc: 94.5850, s1.loss_bbox: 0.0762, s2.loss_cls: 0.0496, s2.acc: 95.7324, s2.loss_bbox: 0.0310, loss: 1.0427, grad_norm: 1.1898\n",
      "2021-09-29 06:29:38,149 - mmdet - INFO - Epoch [3][30/980]\tlr: 2.000e-02, eta: 4:07:31, time: 1.398, data_time: 0.010, memory: 19497, loss_rpn_cls: 0.2068, loss_rpn_bbox: 0.1088, s0.loss_cls: 0.3722, s0.acc: 92.3135, s0.loss_bbox: 0.1412, s1.loss_cls: 0.1509, s1.acc: 93.5524, s1.loss_bbox: 0.0903, s2.loss_cls: 0.0575, s2.acc: 95.0023, s2.loss_bbox: 0.0362, loss: 1.1640, grad_norm: 1.4425\n",
      "2021-09-29 06:29:55,503 - mmdet - INFO - Epoch [3][40/980]\tlr: 2.000e-02, eta: 4:07:27, time: 1.735, data_time: 0.011, memory: 19497, loss_rpn_cls: 0.2479, loss_rpn_bbox: 0.1096, s0.loss_cls: 0.4205, s0.acc: 90.8358, s0.loss_bbox: 0.1661, s1.loss_cls: 0.1647, s1.acc: 92.6809, s1.loss_bbox: 0.0981, s2.loss_cls: 0.0621, s2.acc: 94.7677, s2.loss_bbox: 0.0341, loss: 1.3030, grad_norm: 1.5359\n",
      "2021-09-29 06:30:09,210 - mmdet - INFO - Epoch [3][50/980]\tlr: 2.000e-02, eta: 4:07:04, time: 1.371, data_time: 0.010, memory: 19497, loss_rpn_cls: 0.2072, loss_rpn_bbox: 0.1039, s0.loss_cls: 0.3808, s0.acc: 91.4315, s0.loss_bbox: 0.1589, s1.loss_cls: 0.1540, s1.acc: 92.9471, s1.loss_bbox: 0.1080, s2.loss_cls: 0.0559, s2.acc: 95.1745, s2.loss_bbox: 0.0364, loss: 1.2053, grad_norm: 1.2674\n",
      "2021-09-29 06:30:24,381 - mmdet - INFO - Epoch [3][60/980]\tlr: 2.000e-02, eta: 4:06:49, time: 1.517, data_time: 0.010, memory: 19497, loss_rpn_cls: 0.2228, loss_rpn_bbox: 0.0956, s0.loss_cls: 0.4011, s0.acc: 91.2395, s0.loss_bbox: 0.1603, s1.loss_cls: 0.1657, s1.acc: 92.1585, s1.loss_bbox: 0.1174, s2.loss_cls: 0.0627, s2.acc: 94.4782, s2.loss_bbox: 0.0457, loss: 1.2712, grad_norm: 1.6435\n",
      "2021-09-29 06:30:39,461 - mmdet - INFO - Epoch [3][70/980]\tlr: 2.000e-02, eta: 4:06:33, time: 1.508, data_time: 0.010, memory: 19497, loss_rpn_cls: 0.2544, loss_rpn_bbox: 0.1356, s0.loss_cls: 0.4217, s0.acc: 91.2158, s0.loss_bbox: 0.1806, s1.loss_cls: 0.1607, s1.acc: 93.6572, s1.loss_bbox: 0.0993, s2.loss_cls: 0.0561, s2.acc: 95.9424, s2.loss_bbox: 0.0305, loss: 1.3389, grad_norm: 1.4414\n",
      "2021-09-29 06:30:53,343 - mmdet - INFO - Epoch [3][80/980]\tlr: 2.000e-02, eta: 4:06:11, time: 1.388, data_time: 0.010, memory: 19497, loss_rpn_cls: 0.1883, loss_rpn_bbox: 0.1136, s0.loss_cls: 0.3153, s0.acc: 92.9782, s0.loss_bbox: 0.1264, s1.loss_cls: 0.1493, s1.acc: 92.8076, s1.loss_bbox: 0.0994, s2.loss_cls: 0.0596, s2.acc: 94.2206, s2.loss_bbox: 0.0445, loss: 1.0964, grad_norm: 1.5445\n",
      "2021-09-29 06:31:05,114 - mmdet - INFO - Epoch [3][90/980]\tlr: 2.000e-02, eta: 4:05:40, time: 1.177, data_time: 0.009, memory: 19497, loss_rpn_cls: 0.2598, loss_rpn_bbox: 0.1210, s0.loss_cls: 0.4510, s0.acc: 89.9923, s0.loss_bbox: 0.1743, s1.loss_cls: 0.1949, s1.acc: 91.2264, s1.loss_bbox: 0.1325, s2.loss_cls: 0.0726, s2.acc: 94.0309, s2.loss_bbox: 0.0485, loss: 1.4546, grad_norm: 1.5586\n",
      "2021-09-29 06:31:20,310 - mmdet - INFO - Epoch [3][100/980]\tlr: 2.000e-02, eta: 4:05:25, time: 1.520, data_time: 0.010, memory: 19497, loss_rpn_cls: 0.2397, loss_rpn_bbox: 0.1322, s0.loss_cls: 0.4557, s0.acc: 90.0164, s0.loss_bbox: 0.1963, s1.loss_cls: 0.1737, s1.acc: 91.7304, s1.loss_bbox: 0.1223, s2.loss_cls: 0.0624, s2.acc: 93.7439, s2.loss_bbox: 0.0482, loss: 1.4304, grad_norm: 1.3489\n",
      "2021-09-29 06:31:35,099 - mmdet - INFO - Epoch [3][110/980]\tlr: 2.000e-02, eta: 4:05:08, time: 1.479, data_time: 0.010, memory: 19497, loss_rpn_cls: 0.1699, loss_rpn_bbox: 0.0775, s0.loss_cls: 0.3172, s0.acc: 92.7893, s0.loss_bbox: 0.1368, s1.loss_cls: 0.1259, s1.acc: 94.0964, s1.loss_bbox: 0.0917, s2.loss_cls: 0.0467, s2.acc: 95.6135, s2.loss_bbox: 0.0364, loss: 1.0021, grad_norm: 1.1795\n",
      "2021-09-29 06:31:50,212 - mmdet - INFO - Epoch [3][120/980]\tlr: 2.000e-02, eta: 4:04:52, time: 1.511, data_time: 0.011, memory: 19497, loss_rpn_cls: 0.1846, loss_rpn_bbox: 0.1051, s0.loss_cls: 0.3343, s0.acc: 93.0143, s0.loss_bbox: 0.1375, s1.loss_cls: 0.1350, s1.acc: 94.4447, s1.loss_bbox: 0.0850, s2.loss_cls: 0.0462, s2.acc: 96.4287, s2.loss_bbox: 0.0274, loss: 1.0550, grad_norm: 1.3212\n",
      "2021-09-29 06:32:04,382 - mmdet - INFO - Epoch [3][130/980]\tlr: 2.000e-02, eta: 4:04:33, time: 1.417, data_time: 0.009, memory: 19497, loss_rpn_cls: 0.2104, loss_rpn_bbox: 0.1182, s0.loss_cls: 0.3997, s0.acc: 91.3150, s0.loss_bbox: 0.1745, s1.loss_cls: 0.1409, s1.acc: 94.1168, s1.loss_bbox: 0.0938, s2.loss_cls: 0.0444, s2.acc: 96.6143, s2.loss_bbox: 0.0240, loss: 1.2060, grad_norm: 1.3678\n",
      "2021-09-29 06:32:21,567 - mmdet - INFO - Epoch [3][140/980]\tlr: 2.000e-02, eta: 4:04:27, time: 1.719, data_time: 0.012, memory: 19497, loss_rpn_cls: 0.2461, loss_rpn_bbox: 0.1174, s0.loss_cls: 0.3724, s0.acc: 91.7142, s0.loss_bbox: 0.1546, s1.loss_cls: 0.1560, s1.acc: 93.2268, s1.loss_bbox: 0.0968, s2.loss_cls: 0.0636, s2.acc: 94.4833, s2.loss_bbox: 0.0379, loss: 1.2448, grad_norm: 1.2996\n",
      "2021-09-29 06:32:36,527 - mmdet - INFO - Epoch [3][150/980]\tlr: 2.000e-02, eta: 4:04:10, time: 1.496, data_time: 0.010, memory: 19497, loss_rpn_cls: 0.2352, loss_rpn_bbox: 0.1239, s0.loss_cls: 0.3849, s0.acc: 91.7969, s0.loss_bbox: 0.1521, s1.loss_cls: 0.1539, s1.acc: 93.4814, s1.loss_bbox: 0.0923, s2.loss_cls: 0.0576, s2.acc: 95.2734, s2.loss_bbox: 0.0339, loss: 1.2338, grad_norm: 1.2043\n",
      "2021-09-29 06:32:50,244 - mmdet - INFO - Epoch [3][160/980]\tlr: 2.000e-02, eta: 4:03:49, time: 1.372, data_time: 0.009, memory: 19497, loss_rpn_cls: 0.1806, loss_rpn_bbox: 0.1090, s0.loss_cls: 0.3920, s0.acc: 91.8695, s0.loss_bbox: 0.1494, s1.loss_cls: 0.1695, s1.acc: 92.7339, s1.loss_bbox: 0.1099, s2.loss_cls: 0.0665, s2.acc: 94.5115, s2.loss_bbox: 0.0430, loss: 1.2200, grad_norm: 1.1891\n",
      "2021-09-29 06:33:07,646 - mmdet - INFO - Epoch [3][170/980]\tlr: 2.000e-02, eta: 4:03:44, time: 1.740, data_time: 0.011, memory: 19497, loss_rpn_cls: 0.2115, loss_rpn_bbox: 0.1071, s0.loss_cls: 0.2992, s0.acc: 93.9023, s0.loss_bbox: 0.1081, s1.loss_cls: 0.1167, s1.acc: 95.2288, s1.loss_bbox: 0.0645, s2.loss_cls: 0.0441, s2.acc: 96.4060, s2.loss_bbox: 0.0245, loss: 0.9757, grad_norm: 1.1901\n",
      "2021-09-29 06:33:21,646 - mmdet - INFO - Epoch [3][180/980]\tlr: 2.000e-02, eta: 4:03:23, time: 1.400, data_time: 0.011, memory: 19497, loss_rpn_cls: 0.2573, loss_rpn_bbox: 0.1017, s0.loss_cls: 0.4206, s0.acc: 90.1076, s0.loss_bbox: 0.1762, s1.loss_cls: 0.1678, s1.acc: 91.9872, s1.loss_bbox: 0.1083, s2.loss_cls: 0.0639, s2.acc: 94.1763, s2.loss_bbox: 0.0391, loss: 1.3347, grad_norm: 1.4561\n",
      "2021-09-29 06:33:37,953 - mmdet - INFO - Epoch [3][190/980]\tlr: 2.000e-02, eta: 4:03:13, time: 1.631, data_time: 0.010, memory: 19497, loss_rpn_cls: 0.1562, loss_rpn_bbox: 0.0681, s0.loss_cls: 0.3615, s0.acc: 92.2422, s0.loss_bbox: 0.1350, s1.loss_cls: 0.1592, s1.acc: 92.9824, s1.loss_bbox: 0.0997, s2.loss_cls: 0.0624, s2.acc: 94.2381, s2.loss_bbox: 0.0451, loss: 1.0872, grad_norm: 1.3420\n",
      "2021-09-29 06:33:54,132 - mmdet - INFO - Epoch [3][200/980]\tlr: 2.000e-02, eta: 4:03:02, time: 1.618, data_time: 0.011, memory: 19497, loss_rpn_cls: 0.2190, loss_rpn_bbox: 0.0987, s0.loss_cls: 0.4400, s0.acc: 90.1748, s0.loss_bbox: 0.1732, s1.loss_cls: 0.1772, s1.acc: 91.7411, s1.loss_bbox: 0.1089, s2.loss_cls: 0.0699, s2.acc: 93.7214, s2.loss_bbox: 0.0464, loss: 1.3333, grad_norm: 1.6627\n",
      "2021-09-29 06:34:10,258 - mmdet - INFO - Epoch [3][210/980]\tlr: 2.000e-02, eta: 4:02:51, time: 1.613, data_time: 0.011, memory: 19497, loss_rpn_cls: 0.2057, loss_rpn_bbox: 0.0881, s0.loss_cls: 0.3711, s0.acc: 91.4941, s0.loss_bbox: 0.1521, s1.loss_cls: 0.1559, s1.acc: 92.6123, s1.loss_bbox: 0.1056, s2.loss_cls: 0.0589, s2.acc: 94.5508, s2.loss_bbox: 0.0389, loss: 1.1762, grad_norm: 1.1948\n"
     ]
    },
    {
     "name": "stderr",
     "output_type": "stream",
     "text": [
      "2021-09-29 06:34:26,522 - mmdet - INFO - Epoch [3][220/980]\tlr: 2.000e-02, eta: 4:02:41, time: 1.626, data_time: 0.011, memory: 19497, loss_rpn_cls: 0.2219, loss_rpn_bbox: 0.1050, s0.loss_cls: 0.3865, s0.acc: 90.8723, s0.loss_bbox: 0.1709, s1.loss_cls: 0.1654, s1.acc: 92.2765, s1.loss_bbox: 0.1111, s2.loss_cls: 0.0642, s2.acc: 94.4151, s2.loss_bbox: 0.0430, loss: 1.2680, grad_norm: 1.3251\n",
      "2021-09-29 06:34:40,515 - mmdet - INFO - Epoch [3][230/980]\tlr: 2.000e-02, eta: 4:02:20, time: 1.399, data_time: 0.009, memory: 19497, loss_rpn_cls: 0.2097, loss_rpn_bbox: 0.0826, s0.loss_cls: 0.4100, s0.acc: 90.6299, s0.loss_bbox: 0.1673, s1.loss_cls: 0.1661, s1.acc: 92.2168, s1.loss_bbox: 0.1115, s2.loss_cls: 0.0615, s2.acc: 94.3262, s2.loss_bbox: 0.0422, loss: 1.2510, grad_norm: 1.1232\n",
      "2021-09-29 06:34:55,638 - mmdet - INFO - Epoch [3][240/980]\tlr: 2.000e-02, eta: 4:02:05, time: 1.512, data_time: 0.011, memory: 19497, loss_rpn_cls: 0.2194, loss_rpn_bbox: 0.0974, s0.loss_cls: 0.4383, s0.acc: 90.3765, s0.loss_bbox: 0.1741, s1.loss_cls: 0.1874, s1.acc: 91.6018, s1.loss_bbox: 0.1160, s2.loss_cls: 0.0720, s2.acc: 93.7395, s2.loss_bbox: 0.0452, loss: 1.3497, grad_norm: 1.5713\n",
      "2021-09-29 06:35:10,765 - mmdet - INFO - Epoch [3][250/980]\tlr: 2.000e-02, eta: 4:01:49, time: 1.513, data_time: 0.010, memory: 19497, loss_rpn_cls: 0.2652, loss_rpn_bbox: 0.1107, s0.loss_cls: 0.3888, s0.acc: 91.9468, s0.loss_bbox: 0.1531, s1.loss_cls: 0.1554, s1.acc: 93.7018, s1.loss_bbox: 0.0991, s2.loss_cls: 0.0538, s2.acc: 95.9444, s2.loss_bbox: 0.0312, loss: 1.2572, grad_norm: 1.3799\n",
      "2021-09-29 06:35:25,912 - mmdet - INFO - Epoch [3][260/980]\tlr: 2.000e-02, eta: 4:01:34, time: 1.515, data_time: 0.010, memory: 19497, loss_rpn_cls: 0.2116, loss_rpn_bbox: 0.0832, s0.loss_cls: 0.3508, s0.acc: 92.2748, s0.loss_bbox: 0.1373, s1.loss_cls: 0.1516, s1.acc: 93.1397, s1.loss_bbox: 0.0983, s2.loss_cls: 0.0587, s2.acc: 94.7450, s2.loss_bbox: 0.0411, loss: 1.1325, grad_norm: 1.1185\n",
      "2021-09-29 06:35:42,158 - mmdet - INFO - Epoch [3][270/980]\tlr: 2.000e-02, eta: 4:01:23, time: 1.625, data_time: 0.011, memory: 19497, loss_rpn_cls: 0.1982, loss_rpn_bbox: 0.1313, s0.loss_cls: 0.4043, s0.acc: 91.0010, s0.loss_bbox: 0.1631, s1.loss_cls: 0.1723, s1.acc: 92.2168, s1.loss_bbox: 0.1225, s2.loss_cls: 0.0614, s2.acc: 94.7803, s2.loss_bbox: 0.0427, loss: 1.2957, grad_norm: 1.3266\n",
      "2021-09-29 06:35:57,256 - mmdet - INFO - Epoch [3][280/980]\tlr: 2.000e-02, eta: 4:01:07, time: 1.510, data_time: 0.010, memory: 19497, loss_rpn_cls: 0.2205, loss_rpn_bbox: 0.1058, s0.loss_cls: 0.4300, s0.acc: 89.8145, s0.loss_bbox: 0.1839, s1.loss_cls: 0.1778, s1.acc: 91.4160, s1.loss_bbox: 0.1241, s2.loss_cls: 0.0678, s2.acc: 93.3643, s2.loss_bbox: 0.0521, loss: 1.3620, grad_norm: 1.3397\n",
      "2021-09-29 06:36:13,435 - mmdet - INFO - Epoch [3][290/980]\tlr: 2.000e-02, eta: 4:00:56, time: 1.618, data_time: 0.011, memory: 19497, loss_rpn_cls: 0.1910, loss_rpn_bbox: 0.1112, s0.loss_cls: 0.3752, s0.acc: 91.3409, s0.loss_bbox: 0.1615, s1.loss_cls: 0.1545, s1.acc: 92.3944, s1.loss_bbox: 0.1110, s2.loss_cls: 0.0570, s2.acc: 94.1212, s2.loss_bbox: 0.0412, loss: 1.2026, grad_norm: 1.4720\n",
      "2021-09-29 06:36:27,453 - mmdet - INFO - Epoch [3][300/980]\tlr: 2.000e-02, eta: 4:00:36, time: 1.402, data_time: 0.010, memory: 19497, loss_rpn_cls: 0.2212, loss_rpn_bbox: 0.0869, s0.loss_cls: 0.3456, s0.acc: 92.7995, s0.loss_bbox: 0.1212, s1.loss_cls: 0.1506, s1.acc: 93.1577, s1.loss_bbox: 0.0938, s2.loss_cls: 0.0569, s2.acc: 94.7666, s2.loss_bbox: 0.0401, loss: 1.1163, grad_norm: 1.8146\n",
      "2021-09-29 06:36:43,634 - mmdet - INFO - Epoch [3][310/980]\tlr: 2.000e-02, eta: 4:00:25, time: 1.618, data_time: 0.011, memory: 19497, loss_rpn_cls: 0.2340, loss_rpn_bbox: 0.1078, s0.loss_cls: 0.4194, s0.acc: 91.0159, s0.loss_bbox: 0.1778, s1.loss_cls: 0.1501, s1.acc: 93.8022, s1.loss_bbox: 0.0972, s2.loss_cls: 0.0505, s2.acc: 95.5685, s2.loss_bbox: 0.0288, loss: 1.2656, grad_norm: 1.1476\n",
      "2021-09-29 06:36:56,418 - mmdet - INFO - Epoch [3][320/980]\tlr: 2.000e-02, eta: 4:00:00, time: 1.278, data_time: 0.009, memory: 19497, loss_rpn_cls: 0.1585, loss_rpn_bbox: 0.1040, s0.loss_cls: 0.4309, s0.acc: 90.3298, s0.loss_bbox: 0.1817, s1.loss_cls: 0.1714, s1.acc: 92.3806, s1.loss_bbox: 0.1162, s2.loss_cls: 0.0630, s2.acc: 94.5874, s2.loss_bbox: 0.0461, loss: 1.2717, grad_norm: 1.3399\n",
      "2021-09-29 06:37:11,384 - mmdet - INFO - Epoch [3][330/980]\tlr: 2.000e-02, eta: 3:59:44, time: 1.497, data_time: 0.010, memory: 19497, loss_rpn_cls: 0.2254, loss_rpn_bbox: 0.1111, s0.loss_cls: 0.3402, s0.acc: 92.4802, s0.loss_bbox: 0.1366, s1.loss_cls: 0.1386, s1.acc: 93.6159, s1.loss_bbox: 0.0977, s2.loss_cls: 0.0480, s2.acc: 95.8450, s2.loss_bbox: 0.0333, loss: 1.1308, grad_norm: 1.4876\n",
      "2021-09-29 06:37:27,602 - mmdet - INFO - Epoch [3][340/980]\tlr: 2.000e-02, eta: 3:59:33, time: 1.622, data_time: 0.010, memory: 19497, loss_rpn_cls: 0.2582, loss_rpn_bbox: 0.0895, s0.loss_cls: 0.3888, s0.acc: 92.2399, s0.loss_bbox: 0.1575, s1.loss_cls: 0.1501, s1.acc: 94.1484, s1.loss_bbox: 0.0945, s2.loss_cls: 0.0463, s2.acc: 96.3656, s2.loss_bbox: 0.0253, loss: 1.2101, grad_norm: 1.7226\n",
      "2021-09-29 06:37:42,761 - mmdet - INFO - Epoch [3][350/980]\tlr: 2.000e-02, eta: 3:59:17, time: 1.516, data_time: 0.011, memory: 19497, loss_rpn_cls: 0.2446, loss_rpn_bbox: 0.0827, s0.loss_cls: 0.2725, s0.acc: 94.6729, s0.loss_bbox: 0.0960, s1.loss_cls: 0.1029, s1.acc: 95.7422, s1.loss_bbox: 0.0669, s2.loss_cls: 0.0359, s2.acc: 97.1973, s2.loss_bbox: 0.0213, loss: 0.9228, grad_norm: 1.1884\n",
      "2021-09-29 06:37:57,889 - mmdet - INFO - Epoch [3][360/980]\tlr: 2.000e-02, eta: 3:59:02, time: 1.513, data_time: 0.010, memory: 19497, loss_rpn_cls: 0.2951, loss_rpn_bbox: 0.1151, s0.loss_cls: 0.4469, s0.acc: 91.3378, s0.loss_bbox: 0.1681, s1.loss_cls: 0.1639, s1.acc: 93.5694, s1.loss_bbox: 0.0943, s2.loss_cls: 0.0557, s2.acc: 95.7852, s2.loss_bbox: 0.0256, loss: 1.3649, grad_norm: 2.4026\n",
      "2021-09-29 06:38:14,066 - mmdet - INFO - Epoch [3][370/980]\tlr: 2.000e-02, eta: 3:58:51, time: 1.618, data_time: 0.011, memory: 19497, loss_rpn_cls: 0.2016, loss_rpn_bbox: 0.1051, s0.loss_cls: 0.3684, s0.acc: 92.9180, s0.loss_bbox: 0.1476, s1.loss_cls: 0.1401, s1.acc: 94.6515, s1.loss_bbox: 0.0831, s2.loss_cls: 0.0515, s2.acc: 96.1912, s2.loss_bbox: 0.0297, loss: 1.1272, grad_norm: 1.6703\n",
      "2021-09-29 06:38:26,892 - mmdet - INFO - Epoch [3][380/980]\tlr: 2.000e-02, eta: 3:58:26, time: 1.283, data_time: 0.011, memory: 19497, loss_rpn_cls: 0.2847, loss_rpn_bbox: 0.1291, s0.loss_cls: 0.3699, s0.acc: 92.9297, s0.loss_bbox: 0.1355, s1.loss_cls: 0.1341, s1.acc: 94.8038, s1.loss_bbox: 0.0803, s2.loss_cls: 0.0463, s2.acc: 96.5109, s2.loss_bbox: 0.0256, loss: 1.2054, grad_norm: 1.6574\n",
      "2021-09-29 06:38:41,915 - mmdet - INFO - Epoch [3][390/980]\tlr: 2.000e-02, eta: 3:58:10, time: 1.502, data_time: 0.010, memory: 19497, loss_rpn_cls: 0.2321, loss_rpn_bbox: 0.1060, s0.loss_cls: 0.3457, s0.acc: 93.1114, s0.loss_bbox: 0.1289, s1.loss_cls: 0.1273, s1.acc: 94.7318, s1.loss_bbox: 0.0697, s2.loss_cls: 0.0472, s2.acc: 96.0836, s2.loss_bbox: 0.0266, loss: 1.0834, grad_norm: 1.2313\n",
      "2021-09-29 06:38:59,133 - mmdet - INFO - Epoch [3][400/980]\tlr: 2.000e-02, eta: 3:58:03, time: 1.722, data_time: 0.010, memory: 19497, loss_rpn_cls: 0.2933, loss_rpn_bbox: 0.1469, s0.loss_cls: 0.4723, s0.acc: 90.3516, s0.loss_bbox: 0.1854, s1.loss_cls: 0.1831, s1.acc: 92.6514, s1.loss_bbox: 0.1183, s2.loss_cls: 0.0657, s2.acc: 95.0195, s2.loss_bbox: 0.0368, loss: 1.5018, grad_norm: 1.7267\n",
      "2021-09-29 06:39:15,324 - mmdet - INFO - Epoch [3][410/980]\tlr: 2.000e-02, eta: 3:57:52, time: 1.619, data_time: 0.011, memory: 19497, loss_rpn_cls: 0.2484, loss_rpn_bbox: 0.0992, s0.loss_cls: 0.3865, s0.acc: 92.1035, s0.loss_bbox: 0.1532, s1.loss_cls: 0.1539, s1.acc: 93.5864, s1.loss_bbox: 0.0961, s2.loss_cls: 0.0540, s2.acc: 95.6111, s2.loss_bbox: 0.0345, loss: 1.2258, grad_norm: 1.5430\n",
      "2021-09-29 06:39:26,029 - mmdet - INFO - Epoch [3][420/980]\tlr: 2.000e-02, eta: 3:57:19, time: 1.070, data_time: 0.010, memory: 19497, loss_rpn_cls: 0.2388, loss_rpn_bbox: 0.1007, s0.loss_cls: 0.4460, s0.acc: 89.9756, s0.loss_bbox: 0.1864, s1.loss_cls: 0.1770, s1.acc: 92.0801, s1.loss_bbox: 0.1251, s2.loss_cls: 0.0619, s2.acc: 94.5312, s2.loss_bbox: 0.0426, loss: 1.3785, grad_norm: 1.2200\n"
     ]
    },
    {
     "name": "stderr",
     "output_type": "stream",
     "text": [
      "2021-09-29 06:39:42,157 - mmdet - INFO - Epoch [3][430/980]\tlr: 2.000e-02, eta: 3:57:07, time: 1.613, data_time: 0.010, memory: 19497, loss_rpn_cls: 0.2013, loss_rpn_bbox: 0.1183, s0.loss_cls: 0.3584, s0.acc: 92.0012, s0.loss_bbox: 0.1448, s1.loss_cls: 0.1568, s1.acc: 92.6841, s1.loss_bbox: 0.1093, s2.loss_cls: 0.0595, s2.acc: 94.4498, s2.loss_bbox: 0.0440, loss: 1.1923, grad_norm: 1.3566\n",
      "2021-09-29 06:39:57,229 - mmdet - INFO - Epoch [3][440/980]\tlr: 2.000e-02, eta: 3:56:52, time: 1.507, data_time: 0.010, memory: 19497, loss_rpn_cls: 0.1874, loss_rpn_bbox: 0.1007, s0.loss_cls: 0.3343, s0.acc: 92.8991, s0.loss_bbox: 0.1265, s1.loss_cls: 0.1496, s1.acc: 93.4249, s1.loss_bbox: 0.0924, s2.loss_cls: 0.0578, s2.acc: 94.6846, s2.loss_bbox: 0.0383, loss: 1.0871, grad_norm: 1.2503\n",
      "2021-09-29 06:40:12,290 - mmdet - INFO - Epoch [3][450/980]\tlr: 2.000e-02, eta: 3:56:36, time: 1.506, data_time: 0.011, memory: 19497, loss_rpn_cls: 0.1856, loss_rpn_bbox: 0.0817, s0.loss_cls: 0.3055, s0.acc: 93.1811, s0.loss_bbox: 0.1131, s1.loss_cls: 0.1428, s1.acc: 93.3655, s1.loss_bbox: 0.0982, s2.loss_cls: 0.0572, s2.acc: 94.7637, s2.loss_bbox: 0.0359, loss: 1.0201, grad_norm: 1.1479\n",
      "2021-09-29 06:40:25,131 - mmdet - INFO - Epoch [3][460/980]\tlr: 2.000e-02, eta: 3:56:12, time: 1.284, data_time: 0.009, memory: 19497, loss_rpn_cls: 0.2244, loss_rpn_bbox: 0.0854, s0.loss_cls: 0.3810, s0.acc: 91.9481, s0.loss_bbox: 0.1550, s1.loss_cls: 0.1373, s1.acc: 94.1032, s1.loss_bbox: 0.0871, s2.loss_cls: 0.0475, s2.acc: 96.0528, s2.loss_bbox: 0.0288, loss: 1.1464, grad_norm: 1.1674\n",
      "2021-09-29 06:40:42,592 - mmdet - INFO - Epoch [3][470/980]\tlr: 2.000e-02, eta: 3:56:06, time: 1.746, data_time: 0.012, memory: 19497, loss_rpn_cls: 0.2039, loss_rpn_bbox: 0.0990, s0.loss_cls: 0.3302, s0.acc: 92.8516, s0.loss_bbox: 0.1335, s1.loss_cls: 0.1350, s1.acc: 94.2383, s1.loss_bbox: 0.0841, s2.loss_cls: 0.0485, s2.acc: 96.0645, s2.loss_bbox: 0.0275, loss: 1.0615, grad_norm: 1.1672\n",
      "2021-09-29 06:40:56,549 - mmdet - INFO - Epoch [3][480/980]\tlr: 2.000e-02, eta: 3:55:46, time: 1.396, data_time: 0.011, memory: 19497, loss_rpn_cls: 0.1430, loss_rpn_bbox: 0.0633, s0.loss_cls: 0.3408, s0.acc: 93.0124, s0.loss_bbox: 0.1314, s1.loss_cls: 0.1552, s1.acc: 93.2669, s1.loss_bbox: 0.1028, s2.loss_cls: 0.0587, s2.acc: 94.8750, s2.loss_bbox: 0.0410, loss: 1.0362, grad_norm: 1.3447\n",
      "2021-09-29 06:41:12,760 - mmdet - INFO - Epoch [3][490/980]\tlr: 2.000e-02, eta: 3:55:34, time: 1.621, data_time: 0.010, memory: 19497, loss_rpn_cls: 0.1685, loss_rpn_bbox: 0.1197, s0.loss_cls: 0.3670, s0.acc: 91.8213, s0.loss_bbox: 0.1506, s1.loss_cls: 0.1540, s1.acc: 93.2080, s1.loss_bbox: 0.1041, s2.loss_cls: 0.0574, s2.acc: 95.3564, s2.loss_bbox: 0.0379, loss: 1.1591, grad_norm: 1.2292\n",
      "2021-09-29 06:41:26,737 - mmdet - INFO - Epoch [3][500/980]\tlr: 2.000e-02, eta: 3:55:15, time: 1.398, data_time: 0.010, memory: 19497, loss_rpn_cls: 0.2387, loss_rpn_bbox: 0.0976, s0.loss_cls: 0.3539, s0.acc: 92.2227, s0.loss_bbox: 0.1319, s1.loss_cls: 0.1494, s1.acc: 93.2864, s1.loss_bbox: 0.0951, s2.loss_cls: 0.0539, s2.acc: 95.4021, s2.loss_bbox: 0.0363, loss: 1.1568, grad_norm: 1.2346\n",
      "2021-09-29 06:41:43,915 - mmdet - INFO - Epoch [3][510/980]\tlr: 2.000e-02, eta: 3:55:07, time: 1.718, data_time: 0.012, memory: 19497, loss_rpn_cls: 0.2467, loss_rpn_bbox: 0.1050, s0.loss_cls: 0.3846, s0.acc: 91.7334, s0.loss_bbox: 0.1476, s1.loss_cls: 0.1756, s1.acc: 91.9678, s1.loss_bbox: 0.1094, s2.loss_cls: 0.0692, s2.acc: 93.8281, s2.loss_bbox: 0.0474, loss: 1.2853, grad_norm: 1.3887\n",
      "2021-09-29 06:41:57,802 - mmdet - INFO - Epoch [3][520/980]\tlr: 2.000e-02, eta: 3:54:47, time: 1.389, data_time: 0.010, memory: 19497, loss_rpn_cls: 0.2291, loss_rpn_bbox: 0.0866, s0.loss_cls: 0.3611, s0.acc: 91.7597, s0.loss_bbox: 0.1401, s1.loss_cls: 0.1581, s1.acc: 92.4493, s1.loss_bbox: 0.1049, s2.loss_cls: 0.0623, s2.acc: 94.3410, s2.loss_bbox: 0.0426, loss: 1.1847, grad_norm: 1.4130\n",
      "2021-09-29 06:42:10,723 - mmdet - INFO - Epoch [3][530/980]\tlr: 2.000e-02, eta: 3:54:23, time: 1.292, data_time: 0.009, memory: 19497, loss_rpn_cls: 0.1973, loss_rpn_bbox: 0.0869, s0.loss_cls: 0.4221, s0.acc: 90.1137, s0.loss_bbox: 0.1807, s1.loss_cls: 0.1748, s1.acc: 91.5869, s1.loss_bbox: 0.1223, s2.loss_cls: 0.0651, s2.acc: 93.9118, s2.loss_bbox: 0.0476, loss: 1.2968, grad_norm: 1.2805\n",
      "2021-09-29 06:42:28,077 - mmdet - INFO - Epoch [3][540/980]\tlr: 2.000e-02, eta: 3:54:16, time: 1.735, data_time: 0.011, memory: 19497, loss_rpn_cls: 0.1895, loss_rpn_bbox: 0.1151, s0.loss_cls: 0.3635, s0.acc: 92.3114, s0.loss_bbox: 0.1444, s1.loss_cls: 0.1455, s1.acc: 93.4848, s1.loss_bbox: 0.0903, s2.loss_cls: 0.0559, s2.acc: 95.0893, s2.loss_bbox: 0.0349, loss: 1.1391, grad_norm: 1.0717\n",
      "2021-09-29 06:42:41,718 - mmdet - INFO - Epoch [3][550/980]\tlr: 2.000e-02, eta: 3:53:55, time: 1.364, data_time: 0.011, memory: 19497, loss_rpn_cls: 0.2492, loss_rpn_bbox: 0.1184, s0.loss_cls: 0.4242, s0.acc: 90.7736, s0.loss_bbox: 0.1654, s1.loss_cls: 0.1701, s1.acc: 92.5821, s1.loss_bbox: 0.1151, s2.loss_cls: 0.0603, s2.acc: 94.6839, s2.loss_bbox: 0.0386, loss: 1.3412, grad_norm: 1.3796\n",
      "2021-09-29 06:42:59,020 - mmdet - INFO - Epoch [3][560/980]\tlr: 2.000e-02, eta: 3:53:48, time: 1.730, data_time: 0.011, memory: 19497, loss_rpn_cls: 0.1728, loss_rpn_bbox: 0.1007, s0.loss_cls: 0.3518, s0.acc: 92.0665, s0.loss_bbox: 0.1296, s1.loss_cls: 0.1620, s1.acc: 92.3327, s1.loss_bbox: 0.1084, s2.loss_cls: 0.0634, s2.acc: 93.9574, s2.loss_bbox: 0.0461, loss: 1.1349, grad_norm: 1.4072\n",
      "2021-09-29 06:43:14,037 - mmdet - INFO - Epoch [3][570/980]\tlr: 2.000e-02, eta: 3:53:32, time: 1.502, data_time: 0.011, memory: 19497, loss_rpn_cls: 0.2140, loss_rpn_bbox: 0.0958, s0.loss_cls: 0.3775, s0.acc: 91.1313, s0.loss_bbox: 0.1417, s1.loss_cls: 0.1832, s1.acc: 91.2551, s1.loss_bbox: 0.1246, s2.loss_cls: 0.0696, s2.acc: 93.6571, s2.loss_bbox: 0.0506, loss: 1.2570, grad_norm: 1.3477\n",
      "2021-09-29 06:43:28,863 - mmdet - INFO - Epoch [3][580/980]\tlr: 2.000e-02, eta: 3:53:16, time: 1.483, data_time: 0.010, memory: 19497, loss_rpn_cls: 0.2297, loss_rpn_bbox: 0.1253, s0.loss_cls: 0.3842, s0.acc: 91.1621, s0.loss_bbox: 0.1559, s1.loss_cls: 0.1585, s1.acc: 92.9541, s1.loss_bbox: 0.1032, s2.loss_cls: 0.0566, s2.acc: 95.3320, s2.loss_bbox: 0.0310, loss: 1.2444, grad_norm: 1.5647\n",
      "2021-09-29 06:43:44,119 - mmdet - INFO - Epoch [3][590/980]\tlr: 2.000e-02, eta: 3:53:01, time: 1.526, data_time: 0.010, memory: 19497, loss_rpn_cls: 0.1811, loss_rpn_bbox: 0.0979, s0.loss_cls: 0.3538, s0.acc: 91.5674, s0.loss_bbox: 0.1442, s1.loss_cls: 0.1536, s1.acc: 92.3584, s1.loss_bbox: 0.1123, s2.loss_cls: 0.0578, s2.acc: 94.5166, s2.loss_bbox: 0.0450, loss: 1.1457, grad_norm: 1.2314\n",
      "2021-09-29 06:43:59,272 - mmdet - INFO - Epoch [3][600/980]\tlr: 2.000e-02, eta: 3:52:46, time: 1.515, data_time: 0.011, memory: 19497, loss_rpn_cls: 0.1900, loss_rpn_bbox: 0.0989, s0.loss_cls: 0.3105, s0.acc: 93.5378, s0.loss_bbox: 0.1284, s1.loss_cls: 0.1285, s1.acc: 94.5700, s1.loss_bbox: 0.0836, s2.loss_cls: 0.0495, s2.acc: 95.8595, s2.loss_bbox: 0.0355, loss: 1.0250, grad_norm: 1.3053\n",
      "2021-09-29 06:44:16,515 - mmdet - INFO - Epoch [3][610/980]\tlr: 2.000e-02, eta: 3:52:38, time: 1.724, data_time: 0.011, memory: 19497, loss_rpn_cls: 0.2377, loss_rpn_bbox: 0.1307, s0.loss_cls: 0.3944, s0.acc: 91.0603, s0.loss_bbox: 0.1681, s1.loss_cls: 0.1445, s1.acc: 93.6459, s1.loss_bbox: 0.0944, s2.loss_cls: 0.0505, s2.acc: 95.8554, s2.loss_bbox: 0.0290, loss: 1.2493, grad_norm: 1.0636\n",
      "2021-09-29 06:44:31,534 - mmdet - INFO - Epoch [3][620/980]\tlr: 2.000e-02, eta: 3:52:22, time: 1.502, data_time: 0.011, memory: 19497, loss_rpn_cls: 0.1713, loss_rpn_bbox: 0.1232, s0.loss_cls: 0.3347, s0.acc: 92.6214, s0.loss_bbox: 0.1327, s1.loss_cls: 0.1350, s1.acc: 93.6726, s1.loss_bbox: 0.0894, s2.loss_cls: 0.0489, s2.acc: 95.1904, s2.loss_bbox: 0.0353, loss: 1.0706, grad_norm: 1.1952\n",
      "2021-09-29 06:44:46,617 - mmdet - INFO - Epoch [3][630/980]\tlr: 2.000e-02, eta: 3:52:06, time: 1.508, data_time: 0.010, memory: 19497, loss_rpn_cls: 0.2845, loss_rpn_bbox: 0.1150, s0.loss_cls: 0.3902, s0.acc: 90.9024, s0.loss_bbox: 0.1509, s1.loss_cls: 0.1761, s1.acc: 91.9443, s1.loss_bbox: 0.1116, s2.loss_cls: 0.0664, s2.acc: 94.2304, s2.loss_bbox: 0.0413, loss: 1.3360, grad_norm: 1.7211\n"
     ]
    },
    {
     "name": "stderr",
     "output_type": "stream",
     "text": [
      "2021-09-29 06:45:00,670 - mmdet - INFO - Epoch [3][640/980]\tlr: 2.000e-02, eta: 3:51:47, time: 1.405, data_time: 0.010, memory: 19497, loss_rpn_cls: 0.1511, loss_rpn_bbox: 0.0828, s0.loss_cls: 0.3310, s0.acc: 92.3549, s0.loss_bbox: 0.1391, s1.loss_cls: 0.1406, s1.acc: 93.1229, s1.loss_bbox: 0.1100, s2.loss_cls: 0.0505, s2.acc: 95.0904, s2.loss_bbox: 0.0407, loss: 1.0459, grad_norm: 1.3010\n",
      "2021-09-29 06:45:14,737 - mmdet - INFO - Epoch [3][650/980]\tlr: 2.000e-02, eta: 3:51:28, time: 1.407, data_time: 0.011, memory: 19497, loss_rpn_cls: 0.2157, loss_rpn_bbox: 0.1188, s0.loss_cls: 0.3855, s0.acc: 91.4909, s0.loss_bbox: 0.1673, s1.loss_cls: 0.1484, s1.acc: 93.6652, s1.loss_bbox: 0.0953, s2.loss_cls: 0.0526, s2.acc: 95.9143, s2.loss_bbox: 0.0292, loss: 1.2128, grad_norm: 1.2101\n",
      "2021-09-29 06:45:29,942 - mmdet - INFO - Epoch [3][660/980]\tlr: 2.000e-02, eta: 3:51:13, time: 1.520, data_time: 0.011, memory: 19497, loss_rpn_cls: 0.2450, loss_rpn_bbox: 0.1161, s0.loss_cls: 0.3939, s0.acc: 90.9770, s0.loss_bbox: 0.1624, s1.loss_cls: 0.1609, s1.acc: 92.7853, s1.loss_bbox: 0.1081, s2.loss_cls: 0.0567, s2.acc: 95.1013, s2.loss_bbox: 0.0355, loss: 1.2785, grad_norm: 1.3134\n",
      "2021-09-29 06:45:46,182 - mmdet - INFO - Epoch [3][670/980]\tlr: 2.000e-02, eta: 3:51:02, time: 1.624, data_time: 0.011, memory: 19497, loss_rpn_cls: 0.2631, loss_rpn_bbox: 0.1433, s0.loss_cls: 0.4235, s0.acc: 90.6770, s0.loss_bbox: 0.1850, s1.loss_cls: 0.1584, s1.acc: 93.3701, s1.loss_bbox: 0.1038, s2.loss_cls: 0.0549, s2.acc: 95.8519, s2.loss_bbox: 0.0318, loss: 1.3639, grad_norm: 1.1817\n",
      "2021-09-29 06:46:01,345 - mmdet - INFO - Epoch [3][680/980]\tlr: 2.000e-02, eta: 3:50:46, time: 1.516, data_time: 0.012, memory: 19497, loss_rpn_cls: 0.2209, loss_rpn_bbox: 0.1071, s0.loss_cls: 0.3634, s0.acc: 92.1143, s0.loss_bbox: 0.1629, s1.loss_cls: 0.1387, s1.acc: 94.0039, s1.loss_bbox: 0.1008, s2.loss_cls: 0.0470, s2.acc: 95.7617, s2.loss_bbox: 0.0339, loss: 1.1747, grad_norm: 1.1271\n",
      "2021-09-29 06:46:17,440 - mmdet - INFO - Epoch [3][690/980]\tlr: 2.000e-02, eta: 3:50:34, time: 1.610, data_time: 0.011, memory: 19497, loss_rpn_cls: 0.2388, loss_rpn_bbox: 0.0994, s0.loss_cls: 0.3789, s0.acc: 91.8085, s0.loss_bbox: 0.1523, s1.loss_cls: 0.1551, s1.acc: 93.1918, s1.loss_bbox: 0.1038, s2.loss_cls: 0.0576, s2.acc: 95.2290, s2.loss_bbox: 0.0374, loss: 1.2233, grad_norm: 1.3199\n",
      "2021-09-29 06:46:32,632 - mmdet - INFO - Epoch [3][700/980]\tlr: 2.000e-02, eta: 3:50:19, time: 1.519, data_time: 0.011, memory: 19497, loss_rpn_cls: 0.2079, loss_rpn_bbox: 0.0892, s0.loss_cls: 0.3676, s0.acc: 91.5967, s0.loss_bbox: 0.1591, s1.loss_cls: 0.1521, s1.acc: 92.9688, s1.loss_bbox: 0.1097, s2.loss_cls: 0.0549, s2.acc: 95.3223, s2.loss_bbox: 0.0384, loss: 1.1789, grad_norm: 1.2151\n",
      "2021-09-29 06:46:46,608 - mmdet - INFO - Epoch [3][710/980]\tlr: 2.000e-02, eta: 3:50:00, time: 1.398, data_time: 0.010, memory: 19497, loss_rpn_cls: 0.2315, loss_rpn_bbox: 0.1048, s0.loss_cls: 0.3826, s0.acc: 91.6309, s0.loss_bbox: 0.1480, s1.loss_cls: 0.1657, s1.acc: 92.5342, s1.loss_bbox: 0.1049, s2.loss_cls: 0.0621, s2.acc: 94.4043, s2.loss_bbox: 0.0395, loss: 1.2390, grad_norm: 1.1926\n",
      "2021-09-29 06:47:03,890 - mmdet - INFO - Epoch [3][720/980]\tlr: 2.000e-02, eta: 3:49:52, time: 1.728, data_time: 0.011, memory: 19497, loss_rpn_cls: 0.1928, loss_rpn_bbox: 0.0784, s0.loss_cls: 0.3915, s0.acc: 91.1719, s0.loss_bbox: 0.1541, s1.loss_cls: 0.1808, s1.acc: 91.5088, s1.loss_bbox: 0.1146, s2.loss_cls: 0.0700, s2.acc: 93.4229, s2.loss_bbox: 0.0446, loss: 1.2268, grad_norm: 1.3270\n",
      "2021-09-29 06:47:17,818 - mmdet - INFO - Epoch [3][730/980]\tlr: 2.000e-02, eta: 3:49:32, time: 1.393, data_time: 0.010, memory: 19497, loss_rpn_cls: 0.1680, loss_rpn_bbox: 0.0911, s0.loss_cls: 0.3998, s0.acc: 89.8427, s0.loss_bbox: 0.1759, s1.loss_cls: 0.1802, s1.acc: 90.3636, s1.loss_bbox: 0.1510, s2.loss_cls: 0.0722, s2.acc: 92.6024, s2.loss_bbox: 0.0573, loss: 1.2955, grad_norm: 1.5597\n",
      "2021-09-29 06:47:35,052 - mmdet - INFO - Epoch [3][740/980]\tlr: 2.000e-02, eta: 3:49:24, time: 1.723, data_time: 0.011, memory: 19497, loss_rpn_cls: 0.2320, loss_rpn_bbox: 0.1054, s0.loss_cls: 0.4323, s0.acc: 90.3125, s0.loss_bbox: 0.1806, s1.loss_cls: 0.1801, s1.acc: 92.0410, s1.loss_bbox: 0.1242, s2.loss_cls: 0.0629, s2.acc: 94.6582, s2.loss_bbox: 0.0405, loss: 1.3581, grad_norm: 1.3148\n",
      "2021-09-29 06:47:51,292 - mmdet - INFO - Epoch [3][750/980]\tlr: 2.000e-02, eta: 3:49:12, time: 1.624, data_time: 0.011, memory: 19497, loss_rpn_cls: 0.1909, loss_rpn_bbox: 0.0971, s0.loss_cls: 0.3463, s0.acc: 92.2607, s0.loss_bbox: 0.1350, s1.loss_cls: 0.1481, s1.acc: 93.3740, s1.loss_bbox: 0.0980, s2.loss_cls: 0.0527, s2.acc: 95.3320, s2.loss_bbox: 0.0348, loss: 1.1028, grad_norm: 1.2309\n",
      "2021-09-29 06:48:06,307 - mmdet - INFO - Epoch [3][760/980]\tlr: 2.000e-02, eta: 3:48:56, time: 1.502, data_time: 0.011, memory: 19497, loss_rpn_cls: 0.2447, loss_rpn_bbox: 0.0938, s0.loss_cls: 0.3104, s0.acc: 92.9075, s0.loss_bbox: 0.1205, s1.loss_cls: 0.1431, s1.acc: 93.2997, s1.loss_bbox: 0.0931, s2.loss_cls: 0.0555, s2.acc: 94.9863, s2.loss_bbox: 0.0370, loss: 1.0979, grad_norm: 1.6092\n",
      "2021-09-29 06:48:22,575 - mmdet - INFO - Epoch [3][770/980]\tlr: 2.000e-02, eta: 3:48:45, time: 1.627, data_time: 0.011, memory: 19497, loss_rpn_cls: 0.2466, loss_rpn_bbox: 0.0989, s0.loss_cls: 0.3805, s0.acc: 91.8652, s0.loss_bbox: 0.1431, s1.loss_cls: 0.1600, s1.acc: 93.0078, s1.loss_bbox: 0.1018, s2.loss_cls: 0.0585, s2.acc: 95.3174, s2.loss_bbox: 0.0348, loss: 1.2242, grad_norm: 1.2598\n",
      "2021-09-29 06:48:35,590 - mmdet - INFO - Epoch [3][780/980]\tlr: 2.000e-02, eta: 3:48:22, time: 1.301, data_time: 0.009, memory: 19497, loss_rpn_cls: 0.2836, loss_rpn_bbox: 0.1142, s0.loss_cls: 0.4247, s0.acc: 90.8398, s0.loss_bbox: 0.1571, s1.loss_cls: 0.1692, s1.acc: 92.3091, s1.loss_bbox: 0.1053, s2.loss_cls: 0.0637, s2.acc: 94.2231, s2.loss_bbox: 0.0386, loss: 1.3564, grad_norm: 1.5598\n",
      "2021-09-29 06:48:52,925 - mmdet - INFO - Epoch [3][790/980]\tlr: 2.000e-02, eta: 3:48:14, time: 1.734, data_time: 0.011, memory: 19497, loss_rpn_cls: 0.2462, loss_rpn_bbox: 0.1035, s0.loss_cls: 0.3900, s0.acc: 91.9306, s0.loss_bbox: 0.1524, s1.loss_cls: 0.1542, s1.acc: 93.4874, s1.loss_bbox: 0.0927, s2.loss_cls: 0.0566, s2.acc: 95.2343, s2.loss_bbox: 0.0348, loss: 1.2305, grad_norm: 1.2200\n",
      "2021-09-29 06:49:05,856 - mmdet - INFO - Epoch [3][800/980]\tlr: 2.000e-02, eta: 3:47:52, time: 1.293, data_time: 0.010, memory: 19497, loss_rpn_cls: 0.1754, loss_rpn_bbox: 0.0798, s0.loss_cls: 0.3836, s0.acc: 90.7324, s0.loss_bbox: 0.1641, s1.loss_cls: 0.1727, s1.acc: 91.1437, s1.loss_bbox: 0.1303, s2.loss_cls: 0.0688, s2.acc: 93.4009, s2.loss_bbox: 0.0542, loss: 1.2288, grad_norm: 1.2796\n",
      "2021-09-29 06:49:22,149 - mmdet - INFO - Epoch [3][810/980]\tlr: 2.000e-02, eta: 3:47:40, time: 1.629, data_time: 0.010, memory: 19497, loss_rpn_cls: 0.2758, loss_rpn_bbox: 0.1682, s0.loss_cls: 0.4284, s0.acc: 91.9484, s0.loss_bbox: 0.1554, s1.loss_cls: 0.1700, s1.acc: 93.6390, s1.loss_bbox: 0.0940, s2.loss_cls: 0.0617, s2.acc: 95.3978, s2.loss_bbox: 0.0319, loss: 1.3855, grad_norm: 1.7410\n",
      "2021-09-29 06:49:36,069 - mmdet - INFO - Epoch [3][820/980]\tlr: 2.000e-02, eta: 3:47:21, time: 1.392, data_time: 0.010, memory: 19497, loss_rpn_cls: 0.2578, loss_rpn_bbox: 0.0944, s0.loss_cls: 0.4094, s0.acc: 91.6990, s0.loss_bbox: 0.1551, s1.loss_cls: 0.1648, s1.acc: 93.5016, s1.loss_bbox: 0.1054, s2.loss_cls: 0.0548, s2.acc: 96.0674, s2.loss_bbox: 0.0307, loss: 1.2723, grad_norm: 1.4738\n",
      "2021-09-29 06:49:50,013 - mmdet - INFO - Epoch [3][830/980]\tlr: 2.000e-02, eta: 3:47:02, time: 1.394, data_time: 0.011, memory: 19497, loss_rpn_cls: 0.2106, loss_rpn_bbox: 0.0848, s0.loss_cls: 0.3312, s0.acc: 92.5977, s0.loss_bbox: 0.1193, s1.loss_cls: 0.1466, s1.acc: 92.9868, s1.loss_bbox: 0.1044, s2.loss_cls: 0.0574, s2.acc: 94.7189, s2.loss_bbox: 0.0443, loss: 1.0986, grad_norm: 1.1177\n",
      "2021-09-29 06:50:04,027 - mmdet - INFO - Epoch [3][840/980]\tlr: 2.000e-02, eta: 3:46:43, time: 1.401, data_time: 0.010, memory: 19497, loss_rpn_cls: 0.2241, loss_rpn_bbox: 0.1175, s0.loss_cls: 0.4164, s0.acc: 91.1621, s0.loss_bbox: 0.1709, s1.loss_cls: 0.1676, s1.acc: 92.5045, s1.loss_bbox: 0.1122, s2.loss_cls: 0.0619, s2.acc: 94.7457, s2.loss_bbox: 0.0370, loss: 1.3076, grad_norm: 1.3883\n"
     ]
    },
    {
     "name": "stderr",
     "output_type": "stream",
     "text": [
      "2021-09-29 06:50:20,306 - mmdet - INFO - Epoch [3][850/980]\tlr: 2.000e-02, eta: 3:46:31, time: 1.628, data_time: 0.011, memory: 19497, loss_rpn_cls: 0.2092, loss_rpn_bbox: 0.1070, s0.loss_cls: 0.3668, s0.acc: 91.3912, s0.loss_bbox: 0.1494, s1.loss_cls: 0.1574, s1.acc: 92.7132, s1.loss_bbox: 0.1105, s2.loss_cls: 0.0596, s2.acc: 95.0681, s2.loss_bbox: 0.0394, loss: 1.1993, grad_norm: 1.1257\n",
      "2021-09-29 06:50:36,596 - mmdet - INFO - Epoch [3][860/980]\tlr: 2.000e-02, eta: 3:46:19, time: 1.629, data_time: 0.011, memory: 19497, loss_rpn_cls: 0.2422, loss_rpn_bbox: 0.1420, s0.loss_cls: 0.5025, s0.acc: 88.7158, s0.loss_bbox: 0.2266, s1.loss_cls: 0.1908, s1.acc: 91.6748, s1.loss_bbox: 0.1368, s2.loss_cls: 0.0636, s2.acc: 94.9072, s2.loss_bbox: 0.0381, loss: 1.5427, grad_norm: 1.5123\n",
      "2021-09-29 06:50:50,544 - mmdet - INFO - Epoch [3][870/980]\tlr: 2.000e-02, eta: 3:46:00, time: 1.395, data_time: 0.010, memory: 19497, loss_rpn_cls: 0.2439, loss_rpn_bbox: 0.1069, s0.loss_cls: 0.3947, s0.acc: 91.6781, s0.loss_bbox: 0.1493, s1.loss_cls: 0.1635, s1.acc: 93.0461, s1.loss_bbox: 0.0925, s2.loss_cls: 0.0611, s2.acc: 94.8824, s2.loss_bbox: 0.0343, loss: 1.2463, grad_norm: 1.4582\n",
      "2021-09-29 06:51:05,657 - mmdet - INFO - Epoch [3][880/980]\tlr: 2.000e-02, eta: 3:45:45, time: 1.511, data_time: 0.010, memory: 19497, loss_rpn_cls: 0.2217, loss_rpn_bbox: 0.1170, s0.loss_cls: 0.4190, s0.acc: 90.5518, s0.loss_bbox: 0.1607, s1.loss_cls: 0.1783, s1.acc: 91.7432, s1.loss_bbox: 0.1189, s2.loss_cls: 0.0685, s2.acc: 93.5840, s2.loss_bbox: 0.0470, loss: 1.3309, grad_norm: 1.3417\n",
      "2021-09-29 06:51:17,442 - mmdet - INFO - Epoch [3][890/980]\tlr: 2.000e-02, eta: 3:45:19, time: 1.178, data_time: 0.009, memory: 19497, loss_rpn_cls: 0.1908, loss_rpn_bbox: 0.1125, s0.loss_cls: 0.3161, s0.acc: 92.8369, s0.loss_bbox: 0.1253, s1.loss_cls: 0.1452, s1.acc: 92.9199, s1.loss_bbox: 0.0949, s2.loss_cls: 0.0579, s2.acc: 94.0771, s2.loss_bbox: 0.0457, loss: 1.0884, grad_norm: 1.3183\n",
      "2021-09-29 06:51:33,687 - mmdet - INFO - Epoch [3][900/980]\tlr: 2.000e-02, eta: 3:45:07, time: 1.625, data_time: 0.011, memory: 19497, loss_rpn_cls: 0.1814, loss_rpn_bbox: 0.1453, s0.loss_cls: 0.3712, s0.acc: 91.4121, s0.loss_bbox: 0.1640, s1.loss_cls: 0.1477, s1.acc: 93.1721, s1.loss_bbox: 0.1024, s2.loss_cls: 0.0544, s2.acc: 95.1484, s2.loss_bbox: 0.0354, loss: 1.2018, grad_norm: 1.0910\n",
      "2021-09-29 06:51:47,836 - mmdet - INFO - Epoch [3][910/980]\tlr: 2.000e-02, eta: 3:44:49, time: 1.415, data_time: 0.011, memory: 19497, loss_rpn_cls: 0.2160, loss_rpn_bbox: 0.1077, s0.loss_cls: 0.4036, s0.acc: 91.4826, s0.loss_bbox: 0.1572, s1.loss_cls: 0.1687, s1.acc: 92.3918, s1.loss_bbox: 0.1154, s2.loss_cls: 0.0615, s2.acc: 94.5716, s2.loss_bbox: 0.0433, loss: 1.2735, grad_norm: 1.4193\n",
      "2021-09-29 06:52:01,892 - mmdet - INFO - Epoch [3][920/980]\tlr: 2.000e-02, eta: 3:44:30, time: 1.406, data_time: 0.010, memory: 19497, loss_rpn_cls: 0.1739, loss_rpn_bbox: 0.0831, s0.loss_cls: 0.3669, s0.acc: 91.7198, s0.loss_bbox: 0.1371, s1.loss_cls: 0.1712, s1.acc: 91.6988, s1.loss_bbox: 0.1109, s2.loss_cls: 0.0672, s2.acc: 93.4809, s2.loss_bbox: 0.0491, loss: 1.1595, grad_norm: 1.3257\n",
      "2021-09-29 06:52:18,112 - mmdet - INFO - Epoch [3][930/980]\tlr: 2.000e-02, eta: 3:44:18, time: 1.622, data_time: 0.011, memory: 19497, loss_rpn_cls: 0.2154, loss_rpn_bbox: 0.1063, s0.loss_cls: 0.3608, s0.acc: 91.7382, s0.loss_bbox: 0.1451, s1.loss_cls: 0.1593, s1.acc: 92.3716, s1.loss_bbox: 0.1072, s2.loss_cls: 0.0618, s2.acc: 94.1505, s2.loss_bbox: 0.0406, loss: 1.1964, grad_norm: 1.2405\n",
      "2021-09-29 06:52:34,365 - mmdet - INFO - Epoch [3][940/980]\tlr: 2.000e-02, eta: 3:44:06, time: 1.625, data_time: 0.011, memory: 19497, loss_rpn_cls: 0.2100, loss_rpn_bbox: 0.1089, s0.loss_cls: 0.3499, s0.acc: 91.3962, s0.loss_bbox: 0.1604, s1.loss_cls: 0.1495, s1.acc: 92.7826, s1.loss_bbox: 0.1148, s2.loss_cls: 0.0553, s2.acc: 94.9170, s2.loss_bbox: 0.0426, loss: 1.1915, grad_norm: 1.3395\n",
      "2021-09-29 06:52:50,447 - mmdet - INFO - Epoch [3][950/980]\tlr: 2.000e-02, eta: 3:43:54, time: 1.608, data_time: 0.011, memory: 19497, loss_rpn_cls: 0.1780, loss_rpn_bbox: 0.0869, s0.loss_cls: 0.3444, s0.acc: 91.9174, s0.loss_bbox: 0.1287, s1.loss_cls: 0.1552, s1.acc: 92.2860, s1.loss_bbox: 0.1068, s2.loss_cls: 0.0614, s2.acc: 93.9437, s2.loss_bbox: 0.0477, loss: 1.1093, grad_norm: 1.3160\n",
      "2021-09-29 06:53:06,644 - mmdet - INFO - Epoch [3][960/980]\tlr: 2.000e-02, eta: 3:43:42, time: 1.620, data_time: 0.010, memory: 19497, loss_rpn_cls: 0.2517, loss_rpn_bbox: 0.1305, s0.loss_cls: 0.4500, s0.acc: 89.5871, s0.loss_bbox: 0.1986, s1.loss_cls: 0.1905, s1.acc: 91.5074, s1.loss_bbox: 0.1343, s2.loss_cls: 0.0689, s2.acc: 94.2096, s2.loss_bbox: 0.0464, loss: 1.4708, grad_norm: 1.3462\n",
      "2021-09-29 06:53:23,993 - mmdet - INFO - Epoch [3][970/980]\tlr: 2.000e-02, eta: 3:43:33, time: 1.735, data_time: 0.011, memory: 19497, loss_rpn_cls: 0.1993, loss_rpn_bbox: 0.0994, s0.loss_cls: 0.3721, s0.acc: 91.7627, s0.loss_bbox: 0.1466, s1.loss_cls: 0.1560, s1.acc: 92.5830, s1.loss_bbox: 0.1089, s2.loss_cls: 0.0580, s2.acc: 94.4580, s2.loss_bbox: 0.0408, loss: 1.1811, grad_norm: 1.3229\n",
      "2021-09-29 06:53:39,159 - mmdet - INFO - Epoch [3][980/980]\tlr: 2.000e-02, eta: 3:43:18, time: 1.517, data_time: 0.011, memory: 19497, loss_rpn_cls: 0.2041, loss_rpn_bbox: 0.0993, s0.loss_cls: 0.4035, s0.acc: 90.5518, s0.loss_bbox: 0.1630, s1.loss_cls: 0.1792, s1.acc: 91.2695, s1.loss_bbox: 0.1242, s2.loss_cls: 0.0693, s2.acc: 93.1299, s2.loss_bbox: 0.0508, loss: 1.2935, grad_norm: 1.2988\n",
      "2021-09-29 06:53:39,228 - mmdet - INFO - Saving checkpoint at 3 epochs\n"
     ]
    },
    {
     "name": "stdout",
     "output_type": "stream",
     "text": [
      "[>>>>>>>>>>>>>>>>>>>>>>>>>>>>>] 966/966, 1.4 task/s, elapsed: 674s, ETA:     0s"
     ]
    },
    {
     "name": "stderr",
     "output_type": "stream",
     "text": [
      "2021-09-29 07:04:55,536 - mmdet - INFO - Evaluating bbox...\n"
     ]
    },
    {
     "name": "stdout",
     "output_type": "stream",
     "text": [
      "Loading and preparing results...\n",
      "DONE (t=0.03s)\n",
      "creating index...\n",
      "index created!\n",
      "Running per image evaluation...\n",
      "Evaluate annotation type *bbox*\n",
      "DONE (t=2.29s).\n",
      "Accumulating evaluation results...\n"
     ]
    },
    {
     "name": "stderr",
     "output_type": "stream",
     "text": [
      "2021-09-29 07:04:58,838 - mmdet - INFO - Epoch(val) [3][966]\tbbox_mAP: 0.0220, bbox_mAP_50: 0.0410, bbox_mAP_75: 0.0210, bbox_mAP_s: 0.0000, bbox_mAP_m: 0.0020, bbox_mAP_l: 0.0270, bbox_mAP_copypaste: 0.022 0.041 0.021 0.000 0.002 0.027\n"
     ]
    },
    {
     "name": "stdout",
     "output_type": "stream",
     "text": [
      "DONE (t=0.69s).\n",
      " Average Precision  (AP) @[ IoU=0.50:0.95 | area=   all | maxDets=100 ] = 0.022\n",
      " Average Precision  (AP) @[ IoU=0.50      | area=   all | maxDets=1000 ] = 0.041\n",
      " Average Precision  (AP) @[ IoU=0.75      | area=   all | maxDets=1000 ] = 0.021\n",
      " Average Precision  (AP) @[ IoU=0.50:0.95 | area= small | maxDets=1000 ] = 0.000\n",
      " Average Precision  (AP) @[ IoU=0.50:0.95 | area=medium | maxDets=1000 ] = 0.002\n",
      " Average Precision  (AP) @[ IoU=0.50:0.95 | area= large | maxDets=1000 ] = 0.027\n",
      " Average Recall     (AR) @[ IoU=0.50:0.95 | area=   all | maxDets=100 ] = 0.095\n",
      " Average Recall     (AR) @[ IoU=0.50:0.95 | area=   all | maxDets=300 ] = 0.095\n",
      " Average Recall     (AR) @[ IoU=0.50:0.95 | area=   all | maxDets=1000 ] = 0.095\n",
      " Average Recall     (AR) @[ IoU=0.50:0.95 | area= small | maxDets=1000 ] = 0.000\n",
      " Average Recall     (AR) @[ IoU=0.50:0.95 | area=medium | maxDets=1000 ] = 0.016\n",
      " Average Recall     (AR) @[ IoU=0.50:0.95 | area= large | maxDets=1000 ] = 0.118\n"
     ]
    },
    {
     "name": "stderr",
     "output_type": "stream",
     "text": [
      "2021-09-29 07:05:18,455 - mmdet - INFO - Epoch [4][10/980]\tlr: 2.000e-02, eta: 3:43:16, time: 1.960, data_time: 0.241, memory: 19497, loss_rpn_cls: 0.2168, loss_rpn_bbox: 0.0918, s0.loss_cls: 0.4811, s0.acc: 89.0527, s0.loss_bbox: 0.2009, s1.loss_cls: 0.1926, s1.acc: 91.2061, s1.loss_bbox: 0.1306, s2.loss_cls: 0.0697, s2.acc: 93.8379, s2.loss_bbox: 0.0455, loss: 1.4290, grad_norm: 1.2631\n",
      "2021-09-29 07:05:33,585 - mmdet - INFO - Epoch [4][20/980]\tlr: 2.000e-02, eta: 3:43:00, time: 1.513, data_time: 0.011, memory: 19497, loss_rpn_cls: 0.2308, loss_rpn_bbox: 0.1174, s0.loss_cls: 0.3917, s0.acc: 90.3780, s0.loss_bbox: 0.1819, s1.loss_cls: 0.1587, s1.acc: 91.8863, s1.loss_bbox: 0.1228, s2.loss_cls: 0.0604, s2.acc: 93.8441, s2.loss_bbox: 0.0488, loss: 1.3124, grad_norm: 1.5700\n",
      "2021-09-29 07:05:47,551 - mmdet - INFO - Epoch [4][30/980]\tlr: 2.000e-02, eta: 3:42:41, time: 1.397, data_time: 0.010, memory: 19497, loss_rpn_cls: 0.2507, loss_rpn_bbox: 0.1034, s0.loss_cls: 0.3913, s0.acc: 91.3700, s0.loss_bbox: 0.1610, s1.loss_cls: 0.1562, s1.acc: 93.1505, s1.loss_bbox: 0.1072, s2.loss_cls: 0.0572, s2.acc: 95.4853, s2.loss_bbox: 0.0354, loss: 1.2623, grad_norm: 1.3096\n",
      "2021-09-29 07:06:04,658 - mmdet - INFO - Epoch [4][40/980]\tlr: 2.000e-02, eta: 3:42:32, time: 1.711, data_time: 0.010, memory: 19497, loss_rpn_cls: 0.1811, loss_rpn_bbox: 0.0992, s0.loss_cls: 0.2859, s0.acc: 93.1551, s0.loss_bbox: 0.1279, s1.loss_cls: 0.1214, s1.acc: 94.2687, s1.loss_bbox: 0.0871, s2.loss_cls: 0.0455, s2.acc: 96.1731, s2.loss_bbox: 0.0293, loss: 0.9773, grad_norm: 1.1212\n",
      "2021-09-29 07:06:18,280 - mmdet - INFO - Epoch [4][50/980]\tlr: 2.000e-02, eta: 3:42:12, time: 1.362, data_time: 0.010, memory: 19497, loss_rpn_cls: 0.2259, loss_rpn_bbox: 0.1133, s0.loss_cls: 0.3535, s0.acc: 91.9730, s0.loss_bbox: 0.1548, s1.loss_cls: 0.1412, s1.acc: 93.4091, s1.loss_bbox: 0.1027, s2.loss_cls: 0.0505, s2.acc: 95.6129, s2.loss_bbox: 0.0317, loss: 1.1736, grad_norm: 1.3437\n",
      "2021-09-29 07:06:33,515 - mmdet - INFO - Epoch [4][60/980]\tlr: 2.000e-02, eta: 3:41:57, time: 1.524, data_time: 0.010, memory: 19497, loss_rpn_cls: 0.1780, loss_rpn_bbox: 0.1010, s0.loss_cls: 0.3218, s0.acc: 92.7796, s0.loss_bbox: 0.1299, s1.loss_cls: 0.1523, s1.acc: 93.0897, s1.loss_bbox: 0.0977, s2.loss_cls: 0.0599, s2.acc: 94.5417, s2.loss_bbox: 0.0423, loss: 1.0829, grad_norm: 1.1603\n",
      "2021-09-29 07:06:48,685 - mmdet - INFO - Epoch [4][70/980]\tlr: 2.000e-02, eta: 3:41:42, time: 1.517, data_time: 0.010, memory: 19497, loss_rpn_cls: 0.2684, loss_rpn_bbox: 0.1199, s0.loss_cls: 0.4807, s0.acc: 89.8559, s0.loss_bbox: 0.1902, s1.loss_cls: 0.1919, s1.acc: 92.0902, s1.loss_bbox: 0.1221, s2.loss_cls: 0.0692, s2.acc: 94.7986, s2.loss_bbox: 0.0390, loss: 1.4815, grad_norm: 1.7395\n",
      "2021-09-29 07:07:02,643 - mmdet - INFO - Epoch [4][80/980]\tlr: 2.000e-02, eta: 3:41:23, time: 1.396, data_time: 0.011, memory: 19497, loss_rpn_cls: 0.2242, loss_rpn_bbox: 0.0883, s0.loss_cls: 0.3415, s0.acc: 92.2427, s0.loss_bbox: 0.1288, s1.loss_cls: 0.1481, s1.acc: 93.0202, s1.loss_bbox: 0.0993, s2.loss_cls: 0.0560, s2.acc: 94.8596, s2.loss_bbox: 0.0370, loss: 1.1231, grad_norm: 1.3368\n",
      "2021-09-29 07:07:14,418 - mmdet - INFO - Epoch [4][90/980]\tlr: 2.000e-02, eta: 3:40:58, time: 1.177, data_time: 0.008, memory: 19497, loss_rpn_cls: 0.2292, loss_rpn_bbox: 0.0880, s0.loss_cls: 0.4191, s0.acc: 90.4291, s0.loss_bbox: 0.1574, s1.loss_cls: 0.1775, s1.acc: 91.2211, s1.loss_bbox: 0.1150, s2.loss_cls: 0.0702, s2.acc: 93.6448, s2.loss_bbox: 0.0459, loss: 1.3024, grad_norm: 1.3368\n",
      "2021-09-29 07:07:29,620 - mmdet - INFO - Epoch [4][100/980]\tlr: 2.000e-02, eta: 3:40:43, time: 1.520, data_time: 0.009, memory: 19497, loss_rpn_cls: 0.2079, loss_rpn_bbox: 0.1229, s0.loss_cls: 0.4339, s0.acc: 90.5908, s0.loss_bbox: 0.1798, s1.loss_cls: 0.1689, s1.acc: 92.5977, s1.loss_bbox: 0.1085, s2.loss_cls: 0.0574, s2.acc: 94.9609, s2.loss_bbox: 0.0363, loss: 1.3156, grad_norm: 1.3241\n",
      "2021-09-29 07:07:44,497 - mmdet - INFO - Epoch [4][110/980]\tlr: 2.000e-02, eta: 3:40:27, time: 1.488, data_time: 0.010, memory: 19497, loss_rpn_cls: 0.2152, loss_rpn_bbox: 0.0968, s0.loss_cls: 0.3927, s0.acc: 91.1523, s0.loss_bbox: 0.1608, s1.loss_cls: 0.1570, s1.acc: 92.5830, s1.loss_bbox: 0.1048, s2.loss_cls: 0.0583, s2.acc: 94.2578, s2.loss_bbox: 0.0398, loss: 1.2254, grad_norm: 1.3066\n",
      "2021-09-29 07:07:59,636 - mmdet - INFO - Epoch [4][120/980]\tlr: 2.000e-02, eta: 3:40:11, time: 1.514, data_time: 0.010, memory: 19497, loss_rpn_cls: 0.2046, loss_rpn_bbox: 0.1069, s0.loss_cls: 0.3998, s0.acc: 90.8098, s0.loss_bbox: 0.1561, s1.loss_cls: 0.1743, s1.acc: 91.6067, s1.loss_bbox: 0.1205, s2.loss_cls: 0.0692, s2.acc: 93.1383, s2.loss_bbox: 0.0510, loss: 1.2824, grad_norm: 1.3455\n",
      "2021-09-29 07:08:13,605 - mmdet - INFO - Epoch [4][130/980]\tlr: 2.000e-02, eta: 3:39:53, time: 1.397, data_time: 0.009, memory: 19497, loss_rpn_cls: 0.1436, loss_rpn_bbox: 0.0843, s0.loss_cls: 0.3257, s0.acc: 92.3682, s0.loss_bbox: 0.1253, s1.loss_cls: 0.1515, s1.acc: 92.2119, s1.loss_bbox: 0.0913, s2.loss_cls: 0.0616, s2.acc: 93.7061, s2.loss_bbox: 0.0367, loss: 1.0200, grad_norm: 1.1918\n",
      "2021-09-29 07:08:30,812 - mmdet - INFO - Epoch [4][140/980]\tlr: 2.000e-02, eta: 3:39:43, time: 1.721, data_time: 0.012, memory: 19497, loss_rpn_cls: 0.2517, loss_rpn_bbox: 0.1353, s0.loss_cls: 0.3698, s0.acc: 91.7522, s0.loss_bbox: 0.1486, s1.loss_cls: 0.1658, s1.acc: 92.2700, s1.loss_bbox: 0.1050, s2.loss_cls: 0.0629, s2.acc: 93.9310, s2.loss_bbox: 0.0407, loss: 1.2798, grad_norm: 1.6110\n",
      "2021-09-29 07:08:45,834 - mmdet - INFO - Epoch [4][150/980]\tlr: 2.000e-02, eta: 3:39:27, time: 1.502, data_time: 0.010, memory: 19497, loss_rpn_cls: 0.2440, loss_rpn_bbox: 0.0905, s0.loss_cls: 0.4056, s0.acc: 91.3525, s0.loss_bbox: 0.1424, s1.loss_cls: 0.1704, s1.acc: 92.6221, s1.loss_bbox: 0.0991, s2.loss_cls: 0.0646, s2.acc: 94.3652, s2.loss_bbox: 0.0419, loss: 1.2584, grad_norm: 1.3992\n",
      "2021-09-29 07:08:59,637 - mmdet - INFO - Epoch [4][160/980]\tlr: 2.000e-02, eta: 3:39:08, time: 1.380, data_time: 0.010, memory: 19497, loss_rpn_cls: 0.2197, loss_rpn_bbox: 0.1259, s0.loss_cls: 0.4053, s0.acc: 90.7250, s0.loss_bbox: 0.1624, s1.loss_cls: 0.1785, s1.acc: 91.8295, s1.loss_bbox: 0.1132, s2.loss_cls: 0.0696, s2.acc: 93.4276, s2.loss_bbox: 0.0475, loss: 1.3222, grad_norm: 1.3563\n",
      "2021-09-29 07:09:16,957 - mmdet - INFO - Epoch [4][170/980]\tlr: 2.000e-02, eta: 3:38:59, time: 1.732, data_time: 0.012, memory: 19497, loss_rpn_cls: 0.1764, loss_rpn_bbox: 0.1154, s0.loss_cls: 0.3159, s0.acc: 92.7502, s0.loss_bbox: 0.1154, s1.loss_cls: 0.1392, s1.acc: 93.3263, s1.loss_bbox: 0.0931, s2.loss_cls: 0.0535, s2.acc: 94.9827, s2.loss_bbox: 0.0376, loss: 1.0466, grad_norm: 1.1826\n",
      "2021-09-29 07:09:30,988 - mmdet - INFO - Epoch [4][180/980]\tlr: 2.000e-02, eta: 3:38:41, time: 1.403, data_time: 0.010, memory: 19497, loss_rpn_cls: 0.1926, loss_rpn_bbox: 0.1144, s0.loss_cls: 0.3509, s0.acc: 92.0541, s0.loss_bbox: 0.1327, s1.loss_cls: 0.1585, s1.acc: 92.3285, s1.loss_bbox: 0.1058, s2.loss_cls: 0.0601, s2.acc: 94.1004, s2.loss_bbox: 0.0407, loss: 1.1558, grad_norm: 1.2011\n",
      "2021-09-29 07:09:47,280 - mmdet - INFO - Epoch [4][190/980]\tlr: 2.000e-02, eta: 3:38:29, time: 1.629, data_time: 0.010, memory: 19497, loss_rpn_cls: 0.1947, loss_rpn_bbox: 0.0801, s0.loss_cls: 0.3872, s0.acc: 91.0069, s0.loss_bbox: 0.1471, s1.loss_cls: 0.1779, s1.acc: 91.3228, s1.loss_bbox: 0.1253, s2.loss_cls: 0.0698, s2.acc: 93.2714, s2.loss_bbox: 0.0530, loss: 1.2352, grad_norm: 1.4287\n",
      "2021-09-29 07:10:03,530 - mmdet - INFO - Epoch [4][200/980]\tlr: 2.000e-02, eta: 3:38:16, time: 1.625, data_time: 0.011, memory: 19497, loss_rpn_cls: 0.2067, loss_rpn_bbox: 0.0941, s0.loss_cls: 0.3249, s0.acc: 92.9627, s0.loss_bbox: 0.1182, s1.loss_cls: 0.1402, s1.acc: 93.5684, s1.loss_bbox: 0.0897, s2.loss_cls: 0.0544, s2.acc: 95.2678, s2.loss_bbox: 0.0341, loss: 1.0624, grad_norm: 1.0572\n",
      "2021-09-29 07:10:19,570 - mmdet - INFO - Epoch [4][210/980]\tlr: 2.000e-02, eta: 3:38:03, time: 1.604, data_time: 0.011, memory: 19497, loss_rpn_cls: 0.1590, loss_rpn_bbox: 0.0824, s0.loss_cls: 0.3505, s0.acc: 92.4321, s0.loss_bbox: 0.1281, s1.loss_cls: 0.1614, s1.acc: 92.4455, s1.loss_bbox: 0.1018, s2.loss_cls: 0.0607, s2.acc: 94.1570, s2.loss_bbox: 0.0391, loss: 1.0831, grad_norm: 1.4548\n"
     ]
    },
    {
     "name": "stderr",
     "output_type": "stream",
     "text": [
      "2021-09-29 07:10:35,816 - mmdet - INFO - Epoch [4][220/980]\tlr: 2.000e-02, eta: 3:37:51, time: 1.625, data_time: 0.010, memory: 19497, loss_rpn_cls: 0.2333, loss_rpn_bbox: 0.0813, s0.loss_cls: 0.3841, s0.acc: 91.6602, s0.loss_bbox: 0.1440, s1.loss_cls: 0.1602, s1.acc: 93.0029, s1.loss_bbox: 0.1035, s2.loss_cls: 0.0560, s2.acc: 95.1758, s2.loss_bbox: 0.0331, loss: 1.1954, grad_norm: 1.5076\n",
      "2021-09-29 07:10:49,835 - mmdet - INFO - Epoch [4][230/980]\tlr: 2.000e-02, eta: 3:37:33, time: 1.402, data_time: 0.010, memory: 19497, loss_rpn_cls: 0.2179, loss_rpn_bbox: 0.1170, s0.loss_cls: 0.4084, s0.acc: 90.4297, s0.loss_bbox: 0.1795, s1.loss_cls: 0.1588, s1.acc: 92.4951, s1.loss_bbox: 0.1197, s2.loss_cls: 0.0550, s2.acc: 95.2832, s2.loss_bbox: 0.0378, loss: 1.2942, grad_norm: 1.2407\n",
      "2021-09-29 07:11:04,973 - mmdet - INFO - Epoch [4][240/980]\tlr: 2.000e-02, eta: 3:37:17, time: 1.514, data_time: 0.010, memory: 19497, loss_rpn_cls: 0.1927, loss_rpn_bbox: 0.0913, s0.loss_cls: 0.3499, s0.acc: 91.9287, s0.loss_bbox: 0.1322, s1.loss_cls: 0.1572, s1.acc: 92.7100, s1.loss_bbox: 0.0949, s2.loss_cls: 0.0613, s2.acc: 94.2871, s2.loss_bbox: 0.0396, loss: 1.1192, grad_norm: 1.2354\n",
      "2021-09-29 07:11:20,063 - mmdet - INFO - Epoch [4][250/980]\tlr: 2.000e-02, eta: 3:37:02, time: 1.509, data_time: 0.010, memory: 19497, loss_rpn_cls: 0.1705, loss_rpn_bbox: 0.0770, s0.loss_cls: 0.3523, s0.acc: 92.1338, s0.loss_bbox: 0.1265, s1.loss_cls: 0.1629, s1.acc: 92.1729, s1.loss_bbox: 0.1074, s2.loss_cls: 0.0621, s2.acc: 94.1016, s2.loss_bbox: 0.0426, loss: 1.1012, grad_norm: 1.3965\n",
      "2021-09-29 07:11:35,265 - mmdet - INFO - Epoch [4][260/980]\tlr: 2.000e-02, eta: 3:36:47, time: 1.520, data_time: 0.010, memory: 19497, loss_rpn_cls: 0.2070, loss_rpn_bbox: 0.1168, s0.loss_cls: 0.3826, s0.acc: 91.0690, s0.loss_bbox: 0.1684, s1.loss_cls: 0.1552, s1.acc: 92.6289, s1.loss_bbox: 0.1079, s2.loss_cls: 0.0579, s2.acc: 94.6580, s2.loss_bbox: 0.0357, loss: 1.2314, grad_norm: 1.1489\n",
      "2021-09-29 07:11:51,527 - mmdet - INFO - Epoch [4][270/980]\tlr: 2.000e-02, eta: 3:36:34, time: 1.626, data_time: 0.011, memory: 19497, loss_rpn_cls: 0.1811, loss_rpn_bbox: 0.1089, s0.loss_cls: 0.3129, s0.acc: 92.9639, s0.loss_bbox: 0.1163, s1.loss_cls: 0.1397, s1.acc: 93.1934, s1.loss_bbox: 0.0957, s2.loss_cls: 0.0543, s2.acc: 94.6680, s2.loss_bbox: 0.0397, loss: 1.0487, grad_norm: 1.1419\n",
      "2021-09-29 07:12:06,710 - mmdet - INFO - Epoch [4][280/980]\tlr: 2.000e-02, eta: 3:36:19, time: 1.518, data_time: 0.010, memory: 19497, loss_rpn_cls: 0.1860, loss_rpn_bbox: 0.0945, s0.loss_cls: 0.4165, s0.acc: 89.9212, s0.loss_bbox: 0.1728, s1.loss_cls: 0.1794, s1.acc: 90.6487, s1.loss_bbox: 0.1271, s2.loss_cls: 0.0693, s2.acc: 92.7729, s2.loss_bbox: 0.0538, loss: 1.2993, grad_norm: 1.3107\n",
      "2021-09-29 07:12:22,975 - mmdet - INFO - Epoch [4][290/980]\tlr: 2.000e-02, eta: 3:36:07, time: 1.626, data_time: 0.011, memory: 19497, loss_rpn_cls: 0.1799, loss_rpn_bbox: 0.0935, s0.loss_cls: 0.3712, s0.acc: 91.0303, s0.loss_bbox: 0.1485, s1.loss_cls: 0.1727, s1.acc: 91.5283, s1.loss_bbox: 0.1212, s2.loss_cls: 0.0702, s2.acc: 92.9053, s2.loss_bbox: 0.0518, loss: 1.2091, grad_norm: 1.2792\n",
      "2021-09-29 07:12:37,047 - mmdet - INFO - Epoch [4][300/980]\tlr: 2.000e-02, eta: 3:35:49, time: 1.407, data_time: 0.010, memory: 19497, loss_rpn_cls: 0.2230, loss_rpn_bbox: 0.1050, s0.loss_cls: 0.4333, s0.acc: 89.9170, s0.loss_bbox: 0.1716, s1.loss_cls: 0.1865, s1.acc: 91.3916, s1.loss_bbox: 0.1208, s2.loss_cls: 0.0691, s2.acc: 93.5498, s2.loss_bbox: 0.0473, loss: 1.3565, grad_norm: 1.4598\n",
      "2021-09-29 07:12:53,262 - mmdet - INFO - Epoch [4][310/980]\tlr: 2.000e-02, eta: 3:35:36, time: 1.621, data_time: 0.010, memory: 19497, loss_rpn_cls: 0.1908, loss_rpn_bbox: 0.1057, s0.loss_cls: 0.3544, s0.acc: 92.0647, s0.loss_bbox: 0.1189, s1.loss_cls: 0.1620, s1.acc: 92.0676, s1.loss_bbox: 0.0997, s2.loss_cls: 0.0667, s2.acc: 93.5813, s2.loss_bbox: 0.0452, loss: 1.1433, grad_norm: 1.1987\n",
      "2021-09-29 07:13:06,183 - mmdet - INFO - Epoch [4][320/980]\tlr: 2.000e-02, eta: 3:35:15, time: 1.292, data_time: 0.009, memory: 19497, loss_rpn_cls: 0.1765, loss_rpn_bbox: 0.0839, s0.loss_cls: 0.3228, s0.acc: 92.5424, s0.loss_bbox: 0.1314, s1.loss_cls: 0.1418, s1.acc: 93.2587, s1.loss_bbox: 0.1011, s2.loss_cls: 0.0511, s2.acc: 95.3699, s2.loss_bbox: 0.0380, loss: 1.0466, grad_norm: 1.1108\n",
      "2021-09-29 07:13:21,214 - mmdet - INFO - Epoch [4][330/980]\tlr: 2.000e-02, eta: 3:34:59, time: 1.503, data_time: 0.010, memory: 19497, loss_rpn_cls: 0.1782, loss_rpn_bbox: 0.0761, s0.loss_cls: 0.3356, s0.acc: 92.3072, s0.loss_bbox: 0.1307, s1.loss_cls: 0.1546, s1.acc: 92.6339, s1.loss_bbox: 0.1176, s2.loss_cls: 0.0561, s2.acc: 94.7431, s2.loss_bbox: 0.0414, loss: 1.0904, grad_norm: 1.2768\n",
      "2021-09-29 07:13:37,528 - mmdet - INFO - Epoch [4][340/980]\tlr: 2.000e-02, eta: 3:34:47, time: 1.631, data_time: 0.011, memory: 19497, loss_rpn_cls: 0.1699, loss_rpn_bbox: 0.0962, s0.loss_cls: 0.3498, s0.acc: 92.0117, s0.loss_bbox: 0.1427, s1.loss_cls: 0.1474, s1.acc: 93.2373, s1.loss_bbox: 0.0942, s2.loss_cls: 0.0562, s2.acc: 95.0146, s2.loss_bbox: 0.0380, loss: 1.0945, grad_norm: 1.2326\n",
      "2021-09-29 07:13:52,738 - mmdet - INFO - Epoch [4][350/980]\tlr: 2.000e-02, eta: 3:34:32, time: 1.521, data_time: 0.010, memory: 19497, loss_rpn_cls: 0.1860, loss_rpn_bbox: 0.1089, s0.loss_cls: 0.3795, s0.acc: 91.1572, s0.loss_bbox: 0.1592, s1.loss_cls: 0.1555, s1.acc: 92.6221, s1.loss_bbox: 0.1097, s2.loss_cls: 0.0582, s2.acc: 94.6875, s2.loss_bbox: 0.0416, loss: 1.1985, grad_norm: 1.1842\n",
      "2021-09-29 07:14:07,955 - mmdet - INFO - Epoch [4][360/980]\tlr: 2.000e-02, eta: 3:34:17, time: 1.522, data_time: 0.010, memory: 19497, loss_rpn_cls: 0.2068, loss_rpn_bbox: 0.0876, s0.loss_cls: 0.3575, s0.acc: 91.4821, s0.loss_bbox: 0.1308, s1.loss_cls: 0.1711, s1.acc: 91.2524, s1.loss_bbox: 0.1105, s2.loss_cls: 0.0693, s2.acc: 92.6599, s2.loss_bbox: 0.0511, loss: 1.1846, grad_norm: 1.4385\n",
      "2021-09-29 07:14:24,118 - mmdet - INFO - Epoch [4][370/980]\tlr: 2.000e-02, eta: 3:34:04, time: 1.616, data_time: 0.010, memory: 19497, loss_rpn_cls: 0.2086, loss_rpn_bbox: 0.1291, s0.loss_cls: 0.3580, s0.acc: 92.3061, s0.loss_bbox: 0.1429, s1.loss_cls: 0.1440, s1.acc: 93.8747, s1.loss_bbox: 0.0942, s2.loss_cls: 0.0538, s2.acc: 95.6226, s2.loss_bbox: 0.0353, loss: 1.1658, grad_norm: 1.2271\n",
      "2021-09-29 07:14:36,903 - mmdet - INFO - Epoch [4][380/980]\tlr: 2.000e-02, eta: 3:33:43, time: 1.279, data_time: 0.010, memory: 19497, loss_rpn_cls: 0.1802, loss_rpn_bbox: 0.0868, s0.loss_cls: 0.3207, s0.acc: 92.7684, s0.loss_bbox: 0.1296, s1.loss_cls: 0.1332, s1.acc: 93.7716, s1.loss_bbox: 0.0909, s2.loss_cls: 0.0483, s2.acc: 95.4638, s2.loss_bbox: 0.0304, loss: 1.0201, grad_norm: 1.2777\n",
      "2021-09-29 07:14:51,995 - mmdet - INFO - Epoch [4][390/980]\tlr: 2.000e-02, eta: 3:33:27, time: 1.509, data_time: 0.010, memory: 19497, loss_rpn_cls: 0.1874, loss_rpn_bbox: 0.0960, s0.loss_cls: 0.3460, s0.acc: 92.4235, s0.loss_bbox: 0.1342, s1.loss_cls: 0.1638, s1.acc: 92.2761, s1.loss_bbox: 0.1095, s2.loss_cls: 0.0638, s2.acc: 94.1960, s2.loss_bbox: 0.0466, loss: 1.1472, grad_norm: 1.4935\n",
      "2021-09-29 07:15:09,236 - mmdet - INFO - Epoch [4][400/980]\tlr: 2.000e-02, eta: 3:33:17, time: 1.724, data_time: 0.011, memory: 19497, loss_rpn_cls: 0.1897, loss_rpn_bbox: 0.1168, s0.loss_cls: 0.4039, s0.acc: 91.0254, s0.loss_bbox: 0.1637, s1.loss_cls: 0.1740, s1.acc: 92.0557, s1.loss_bbox: 0.1146, s2.loss_cls: 0.0626, s2.acc: 94.2578, s2.loss_bbox: 0.0400, loss: 1.2651, grad_norm: 1.2001\n",
      "2021-09-29 07:15:25,344 - mmdet - INFO - Epoch [4][410/980]\tlr: 2.000e-02, eta: 3:33:04, time: 1.611, data_time: 0.011, memory: 19497, loss_rpn_cls: 0.2110, loss_rpn_bbox: 0.1399, s0.loss_cls: 0.4370, s0.acc: 89.6777, s0.loss_bbox: 0.1803, s1.loss_cls: 0.2002, s1.acc: 90.5681, s1.loss_bbox: 0.1399, s2.loss_cls: 0.0778, s2.acc: 92.8002, s2.loss_bbox: 0.0538, loss: 1.4399, grad_norm: 1.5543\n",
      "2021-09-29 07:15:36,082 - mmdet - INFO - Epoch [4][420/980]\tlr: 2.000e-02, eta: 3:32:38, time: 1.074, data_time: 0.010, memory: 19497, loss_rpn_cls: 0.2441, loss_rpn_bbox: 0.1267, s0.loss_cls: 0.4133, s0.acc: 90.7137, s0.loss_bbox: 0.1532, s1.loss_cls: 0.1760, s1.acc: 91.6523, s1.loss_bbox: 0.1194, s2.loss_cls: 0.0666, s2.acc: 93.5010, s2.loss_bbox: 0.0467, loss: 1.3461, grad_norm: 1.3644\n"
     ]
    },
    {
     "name": "stderr",
     "output_type": "stream",
     "text": [
      "2021-09-29 07:15:52,237 - mmdet - INFO - Epoch [4][430/980]\tlr: 2.000e-02, eta: 3:32:25, time: 1.615, data_time: 0.011, memory: 19497, loss_rpn_cls: 0.1971, loss_rpn_bbox: 0.0917, s0.loss_cls: 0.3355, s0.acc: 93.0096, s0.loss_bbox: 0.1413, s1.loss_cls: 0.1292, s1.acc: 94.6663, s1.loss_bbox: 0.0867, s2.loss_cls: 0.0441, s2.acc: 96.3965, s2.loss_bbox: 0.0279, loss: 1.0534, grad_norm: 1.1370\n",
      "2021-09-29 07:16:07,315 - mmdet - INFO - Epoch [4][440/980]\tlr: 2.000e-02, eta: 3:32:10, time: 1.508, data_time: 0.010, memory: 19497, loss_rpn_cls: 0.1694, loss_rpn_bbox: 0.1121, s0.loss_cls: 0.3414, s0.acc: 91.9336, s0.loss_bbox: 0.1406, s1.loss_cls: 0.1442, s1.acc: 93.1006, s1.loss_bbox: 0.0982, s2.loss_cls: 0.0580, s2.acc: 94.5117, s2.loss_bbox: 0.0451, loss: 1.1088, grad_norm: 1.2158\n",
      "2021-09-29 07:16:22,357 - mmdet - INFO - Epoch [4][450/980]\tlr: 2.000e-02, eta: 3:31:54, time: 1.504, data_time: 0.010, memory: 19497, loss_rpn_cls: 0.2376, loss_rpn_bbox: 0.1020, s0.loss_cls: 0.4791, s0.acc: 88.3024, s0.loss_bbox: 0.2186, s1.loss_cls: 0.1983, s1.acc: 90.3968, s1.loss_bbox: 0.1441, s2.loss_cls: 0.0740, s2.acc: 93.0535, s2.loss_bbox: 0.0548, loss: 1.5086, grad_norm: 1.5768\n",
      "2021-09-29 07:16:35,194 - mmdet - INFO - Epoch [4][460/980]\tlr: 2.000e-02, eta: 3:31:33, time: 1.284, data_time: 0.009, memory: 19497, loss_rpn_cls: 0.1787, loss_rpn_bbox: 0.0681, s0.loss_cls: 0.3680, s0.acc: 91.6566, s0.loss_bbox: 0.1485, s1.loss_cls: 0.1564, s1.acc: 92.6625, s1.loss_bbox: 0.1168, s2.loss_cls: 0.0549, s2.acc: 95.0117, s2.loss_bbox: 0.0414, loss: 1.1327, grad_norm: 1.2428\n",
      "2021-09-29 07:16:52,650 - mmdet - INFO - Epoch [4][470/980]\tlr: 2.000e-02, eta: 3:31:23, time: 1.746, data_time: 0.012, memory: 19497, loss_rpn_cls: 0.2241, loss_rpn_bbox: 0.1297, s0.loss_cls: 0.4212, s0.acc: 90.5052, s0.loss_bbox: 0.1780, s1.loss_cls: 0.1789, s1.acc: 91.8306, s1.loss_bbox: 0.1186, s2.loss_cls: 0.0653, s2.acc: 94.3888, s2.loss_bbox: 0.0403, loss: 1.3562, grad_norm: 1.3818\n",
      "2021-09-29 07:17:06,617 - mmdet - INFO - Epoch [4][480/980]\tlr: 2.000e-02, eta: 3:31:05, time: 1.397, data_time: 0.010, memory: 19497, loss_rpn_cls: 0.1797, loss_rpn_bbox: 0.0861, s0.loss_cls: 0.3450, s0.acc: 91.9619, s0.loss_bbox: 0.1362, s1.loss_cls: 0.1503, s1.acc: 92.4957, s1.loss_bbox: 0.1003, s2.loss_cls: 0.0584, s2.acc: 94.1812, s2.loss_bbox: 0.0412, loss: 1.0972, grad_norm: 1.2420\n",
      "2021-09-29 07:17:22,870 - mmdet - INFO - Epoch [4][490/980]\tlr: 2.000e-02, eta: 3:30:53, time: 1.625, data_time: 0.011, memory: 19497, loss_rpn_cls: 0.1839, loss_rpn_bbox: 0.0866, s0.loss_cls: 0.3229, s0.acc: 92.3676, s0.loss_bbox: 0.1142, s1.loss_cls: 0.1551, s1.acc: 92.0476, s1.loss_bbox: 0.0933, s2.loss_cls: 0.0647, s2.acc: 92.9860, s2.loss_bbox: 0.0473, loss: 1.0680, grad_norm: 1.3024\n",
      "2021-09-29 07:17:36,821 - mmdet - INFO - Epoch [4][500/980]\tlr: 2.000e-02, eta: 3:30:34, time: 1.395, data_time: 0.010, memory: 19497, loss_rpn_cls: 0.1905, loss_rpn_bbox: 0.1000, s0.loss_cls: 0.3175, s0.acc: 93.0100, s0.loss_bbox: 0.1214, s1.loss_cls: 0.1460, s1.acc: 93.3039, s1.loss_bbox: 0.1046, s2.loss_cls: 0.0588, s2.acc: 94.4910, s2.loss_bbox: 0.0412, loss: 1.0798, grad_norm: 1.3973\n",
      "2021-09-29 07:17:54,022 - mmdet - INFO - Epoch [4][510/980]\tlr: 2.000e-02, eta: 3:30:24, time: 1.720, data_time: 0.011, memory: 19497, loss_rpn_cls: 0.1780, loss_rpn_bbox: 0.1015, s0.loss_cls: 0.3248, s0.acc: 92.5685, s0.loss_bbox: 0.1313, s1.loss_cls: 0.1539, s1.acc: 92.9266, s1.loss_bbox: 0.0993, s2.loss_cls: 0.0612, s2.acc: 94.5010, s2.loss_bbox: 0.0409, loss: 1.0909, grad_norm: 1.2132\n",
      "2021-09-29 07:18:07,899 - mmdet - INFO - Epoch [4][520/980]\tlr: 2.000e-02, eta: 3:30:06, time: 1.388, data_time: 0.009, memory: 19497, loss_rpn_cls: 0.1723, loss_rpn_bbox: 0.0871, s0.loss_cls: 0.3077, s0.acc: 92.7749, s0.loss_bbox: 0.1191, s1.loss_cls: 0.1414, s1.acc: 92.6215, s1.loss_bbox: 0.1105, s2.loss_cls: 0.0599, s2.acc: 93.4810, s2.loss_bbox: 0.0518, loss: 1.0497, grad_norm: 1.4383\n",
      "2021-09-29 07:18:20,828 - mmdet - INFO - Epoch [4][530/980]\tlr: 2.000e-02, eta: 3:29:45, time: 1.293, data_time: 0.010, memory: 19497, loss_rpn_cls: 0.2235, loss_rpn_bbox: 0.1054, s0.loss_cls: 0.4630, s0.acc: 88.8364, s0.loss_bbox: 0.1981, s1.loss_cls: 0.2046, s1.acc: 90.3389, s1.loss_bbox: 0.1455, s2.loss_cls: 0.0771, s2.acc: 93.1289, s2.loss_bbox: 0.0561, loss: 1.4733, grad_norm: 1.3752\n",
      "2021-09-29 07:18:38,210 - mmdet - INFO - Epoch [4][540/980]\tlr: 2.000e-02, eta: 3:29:35, time: 1.738, data_time: 0.011, memory: 19497, loss_rpn_cls: 0.2213, loss_rpn_bbox: 0.0978, s0.loss_cls: 0.3578, s0.acc: 91.5490, s0.loss_bbox: 0.1414, s1.loss_cls: 0.1586, s1.acc: 92.1998, s1.loss_bbox: 0.1092, s2.loss_cls: 0.0618, s2.acc: 93.7893, s2.loss_bbox: 0.0465, loss: 1.1943, grad_norm: 1.3158\n",
      "2021-09-29 07:18:51,788 - mmdet - INFO - Epoch [4][550/980]\tlr: 2.000e-02, eta: 3:29:16, time: 1.358, data_time: 0.010, memory: 19497, loss_rpn_cls: 0.2679, loss_rpn_bbox: 0.1170, s0.loss_cls: 0.4289, s0.acc: 90.1807, s0.loss_bbox: 0.1784, s1.loss_cls: 0.1757, s1.acc: 91.9092, s1.loss_bbox: 0.1244, s2.loss_cls: 0.0647, s2.acc: 94.3896, s2.loss_bbox: 0.0476, loss: 1.4046, grad_norm: 1.4792\n",
      "2021-09-29 07:19:09,082 - mmdet - INFO - Epoch [4][560/980]\tlr: 2.000e-02, eta: 3:29:06, time: 1.729, data_time: 0.011, memory: 19497, loss_rpn_cls: 0.2474, loss_rpn_bbox: 0.1569, s0.loss_cls: 0.3909, s0.acc: 89.8779, s0.loss_bbox: 0.1717, s1.loss_cls: 0.1727, s1.acc: 90.5346, s1.loss_bbox: 0.1383, s2.loss_cls: 0.0697, s2.acc: 92.1096, s2.loss_bbox: 0.0567, loss: 1.4044, grad_norm: 1.5675\n",
      "2021-09-29 07:19:24,125 - mmdet - INFO - Epoch [4][570/980]\tlr: 2.000e-02, eta: 3:28:50, time: 1.504, data_time: 0.011, memory: 19497, loss_rpn_cls: 0.2310, loss_rpn_bbox: 0.0976, s0.loss_cls: 0.3829, s0.acc: 90.5518, s0.loss_bbox: 0.1542, s1.loss_cls: 0.1726, s1.acc: 90.9207, s1.loss_bbox: 0.1273, s2.loss_cls: 0.0670, s2.acc: 93.3798, s2.loss_bbox: 0.0484, loss: 1.2811, grad_norm: 1.2534\n",
      "2021-09-29 07:19:38,915 - mmdet - INFO - Epoch [4][580/980]\tlr: 2.000e-02, eta: 3:28:34, time: 1.479, data_time: 0.010, memory: 19497, loss_rpn_cls: 0.1861, loss_rpn_bbox: 0.0857, s0.loss_cls: 0.3650, s0.acc: 91.3086, s0.loss_bbox: 0.1455, s1.loss_cls: 0.1681, s1.acc: 91.5186, s1.loss_bbox: 0.1114, s2.loss_cls: 0.0670, s2.acc: 93.0713, s2.loss_bbox: 0.0423, loss: 1.1710, grad_norm: 1.1399\n",
      "2021-09-29 07:19:54,186 - mmdet - INFO - Epoch [4][590/980]\tlr: 2.000e-02, eta: 3:28:19, time: 1.527, data_time: 0.010, memory: 19497, loss_rpn_cls: 0.1571, loss_rpn_bbox: 0.0982, s0.loss_cls: 0.4279, s0.acc: 89.3018, s0.loss_bbox: 0.1856, s1.loss_cls: 0.1816, s1.acc: 90.5469, s1.loss_bbox: 0.1423, s2.loss_cls: 0.0695, s2.acc: 92.9346, s2.loss_bbox: 0.0573, loss: 1.3195, grad_norm: 1.2946\n",
      "2021-09-29 07:20:09,285 - mmdet - INFO - Epoch [4][600/980]\tlr: 2.000e-02, eta: 3:28:04, time: 1.510, data_time: 0.012, memory: 19497, loss_rpn_cls: 0.2417, loss_rpn_bbox: 0.0923, s0.loss_cls: 0.4741, s0.acc: 89.2969, s0.loss_bbox: 0.1981, s1.loss_cls: 0.1876, s1.acc: 91.6113, s1.loss_bbox: 0.1198, s2.loss_cls: 0.0680, s2.acc: 94.2480, s2.loss_bbox: 0.0409, loss: 1.4226, grad_norm: 1.6731\n",
      "2021-09-29 07:20:26,503 - mmdet - INFO - Epoch [4][610/980]\tlr: 2.000e-02, eta: 3:27:53, time: 1.722, data_time: 0.011, memory: 19497, loss_rpn_cls: 0.1991, loss_rpn_bbox: 0.0918, s0.loss_cls: 0.4088, s0.acc: 89.6338, s0.loss_bbox: 0.1697, s1.loss_cls: 0.1927, s1.acc: 89.9106, s1.loss_bbox: 0.1401, s2.loss_cls: 0.0777, s2.acc: 92.1004, s2.loss_bbox: 0.0605, loss: 1.3403, grad_norm: 1.4679\n",
      "2021-09-29 07:20:41,636 - mmdet - INFO - Epoch [4][620/980]\tlr: 2.000e-02, eta: 3:27:38, time: 1.513, data_time: 0.011, memory: 19497, loss_rpn_cls: 0.2055, loss_rpn_bbox: 0.1121, s0.loss_cls: 0.4530, s0.acc: 88.4300, s0.loss_bbox: 0.1941, s1.loss_cls: 0.2134, s1.acc: 88.9798, s1.loss_bbox: 0.1577, s2.loss_cls: 0.0811, s2.acc: 92.2137, s2.loss_bbox: 0.0607, loss: 1.4778, grad_norm: 1.5052\n",
      "2021-09-29 07:20:56,697 - mmdet - INFO - Epoch [4][630/980]\tlr: 2.000e-02, eta: 3:27:23, time: 1.506, data_time: 0.010, memory: 19497, loss_rpn_cls: 0.2081, loss_rpn_bbox: 0.1142, s0.loss_cls: 0.3597, s0.acc: 91.2744, s0.loss_bbox: 0.1478, s1.loss_cls: 0.1604, s1.acc: 92.3682, s1.loss_bbox: 0.1104, s2.loss_cls: 0.0593, s2.acc: 94.7803, s2.loss_bbox: 0.0376, loss: 1.1974, grad_norm: 1.2247\n"
     ]
    },
    {
     "name": "stderr",
     "output_type": "stream",
     "text": [
      "2021-09-29 07:21:10,793 - mmdet - INFO - Epoch [4][640/980]\tlr: 2.000e-02, eta: 3:27:05, time: 1.410, data_time: 0.010, memory: 19497, loss_rpn_cls: 0.1866, loss_rpn_bbox: 0.1290, s0.loss_cls: 0.4571, s0.acc: 89.1186, s0.loss_bbox: 0.1901, s1.loss_cls: 0.2024, s1.acc: 90.2975, s1.loss_bbox: 0.1420, s2.loss_cls: 0.0761, s2.acc: 93.0011, s2.loss_bbox: 0.0535, loss: 1.4367, grad_norm: 1.5126\n",
      "2021-09-29 07:21:24,860 - mmdet - INFO - Epoch [4][650/980]\tlr: 2.000e-02, eta: 3:26:47, time: 1.407, data_time: 0.010, memory: 19497, loss_rpn_cls: 0.1638, loss_rpn_bbox: 0.1085, s0.loss_cls: 0.3541, s0.acc: 91.9309, s0.loss_bbox: 0.1331, s1.loss_cls: 0.1688, s1.acc: 91.6349, s1.loss_bbox: 0.1141, s2.loss_cls: 0.0699, s2.acc: 93.0766, s2.loss_bbox: 0.0567, loss: 1.1690, grad_norm: 1.3547\n",
      "2021-09-29 07:21:40,073 - mmdet - INFO - Epoch [4][660/980]\tlr: 2.000e-02, eta: 3:26:32, time: 1.521, data_time: 0.010, memory: 19497, loss_rpn_cls: 0.2297, loss_rpn_bbox: 0.1229, s0.loss_cls: 0.4690, s0.acc: 88.9181, s0.loss_bbox: 0.2007, s1.loss_cls: 0.1967, s1.acc: 90.4478, s1.loss_bbox: 0.1477, s2.loss_cls: 0.0697, s2.acc: 93.5425, s2.loss_bbox: 0.0507, loss: 1.4870, grad_norm: 1.5331\n",
      "2021-09-29 07:21:56,303 - mmdet - INFO - Epoch [4][670/980]\tlr: 2.000e-02, eta: 3:26:19, time: 1.623, data_time: 0.011, memory: 19497, loss_rpn_cls: 0.2157, loss_rpn_bbox: 0.1429, s0.loss_cls: 0.4004, s0.acc: 90.3844, s0.loss_bbox: 0.1738, s1.loss_cls: 0.1599, s1.acc: 92.3792, s1.loss_bbox: 0.1095, s2.loss_cls: 0.0566, s2.acc: 94.9073, s2.loss_bbox: 0.0352, loss: 1.2939, grad_norm: 1.2065\n",
      "2021-09-29 07:22:11,446 - mmdet - INFO - Epoch [4][680/980]\tlr: 2.000e-02, eta: 3:26:04, time: 1.514, data_time: 0.010, memory: 19497, loss_rpn_cls: 0.2356, loss_rpn_bbox: 0.1163, s0.loss_cls: 0.4574, s0.acc: 88.9789, s0.loss_bbox: 0.2073, s1.loss_cls: 0.1920, s1.acc: 90.2994, s1.loss_bbox: 0.1354, s2.loss_cls: 0.0734, s2.acc: 93.0312, s2.loss_bbox: 0.0492, loss: 1.4667, grad_norm: 1.3719\n",
      "2021-09-29 07:22:27,557 - mmdet - INFO - Epoch [4][690/980]\tlr: 2.000e-02, eta: 3:25:51, time: 1.611, data_time: 0.011, memory: 19497, loss_rpn_cls: 0.2106, loss_rpn_bbox: 0.0831, s0.loss_cls: 0.3910, s0.acc: 91.4186, s0.loss_bbox: 0.1467, s1.loss_cls: 0.1684, s1.acc: 92.1682, s1.loss_bbox: 0.1103, s2.loss_cls: 0.0642, s2.acc: 93.8931, s2.loss_bbox: 0.0480, loss: 1.2223, grad_norm: 1.4618\n",
      "2021-09-29 07:22:42,784 - mmdet - INFO - Epoch [4][700/980]\tlr: 2.000e-02, eta: 3:25:36, time: 1.523, data_time: 0.011, memory: 19497, loss_rpn_cls: 0.1840, loss_rpn_bbox: 0.1056, s0.loss_cls: 0.3498, s0.acc: 91.8701, s0.loss_bbox: 0.1382, s1.loss_cls: 0.1460, s1.acc: 92.9932, s1.loss_bbox: 0.1052, s2.loss_cls: 0.0551, s2.acc: 94.7217, s2.loss_bbox: 0.0420, loss: 1.1259, grad_norm: 1.3759\n",
      "2021-09-29 07:22:56,720 - mmdet - INFO - Epoch [4][710/980]\tlr: 2.000e-02, eta: 3:25:18, time: 1.394, data_time: 0.009, memory: 19497, loss_rpn_cls: 0.1704, loss_rpn_bbox: 0.1007, s0.loss_cls: 0.3570, s0.acc: 91.1816, s0.loss_bbox: 0.1600, s1.loss_cls: 0.1547, s1.acc: 92.1289, s1.loss_bbox: 0.1190, s2.loss_cls: 0.0600, s2.acc: 93.8525, s2.loss_bbox: 0.0508, loss: 1.1726, grad_norm: 1.3222\n",
      "2021-09-29 07:23:14,037 - mmdet - INFO - Epoch [4][720/980]\tlr: 2.000e-02, eta: 3:25:07, time: 1.732, data_time: 0.012, memory: 19497, loss_rpn_cls: 0.1615, loss_rpn_bbox: 0.1214, s0.loss_cls: 0.4278, s0.acc: 89.3896, s0.loss_bbox: 0.1704, s1.loss_cls: 0.2024, s1.acc: 90.0890, s1.loss_bbox: 0.1469, s2.loss_cls: 0.0768, s2.acc: 92.8175, s2.loss_bbox: 0.0622, loss: 1.3693, grad_norm: 1.4887\n",
      "2021-09-29 07:23:28,065 - mmdet - INFO - Epoch [4][730/980]\tlr: 2.000e-02, eta: 3:24:49, time: 1.403, data_time: 0.011, memory: 19497, loss_rpn_cls: 0.2192, loss_rpn_bbox: 0.1111, s0.loss_cls: 0.4608, s0.acc: 89.4824, s0.loss_bbox: 0.2077, s1.loss_cls: 0.1901, s1.acc: 91.3477, s1.loss_bbox: 0.1388, s2.loss_cls: 0.0689, s2.acc: 93.4277, s2.loss_bbox: 0.0479, loss: 1.4445, grad_norm: 1.6607\n",
      "2021-09-29 07:23:45,283 - mmdet - INFO - Epoch [4][740/980]\tlr: 2.000e-02, eta: 3:24:39, time: 1.722, data_time: 0.010, memory: 19497, loss_rpn_cls: 0.2161, loss_rpn_bbox: 0.1194, s0.loss_cls: 0.3931, s0.acc: 90.8680, s0.loss_bbox: 0.1651, s1.loss_cls: 0.1674, s1.acc: 92.3575, s1.loss_bbox: 0.1184, s2.loss_cls: 0.0585, s2.acc: 95.0875, s2.loss_bbox: 0.0367, loss: 1.2747, grad_norm: 1.4051\n",
      "2021-09-29 07:24:01,555 - mmdet - INFO - Epoch [4][750/980]\tlr: 2.000e-02, eta: 3:24:26, time: 1.627, data_time: 0.011, memory: 19497, loss_rpn_cls: 0.2233, loss_rpn_bbox: 0.1216, s0.loss_cls: 0.4008, s0.acc: 90.3418, s0.loss_bbox: 0.1650, s1.loss_cls: 0.1723, s1.acc: 91.4111, s1.loss_bbox: 0.1275, s2.loss_cls: 0.0653, s2.acc: 93.9404, s2.loss_bbox: 0.0432, loss: 1.3189, grad_norm: 1.3671\n",
      "2021-09-29 07:24:16,569 - mmdet - INFO - Epoch [4][760/980]\tlr: 2.000e-02, eta: 3:24:10, time: 1.501, data_time: 0.010, memory: 19497, loss_rpn_cls: 0.1710, loss_rpn_bbox: 0.0878, s0.loss_cls: 0.4589, s0.acc: 88.0908, s0.loss_bbox: 0.1961, s1.loss_cls: 0.2185, s1.acc: 87.9486, s1.loss_bbox: 0.1682, s2.loss_cls: 0.0864, s2.acc: 91.1033, s2.loss_bbox: 0.0673, loss: 1.4543, grad_norm: 1.5757\n",
      "2021-09-29 07:24:32,837 - mmdet - INFO - Epoch [4][770/980]\tlr: 2.000e-02, eta: 3:23:57, time: 1.627, data_time: 0.011, memory: 19497, loss_rpn_cls: 0.1612, loss_rpn_bbox: 0.1091, s0.loss_cls: 0.4391, s0.acc: 89.9772, s0.loss_bbox: 0.1619, s1.loss_cls: 0.1944, s1.acc: 90.5117, s1.loss_bbox: 0.1264, s2.loss_cls: 0.0767, s2.acc: 92.6674, s2.loss_bbox: 0.0588, loss: 1.3275, grad_norm: 1.5831\n",
      "2021-09-29 07:24:45,866 - mmdet - INFO - Epoch [4][780/980]\tlr: 2.000e-02, eta: 3:23:38, time: 1.303, data_time: 0.009, memory: 19497, loss_rpn_cls: 0.1823, loss_rpn_bbox: 0.0818, s0.loss_cls: 0.3920, s0.acc: 91.0779, s0.loss_bbox: 0.1496, s1.loss_cls: 0.1805, s1.acc: 91.3227, s1.loss_bbox: 0.1186, s2.loss_cls: 0.0748, s2.acc: 92.9099, s2.loss_bbox: 0.0561, loss: 1.2358, grad_norm: 1.3906\n",
      "2021-09-29 07:25:03,195 - mmdet - INFO - Epoch [4][790/980]\tlr: 2.000e-02, eta: 3:23:27, time: 1.733, data_time: 0.011, memory: 19497, loss_rpn_cls: 0.1781, loss_rpn_bbox: 0.1047, s0.loss_cls: 0.3652, s0.acc: 91.5105, s0.loss_bbox: 0.1396, s1.loss_cls: 0.1689, s1.acc: 92.1207, s1.loss_bbox: 0.1186, s2.loss_cls: 0.0647, s2.acc: 94.0321, s2.loss_bbox: 0.0550, loss: 1.1948, grad_norm: 1.4270\n",
      "2021-09-29 07:25:16,183 - mmdet - INFO - Epoch [4][800/980]\tlr: 2.000e-02, eta: 3:23:07, time: 1.299, data_time: 0.010, memory: 19497, loss_rpn_cls: 0.1966, loss_rpn_bbox: 0.0874, s0.loss_cls: 0.3712, s0.acc: 91.6960, s0.loss_bbox: 0.1410, s1.loss_cls: 0.1670, s1.acc: 92.4962, s1.loss_bbox: 0.1047, s2.loss_cls: 0.0639, s2.acc: 94.5619, s2.loss_bbox: 0.0395, loss: 1.1714, grad_norm: 1.2419\n",
      "2021-09-29 07:25:32,474 - mmdet - INFO - Epoch [4][810/980]\tlr: 2.000e-02, eta: 3:22:54, time: 1.629, data_time: 0.011, memory: 19497, loss_rpn_cls: 0.2349, loss_rpn_bbox: 0.0927, s0.loss_cls: 0.4344, s0.acc: 89.5654, s0.loss_bbox: 0.1767, s1.loss_cls: 0.1929, s1.acc: 90.5029, s1.loss_bbox: 0.1421, s2.loss_cls: 0.0700, s2.acc: 93.2959, s2.loss_bbox: 0.0528, loss: 1.3965, grad_norm: 1.3377\n",
      "2021-09-29 07:25:46,417 - mmdet - INFO - Epoch [4][820/980]\tlr: 2.000e-02, eta: 3:22:36, time: 1.394, data_time: 0.010, memory: 19497, loss_rpn_cls: 0.1775, loss_rpn_bbox: 0.0666, s0.loss_cls: 0.3430, s0.acc: 91.8002, s0.loss_bbox: 0.1170, s1.loss_cls: 0.1668, s1.acc: 91.4180, s1.loss_bbox: 0.1074, s2.loss_cls: 0.0692, s2.acc: 92.8226, s2.loss_bbox: 0.0462, loss: 1.0935, grad_norm: 1.5608\n",
      "2021-09-29 07:26:00,395 - mmdet - INFO - Epoch [4][830/980]\tlr: 2.000e-02, eta: 3:22:18, time: 1.398, data_time: 0.012, memory: 19497, loss_rpn_cls: 0.2139, loss_rpn_bbox: 0.0878, s0.loss_cls: 0.3383, s0.acc: 92.2246, s0.loss_bbox: 0.1335, s1.loss_cls: 0.1441, s1.acc: 93.1360, s1.loss_bbox: 0.1024, s2.loss_cls: 0.0535, s2.acc: 94.7674, s2.loss_bbox: 0.0369, loss: 1.1104, grad_norm: 1.4577\n",
      "2021-09-29 07:26:14,391 - mmdet - INFO - Epoch [4][840/980]\tlr: 2.000e-02, eta: 3:22:01, time: 1.400, data_time: 0.010, memory: 19497, loss_rpn_cls: 0.2586, loss_rpn_bbox: 0.1003, s0.loss_cls: 0.4366, s0.acc: 89.7705, s0.loss_bbox: 0.1733, s1.loss_cls: 0.1888, s1.acc: 91.2842, s1.loss_bbox: 0.1215, s2.loss_cls: 0.0723, s2.acc: 93.7061, s2.loss_bbox: 0.0433, loss: 1.3948, grad_norm: 1.6073\n"
     ]
    },
    {
     "name": "stderr",
     "output_type": "stream",
     "text": [
      "2021-09-29 07:26:30,631 - mmdet - INFO - Epoch [4][850/980]\tlr: 2.000e-02, eta: 3:21:48, time: 1.624, data_time: 0.011, memory: 19497, loss_rpn_cls: 0.2160, loss_rpn_bbox: 0.1177, s0.loss_cls: 0.3869, s0.acc: 92.0166, s0.loss_bbox: 0.1516, s1.loss_cls: 0.1562, s1.acc: 93.5547, s1.loss_bbox: 0.0977, s2.loss_cls: 0.0590, s2.acc: 94.9219, s2.loss_bbox: 0.0388, loss: 1.2239, grad_norm: 1.5068\n",
      "2021-09-29 07:26:46,846 - mmdet - INFO - Epoch [4][860/980]\tlr: 2.000e-02, eta: 3:21:35, time: 1.622, data_time: 0.011, memory: 19497, loss_rpn_cls: 0.1966, loss_rpn_bbox: 0.1027, s0.loss_cls: 0.3790, s0.acc: 91.5088, s0.loss_bbox: 0.1555, s1.loss_cls: 0.1535, s1.acc: 93.0518, s1.loss_bbox: 0.1018, s2.loss_cls: 0.0566, s2.acc: 95.0244, s2.loss_bbox: 0.0367, loss: 1.1824, grad_norm: 1.1264\n",
      "2021-09-29 07:27:00,822 - mmdet - INFO - Epoch [4][870/980]\tlr: 2.000e-02, eta: 3:21:17, time: 1.398, data_time: 0.011, memory: 19497, loss_rpn_cls: 0.1703, loss_rpn_bbox: 0.1016, s0.loss_cls: 0.3266, s0.acc: 92.2866, s0.loss_bbox: 0.1311, s1.loss_cls: 0.1444, s1.acc: 92.7160, s1.loss_bbox: 0.1061, s2.loss_cls: 0.0551, s2.acc: 94.5619, s2.loss_bbox: 0.0400, loss: 1.0751, grad_norm: 1.1984\n",
      "2021-09-29 07:27:15,976 - mmdet - INFO - Epoch [4][880/980]\tlr: 2.000e-02, eta: 3:21:02, time: 1.515, data_time: 0.011, memory: 19497, loss_rpn_cls: 0.1949, loss_rpn_bbox: 0.1230, s0.loss_cls: 0.3788, s0.acc: 91.7295, s0.loss_bbox: 0.1586, s1.loss_cls: 0.1602, s1.acc: 93.3479, s1.loss_bbox: 0.1019, s2.loss_cls: 0.0566, s2.acc: 95.4728, s2.loss_bbox: 0.0320, loss: 1.2061, grad_norm: 1.2185\n",
      "2021-09-29 07:27:27,889 - mmdet - INFO - Epoch [4][890/980]\tlr: 2.000e-02, eta: 3:20:40, time: 1.191, data_time: 0.010, memory: 19497, loss_rpn_cls: 0.2216, loss_rpn_bbox: 0.1012, s0.loss_cls: 0.3521, s0.acc: 91.3638, s0.loss_bbox: 0.1471, s1.loss_cls: 0.1533, s1.acc: 92.2114, s1.loss_bbox: 0.1078, s2.loss_cls: 0.0598, s2.acc: 94.0424, s2.loss_bbox: 0.0475, loss: 1.1903, grad_norm: 1.4228\n",
      "2021-09-29 07:27:44,203 - mmdet - INFO - Epoch [4][900/980]\tlr: 2.000e-02, eta: 3:20:27, time: 1.631, data_time: 0.010, memory: 19497, loss_rpn_cls: 0.1674, loss_rpn_bbox: 0.0996, s0.loss_cls: 0.4047, s0.acc: 90.8448, s0.loss_bbox: 0.1575, s1.loss_cls: 0.1793, s1.acc: 91.4596, s1.loss_bbox: 0.1113, s2.loss_cls: 0.0688, s2.acc: 93.3615, s2.loss_bbox: 0.0437, loss: 1.2324, grad_norm: 1.1768\n",
      "2021-09-29 07:27:58,338 - mmdet - INFO - Epoch [4][910/980]\tlr: 2.000e-02, eta: 3:20:10, time: 1.414, data_time: 0.011, memory: 19497, loss_rpn_cls: 0.2094, loss_rpn_bbox: 0.0980, s0.loss_cls: 0.4416, s0.acc: 90.2789, s0.loss_bbox: 0.1666, s1.loss_cls: 0.2016, s1.acc: 90.6613, s1.loss_bbox: 0.1263, s2.loss_cls: 0.0759, s2.acc: 92.7821, s2.loss_bbox: 0.0449, loss: 1.3642, grad_norm: 1.3735\n",
      "2021-09-29 07:28:12,314 - mmdet - INFO - Epoch [4][920/980]\tlr: 2.000e-02, eta: 3:19:52, time: 1.398, data_time: 0.010, memory: 19497, loss_rpn_cls: 0.1576, loss_rpn_bbox: 0.1074, s0.loss_cls: 0.4374, s0.acc: 89.6165, s0.loss_bbox: 0.1845, s1.loss_cls: 0.1881, s1.acc: 90.4365, s1.loss_bbox: 0.1375, s2.loss_cls: 0.0711, s2.acc: 92.8774, s2.loss_bbox: 0.0587, loss: 1.3424, grad_norm: 1.4788\n",
      "2021-09-29 07:28:28,623 - mmdet - INFO - Epoch [4][930/980]\tlr: 2.000e-02, eta: 3:19:39, time: 1.631, data_time: 0.011, memory: 19497, loss_rpn_cls: 0.2530, loss_rpn_bbox: 0.1059, s0.loss_cls: 0.4730, s0.acc: 89.0283, s0.loss_bbox: 0.2026, s1.loss_cls: 0.1947, s1.acc: 90.9375, s1.loss_bbox: 0.1315, s2.loss_cls: 0.0712, s2.acc: 93.6279, s2.loss_bbox: 0.0500, loss: 1.4819, grad_norm: 1.6006\n",
      "2021-09-29 07:28:44,854 - mmdet - INFO - Epoch [4][940/980]\tlr: 2.000e-02, eta: 3:19:26, time: 1.623, data_time: 0.011, memory: 19497, loss_rpn_cls: 0.1943, loss_rpn_bbox: 0.0873, s0.loss_cls: 0.3630, s0.acc: 91.4462, s0.loss_bbox: 0.1444, s1.loss_cls: 0.1630, s1.acc: 92.2339, s1.loss_bbox: 0.1117, s2.loss_cls: 0.0619, s2.acc: 94.3913, s2.loss_bbox: 0.0455, loss: 1.1710, grad_norm: 1.5615\n",
      "2021-09-29 07:29:00,946 - mmdet - INFO - Epoch [4][950/980]\tlr: 2.000e-02, eta: 3:19:13, time: 1.609, data_time: 0.011, memory: 19497, loss_rpn_cls: 0.1862, loss_rpn_bbox: 0.1205, s0.loss_cls: 0.4145, s0.acc: 90.8301, s0.loss_bbox: 0.1817, s1.loss_cls: 0.1625, s1.acc: 92.6611, s1.loss_bbox: 0.1007, s2.loss_cls: 0.0599, s2.acc: 94.5501, s2.loss_bbox: 0.0380, loss: 1.2640, grad_norm: 1.2892\n",
      "2021-09-29 07:29:17,243 - mmdet - INFO - Epoch [4][960/980]\tlr: 2.000e-02, eta: 3:19:00, time: 1.630, data_time: 0.012, memory: 19497, loss_rpn_cls: 0.2126, loss_rpn_bbox: 0.1087, s0.loss_cls: 0.3910, s0.acc: 91.0498, s0.loss_bbox: 0.1534, s1.loss_cls: 0.1827, s1.acc: 91.5234, s1.loss_bbox: 0.1244, s2.loss_cls: 0.0751, s2.acc: 93.0225, s2.loss_bbox: 0.0505, loss: 1.2984, grad_norm: 1.6458\n",
      "2021-09-29 07:29:34,729 - mmdet - INFO - Epoch [4][970/980]\tlr: 2.000e-02, eta: 3:18:49, time: 1.749, data_time: 0.012, memory: 19497, loss_rpn_cls: 0.1837, loss_rpn_bbox: 0.1031, s0.loss_cls: 0.4098, s0.acc: 91.4860, s0.loss_bbox: 0.1409, s1.loss_cls: 0.1764, s1.acc: 92.3410, s1.loss_bbox: 0.1055, s2.loss_cls: 0.0686, s2.acc: 94.2264, s2.loss_bbox: 0.0425, loss: 1.2304, grad_norm: 1.3980\n",
      "2021-09-29 07:29:49,879 - mmdet - INFO - Epoch [4][980/980]\tlr: 2.000e-02, eta: 3:18:34, time: 1.515, data_time: 0.010, memory: 19497, loss_rpn_cls: 0.2312, loss_rpn_bbox: 0.1071, s0.loss_cls: 0.5134, s0.acc: 87.9639, s0.loss_bbox: 0.2118, s1.loss_cls: 0.2155, s1.acc: 89.3848, s1.loss_bbox: 0.1426, s2.loss_cls: 0.0798, s2.acc: 92.1436, s2.loss_bbox: 0.0513, loss: 1.5528, grad_norm: 1.3299\n",
      "2021-09-29 07:29:49,943 - mmdet - INFO - Saving checkpoint at 4 epochs\n"
     ]
    },
    {
     "name": "stdout",
     "output_type": "stream",
     "text": [
      "[>>>>>>>>>>>>>>>>>>>>>>>>>>>>>] 966/966, 1.4 task/s, elapsed: 674s, ETA:     0s"
     ]
    },
    {
     "name": "stderr",
     "output_type": "stream",
     "text": [
      "2021-09-29 07:41:07,132 - mmdet - INFO - Evaluating bbox...\n"
     ]
    },
    {
     "name": "stdout",
     "output_type": "stream",
     "text": [
      "Loading and preparing results...\n",
      "DONE (t=0.02s)\n",
      "creating index...\n",
      "index created!\n",
      "Running per image evaluation...\n",
      "Evaluate annotation type *bbox*\n",
      "DONE (t=2.12s).\n",
      "Accumulating evaluation results...\n"
     ]
    },
    {
     "name": "stderr",
     "output_type": "stream",
     "text": [
      "2021-09-29 07:41:09,985 - mmdet - INFO - Epoch(val) [4][966]\tbbox_mAP: 0.0260, bbox_mAP_50: 0.0460, bbox_mAP_75: 0.0280, bbox_mAP_s: 0.0000, bbox_mAP_m: 0.0040, bbox_mAP_l: 0.0330, bbox_mAP_copypaste: 0.026 0.046 0.028 0.000 0.004 0.033\n"
     ]
    },
    {
     "name": "stdout",
     "output_type": "stream",
     "text": [
      "DONE (t=0.60s).\n",
      " Average Precision  (AP) @[ IoU=0.50:0.95 | area=   all | maxDets=100 ] = 0.026\n",
      " Average Precision  (AP) @[ IoU=0.50      | area=   all | maxDets=1000 ] = 0.046\n",
      " Average Precision  (AP) @[ IoU=0.75      | area=   all | maxDets=1000 ] = 0.028\n",
      " Average Precision  (AP) @[ IoU=0.50:0.95 | area= small | maxDets=1000 ] = 0.000\n",
      " Average Precision  (AP) @[ IoU=0.50:0.95 | area=medium | maxDets=1000 ] = 0.004\n",
      " Average Precision  (AP) @[ IoU=0.50:0.95 | area= large | maxDets=1000 ] = 0.033\n",
      " Average Recall     (AR) @[ IoU=0.50:0.95 | area=   all | maxDets=100 ] = 0.102\n",
      " Average Recall     (AR) @[ IoU=0.50:0.95 | area=   all | maxDets=300 ] = 0.102\n",
      " Average Recall     (AR) @[ IoU=0.50:0.95 | area=   all | maxDets=1000 ] = 0.102\n",
      " Average Recall     (AR) @[ IoU=0.50:0.95 | area= small | maxDets=1000 ] = 0.000\n",
      " Average Recall     (AR) @[ IoU=0.50:0.95 | area=medium | maxDets=1000 ] = 0.015\n",
      " Average Recall     (AR) @[ IoU=0.50:0.95 | area= large | maxDets=1000 ] = 0.128\n"
     ]
    },
    {
     "name": "stderr",
     "output_type": "stream",
     "text": [
      "2021-09-29 07:41:29,639 - mmdet - INFO - Epoch [5][10/980]\tlr: 2.000e-02, eta: 3:18:27, time: 1.964, data_time: 0.243, memory: 19497, loss_rpn_cls: 0.1766, loss_rpn_bbox: 0.0705, s0.loss_cls: 0.3798, s0.acc: 91.4082, s0.loss_bbox: 0.1538, s1.loss_cls: 0.1682, s1.acc: 92.3860, s1.loss_bbox: 0.1113, s2.loss_cls: 0.0650, s2.acc: 93.9116, s2.loss_bbox: 0.0442, loss: 1.1693, grad_norm: 1.3871\n",
      "2021-09-29 07:41:44,767 - mmdet - INFO - Epoch [5][20/980]\tlr: 2.000e-02, eta: 3:18:12, time: 1.513, data_time: 0.013, memory: 19497, loss_rpn_cls: 0.1892, loss_rpn_bbox: 0.1065, s0.loss_cls: 0.4155, s0.acc: 90.8214, s0.loss_bbox: 0.1495, s1.loss_cls: 0.1847, s1.acc: 91.2750, s1.loss_bbox: 0.1136, s2.loss_cls: 0.0752, s2.acc: 92.5502, s2.loss_bbox: 0.0496, loss: 1.2839, grad_norm: 1.5673\n",
      "2021-09-29 07:41:58,675 - mmdet - INFO - Epoch [5][30/980]\tlr: 2.000e-02, eta: 3:17:54, time: 1.391, data_time: 0.011, memory: 19497, loss_rpn_cls: 0.2164, loss_rpn_bbox: 0.1077, s0.loss_cls: 0.3639, s0.acc: 91.8599, s0.loss_bbox: 0.1399, s1.loss_cls: 0.1507, s1.acc: 92.8635, s1.loss_bbox: 0.1038, s2.loss_cls: 0.0569, s2.acc: 94.5505, s2.loss_bbox: 0.0407, loss: 1.1800, grad_norm: 1.2619\n",
      "2021-09-29 07:42:16,069 - mmdet - INFO - Epoch [5][40/980]\tlr: 2.000e-02, eta: 3:17:43, time: 1.739, data_time: 0.012, memory: 19497, loss_rpn_cls: 0.1574, loss_rpn_bbox: 0.0898, s0.loss_cls: 0.3873, s0.acc: 90.9863, s0.loss_bbox: 0.1435, s1.loss_cls: 0.1806, s1.acc: 91.1279, s1.loss_bbox: 0.1313, s2.loss_cls: 0.0734, s2.acc: 92.8857, s2.loss_bbox: 0.0612, loss: 1.2245, grad_norm: 1.5161\n",
      "2021-09-29 07:42:29,782 - mmdet - INFO - Epoch [5][50/980]\tlr: 2.000e-02, eta: 3:17:25, time: 1.371, data_time: 0.010, memory: 19497, loss_rpn_cls: 0.1717, loss_rpn_bbox: 0.0894, s0.loss_cls: 0.3720, s0.acc: 90.9326, s0.loss_bbox: 0.1497, s1.loss_cls: 0.1645, s1.acc: 91.2289, s1.loss_bbox: 0.1243, s2.loss_cls: 0.0628, s2.acc: 93.1577, s2.loss_bbox: 0.0548, loss: 1.1891, grad_norm: 1.3210\n",
      "2021-09-29 07:42:45,006 - mmdet - INFO - Epoch [5][60/980]\tlr: 2.000e-02, eta: 3:17:10, time: 1.522, data_time: 0.011, memory: 19497, loss_rpn_cls: 0.1971, loss_rpn_bbox: 0.1203, s0.loss_cls: 0.4417, s0.acc: 89.8063, s0.loss_bbox: 0.1769, s1.loss_cls: 0.1912, s1.acc: 90.8464, s1.loss_bbox: 0.1330, s2.loss_cls: 0.0708, s2.acc: 93.4197, s2.loss_bbox: 0.0517, loss: 1.3827, grad_norm: 1.3162\n",
      "2021-09-29 07:43:00,179 - mmdet - INFO - Epoch [5][70/980]\tlr: 2.000e-02, eta: 3:16:55, time: 1.517, data_time: 0.010, memory: 19497, loss_rpn_cls: 0.1893, loss_rpn_bbox: 0.1271, s0.loss_cls: 0.3562, s0.acc: 91.6081, s0.loss_bbox: 0.1388, s1.loss_cls: 0.1545, s1.acc: 92.3222, s1.loss_bbox: 0.1035, s2.loss_cls: 0.0616, s2.acc: 93.9215, s2.loss_bbox: 0.0439, loss: 1.1748, grad_norm: 1.1513\n",
      "2021-09-29 07:43:14,174 - mmdet - INFO - Epoch [5][80/980]\tlr: 2.000e-02, eta: 3:16:37, time: 1.400, data_time: 0.011, memory: 19497, loss_rpn_cls: 0.1796, loss_rpn_bbox: 0.1120, s0.loss_cls: 0.3493, s0.acc: 91.5761, s0.loss_bbox: 0.1268, s1.loss_cls: 0.1813, s1.acc: 90.8242, s1.loss_bbox: 0.1174, s2.loss_cls: 0.0772, s2.acc: 92.0597, s2.loss_bbox: 0.0576, loss: 1.2012, grad_norm: 1.5483\n",
      "2021-09-29 07:43:25,947 - mmdet - INFO - Epoch [5][90/980]\tlr: 2.000e-02, eta: 3:16:15, time: 1.177, data_time: 0.008, memory: 19497, loss_rpn_cls: 0.1641, loss_rpn_bbox: 0.1183, s0.loss_cls: 0.3905, s0.acc: 90.3818, s0.loss_bbox: 0.1708, s1.loss_cls: 0.1796, s1.acc: 91.3015, s1.loss_bbox: 0.1359, s2.loss_cls: 0.0690, s2.acc: 93.6231, s2.loss_bbox: 0.0534, loss: 1.2816, grad_norm: 1.3363\n",
      "2021-09-29 07:43:41,210 - mmdet - INFO - Epoch [5][100/980]\tlr: 2.000e-02, eta: 3:16:00, time: 1.526, data_time: 0.011, memory: 19497, loss_rpn_cls: 0.1824, loss_rpn_bbox: 0.0760, s0.loss_cls: 0.3553, s0.acc: 91.5894, s0.loss_bbox: 0.1346, s1.loss_cls: 0.1669, s1.acc: 91.7894, s1.loss_bbox: 0.1062, s2.loss_cls: 0.0663, s2.acc: 93.4857, s2.loss_bbox: 0.0433, loss: 1.1311, grad_norm: 1.5625\n",
      "2021-09-29 07:43:56,096 - mmdet - INFO - Epoch [5][110/980]\tlr: 2.000e-02, eta: 3:15:45, time: 1.489, data_time: 0.011, memory: 19497, loss_rpn_cls: 0.1894, loss_rpn_bbox: 0.0854, s0.loss_cls: 0.3842, s0.acc: 91.6285, s0.loss_bbox: 0.1397, s1.loss_cls: 0.1713, s1.acc: 91.8045, s1.loss_bbox: 0.1075, s2.loss_cls: 0.0703, s2.acc: 93.1717, s2.loss_bbox: 0.0491, loss: 1.1969, grad_norm: 1.3049\n",
      "2021-09-29 07:44:11,311 - mmdet - INFO - Epoch [5][120/980]\tlr: 2.000e-02, eta: 3:15:29, time: 1.521, data_time: 0.012, memory: 19497, loss_rpn_cls: 0.2082, loss_rpn_bbox: 0.1134, s0.loss_cls: 0.4191, s0.acc: 90.0732, s0.loss_bbox: 0.1722, s1.loss_cls: 0.1903, s1.acc: 90.7959, s1.loss_bbox: 0.1351, s2.loss_cls: 0.0769, s2.acc: 92.8320, s2.loss_bbox: 0.0528, loss: 1.3681, grad_norm: 1.3567\n",
      "2021-09-29 07:44:25,338 - mmdet - INFO - Epoch [5][130/980]\tlr: 2.000e-02, eta: 3:15:12, time: 1.403, data_time: 0.010, memory: 19497, loss_rpn_cls: 0.2547, loss_rpn_bbox: 0.1223, s0.loss_cls: 0.3842, s0.acc: 90.5469, s0.loss_bbox: 0.1599, s1.loss_cls: 0.1741, s1.acc: 91.5687, s1.loss_bbox: 0.1202, s2.loss_cls: 0.0638, s2.acc: 94.2549, s2.loss_bbox: 0.0413, loss: 1.3205, grad_norm: 1.5301\n",
      "2021-09-29 07:44:42,669 - mmdet - INFO - Epoch [5][140/980]\tlr: 2.000e-02, eta: 3:15:01, time: 1.733, data_time: 0.013, memory: 19497, loss_rpn_cls: 0.1808, loss_rpn_bbox: 0.1504, s0.loss_cls: 0.4289, s0.acc: 90.0038, s0.loss_bbox: 0.1747, s1.loss_cls: 0.1923, s1.acc: 90.5937, s1.loss_bbox: 0.1337, s2.loss_cls: 0.0735, s2.acc: 93.0185, s2.loss_bbox: 0.0533, loss: 1.3877, grad_norm: 1.3771\n",
      "2021-09-29 07:44:57,656 - mmdet - INFO - Epoch [5][150/980]\tlr: 2.000e-02, eta: 3:14:45, time: 1.499, data_time: 0.011, memory: 19497, loss_rpn_cls: 0.2555, loss_rpn_bbox: 0.1115, s0.loss_cls: 0.4187, s0.acc: 90.2637, s0.loss_bbox: 0.1575, s1.loss_cls: 0.1881, s1.acc: 90.5762, s1.loss_bbox: 0.1238, s2.loss_cls: 0.0755, s2.acc: 92.4658, s2.loss_bbox: 0.0549, loss: 1.3854, grad_norm: 1.7581\n",
      "2021-09-29 07:45:11,389 - mmdet - INFO - Epoch [5][160/980]\tlr: 2.000e-02, eta: 3:14:27, time: 1.373, data_time: 0.010, memory: 19497, loss_rpn_cls: 0.2233, loss_rpn_bbox: 0.0976, s0.loss_cls: 0.3600, s0.acc: 92.1256, s0.loss_bbox: 0.1354, s1.loss_cls: 0.1530, s1.acc: 93.1903, s1.loss_bbox: 0.1017, s2.loss_cls: 0.0550, s2.acc: 95.2466, s2.loss_bbox: 0.0349, loss: 1.1608, grad_norm: 1.2216\n",
      "2021-09-29 07:45:28,736 - mmdet - INFO - Epoch [5][170/980]\tlr: 2.000e-02, eta: 3:14:16, time: 1.735, data_time: 0.013, memory: 19497, loss_rpn_cls: 0.2203, loss_rpn_bbox: 0.0946, s0.loss_cls: 0.3403, s0.acc: 92.2029, s0.loss_bbox: 0.1223, s1.loss_cls: 0.1542, s1.acc: 92.1484, s1.loss_bbox: 0.1031, s2.loss_cls: 0.0633, s2.acc: 93.5370, s2.loss_bbox: 0.0503, loss: 1.1483, grad_norm: 1.5712\n",
      "2021-09-29 07:45:42,737 - mmdet - INFO - Epoch [5][180/980]\tlr: 2.000e-02, eta: 3:13:59, time: 1.400, data_time: 0.011, memory: 19497, loss_rpn_cls: 0.2269, loss_rpn_bbox: 0.0950, s0.loss_cls: 0.4269, s0.acc: 89.5557, s0.loss_bbox: 0.1906, s1.loss_cls: 0.1785, s1.acc: 91.1328, s1.loss_bbox: 0.1321, s2.loss_cls: 0.0646, s2.acc: 94.2285, s2.loss_bbox: 0.0433, loss: 1.3580, grad_norm: 1.1808\n",
      "2021-09-29 07:45:59,039 - mmdet - INFO - Epoch [5][190/980]\tlr: 2.000e-02, eta: 3:13:46, time: 1.630, data_time: 0.010, memory: 19497, loss_rpn_cls: 0.1785, loss_rpn_bbox: 0.1032, s0.loss_cls: 0.4528, s0.acc: 89.2480, s0.loss_bbox: 0.1805, s1.loss_cls: 0.2022, s1.acc: 89.9999, s1.loss_bbox: 0.1431, s2.loss_cls: 0.0784, s2.acc: 92.5044, s2.loss_bbox: 0.0564, loss: 1.3951, grad_norm: 1.3945\n",
      "2021-09-29 07:46:15,252 - mmdet - INFO - Epoch [5][200/980]\tlr: 2.000e-02, eta: 3:13:32, time: 1.621, data_time: 0.011, memory: 19497, loss_rpn_cls: 0.2472, loss_rpn_bbox: 0.1162, s0.loss_cls: 0.4124, s0.acc: 90.1864, s0.loss_bbox: 0.1546, s1.loss_cls: 0.1987, s1.acc: 89.9555, s1.loss_bbox: 0.1383, s2.loss_cls: 0.0817, s2.acc: 91.7558, s2.loss_bbox: 0.0544, loss: 1.4035, grad_norm: 1.7293\n",
      "2021-09-29 07:46:31,397 - mmdet - INFO - Epoch [5][210/980]\tlr: 2.000e-02, eta: 3:13:19, time: 1.614, data_time: 0.012, memory: 19497, loss_rpn_cls: 0.1968, loss_rpn_bbox: 0.1081, s0.loss_cls: 0.3945, s0.acc: 90.7162, s0.loss_bbox: 0.1528, s1.loss_cls: 0.1893, s1.acc: 90.6808, s1.loss_bbox: 0.1237, s2.loss_cls: 0.0792, s2.acc: 92.1103, s2.loss_bbox: 0.0551, loss: 1.2994, grad_norm: 1.5211\n"
     ]
    },
    {
     "name": "stderr",
     "output_type": "stream",
     "text": [
      "2021-09-29 07:46:47,621 - mmdet - INFO - Epoch [5][220/980]\tlr: 2.000e-02, eta: 3:13:05, time: 1.622, data_time: 0.011, memory: 19497, loss_rpn_cls: 0.2112, loss_rpn_bbox: 0.1152, s0.loss_cls: 0.3765, s0.acc: 91.5014, s0.loss_bbox: 0.1499, s1.loss_cls: 0.1575, s1.acc: 92.8604, s1.loss_bbox: 0.0996, s2.loss_cls: 0.0606, s2.acc: 94.3303, s2.loss_bbox: 0.0391, loss: 1.2096, grad_norm: 1.2033\n",
      "2021-09-29 07:47:01,670 - mmdet - INFO - Epoch [5][230/980]\tlr: 2.000e-02, eta: 3:12:48, time: 1.405, data_time: 0.010, memory: 19497, loss_rpn_cls: 0.2257, loss_rpn_bbox: 0.1025, s0.loss_cls: 0.4409, s0.acc: 89.2971, s0.loss_bbox: 0.1786, s1.loss_cls: 0.1986, s1.acc: 90.3500, s1.loss_bbox: 0.1337, s2.loss_cls: 0.0758, s2.acc: 92.6901, s2.loss_bbox: 0.0514, loss: 1.4073, grad_norm: 1.4748\n",
      "2021-09-29 07:47:16,809 - mmdet - INFO - Epoch [5][240/980]\tlr: 2.000e-02, eta: 3:12:33, time: 1.514, data_time: 0.011, memory: 19497, loss_rpn_cls: 0.1974, loss_rpn_bbox: 0.1092, s0.loss_cls: 0.4290, s0.acc: 90.5337, s0.loss_bbox: 0.1761, s1.loss_cls: 0.1749, s1.acc: 92.0036, s1.loss_bbox: 0.1172, s2.loss_cls: 0.0615, s2.acc: 94.4316, s2.loss_bbox: 0.0378, loss: 1.3031, grad_norm: 1.2528\n",
      "2021-09-29 07:47:31,934 - mmdet - INFO - Epoch [5][250/980]\tlr: 2.000e-02, eta: 3:12:17, time: 1.513, data_time: 0.011, memory: 19497, loss_rpn_cls: 0.2163, loss_rpn_bbox: 0.1584, s0.loss_cls: 0.4249, s0.acc: 90.5371, s0.loss_bbox: 0.1710, s1.loss_cls: 0.1726, s1.acc: 92.1826, s1.loss_bbox: 0.1128, s2.loss_cls: 0.0626, s2.acc: 94.7754, s2.loss_bbox: 0.0391, loss: 1.3578, grad_norm: 1.4518\n",
      "2021-09-29 07:47:47,115 - mmdet - INFO - Epoch [5][260/980]\tlr: 2.000e-02, eta: 3:12:02, time: 1.518, data_time: 0.011, memory: 19497, loss_rpn_cls: 0.1866, loss_rpn_bbox: 0.1123, s0.loss_cls: 0.3968, s0.acc: 89.9707, s0.loss_bbox: 0.1591, s1.loss_cls: 0.1801, s1.acc: 90.4150, s1.loss_bbox: 0.1266, s2.loss_cls: 0.0703, s2.acc: 92.6123, s2.loss_bbox: 0.0587, loss: 1.2905, grad_norm: 1.5001\n",
      "2021-09-29 07:48:03,390 - mmdet - INFO - Epoch [5][270/980]\tlr: 2.000e-02, eta: 3:11:49, time: 1.628, data_time: 0.011, memory: 19497, loss_rpn_cls: 0.1958, loss_rpn_bbox: 0.1000, s0.loss_cls: 0.4103, s0.acc: 89.8975, s0.loss_bbox: 0.1555, s1.loss_cls: 0.2032, s1.acc: 88.9528, s1.loss_bbox: 0.1389, s2.loss_cls: 0.0870, s2.acc: 90.4670, s2.loss_bbox: 0.0689, loss: 1.3595, grad_norm: 1.6666\n",
      "2021-09-29 07:48:18,560 - mmdet - INFO - Epoch [5][280/980]\tlr: 2.000e-02, eta: 3:11:34, time: 1.517, data_time: 0.011, memory: 19497, loss_rpn_cls: 0.2179, loss_rpn_bbox: 0.1047, s0.loss_cls: 0.4566, s0.acc: 88.7793, s0.loss_bbox: 0.1927, s1.loss_cls: 0.1883, s1.acc: 90.3349, s1.loss_bbox: 0.1347, s2.loss_cls: 0.0718, s2.acc: 92.7136, s2.loss_bbox: 0.0500, loss: 1.4166, grad_norm: 1.3691\n",
      "2021-09-29 07:48:34,816 - mmdet - INFO - Epoch [5][290/980]\tlr: 2.000e-02, eta: 3:11:20, time: 1.626, data_time: 0.012, memory: 19497, loss_rpn_cls: 0.1840, loss_rpn_bbox: 0.0961, s0.loss_cls: 0.3951, s0.acc: 90.9967, s0.loss_bbox: 0.1519, s1.loss_cls: 0.1718, s1.acc: 91.9095, s1.loss_bbox: 0.1213, s2.loss_cls: 0.0628, s2.acc: 94.2020, s2.loss_bbox: 0.0410, loss: 1.2240, grad_norm: 1.4878\n",
      "2021-09-29 07:48:48,903 - mmdet - INFO - Epoch [5][300/980]\tlr: 2.000e-02, eta: 3:11:03, time: 1.409, data_time: 0.010, memory: 19497, loss_rpn_cls: 0.1793, loss_rpn_bbox: 0.1059, s0.loss_cls: 0.4221, s0.acc: 90.4459, s0.loss_bbox: 0.1685, s1.loss_cls: 0.1762, s1.acc: 92.0024, s1.loss_bbox: 0.1151, s2.loss_cls: 0.0638, s2.acc: 94.3838, s2.loss_bbox: 0.0377, loss: 1.2686, grad_norm: 1.3726\n",
      "2021-09-29 07:49:05,049 - mmdet - INFO - Epoch [5][310/980]\tlr: 2.000e-02, eta: 3:10:50, time: 1.615, data_time: 0.011, memory: 19497, loss_rpn_cls: 0.1678, loss_rpn_bbox: 0.0920, s0.loss_cls: 0.3428, s0.acc: 91.8994, s0.loss_bbox: 0.1312, s1.loss_cls: 0.1550, s1.acc: 92.3145, s1.loss_bbox: 0.0982, s2.loss_cls: 0.0645, s2.acc: 93.4912, s2.loss_bbox: 0.0475, loss: 1.0990, grad_norm: 1.2539\n",
      "2021-09-29 07:49:17,974 - mmdet - INFO - Epoch [5][320/980]\tlr: 2.000e-02, eta: 3:10:30, time: 1.292, data_time: 0.010, memory: 19497, loss_rpn_cls: 0.1657, loss_rpn_bbox: 0.0994, s0.loss_cls: 0.3618, s0.acc: 90.9596, s0.loss_bbox: 0.1391, s1.loss_cls: 0.1767, s1.acc: 90.5237, s1.loss_bbox: 0.1277, s2.loss_cls: 0.0689, s2.acc: 92.5611, s2.loss_bbox: 0.0528, loss: 1.1921, grad_norm: 1.6772\n",
      "2021-09-29 07:49:32,968 - mmdet - INFO - Epoch [5][330/980]\tlr: 2.000e-02, eta: 3:10:15, time: 1.499, data_time: 0.011, memory: 19497, loss_rpn_cls: 0.1696, loss_rpn_bbox: 0.0741, s0.loss_cls: 0.3993, s0.acc: 90.2417, s0.loss_bbox: 0.1561, s1.loss_cls: 0.1952, s1.acc: 89.8268, s1.loss_bbox: 0.1400, s2.loss_cls: 0.0771, s2.acc: 92.1483, s2.loss_bbox: 0.0579, loss: 1.2692, grad_norm: 1.3496\n",
      "2021-09-29 07:49:49,180 - mmdet - INFO - Epoch [5][340/980]\tlr: 2.000e-02, eta: 3:10:01, time: 1.621, data_time: 0.011, memory: 19497, loss_rpn_cls: 0.1629, loss_rpn_bbox: 0.0731, s0.loss_cls: 0.4263, s0.acc: 90.3197, s0.loss_bbox: 0.1713, s1.loss_cls: 0.1799, s1.acc: 91.6685, s1.loss_bbox: 0.1202, s2.loss_cls: 0.0664, s2.acc: 93.9797, s2.loss_bbox: 0.0483, loss: 1.2484, grad_norm: 1.4755\n",
      "2021-09-29 07:50:04,349 - mmdet - INFO - Epoch [5][350/980]\tlr: 2.000e-02, eta: 3:09:46, time: 1.517, data_time: 0.010, memory: 19497, loss_rpn_cls: 0.1805, loss_rpn_bbox: 0.0951, s0.loss_cls: 0.4441, s0.acc: 88.8759, s0.loss_bbox: 0.1830, s1.loss_cls: 0.1981, s1.acc: 90.0180, s1.loss_bbox: 0.1408, s2.loss_cls: 0.0793, s2.acc: 91.6594, s2.loss_bbox: 0.0593, loss: 1.3801, grad_norm: 1.2634\n",
      "2021-09-29 07:50:19,572 - mmdet - INFO - Epoch [5][360/980]\tlr: 2.000e-02, eta: 3:09:31, time: 1.522, data_time: 0.011, memory: 19497, loss_rpn_cls: 0.1958, loss_rpn_bbox: 0.1139, s0.loss_cls: 0.4370, s0.acc: 89.4092, s0.loss_bbox: 0.1796, s1.loss_cls: 0.1856, s1.acc: 90.5029, s1.loss_bbox: 0.1385, s2.loss_cls: 0.0730, s2.acc: 92.9150, s2.loss_bbox: 0.0585, loss: 1.3819, grad_norm: 1.3734\n",
      "2021-09-29 07:50:35,785 - mmdet - INFO - Epoch [5][370/980]\tlr: 2.000e-02, eta: 3:09:18, time: 1.621, data_time: 0.011, memory: 19497, loss_rpn_cls: 0.2167, loss_rpn_bbox: 0.1140, s0.loss_cls: 0.4338, s0.acc: 89.6680, s0.loss_bbox: 0.1981, s1.loss_cls: 0.1798, s1.acc: 91.3525, s1.loss_bbox: 0.1325, s2.loss_cls: 0.0637, s2.acc: 94.4043, s2.loss_bbox: 0.0396, loss: 1.3783, grad_norm: 1.2668\n",
      "2021-09-29 07:50:48,559 - mmdet - INFO - Epoch [5][380/980]\tlr: 2.000e-02, eta: 3:08:58, time: 1.277, data_time: 0.010, memory: 19497, loss_rpn_cls: 0.1825, loss_rpn_bbox: 0.0656, s0.loss_cls: 0.3688, s0.acc: 91.5044, s0.loss_bbox: 0.1297, s1.loss_cls: 0.1773, s1.acc: 91.5843, s1.loss_bbox: 0.1219, s2.loss_cls: 0.0679, s2.acc: 93.3941, s2.loss_bbox: 0.0508, loss: 1.1645, grad_norm: 1.3468\n",
      "2021-09-29 07:51:03,626 - mmdet - INFO - Epoch [5][390/980]\tlr: 2.000e-02, eta: 3:08:43, time: 1.507, data_time: 0.011, memory: 19497, loss_rpn_cls: 0.2018, loss_rpn_bbox: 0.1165, s0.loss_cls: 0.3504, s0.acc: 91.8489, s0.loss_bbox: 0.1357, s1.loss_cls: 0.1517, s1.acc: 92.6011, s1.loss_bbox: 0.1055, s2.loss_cls: 0.0566, s2.acc: 94.4619, s2.loss_bbox: 0.0408, loss: 1.1590, grad_norm: 1.2062\n",
      "2021-09-29 07:51:20,877 - mmdet - INFO - Epoch [5][400/980]\tlr: 2.000e-02, eta: 3:08:31, time: 1.725, data_time: 0.011, memory: 19497, loss_rpn_cls: 0.1751, loss_rpn_bbox: 0.0948, s0.loss_cls: 0.3418, s0.acc: 91.8399, s0.loss_bbox: 0.1292, s1.loss_cls: 0.1523, s1.acc: 92.2581, s1.loss_bbox: 0.1068, s2.loss_cls: 0.0601, s2.acc: 93.8694, s2.loss_bbox: 0.0482, loss: 1.1083, grad_norm: 1.2503\n",
      "2021-09-29 07:51:37,006 - mmdet - INFO - Epoch [5][410/980]\tlr: 2.000e-02, eta: 3:08:17, time: 1.613, data_time: 0.012, memory: 19497, loss_rpn_cls: 0.2227, loss_rpn_bbox: 0.1156, s0.loss_cls: 0.4106, s0.acc: 90.2713, s0.loss_bbox: 0.1688, s1.loss_cls: 0.1783, s1.acc: 91.5914, s1.loss_bbox: 0.1153, s2.loss_cls: 0.0677, s2.acc: 93.8708, s2.loss_bbox: 0.0455, loss: 1.3247, grad_norm: 1.4427\n",
      "2021-09-29 07:51:47,708 - mmdet - INFO - Epoch [5][420/980]\tlr: 2.000e-02, eta: 3:07:55, time: 1.070, data_time: 0.009, memory: 19497, loss_rpn_cls: 0.1709, loss_rpn_bbox: 0.0953, s0.loss_cls: 0.3796, s0.acc: 90.6396, s0.loss_bbox: 0.1535, s1.loss_cls: 0.1663, s1.acc: 91.4990, s1.loss_bbox: 0.1272, s2.loss_cls: 0.0619, s2.acc: 93.9160, s2.loss_bbox: 0.0475, loss: 1.2022, grad_norm: 1.3511\n"
     ]
    },
    {
     "name": "stderr",
     "output_type": "stream",
     "text": [
      "2021-09-29 07:52:03,875 - mmdet - INFO - Epoch [5][430/980]\tlr: 2.000e-02, eta: 3:07:41, time: 1.617, data_time: 0.011, memory: 19497, loss_rpn_cls: 0.2044, loss_rpn_bbox: 0.0859, s0.loss_cls: 0.3684, s0.acc: 92.5081, s0.loss_bbox: 0.1320, s1.loss_cls: 0.1581, s1.acc: 93.3639, s1.loss_bbox: 0.0980, s2.loss_cls: 0.0582, s2.acc: 95.3019, s2.loss_bbox: 0.0356, loss: 1.1406, grad_norm: 1.4092\n",
      "2021-09-29 07:52:18,980 - mmdet - INFO - Epoch [5][440/980]\tlr: 2.000e-02, eta: 3:07:26, time: 1.511, data_time: 0.011, memory: 19497, loss_rpn_cls: 0.2173, loss_rpn_bbox: 0.0960, s0.loss_cls: 0.4592, s0.acc: 88.3496, s0.loss_bbox: 0.1906, s1.loss_cls: 0.2095, s1.acc: 88.6621, s1.loss_bbox: 0.1567, s2.loss_cls: 0.0821, s2.acc: 91.2891, s2.loss_bbox: 0.0607, loss: 1.4723, grad_norm: 1.5138\n",
      "2021-09-29 07:52:34,143 - mmdet - INFO - Epoch [5][450/980]\tlr: 2.000e-02, eta: 3:07:10, time: 1.516, data_time: 0.012, memory: 19497, loss_rpn_cls: 0.1696, loss_rpn_bbox: 0.1265, s0.loss_cls: 0.3754, s0.acc: 90.9424, s0.loss_bbox: 0.1434, s1.loss_cls: 0.1718, s1.acc: 90.9473, s1.loss_bbox: 0.1138, s2.loss_cls: 0.0722, s2.acc: 92.3389, s2.loss_bbox: 0.0510, loss: 1.2237, grad_norm: 1.4106\n",
      "2021-09-29 07:52:47,054 - mmdet - INFO - Epoch [5][460/980]\tlr: 2.000e-02, eta: 3:06:51, time: 1.291, data_time: 0.009, memory: 19497, loss_rpn_cls: 0.1261, loss_rpn_bbox: 0.0672, s0.loss_cls: 0.3919, s0.acc: 90.2602, s0.loss_bbox: 0.1647, s1.loss_cls: 0.1824, s1.acc: 90.3483, s1.loss_bbox: 0.1336, s2.loss_cls: 0.0721, s2.acc: 92.5409, s2.loss_bbox: 0.0594, loss: 1.1973, grad_norm: 1.5408\n",
      "2021-09-29 07:53:04,501 - mmdet - INFO - Epoch [5][470/980]\tlr: 2.000e-02, eta: 3:06:40, time: 1.745, data_time: 0.012, memory: 19497, loss_rpn_cls: 0.2105, loss_rpn_bbox: 0.1278, s0.loss_cls: 0.4481, s0.acc: 89.3572, s0.loss_bbox: 0.1788, s1.loss_cls: 0.2018, s1.acc: 90.3161, s1.loss_bbox: 0.1493, s2.loss_cls: 0.0788, s2.acc: 92.9262, s2.loss_bbox: 0.0561, loss: 1.4512, grad_norm: 1.6471\n",
      "2021-09-29 07:53:18,452 - mmdet - INFO - Epoch [5][480/980]\tlr: 2.000e-02, eta: 3:06:23, time: 1.395, data_time: 0.011, memory: 19497, loss_rpn_cls: 0.2026, loss_rpn_bbox: 0.1230, s0.loss_cls: 0.4196, s0.acc: 89.9254, s0.loss_bbox: 0.1657, s1.loss_cls: 0.1888, s1.acc: 90.7401, s1.loss_bbox: 0.1283, s2.loss_cls: 0.0738, s2.acc: 92.5444, s2.loss_bbox: 0.0538, loss: 1.3558, grad_norm: 1.4026\n",
      "2021-09-29 07:53:34,679 - mmdet - INFO - Epoch [5][490/980]\tlr: 2.000e-02, eta: 3:06:09, time: 1.623, data_time: 0.011, memory: 19497, loss_rpn_cls: 0.1791, loss_rpn_bbox: 0.0958, s0.loss_cls: 0.3542, s0.acc: 91.9531, s0.loss_bbox: 0.1444, s1.loss_cls: 0.1538, s1.acc: 92.8662, s1.loss_bbox: 0.1074, s2.loss_cls: 0.0571, s2.acc: 94.8389, s2.loss_bbox: 0.0425, loss: 1.1341, grad_norm: 1.4627\n",
      "2021-09-29 07:53:48,611 - mmdet - INFO - Epoch [5][500/980]\tlr: 2.000e-02, eta: 3:05:52, time: 1.393, data_time: 0.011, memory: 19497, loss_rpn_cls: 0.1992, loss_rpn_bbox: 0.1100, s0.loss_cls: 0.4355, s0.acc: 89.6743, s0.loss_bbox: 0.1655, s1.loss_cls: 0.2008, s1.acc: 89.8100, s1.loss_bbox: 0.1366, s2.loss_cls: 0.0790, s2.acc: 91.8831, s2.loss_bbox: 0.0570, loss: 1.3834, grad_norm: 1.5622\n",
      "2021-09-29 07:54:05,772 - mmdet - INFO - Epoch [5][510/980]\tlr: 2.000e-02, eta: 3:05:40, time: 1.716, data_time: 0.012, memory: 19497, loss_rpn_cls: 0.2065, loss_rpn_bbox: 0.1141, s0.loss_cls: 0.3814, s0.acc: 90.9794, s0.loss_bbox: 0.1482, s1.loss_cls: 0.1697, s1.acc: 91.7606, s1.loss_bbox: 0.1102, s2.loss_cls: 0.0667, s2.acc: 93.4142, s2.loss_bbox: 0.0458, loss: 1.2425, grad_norm: 1.3040\n",
      "2021-09-29 07:54:19,646 - mmdet - INFO - Epoch [5][520/980]\tlr: 2.000e-02, eta: 3:05:23, time: 1.387, data_time: 0.010, memory: 19497, loss_rpn_cls: 0.1921, loss_rpn_bbox: 0.0971, s0.loss_cls: 0.4082, s0.acc: 90.8915, s0.loss_bbox: 0.1633, s1.loss_cls: 0.1738, s1.acc: 92.1721, s1.loss_bbox: 0.1147, s2.loss_cls: 0.0625, s2.acc: 94.4340, s2.loss_bbox: 0.0416, loss: 1.2533, grad_norm: 1.3748\n",
      "2021-09-29 07:54:32,526 - mmdet - INFO - Epoch [5][530/980]\tlr: 2.000e-02, eta: 3:05:04, time: 1.288, data_time: 0.010, memory: 19497, loss_rpn_cls: 0.1954, loss_rpn_bbox: 0.0814, s0.loss_cls: 0.3877, s0.acc: 90.2979, s0.loss_bbox: 0.1423, s1.loss_cls: 0.1906, s1.acc: 89.8438, s1.loss_bbox: 0.1338, s2.loss_cls: 0.0780, s2.acc: 92.0703, s2.loss_bbox: 0.0621, loss: 1.2711, grad_norm: 1.3944\n",
      "2021-09-29 07:54:49,957 - mmdet - INFO - Epoch [5][540/980]\tlr: 2.000e-02, eta: 3:04:52, time: 1.743, data_time: 0.012, memory: 19497, loss_rpn_cls: 0.1844, loss_rpn_bbox: 0.1373, s0.loss_cls: 0.4442, s0.acc: 88.5889, s0.loss_bbox: 0.2092, s1.loss_cls: 0.2003, s1.acc: 89.3457, s1.loss_bbox: 0.1655, s2.loss_cls: 0.0738, s2.acc: 92.3389, s2.loss_bbox: 0.0535, loss: 1.4683, grad_norm: 1.5213\n",
      "2021-09-29 07:55:03,619 - mmdet - INFO - Epoch [5][550/980]\tlr: 2.000e-02, eta: 3:04:34, time: 1.366, data_time: 0.011, memory: 19497, loss_rpn_cls: 0.2131, loss_rpn_bbox: 0.0966, s0.loss_cls: 0.3484, s0.acc: 91.3486, s0.loss_bbox: 0.1408, s1.loss_cls: 0.1596, s1.acc: 91.7122, s1.loss_bbox: 0.1129, s2.loss_cls: 0.0643, s2.acc: 93.6863, s2.loss_bbox: 0.0484, loss: 1.1842, grad_norm: 1.5674\n",
      "2021-09-29 07:55:20,928 - mmdet - INFO - Epoch [5][560/980]\tlr: 2.000e-02, eta: 3:04:23, time: 1.731, data_time: 0.011, memory: 19497, loss_rpn_cls: 0.1750, loss_rpn_bbox: 0.1176, s0.loss_cls: 0.3920, s0.acc: 91.5283, s0.loss_bbox: 0.1471, s1.loss_cls: 0.1581, s1.acc: 92.9492, s1.loss_bbox: 0.1054, s2.loss_cls: 0.0571, s2.acc: 94.5898, s2.loss_bbox: 0.0394, loss: 1.1917, grad_norm: 1.1083\n",
      "2021-09-29 07:55:35,959 - mmdet - INFO - Epoch [5][570/980]\tlr: 2.000e-02, eta: 3:04:07, time: 1.503, data_time: 0.011, memory: 19497, loss_rpn_cls: 0.1991, loss_rpn_bbox: 0.0899, s0.loss_cls: 0.4058, s0.acc: 90.5740, s0.loss_bbox: 0.1539, s1.loss_cls: 0.1788, s1.acc: 91.3799, s1.loss_bbox: 0.1140, s2.loss_cls: 0.0681, s2.acc: 93.2127, s2.loss_bbox: 0.0447, loss: 1.2543, grad_norm: 1.4037\n",
      "2021-09-29 07:55:50,813 - mmdet - INFO - Epoch [5][580/980]\tlr: 2.000e-02, eta: 3:03:51, time: 1.485, data_time: 0.010, memory: 19497, loss_rpn_cls: 0.2279, loss_rpn_bbox: 0.1106, s0.loss_cls: 0.4308, s0.acc: 90.0717, s0.loss_bbox: 0.1660, s1.loss_cls: 0.1883, s1.acc: 91.2965, s1.loss_bbox: 0.1236, s2.loss_cls: 0.0710, s2.acc: 93.1240, s2.loss_bbox: 0.0503, loss: 1.3686, grad_norm: 1.5209\n",
      "2021-09-29 07:56:06,136 - mmdet - INFO - Epoch [5][590/980]\tlr: 2.000e-02, eta: 3:03:36, time: 1.532, data_time: 0.010, memory: 19497, loss_rpn_cls: 0.2141, loss_rpn_bbox: 0.1306, s0.loss_cls: 0.5212, s0.acc: 87.4072, s0.loss_bbox: 0.2134, s1.loss_cls: 0.2254, s1.acc: 89.1943, s1.loss_bbox: 0.1639, s2.loss_cls: 0.0869, s2.acc: 91.5001, s2.loss_bbox: 0.0676, loss: 1.6231, grad_norm: 1.5624\n",
      "2021-09-29 07:56:21,171 - mmdet - INFO - Epoch [5][600/980]\tlr: 2.000e-02, eta: 3:03:21, time: 1.504, data_time: 0.012, memory: 19497, loss_rpn_cls: 0.1652, loss_rpn_bbox: 0.0789, s0.loss_cls: 0.4129, s0.acc: 90.2930, s0.loss_bbox: 0.1584, s1.loss_cls: 0.1889, s1.acc: 90.1807, s1.loss_bbox: 0.1354, s2.loss_cls: 0.0738, s2.acc: 92.4023, s2.loss_bbox: 0.0583, loss: 1.2718, grad_norm: 1.5040\n",
      "2021-09-29 07:56:38,408 - mmdet - INFO - Epoch [5][610/980]\tlr: 2.000e-02, eta: 3:03:09, time: 1.724, data_time: 0.011, memory: 19497, loss_rpn_cls: 0.1682, loss_rpn_bbox: 0.0767, s0.loss_cls: 0.3500, s0.acc: 91.7290, s0.loss_bbox: 0.1341, s1.loss_cls: 0.1704, s1.acc: 91.7563, s1.loss_bbox: 0.1152, s2.loss_cls: 0.0664, s2.acc: 93.8796, s2.loss_bbox: 0.0411, loss: 1.1221, grad_norm: 1.4415\n",
      "2021-09-29 07:56:53,465 - mmdet - INFO - Epoch [5][620/980]\tlr: 2.000e-02, eta: 3:02:54, time: 1.506, data_time: 0.011, memory: 19497, loss_rpn_cls: 0.1585, loss_rpn_bbox: 0.0694, s0.loss_cls: 0.3165, s0.acc: 92.8172, s0.loss_bbox: 0.1189, s1.loss_cls: 0.1510, s1.acc: 92.7642, s1.loss_bbox: 0.1038, s2.loss_cls: 0.0608, s2.acc: 94.2007, s2.loss_bbox: 0.0437, loss: 1.0227, grad_norm: 1.3224\n",
      "2021-09-29 07:57:08,493 - mmdet - INFO - Epoch [5][630/980]\tlr: 2.000e-02, eta: 3:02:38, time: 1.503, data_time: 0.011, memory: 19497, loss_rpn_cls: 0.2339, loss_rpn_bbox: 0.1070, s0.loss_cls: 0.3809, s0.acc: 91.3018, s0.loss_bbox: 0.1461, s1.loss_cls: 0.1655, s1.acc: 92.2822, s1.loss_bbox: 0.1142, s2.loss_cls: 0.0594, s2.acc: 94.6906, s2.loss_bbox: 0.0389, loss: 1.2459, grad_norm: 1.4688\n"
     ]
    },
    {
     "name": "stderr",
     "output_type": "stream",
     "text": [
      "2021-09-29 07:57:22,476 - mmdet - INFO - Epoch [5][640/980]\tlr: 2.000e-02, eta: 3:02:21, time: 1.398, data_time: 0.010, memory: 19497, loss_rpn_cls: 0.2064, loss_rpn_bbox: 0.0997, s0.loss_cls: 0.4173, s0.acc: 90.2194, s0.loss_bbox: 0.1514, s1.loss_cls: 0.1840, s1.acc: 90.6431, s1.loss_bbox: 0.1305, s2.loss_cls: 0.0748, s2.acc: 92.1348, s2.loss_bbox: 0.0612, loss: 1.3253, grad_norm: 1.5968\n",
      "2021-09-29 07:57:36,470 - mmdet - INFO - Epoch [5][650/980]\tlr: 2.000e-02, eta: 3:02:04, time: 1.399, data_time: 0.010, memory: 19497, loss_rpn_cls: 0.1696, loss_rpn_bbox: 0.0809, s0.loss_cls: 0.3823, s0.acc: 90.6348, s0.loss_bbox: 0.1382, s1.loss_cls: 0.1824, s1.acc: 90.6299, s1.loss_bbox: 0.1140, s2.loss_cls: 0.0754, s2.acc: 92.0605, s2.loss_bbox: 0.0521, loss: 1.1948, grad_norm: 1.3520\n",
      "2021-09-29 07:57:51,716 - mmdet - INFO - Epoch [5][660/980]\tlr: 2.000e-02, eta: 3:01:49, time: 1.525, data_time: 0.011, memory: 19497, loss_rpn_cls: 0.2002, loss_rpn_bbox: 0.0847, s0.loss_cls: 0.3812, s0.acc: 90.6682, s0.loss_bbox: 0.1430, s1.loss_cls: 0.1701, s1.acc: 91.1644, s1.loss_bbox: 0.1123, s2.loss_cls: 0.0678, s2.acc: 92.8658, s2.loss_bbox: 0.0474, loss: 1.2068, grad_norm: 1.3072\n",
      "2021-09-29 07:58:07,948 - mmdet - INFO - Epoch [5][670/980]\tlr: 2.000e-02, eta: 3:01:35, time: 1.623, data_time: 0.011, memory: 19497, loss_rpn_cls: 0.2156, loss_rpn_bbox: 0.0844, s0.loss_cls: 0.4582, s0.acc: 89.4922, s0.loss_bbox: 0.1857, s1.loss_cls: 0.1935, s1.acc: 90.8083, s1.loss_bbox: 0.1382, s2.loss_cls: 0.0732, s2.acc: 93.0009, s2.loss_bbox: 0.0552, loss: 1.4040, grad_norm: 1.5546\n",
      "2021-09-29 07:58:23,151 - mmdet - INFO - Epoch [5][680/980]\tlr: 2.000e-02, eta: 3:01:20, time: 1.520, data_time: 0.011, memory: 19497, loss_rpn_cls: 0.1924, loss_rpn_bbox: 0.0943, s0.loss_cls: 0.4849, s0.acc: 88.6523, s0.loss_bbox: 0.2160, s1.loss_cls: 0.1974, s1.acc: 91.1230, s1.loss_bbox: 0.1473, s2.loss_cls: 0.0675, s2.acc: 94.6777, s2.loss_bbox: 0.0432, loss: 1.4430, grad_norm: 1.2542\n",
      "2021-09-29 07:58:39,263 - mmdet - INFO - Epoch [5][690/980]\tlr: 2.000e-02, eta: 3:01:06, time: 1.611, data_time: 0.011, memory: 19497, loss_rpn_cls: 0.1999, loss_rpn_bbox: 0.1234, s0.loss_cls: 0.3872, s0.acc: 90.1714, s0.loss_bbox: 0.1485, s1.loss_cls: 0.1856, s1.acc: 89.9608, s1.loss_bbox: 0.1298, s2.loss_cls: 0.0766, s2.acc: 90.9325, s2.loss_bbox: 0.0580, loss: 1.3089, grad_norm: 1.5692\n",
      "2021-09-29 07:58:54,500 - mmdet - INFO - Epoch [5][700/980]\tlr: 2.000e-02, eta: 3:00:51, time: 1.524, data_time: 0.013, memory: 19497, loss_rpn_cls: 0.1783, loss_rpn_bbox: 0.0903, s0.loss_cls: 0.3504, s0.acc: 91.0205, s0.loss_bbox: 0.1369, s1.loss_cls: 0.1716, s1.acc: 91.1617, s1.loss_bbox: 0.1287, s2.loss_cls: 0.0714, s2.acc: 92.1180, s2.loss_bbox: 0.0599, loss: 1.1875, grad_norm: 1.5890\n",
      "2021-09-29 07:59:08,488 - mmdet - INFO - Epoch [5][710/980]\tlr: 2.000e-02, eta: 3:00:34, time: 1.399, data_time: 0.010, memory: 19497, loss_rpn_cls: 0.1939, loss_rpn_bbox: 0.0834, s0.loss_cls: 0.4144, s0.acc: 90.7178, s0.loss_bbox: 0.1549, s1.loss_cls: 0.1747, s1.acc: 91.7676, s1.loss_bbox: 0.1107, s2.loss_cls: 0.0674, s2.acc: 93.2129, s2.loss_bbox: 0.0438, loss: 1.2433, grad_norm: 1.5430\n",
      "2021-09-29 07:59:25,782 - mmdet - INFO - Epoch [5][720/980]\tlr: 2.000e-02, eta: 3:00:22, time: 1.729, data_time: 0.012, memory: 19497, loss_rpn_cls: 0.1913, loss_rpn_bbox: 0.0808, s0.loss_cls: 0.4197, s0.acc: 89.6631, s0.loss_bbox: 0.1652, s1.loss_cls: 0.1936, s1.acc: 90.2668, s1.loss_bbox: 0.1316, s2.loss_cls: 0.0792, s2.acc: 91.9731, s2.loss_bbox: 0.0629, loss: 1.3243, grad_norm: 1.5244\n",
      "2021-09-29 07:59:39,747 - mmdet - INFO - Epoch [5][730/980]\tlr: 2.000e-02, eta: 3:00:05, time: 1.396, data_time: 0.011, memory: 19497, loss_rpn_cls: 0.1926, loss_rpn_bbox: 0.0714, s0.loss_cls: 0.4405, s0.acc: 88.7256, s0.loss_bbox: 0.1871, s1.loss_cls: 0.2001, s1.acc: 89.5661, s1.loss_bbox: 0.1489, s2.loss_cls: 0.0803, s2.acc: 91.7798, s2.loss_bbox: 0.0637, loss: 1.3845, grad_norm: 1.4908\n",
      "2021-09-29 07:59:56,955 - mmdet - INFO - Epoch [5][740/980]\tlr: 2.000e-02, eta: 2:59:53, time: 1.721, data_time: 0.012, memory: 19497, loss_rpn_cls: 0.1789, loss_rpn_bbox: 0.0985, s0.loss_cls: 0.3988, s0.acc: 90.6738, s0.loss_bbox: 0.1393, s1.loss_cls: 0.1941, s1.acc: 90.1855, s1.loss_bbox: 0.1257, s2.loss_cls: 0.0809, s2.acc: 91.2695, s2.loss_bbox: 0.0599, loss: 1.2760, grad_norm: 1.5005\n",
      "2021-09-29 08:00:13,199 - mmdet - INFO - Epoch [5][750/980]\tlr: 2.000e-02, eta: 2:59:39, time: 1.624, data_time: 0.012, memory: 19497, loss_rpn_cls: 0.1885, loss_rpn_bbox: 0.1058, s0.loss_cls: 0.3945, s0.acc: 90.5225, s0.loss_bbox: 0.1558, s1.loss_cls: 0.1793, s1.acc: 91.2245, s1.loss_bbox: 0.1209, s2.loss_cls: 0.0693, s2.acc: 93.3773, s2.loss_bbox: 0.0517, loss: 1.2658, grad_norm: 1.7163\n",
      "2021-09-29 08:00:28,195 - mmdet - INFO - Epoch [5][760/980]\tlr: 2.000e-02, eta: 2:59:24, time: 1.500, data_time: 0.011, memory: 19497, loss_rpn_cls: 0.1735, loss_rpn_bbox: 0.0935, s0.loss_cls: 0.3516, s0.acc: 91.3618, s0.loss_bbox: 0.1415, s1.loss_cls: 0.1686, s1.acc: 91.2104, s1.loss_bbox: 0.1250, s2.loss_cls: 0.0672, s2.acc: 93.4908, s2.loss_bbox: 0.0484, loss: 1.1694, grad_norm: 1.2852\n",
      "2021-09-29 08:00:44,483 - mmdet - INFO - Epoch [5][770/980]\tlr: 2.000e-02, eta: 2:59:10, time: 1.629, data_time: 0.011, memory: 19497, loss_rpn_cls: 0.1607, loss_rpn_bbox: 0.0954, s0.loss_cls: 0.3663, s0.acc: 91.4563, s0.loss_bbox: 0.1439, s1.loss_cls: 0.1664, s1.acc: 91.8318, s1.loss_bbox: 0.1230, s2.loss_cls: 0.0622, s2.acc: 93.7165, s2.loss_bbox: 0.0455, loss: 1.1633, grad_norm: 1.3773\n",
      "2021-09-29 08:00:57,496 - mmdet - INFO - Epoch [5][780/980]\tlr: 2.000e-02, eta: 2:58:52, time: 1.301, data_time: 0.009, memory: 19497, loss_rpn_cls: 0.1983, loss_rpn_bbox: 0.1109, s0.loss_cls: 0.4079, s0.acc: 90.0146, s0.loss_bbox: 0.1660, s1.loss_cls: 0.1764, s1.acc: 91.1174, s1.loss_bbox: 0.1252, s2.loss_cls: 0.0698, s2.acc: 92.5600, s2.loss_bbox: 0.0471, loss: 1.3016, grad_norm: 1.4550\n",
      "2021-09-29 08:01:14,898 - mmdet - INFO - Epoch [5][790/980]\tlr: 2.000e-02, eta: 2:58:40, time: 1.740, data_time: 0.012, memory: 19497, loss_rpn_cls: 0.1673, loss_rpn_bbox: 0.1020, s0.loss_cls: 0.4375, s0.acc: 89.1748, s0.loss_bbox: 0.1699, s1.loss_cls: 0.2054, s1.acc: 89.3900, s1.loss_bbox: 0.1468, s2.loss_cls: 0.0828, s2.acc: 91.5540, s2.loss_bbox: 0.0587, loss: 1.3703, grad_norm: 1.4785\n",
      "2021-09-29 08:01:27,869 - mmdet - INFO - Epoch [5][800/980]\tlr: 2.000e-02, eta: 2:58:21, time: 1.297, data_time: 0.010, memory: 19497, loss_rpn_cls: 0.2051, loss_rpn_bbox: 0.1157, s0.loss_cls: 0.4504, s0.acc: 89.7754, s0.loss_bbox: 0.1682, s1.loss_cls: 0.1987, s1.acc: 90.4199, s1.loss_bbox: 0.1346, s2.loss_cls: 0.0764, s2.acc: 93.2275, s2.loss_bbox: 0.0536, loss: 1.4025, grad_norm: 1.5822\n",
      "2021-09-29 08:01:44,122 - mmdet - INFO - Epoch [5][810/980]\tlr: 2.000e-02, eta: 2:58:08, time: 1.625, data_time: 0.011, memory: 19497, loss_rpn_cls: 0.1660, loss_rpn_bbox: 0.1142, s0.loss_cls: 0.4564, s0.acc: 88.4912, s0.loss_bbox: 0.1850, s1.loss_cls: 0.2208, s1.acc: 88.6865, s1.loss_bbox: 0.1637, s2.loss_cls: 0.0848, s2.acc: 91.2939, s2.loss_bbox: 0.0667, loss: 1.4575, grad_norm: 1.4461\n",
      "2021-09-29 08:01:58,008 - mmdet - INFO - Epoch [5][820/980]\tlr: 2.000e-02, eta: 2:57:50, time: 1.389, data_time: 0.010, memory: 19497, loss_rpn_cls: 0.1894, loss_rpn_bbox: 0.1111, s0.loss_cls: 0.4187, s0.acc: 89.3321, s0.loss_bbox: 0.1711, s1.loss_cls: 0.1947, s1.acc: 90.0873, s1.loss_bbox: 0.1464, s2.loss_cls: 0.0744, s2.acc: 92.8627, s2.loss_bbox: 0.0619, loss: 1.3677, grad_norm: 1.5676\n",
      "2021-09-29 08:02:11,943 - mmdet - INFO - Epoch [5][830/980]\tlr: 2.000e-02, eta: 2:57:33, time: 1.394, data_time: 0.010, memory: 19497, loss_rpn_cls: 0.2153, loss_rpn_bbox: 0.1000, s0.loss_cls: 0.3953, s0.acc: 91.1182, s0.loss_bbox: 0.1514, s1.loss_cls: 0.1773, s1.acc: 91.8555, s1.loss_bbox: 0.1189, s2.loss_cls: 0.0667, s2.acc: 93.8867, s2.loss_bbox: 0.0434, loss: 1.2684, grad_norm: 1.5323\n",
      "2021-09-29 08:02:25,887 - mmdet - INFO - Epoch [5][840/980]\tlr: 2.000e-02, eta: 2:57:16, time: 1.394, data_time: 0.010, memory: 19497, loss_rpn_cls: 0.2424, loss_rpn_bbox: 0.0983, s0.loss_cls: 0.3996, s0.acc: 89.8498, s0.loss_bbox: 0.1838, s1.loss_cls: 0.1759, s1.acc: 90.8528, s1.loss_bbox: 0.1379, s2.loss_cls: 0.0693, s2.acc: 93.6495, s2.loss_bbox: 0.0520, loss: 1.3593, grad_norm: 1.5629\n"
     ]
    },
    {
     "name": "stderr",
     "output_type": "stream",
     "text": [
      "2021-09-29 08:02:42,248 - mmdet - INFO - Epoch [5][850/980]\tlr: 2.000e-02, eta: 2:57:03, time: 1.636, data_time: 0.012, memory: 19497, loss_rpn_cls: 0.1614, loss_rpn_bbox: 0.0770, s0.loss_cls: 0.3106, s0.acc: 92.2438, s0.loss_bbox: 0.1157, s1.loss_cls: 0.1507, s1.acc: 92.0057, s1.loss_bbox: 0.1015, s2.loss_cls: 0.0637, s2.acc: 93.3994, s2.loss_bbox: 0.0450, loss: 1.0256, grad_norm: 1.4078\n",
      "2021-09-29 08:02:58,475 - mmdet - INFO - Epoch [5][860/980]\tlr: 2.000e-02, eta: 2:56:49, time: 1.623, data_time: 0.011, memory: 19497, loss_rpn_cls: 0.1511, loss_rpn_bbox: 0.0773, s0.loss_cls: 0.3251, s0.acc: 91.8761, s0.loss_bbox: 0.1366, s1.loss_cls: 0.1515, s1.acc: 92.0906, s1.loss_bbox: 0.1164, s2.loss_cls: 0.0618, s2.acc: 93.7705, s2.loss_bbox: 0.0516, loss: 1.0715, grad_norm: 1.3084\n",
      "2021-09-29 08:03:12,404 - mmdet - INFO - Epoch [5][870/980]\tlr: 2.000e-02, eta: 2:56:32, time: 1.393, data_time: 0.011, memory: 19497, loss_rpn_cls: 0.1376, loss_rpn_bbox: 0.1148, s0.loss_cls: 0.3448, s0.acc: 91.5869, s0.loss_bbox: 0.1350, s1.loss_cls: 0.1749, s1.acc: 91.1136, s1.loss_bbox: 0.1340, s2.loss_cls: 0.0732, s2.acc: 92.1566, s2.loss_bbox: 0.0600, loss: 1.1743, grad_norm: 1.6123\n",
      "2021-09-29 08:03:27,624 - mmdet - INFO - Epoch [5][880/980]\tlr: 2.000e-02, eta: 2:56:17, time: 1.522, data_time: 0.011, memory: 19497, loss_rpn_cls: 0.2446, loss_rpn_bbox: 0.1172, s0.loss_cls: 0.4433, s0.acc: 89.1699, s0.loss_bbox: 0.1817, s1.loss_cls: 0.2049, s1.acc: 89.6631, s1.loss_bbox: 0.1395, s2.loss_cls: 0.0811, s2.acc: 91.7041, s2.loss_bbox: 0.0544, loss: 1.4669, grad_norm: 1.7329\n",
      "2021-09-29 08:03:39,463 - mmdet - INFO - Epoch [5][890/980]\tlr: 2.000e-02, eta: 2:55:57, time: 1.184, data_time: 0.010, memory: 19497, loss_rpn_cls: 0.1977, loss_rpn_bbox: 0.0822, s0.loss_cls: 0.4096, s0.acc: 89.8867, s0.loss_bbox: 0.1498, s1.loss_cls: 0.1889, s1.acc: 90.1701, s1.loss_bbox: 0.1200, s2.loss_cls: 0.0795, s2.acc: 91.5428, s2.loss_bbox: 0.0544, loss: 1.2821, grad_norm: 1.6813\n",
      "2021-09-29 08:03:55,782 - mmdet - INFO - Epoch [5][900/980]\tlr: 2.000e-02, eta: 2:55:43, time: 1.632, data_time: 0.011, memory: 19497, loss_rpn_cls: 0.2035, loss_rpn_bbox: 0.1328, s0.loss_cls: 0.4143, s0.acc: 90.0161, s0.loss_bbox: 0.1673, s1.loss_cls: 0.1746, s1.acc: 91.3561, s1.loss_bbox: 0.1229, s2.loss_cls: 0.0657, s2.acc: 93.5036, s2.loss_bbox: 0.0440, loss: 1.3251, grad_norm: 1.3063\n",
      "2021-09-29 08:04:09,899 - mmdet - INFO - Epoch [5][910/980]\tlr: 2.000e-02, eta: 2:55:27, time: 1.412, data_time: 0.011, memory: 19497, loss_rpn_cls: 0.1923, loss_rpn_bbox: 0.0892, s0.loss_cls: 0.4123, s0.acc: 89.8099, s0.loss_bbox: 0.1587, s1.loss_cls: 0.1992, s1.acc: 89.9519, s1.loss_bbox: 0.1367, s2.loss_cls: 0.0789, s2.acc: 92.1113, s2.loss_bbox: 0.0560, loss: 1.3235, grad_norm: 1.6819\n",
      "2021-09-29 08:04:23,952 - mmdet - INFO - Epoch [5][920/980]\tlr: 2.000e-02, eta: 2:55:10, time: 1.405, data_time: 0.010, memory: 19497, loss_rpn_cls: 0.1912, loss_rpn_bbox: 0.1117, s0.loss_cls: 0.3573, s0.acc: 91.0303, s0.loss_bbox: 0.1499, s1.loss_cls: 0.1631, s1.acc: 91.5366, s1.loss_bbox: 0.1098, s2.loss_cls: 0.0668, s2.acc: 93.2838, s2.loss_bbox: 0.0466, loss: 1.1965, grad_norm: 1.5029\n",
      "2021-09-29 08:04:40,223 - mmdet - INFO - Epoch [5][930/980]\tlr: 2.000e-02, eta: 2:54:56, time: 1.627, data_time: 0.011, memory: 19497, loss_rpn_cls: 0.1842, loss_rpn_bbox: 0.0815, s0.loss_cls: 0.3726, s0.acc: 90.5127, s0.loss_bbox: 0.1549, s1.loss_cls: 0.1681, s1.acc: 91.3525, s1.loss_bbox: 0.1118, s2.loss_cls: 0.0688, s2.acc: 92.8223, s2.loss_bbox: 0.0524, loss: 1.1943, grad_norm: 1.3557\n",
      "2021-09-29 08:04:56,410 - mmdet - INFO - Epoch [5][940/980]\tlr: 2.000e-02, eta: 2:54:42, time: 1.619, data_time: 0.011, memory: 19497, loss_rpn_cls: 0.1874, loss_rpn_bbox: 0.1037, s0.loss_cls: 0.3712, s0.acc: 90.7324, s0.loss_bbox: 0.1533, s1.loss_cls: 0.1666, s1.acc: 91.0931, s1.loss_bbox: 0.1179, s2.loss_cls: 0.0683, s2.acc: 93.0953, s2.loss_bbox: 0.0509, loss: 1.2193, grad_norm: 1.4781\n",
      "2021-09-29 08:05:12,439 - mmdet - INFO - Epoch [5][950/980]\tlr: 2.000e-02, eta: 2:54:28, time: 1.603, data_time: 0.012, memory: 19497, loss_rpn_cls: 0.2121, loss_rpn_bbox: 0.1208, s0.loss_cls: 0.3821, s0.acc: 91.2112, s0.loss_bbox: 0.1487, s1.loss_cls: 0.1660, s1.acc: 91.7596, s1.loss_bbox: 0.1159, s2.loss_cls: 0.0662, s2.acc: 93.5580, s2.loss_bbox: 0.0479, loss: 1.2597, grad_norm: 1.7275\n",
      "2021-09-29 08:05:28,747 - mmdet - INFO - Epoch [5][960/980]\tlr: 2.000e-02, eta: 2:54:15, time: 1.631, data_time: 0.011, memory: 19497, loss_rpn_cls: 0.1713, loss_rpn_bbox: 0.1052, s0.loss_cls: 0.4112, s0.acc: 90.1481, s0.loss_bbox: 0.1753, s1.loss_cls: 0.1917, s1.acc: 90.8678, s1.loss_bbox: 0.1320, s2.loss_cls: 0.0720, s2.acc: 93.0699, s2.loss_bbox: 0.0500, loss: 1.3087, grad_norm: 1.3557\n",
      "2021-09-29 08:05:46,172 - mmdet - INFO - Epoch [5][970/980]\tlr: 2.000e-02, eta: 2:54:03, time: 1.743, data_time: 0.012, memory: 19497, loss_rpn_cls: 0.1732, loss_rpn_bbox: 0.1042, s0.loss_cls: 0.3986, s0.acc: 90.7062, s0.loss_bbox: 0.1518, s1.loss_cls: 0.1850, s1.acc: 90.8688, s1.loss_bbox: 0.1230, s2.loss_cls: 0.0726, s2.acc: 93.2434, s2.loss_bbox: 0.0505, loss: 1.2591, grad_norm: 1.3646\n",
      "2021-09-29 08:06:01,284 - mmdet - INFO - Epoch [5][980/980]\tlr: 2.000e-02, eta: 2:53:47, time: 1.511, data_time: 0.011, memory: 19497, loss_rpn_cls: 0.1725, loss_rpn_bbox: 0.1005, s0.loss_cls: 0.4139, s0.acc: 90.2344, s0.loss_bbox: 0.1689, s1.loss_cls: 0.1804, s1.acc: 91.0498, s1.loss_bbox: 0.1329, s2.loss_cls: 0.0715, s2.acc: 92.8174, s2.loss_bbox: 0.0612, loss: 1.3019, grad_norm: 1.3514\n",
      "2021-09-29 08:06:01,330 - mmdet - INFO - Saving checkpoint at 5 epochs\n"
     ]
    },
    {
     "name": "stdout",
     "output_type": "stream",
     "text": [
      "[>>>>>>>>>>>>>>>>>>>>>>>>>>>>>] 966/966, 1.4 task/s, elapsed: 669s, ETA:     0s"
     ]
    },
    {
     "name": "stderr",
     "output_type": "stream",
     "text": [
      "2021-09-29 08:17:13,385 - mmdet - INFO - Evaluating bbox...\n"
     ]
    },
    {
     "name": "stdout",
     "output_type": "stream",
     "text": [
      "Loading and preparing results...\n",
      "DONE (t=0.01s)\n",
      "creating index...\n",
      "index created!\n",
      "Running per image evaluation...\n",
      "Evaluate annotation type *bbox*\n",
      "DONE (t=1.51s).\n",
      "Accumulating evaluation results...\n"
     ]
    },
    {
     "name": "stderr",
     "output_type": "stream",
     "text": [
      "2021-09-29 08:17:15,393 - mmdet - INFO - Epoch(val) [5][966]\tbbox_mAP: 0.0270, bbox_mAP_50: 0.0430, bbox_mAP_75: 0.0280, bbox_mAP_s: 0.0000, bbox_mAP_m: 0.0020, bbox_mAP_l: 0.0330, bbox_mAP_copypaste: 0.027 0.043 0.028 0.000 0.002 0.033\n"
     ]
    },
    {
     "name": "stdout",
     "output_type": "stream",
     "text": [
      "DONE (t=0.42s).\n",
      " Average Precision  (AP) @[ IoU=0.50:0.95 | area=   all | maxDets=100 ] = 0.027\n",
      " Average Precision  (AP) @[ IoU=0.50      | area=   all | maxDets=1000 ] = 0.043\n",
      " Average Precision  (AP) @[ IoU=0.75      | area=   all | maxDets=1000 ] = 0.028\n",
      " Average Precision  (AP) @[ IoU=0.50:0.95 | area= small | maxDets=1000 ] = 0.000\n",
      " Average Precision  (AP) @[ IoU=0.50:0.95 | area=medium | maxDets=1000 ] = 0.002\n",
      " Average Precision  (AP) @[ IoU=0.50:0.95 | area= large | maxDets=1000 ] = 0.033\n",
      " Average Recall     (AR) @[ IoU=0.50:0.95 | area=   all | maxDets=100 ] = 0.079\n",
      " Average Recall     (AR) @[ IoU=0.50:0.95 | area=   all | maxDets=300 ] = 0.079\n",
      " Average Recall     (AR) @[ IoU=0.50:0.95 | area=   all | maxDets=1000 ] = 0.079\n",
      " Average Recall     (AR) @[ IoU=0.50:0.95 | area= small | maxDets=1000 ] = 0.000\n",
      " Average Recall     (AR) @[ IoU=0.50:0.95 | area=medium | maxDets=1000 ] = 0.005\n",
      " Average Recall     (AR) @[ IoU=0.50:0.95 | area= large | maxDets=1000 ] = 0.101\n"
     ]
    },
    {
     "name": "stderr",
     "output_type": "stream",
     "text": [
      "2021-09-29 08:17:35,051 - mmdet - INFO - Epoch [6][10/980]\tlr: 2.000e-02, eta: 2:53:38, time: 1.964, data_time: 0.242, memory: 19497, loss_rpn_cls: 0.1841, loss_rpn_bbox: 0.0942, s0.loss_cls: 0.3666, s0.acc: 91.2061, s0.loss_bbox: 0.1401, s1.loss_cls: 0.1728, s1.acc: 91.2842, s1.loss_bbox: 0.1132, s2.loss_cls: 0.0700, s2.acc: 93.0469, s2.loss_bbox: 0.0489, loss: 1.1899, grad_norm: 1.2637\n",
      "2021-09-29 08:17:50,137 - mmdet - INFO - Epoch [6][20/980]\tlr: 2.000e-02, eta: 2:53:23, time: 1.509, data_time: 0.012, memory: 19497, loss_rpn_cls: 0.1273, loss_rpn_bbox: 0.1189, s0.loss_cls: 0.3718, s0.acc: 90.9462, s0.loss_bbox: 0.1609, s1.loss_cls: 0.1585, s1.acc: 92.2301, s1.loss_bbox: 0.1166, s2.loss_cls: 0.0594, s2.acc: 93.9736, s2.loss_bbox: 0.0457, loss: 1.1591, grad_norm: 1.2147\n",
      "2021-09-29 08:18:04,147 - mmdet - INFO - Epoch [6][30/980]\tlr: 2.000e-02, eta: 2:53:06, time: 1.401, data_time: 0.010, memory: 19497, loss_rpn_cls: 0.2816, loss_rpn_bbox: 0.1348, s0.loss_cls: 0.3720, s0.acc: 92.0517, s0.loss_bbox: 0.1302, s1.loss_cls: 0.1537, s1.acc: 93.1798, s1.loss_bbox: 0.0853, s2.loss_cls: 0.0595, s2.acc: 94.6112, s2.loss_bbox: 0.0335, loss: 1.2507, grad_norm: 1.5029\n",
      "2021-09-29 08:18:21,515 - mmdet - INFO - Epoch [6][40/980]\tlr: 2.000e-02, eta: 2:52:54, time: 1.737, data_time: 0.011, memory: 19497, loss_rpn_cls: 0.2227, loss_rpn_bbox: 0.1004, s0.loss_cls: 0.3893, s0.acc: 90.6518, s0.loss_bbox: 0.1424, s1.loss_cls: 0.1733, s1.acc: 91.2488, s1.loss_bbox: 0.1033, s2.loss_cls: 0.0708, s2.acc: 92.8117, s2.loss_bbox: 0.0452, loss: 1.2475, grad_norm: 1.4456\n",
      "2021-09-29 08:18:35,258 - mmdet - INFO - Epoch [6][50/980]\tlr: 2.000e-02, eta: 2:52:37, time: 1.374, data_time: 0.010, memory: 19497, loss_rpn_cls: 0.1943, loss_rpn_bbox: 0.1028, s0.loss_cls: 0.4203, s0.acc: 89.0507, s0.loss_bbox: 0.1691, s1.loss_cls: 0.1971, s1.acc: 88.9609, s1.loss_bbox: 0.1385, s2.loss_cls: 0.0823, s2.acc: 91.0341, s2.loss_bbox: 0.0650, loss: 1.3694, grad_norm: 1.3449\n",
      "2021-09-29 08:18:50,447 - mmdet - INFO - Epoch [6][60/980]\tlr: 2.000e-02, eta: 2:52:21, time: 1.519, data_time: 0.011, memory: 19497, loss_rpn_cls: 0.1566, loss_rpn_bbox: 0.1034, s0.loss_cls: 0.4044, s0.acc: 89.4971, s0.loss_bbox: 0.1670, s1.loss_cls: 0.1968, s1.acc: 89.3604, s1.loss_bbox: 0.1397, s2.loss_cls: 0.0844, s2.acc: 91.0059, s2.loss_bbox: 0.0647, loss: 1.3169, grad_norm: 1.5064\n",
      "2021-09-29 08:19:05,546 - mmdet - INFO - Epoch [6][70/980]\tlr: 2.000e-02, eta: 2:52:06, time: 1.510, data_time: 0.011, memory: 19497, loss_rpn_cls: 0.1821, loss_rpn_bbox: 0.0952, s0.loss_cls: 0.4097, s0.acc: 90.5558, s0.loss_bbox: 0.1656, s1.loss_cls: 0.1693, s1.acc: 92.3731, s1.loss_bbox: 0.1013, s2.loss_cls: 0.0629, s2.acc: 94.4053, s2.loss_bbox: 0.0350, loss: 1.2213, grad_norm: 1.1912\n",
      "2021-09-29 08:19:19,468 - mmdet - INFO - Epoch [6][80/980]\tlr: 2.000e-02, eta: 2:51:49, time: 1.392, data_time: 0.010, memory: 19497, loss_rpn_cls: 0.2418, loss_rpn_bbox: 0.1092, s0.loss_cls: 0.3903, s0.acc: 90.8662, s0.loss_bbox: 0.1420, s1.loss_cls: 0.1773, s1.acc: 91.1892, s1.loss_bbox: 0.1117, s2.loss_cls: 0.0724, s2.acc: 92.6052, s2.loss_bbox: 0.0478, loss: 1.2927, grad_norm: 1.5600\n",
      "2021-09-29 08:19:31,229 - mmdet - INFO - Epoch [6][90/980]\tlr: 2.000e-02, eta: 2:51:29, time: 1.176, data_time: 0.009, memory: 19497, loss_rpn_cls: 0.2737, loss_rpn_bbox: 0.1324, s0.loss_cls: 0.4448, s0.acc: 89.1943, s0.loss_bbox: 0.1958, s1.loss_cls: 0.1837, s1.acc: 90.9717, s1.loss_bbox: 0.1274, s2.loss_cls: 0.0700, s2.acc: 93.3447, s2.loss_bbox: 0.0486, loss: 1.4765, grad_norm: 1.4636\n",
      "2021-09-29 08:19:46,420 - mmdet - INFO - Epoch [6][100/980]\tlr: 2.000e-02, eta: 2:51:14, time: 1.519, data_time: 0.010, memory: 19497, loss_rpn_cls: 0.1541, loss_rpn_bbox: 0.0854, s0.loss_cls: 0.3384, s0.acc: 92.3682, s0.loss_bbox: 0.1175, s1.loss_cls: 0.1564, s1.acc: 92.4170, s1.loss_bbox: 0.0991, s2.loss_cls: 0.0657, s2.acc: 93.0273, s2.loss_bbox: 0.0527, loss: 1.0693, grad_norm: 1.3654\n",
      "2021-09-29 08:20:01,222 - mmdet - INFO - Epoch [6][110/980]\tlr: 2.000e-02, eta: 2:50:58, time: 1.480, data_time: 0.010, memory: 19497, loss_rpn_cls: 0.2337, loss_rpn_bbox: 0.1223, s0.loss_cls: 0.5303, s0.acc: 87.7251, s0.loss_bbox: 0.2167, s1.loss_cls: 0.2280, s1.acc: 89.1687, s1.loss_bbox: 0.1686, s2.loss_cls: 0.0850, s2.acc: 91.9399, s2.loss_bbox: 0.0603, loss: 1.6449, grad_norm: 1.7074\n",
      "2021-09-29 08:20:16,297 - mmdet - INFO - Epoch [6][120/980]\tlr: 2.000e-02, eta: 2:50:43, time: 1.507, data_time: 0.010, memory: 19497, loss_rpn_cls: 0.1862, loss_rpn_bbox: 0.0998, s0.loss_cls: 0.4040, s0.acc: 90.1939, s0.loss_bbox: 0.1563, s1.loss_cls: 0.1872, s1.acc: 90.6229, s1.loss_bbox: 0.1251, s2.loss_cls: 0.0729, s2.acc: 92.3038, s2.loss_bbox: 0.0509, loss: 1.2824, grad_norm: 1.4713\n",
      "2021-09-29 08:20:30,328 - mmdet - INFO - Epoch [6][130/980]\tlr: 2.000e-02, eta: 2:50:26, time: 1.403, data_time: 0.009, memory: 19497, loss_rpn_cls: 0.1920, loss_rpn_bbox: 0.1107, s0.loss_cls: 0.3967, s0.acc: 90.2783, s0.loss_bbox: 0.1515, s1.loss_cls: 0.1925, s1.acc: 90.3418, s1.loss_bbox: 0.1239, s2.loss_cls: 0.0808, s2.acc: 91.6650, s2.loss_bbox: 0.0588, loss: 1.3070, grad_norm: 1.2623\n",
      "2021-09-29 08:20:47,517 - mmdet - INFO - Epoch [6][140/980]\tlr: 2.000e-02, eta: 2:50:13, time: 1.719, data_time: 0.012, memory: 19497, loss_rpn_cls: 0.2184, loss_rpn_bbox: 0.1025, s0.loss_cls: 0.4011, s0.acc: 90.4919, s0.loss_bbox: 0.1576, s1.loss_cls: 0.1834, s1.acc: 90.9482, s1.loss_bbox: 0.1336, s2.loss_cls: 0.0736, s2.acc: 92.9042, s2.loss_bbox: 0.0541, loss: 1.3242, grad_norm: 1.4624\n",
      "2021-09-29 08:21:02,447 - mmdet - INFO - Epoch [6][150/980]\tlr: 2.000e-02, eta: 2:49:58, time: 1.493, data_time: 0.011, memory: 19497, loss_rpn_cls: 0.1932, loss_rpn_bbox: 0.1116, s0.loss_cls: 0.3519, s0.acc: 91.2207, s0.loss_bbox: 0.1460, s1.loss_cls: 0.1589, s1.acc: 91.7236, s1.loss_bbox: 0.1214, s2.loss_cls: 0.0612, s2.acc: 93.9160, s2.loss_bbox: 0.0449, loss: 1.1891, grad_norm: 1.3986\n",
      "2021-09-29 08:21:16,244 - mmdet - INFO - Epoch [6][160/980]\tlr: 2.000e-02, eta: 2:49:41, time: 1.380, data_time: 0.010, memory: 19497, loss_rpn_cls: 0.2070, loss_rpn_bbox: 0.0837, s0.loss_cls: 0.3920, s0.acc: 90.8721, s0.loss_bbox: 0.1353, s1.loss_cls: 0.1894, s1.acc: 90.7076, s1.loss_bbox: 0.1117, s2.loss_cls: 0.0775, s2.acc: 92.2799, s2.loss_bbox: 0.0475, loss: 1.2441, grad_norm: 1.6372\n",
      "2021-09-29 08:21:33,600 - mmdet - INFO - Epoch [6][170/980]\tlr: 2.000e-02, eta: 2:49:29, time: 1.736, data_time: 0.011, memory: 19497, loss_rpn_cls: 0.1881, loss_rpn_bbox: 0.1068, s0.loss_cls: 0.4688, s0.acc: 88.3350, s0.loss_bbox: 0.2021, s1.loss_cls: 0.2055, s1.acc: 89.5390, s1.loss_bbox: 0.1581, s2.loss_cls: 0.0768, s2.acc: 92.5444, s2.loss_bbox: 0.0584, loss: 1.4647, grad_norm: 1.2085\n",
      "2021-09-29 08:21:47,634 - mmdet - INFO - Epoch [6][180/980]\tlr: 2.000e-02, eta: 2:49:12, time: 1.403, data_time: 0.010, memory: 19497, loss_rpn_cls: 0.1973, loss_rpn_bbox: 0.0939, s0.loss_cls: 0.4136, s0.acc: 89.4922, s0.loss_bbox: 0.1700, s1.loss_cls: 0.1834, s1.acc: 90.3418, s1.loss_bbox: 0.1314, s2.loss_cls: 0.0712, s2.acc: 92.4316, s2.loss_bbox: 0.0544, loss: 1.3151, grad_norm: 1.5616\n",
      "2021-09-29 08:22:03,970 - mmdet - INFO - Epoch [6][190/980]\tlr: 2.000e-02, eta: 2:48:58, time: 1.634, data_time: 0.011, memory: 19497, loss_rpn_cls: 0.2223, loss_rpn_bbox: 0.1031, s0.loss_cls: 0.3920, s0.acc: 91.1816, s0.loss_bbox: 0.1364, s1.loss_cls: 0.1860, s1.acc: 91.2354, s1.loss_bbox: 0.1153, s2.loss_cls: 0.0776, s2.acc: 92.5098, s2.loss_bbox: 0.0593, loss: 1.2920, grad_norm: 1.5913\n",
      "2021-09-29 08:22:20,255 - mmdet - INFO - Epoch [6][200/980]\tlr: 2.000e-02, eta: 2:48:44, time: 1.628, data_time: 0.011, memory: 19497, loss_rpn_cls: 0.1852, loss_rpn_bbox: 0.0994, s0.loss_cls: 0.3817, s0.acc: 90.4414, s0.loss_bbox: 0.1495, s1.loss_cls: 0.1873, s1.acc: 90.0973, s1.loss_bbox: 0.1360, s2.loss_cls: 0.0795, s2.acc: 91.4131, s2.loss_bbox: 0.0605, loss: 1.2791, grad_norm: 1.5006\n",
      "2021-09-29 08:22:36,368 - mmdet - INFO - Epoch [6][210/980]\tlr: 2.000e-02, eta: 2:48:30, time: 1.611, data_time: 0.011, memory: 19497, loss_rpn_cls: 0.2052, loss_rpn_bbox: 0.1089, s0.loss_cls: 0.3922, s0.acc: 90.2783, s0.loss_bbox: 0.1723, s1.loss_cls: 0.1678, s1.acc: 91.5473, s1.loss_bbox: 0.1225, s2.loss_cls: 0.0635, s2.acc: 94.1207, s2.loss_bbox: 0.0453, loss: 1.2776, grad_norm: 1.1817\n"
     ]
    },
    {
     "name": "stderr",
     "output_type": "stream",
     "text": [
      "2021-09-29 08:22:52,653 - mmdet - INFO - Epoch [6][220/980]\tlr: 2.000e-02, eta: 2:48:16, time: 1.629, data_time: 0.011, memory: 19497, loss_rpn_cls: 0.1968, loss_rpn_bbox: 0.1090, s0.loss_cls: 0.3740, s0.acc: 90.9532, s0.loss_bbox: 0.1412, s1.loss_cls: 0.1695, s1.acc: 91.6447, s1.loss_bbox: 0.1179, s2.loss_cls: 0.0662, s2.acc: 93.5117, s2.loss_bbox: 0.0479, loss: 1.2224, grad_norm: 1.4638\n",
      "2021-09-29 08:23:06,785 - mmdet - INFO - Epoch [6][230/980]\tlr: 2.000e-02, eta: 2:48:00, time: 1.413, data_time: 0.010, memory: 19497, loss_rpn_cls: 0.2037, loss_rpn_bbox: 0.1130, s0.loss_cls: 0.4138, s0.acc: 89.3262, s0.loss_bbox: 0.1669, s1.loss_cls: 0.1894, s1.acc: 89.8438, s1.loss_bbox: 0.1466, s2.loss_cls: 0.0749, s2.acc: 91.8359, s2.loss_bbox: 0.0643, loss: 1.3726, grad_norm: 1.3732\n",
      "2021-09-29 08:23:21,884 - mmdet - INFO - Epoch [6][240/980]\tlr: 2.000e-02, eta: 2:47:45, time: 1.510, data_time: 0.010, memory: 19497, loss_rpn_cls: 0.1450, loss_rpn_bbox: 0.0810, s0.loss_cls: 0.3927, s0.acc: 90.4053, s0.loss_bbox: 0.1609, s1.loss_cls: 0.1767, s1.acc: 90.9221, s1.loss_bbox: 0.1298, s2.loss_cls: 0.0699, s2.acc: 92.2923, s2.loss_bbox: 0.0549, loss: 1.2108, grad_norm: 1.5799\n",
      "2021-09-29 08:23:36,984 - mmdet - INFO - Epoch [6][250/980]\tlr: 2.000e-02, eta: 2:47:29, time: 1.510, data_time: 0.010, memory: 19497, loss_rpn_cls: 0.2079, loss_rpn_bbox: 0.1315, s0.loss_cls: 0.4235, s0.acc: 90.0635, s0.loss_bbox: 0.1736, s1.loss_cls: 0.1834, s1.acc: 91.4258, s1.loss_bbox: 0.1350, s2.loss_cls: 0.0680, s2.acc: 94.0723, s2.loss_bbox: 0.0480, loss: 1.3709, grad_norm: 1.4532\n",
      "2021-09-29 08:23:52,183 - mmdet - INFO - Epoch [6][260/980]\tlr: 2.000e-02, eta: 2:47:14, time: 1.520, data_time: 0.010, memory: 19497, loss_rpn_cls: 0.1747, loss_rpn_bbox: 0.1080, s0.loss_cls: 0.3236, s0.acc: 92.3463, s0.loss_bbox: 0.1250, s1.loss_cls: 0.1440, s1.acc: 92.8298, s1.loss_bbox: 0.0913, s2.loss_cls: 0.0567, s2.acc: 94.4656, s2.loss_bbox: 0.0383, loss: 1.0618, grad_norm: 1.3258\n",
      "2021-09-29 08:24:08,479 - mmdet - INFO - Epoch [6][270/980]\tlr: 2.000e-02, eta: 2:47:00, time: 1.630, data_time: 0.011, memory: 19497, loss_rpn_cls: 0.1857, loss_rpn_bbox: 0.1105, s0.loss_cls: 0.3476, s0.acc: 91.3805, s0.loss_bbox: 0.1473, s1.loss_cls: 0.1654, s1.acc: 91.8048, s1.loss_bbox: 0.1244, s2.loss_cls: 0.0681, s2.acc: 93.0875, s2.loss_bbox: 0.0554, loss: 1.2043, grad_norm: 1.3722\n",
      "2021-09-29 08:24:23,640 - mmdet - INFO - Epoch [6][280/980]\tlr: 2.000e-02, eta: 2:46:45, time: 1.516, data_time: 0.010, memory: 19497, loss_rpn_cls: 0.1819, loss_rpn_bbox: 0.1051, s0.loss_cls: 0.3830, s0.acc: 90.7469, s0.loss_bbox: 0.1475, s1.loss_cls: 0.1809, s1.acc: 90.9933, s1.loss_bbox: 0.1093, s2.loss_cls: 0.0750, s2.acc: 92.5609, s2.loss_bbox: 0.0463, loss: 1.2290, grad_norm: 1.4152\n",
      "2021-09-29 08:24:39,950 - mmdet - INFO - Epoch [6][290/980]\tlr: 2.000e-02, eta: 2:46:31, time: 1.631, data_time: 0.011, memory: 19497, loss_rpn_cls: 0.1860, loss_rpn_bbox: 0.1114, s0.loss_cls: 0.3945, s0.acc: 90.6934, s0.loss_bbox: 0.1464, s1.loss_cls: 0.1905, s1.acc: 91.0544, s1.loss_bbox: 0.1260, s2.loss_cls: 0.0776, s2.acc: 92.8266, s2.loss_bbox: 0.0502, loss: 1.2826, grad_norm: 1.4376\n",
      "2021-09-29 08:24:54,055 - mmdet - INFO - Epoch [6][300/980]\tlr: 2.000e-02, eta: 2:46:15, time: 1.410, data_time: 0.011, memory: 19497, loss_rpn_cls: 0.1766, loss_rpn_bbox: 0.0897, s0.loss_cls: 0.4073, s0.acc: 89.8094, s0.loss_bbox: 0.1496, s1.loss_cls: 0.1946, s1.acc: 89.5873, s1.loss_bbox: 0.1455, s2.loss_cls: 0.0784, s2.acc: 91.2174, s2.loss_bbox: 0.0705, loss: 1.3121, grad_norm: 1.6755\n",
      "2021-09-29 08:25:10,244 - mmdet - INFO - Epoch [6][310/980]\tlr: 2.000e-02, eta: 2:46:01, time: 1.619, data_time: 0.011, memory: 19497, loss_rpn_cls: 0.1869, loss_rpn_bbox: 0.1011, s0.loss_cls: 0.3831, s0.acc: 90.4102, s0.loss_bbox: 0.1436, s1.loss_cls: 0.1822, s1.acc: 90.3857, s1.loss_bbox: 0.1226, s2.loss_cls: 0.0738, s2.acc: 91.9971, s2.loss_bbox: 0.0511, loss: 1.2444, grad_norm: 1.5256\n",
      "2021-09-29 08:25:23,194 - mmdet - INFO - Epoch [6][320/980]\tlr: 2.000e-02, eta: 2:45:43, time: 1.295, data_time: 0.010, memory: 19497, loss_rpn_cls: 0.2180, loss_rpn_bbox: 0.1168, s0.loss_cls: 0.4060, s0.acc: 90.1514, s0.loss_bbox: 0.1747, s1.loss_cls: 0.1725, s1.acc: 91.5137, s1.loss_bbox: 0.1227, s2.loss_cls: 0.0638, s2.acc: 94.1357, s2.loss_bbox: 0.0438, loss: 1.3182, grad_norm: 1.4613\n",
      "2021-09-29 08:25:38,288 - mmdet - INFO - Epoch [6][330/980]\tlr: 2.000e-02, eta: 2:45:27, time: 1.509, data_time: 0.011, memory: 19497, loss_rpn_cls: 0.1813, loss_rpn_bbox: 0.1010, s0.loss_cls: 0.4242, s0.acc: 90.2441, s0.loss_bbox: 0.1677, s1.loss_cls: 0.1962, s1.acc: 90.6250, s1.loss_bbox: 0.1363, s2.loss_cls: 0.0729, s2.acc: 93.5303, s2.loss_bbox: 0.0483, loss: 1.3278, grad_norm: 1.4494\n",
      "2021-09-29 08:25:54,411 - mmdet - INFO - Epoch [6][340/980]\tlr: 2.000e-02, eta: 2:45:13, time: 1.612, data_time: 0.011, memory: 19497, loss_rpn_cls: 0.1602, loss_rpn_bbox: 0.1065, s0.loss_cls: 0.3156, s0.acc: 92.5391, s0.loss_bbox: 0.1128, s1.loss_cls: 0.1448, s1.acc: 92.8906, s1.loss_bbox: 0.0964, s2.loss_cls: 0.0585, s2.acc: 94.3457, s2.loss_bbox: 0.0447, loss: 1.0396, grad_norm: 1.3452\n",
      "2021-09-29 08:26:09,559 - mmdet - INFO - Epoch [6][350/980]\tlr: 2.000e-02, eta: 2:44:58, time: 1.515, data_time: 0.010, memory: 19497, loss_rpn_cls: 0.2075, loss_rpn_bbox: 0.1298, s0.loss_cls: 0.4132, s0.acc: 90.3223, s0.loss_bbox: 0.1578, s1.loss_cls: 0.1851, s1.acc: 90.6299, s1.loss_bbox: 0.1190, s2.loss_cls: 0.0758, s2.acc: 91.8750, s2.loss_bbox: 0.0516, loss: 1.3399, grad_norm: 1.5137\n",
      "2021-09-29 08:26:24,674 - mmdet - INFO - Epoch [6][360/980]\tlr: 2.000e-02, eta: 2:44:43, time: 1.511, data_time: 0.010, memory: 19497, loss_rpn_cls: 0.1807, loss_rpn_bbox: 0.1143, s0.loss_cls: 0.4077, s0.acc: 89.9707, s0.loss_bbox: 0.1727, s1.loss_cls: 0.1892, s1.acc: 90.3320, s1.loss_bbox: 0.1304, s2.loss_cls: 0.0756, s2.acc: 92.6367, s2.loss_bbox: 0.0513, loss: 1.3219, grad_norm: 1.5426\n",
      "2021-09-29 08:26:40,881 - mmdet - INFO - Epoch [6][370/980]\tlr: 2.000e-02, eta: 2:44:29, time: 1.621, data_time: 0.011, memory: 19497, loss_rpn_cls: 0.2377, loss_rpn_bbox: 0.1069, s0.loss_cls: 0.3890, s0.acc: 90.8057, s0.loss_bbox: 0.1440, s1.loss_cls: 0.1856, s1.acc: 90.6407, s1.loss_bbox: 0.1259, s2.loss_cls: 0.0743, s2.acc: 92.4849, s2.loss_bbox: 0.0539, loss: 1.3173, grad_norm: 1.4257\n",
      "2021-09-29 08:26:53,738 - mmdet - INFO - Epoch [6][380/980]\tlr: 2.000e-02, eta: 2:44:10, time: 1.286, data_time: 0.011, memory: 19497, loss_rpn_cls: 0.1421, loss_rpn_bbox: 0.1050, s0.loss_cls: 0.3016, s0.acc: 92.2900, s0.loss_bbox: 0.1044, s1.loss_cls: 0.1524, s1.acc: 91.2744, s1.loss_bbox: 0.1020, s2.loss_cls: 0.0664, s2.acc: 92.4072, s2.loss_bbox: 0.0508, loss: 1.0248, grad_norm: 1.4285\n",
      "2021-09-29 08:27:08,848 - mmdet - INFO - Epoch [6][390/980]\tlr: 2.000e-02, eta: 2:43:55, time: 1.511, data_time: 0.010, memory: 19497, loss_rpn_cls: 0.1897, loss_rpn_bbox: 0.0916, s0.loss_cls: 0.4054, s0.acc: 90.6559, s0.loss_bbox: 0.1541, s1.loss_cls: 0.1851, s1.acc: 90.9110, s1.loss_bbox: 0.1258, s2.loss_cls: 0.0756, s2.acc: 92.7070, s2.loss_bbox: 0.0506, loss: 1.2780, grad_norm: 1.5377\n",
      "2021-09-29 08:27:26,091 - mmdet - INFO - Epoch [6][400/980]\tlr: 2.000e-02, eta: 2:43:42, time: 1.724, data_time: 0.011, memory: 19497, loss_rpn_cls: 0.1939, loss_rpn_bbox: 0.1183, s0.loss_cls: 0.3952, s0.acc: 90.8496, s0.loss_bbox: 0.1498, s1.loss_cls: 0.1785, s1.acc: 91.5999, s1.loss_bbox: 0.1117, s2.loss_cls: 0.0705, s2.acc: 93.6304, s2.loss_bbox: 0.0446, loss: 1.2626, grad_norm: 1.1892\n",
      "2021-09-29 08:27:42,352 - mmdet - INFO - Epoch [6][410/980]\tlr: 2.000e-02, eta: 2:43:29, time: 1.626, data_time: 0.011, memory: 19497, loss_rpn_cls: 0.1725, loss_rpn_bbox: 0.0847, s0.loss_cls: 0.3404, s0.acc: 91.6406, s0.loss_bbox: 0.1322, s1.loss_cls: 0.1579, s1.acc: 91.5967, s1.loss_bbox: 0.1090, s2.loss_cls: 0.0634, s2.acc: 93.5986, s2.loss_bbox: 0.0449, loss: 1.1050, grad_norm: 1.2582\n",
      "2021-09-29 08:27:53,043 - mmdet - INFO - Epoch [6][420/980]\tlr: 2.000e-02, eta: 2:43:08, time: 1.069, data_time: 0.009, memory: 19497, loss_rpn_cls: 0.1780, loss_rpn_bbox: 0.1078, s0.loss_cls: 0.3732, s0.acc: 90.4102, s0.loss_bbox: 0.1480, s1.loss_cls: 0.1770, s1.acc: 89.8735, s1.loss_bbox: 0.1322, s2.loss_cls: 0.0764, s2.acc: 91.0204, s2.loss_bbox: 0.0663, loss: 1.2589, grad_norm: 1.8719\n"
     ]
    },
    {
     "name": "stderr",
     "output_type": "stream",
     "text": [
      "2021-09-29 08:28:09,328 - mmdet - INFO - Epoch [6][430/980]\tlr: 2.000e-02, eta: 2:42:54, time: 1.628, data_time: 0.010, memory: 19497, loss_rpn_cls: 0.1407, loss_rpn_bbox: 0.0785, s0.loss_cls: 0.3542, s0.acc: 91.4141, s0.loss_bbox: 0.1394, s1.loss_cls: 0.1671, s1.acc: 91.5555, s1.loss_bbox: 0.1178, s2.loss_cls: 0.0687, s2.acc: 92.9246, s2.loss_bbox: 0.0556, loss: 1.1219, grad_norm: 1.4624\n",
      "2021-09-29 08:28:24,449 - mmdet - INFO - Epoch [6][440/980]\tlr: 2.000e-02, eta: 2:42:39, time: 1.512, data_time: 0.010, memory: 19497, loss_rpn_cls: 0.1816, loss_rpn_bbox: 0.1114, s0.loss_cls: 0.3598, s0.acc: 92.0801, s0.loss_bbox: 0.1220, s1.loss_cls: 0.1662, s1.acc: 91.9531, s1.loss_bbox: 0.0947, s2.loss_cls: 0.0694, s2.acc: 93.1641, s2.loss_bbox: 0.0447, loss: 1.1500, grad_norm: 1.3779\n",
      "2021-09-29 08:28:39,565 - mmdet - INFO - Epoch [6][450/980]\tlr: 2.000e-02, eta: 2:42:23, time: 1.512, data_time: 0.011, memory: 19497, loss_rpn_cls: 0.2049, loss_rpn_bbox: 0.1049, s0.loss_cls: 0.3689, s0.acc: 90.8496, s0.loss_bbox: 0.1394, s1.loss_cls: 0.1769, s1.acc: 90.7812, s1.loss_bbox: 0.1269, s2.loss_cls: 0.0738, s2.acc: 92.3486, s2.loss_bbox: 0.0598, loss: 1.2556, grad_norm: 1.5475\n",
      "2021-09-29 08:28:52,398 - mmdet - INFO - Epoch [6][460/980]\tlr: 2.000e-02, eta: 2:42:05, time: 1.283, data_time: 0.009, memory: 19497, loss_rpn_cls: 0.2167, loss_rpn_bbox: 0.0815, s0.loss_cls: 0.3619, s0.acc: 90.9316, s0.loss_bbox: 0.1252, s1.loss_cls: 0.1757, s1.acc: 90.4288, s1.loss_bbox: 0.1201, s2.loss_cls: 0.0758, s2.acc: 91.2885, s2.loss_bbox: 0.0625, loss: 1.2194, grad_norm: 1.7586\n",
      "2021-09-29 08:29:09,871 - mmdet - INFO - Epoch [6][470/980]\tlr: 2.000e-02, eta: 2:41:53, time: 1.747, data_time: 0.012, memory: 19497, loss_rpn_cls: 0.1634, loss_rpn_bbox: 0.0874, s0.loss_cls: 0.3510, s0.acc: 91.1088, s0.loss_bbox: 0.1465, s1.loss_cls: 0.1638, s1.acc: 91.6057, s1.loss_bbox: 0.1241, s2.loss_cls: 0.0626, s2.acc: 94.0999, s2.loss_bbox: 0.0489, loss: 1.1476, grad_norm: 1.3073\n",
      "2021-09-29 08:29:23,857 - mmdet - INFO - Epoch [6][480/980]\tlr: 2.000e-02, eta: 2:41:36, time: 1.399, data_time: 0.012, memory: 19497, loss_rpn_cls: 0.2196, loss_rpn_bbox: 0.1210, s0.loss_cls: 0.4093, s0.acc: 90.5389, s0.loss_bbox: 0.1620, s1.loss_cls: 0.1955, s1.acc: 90.4677, s1.loss_bbox: 0.1246, s2.loss_cls: 0.0793, s2.acc: 92.1158, s2.loss_bbox: 0.0515, loss: 1.3627, grad_norm: 1.6932\n",
      "2021-09-29 08:29:40,131 - mmdet - INFO - Epoch [6][490/980]\tlr: 2.000e-02, eta: 2:41:22, time: 1.627, data_time: 0.011, memory: 19497, loss_rpn_cls: 0.2016, loss_rpn_bbox: 0.0790, s0.loss_cls: 0.3496, s0.acc: 91.8580, s0.loss_bbox: 0.1199, s1.loss_cls: 0.1670, s1.acc: 91.7587, s1.loss_bbox: 0.1059, s2.loss_cls: 0.0668, s2.acc: 92.8257, s2.loss_bbox: 0.0471, loss: 1.1368, grad_norm: 1.4357\n",
      "2021-09-29 08:29:54,062 - mmdet - INFO - Epoch [6][500/980]\tlr: 2.000e-02, eta: 2:41:06, time: 1.393, data_time: 0.011, memory: 19497, loss_rpn_cls: 0.1715, loss_rpn_bbox: 0.0918, s0.loss_cls: 0.3628, s0.acc: 90.8867, s0.loss_bbox: 0.1419, s1.loss_cls: 0.1720, s1.acc: 91.1357, s1.loss_bbox: 0.1154, s2.loss_cls: 0.0735, s2.acc: 92.3750, s2.loss_bbox: 0.0544, loss: 1.1834, grad_norm: 1.5317\n",
      "2021-09-29 08:30:11,199 - mmdet - INFO - Epoch [6][510/980]\tlr: 2.000e-02, eta: 2:40:53, time: 1.714, data_time: 0.012, memory: 19497, loss_rpn_cls: 0.2025, loss_rpn_bbox: 0.1290, s0.loss_cls: 0.3963, s0.acc: 90.9412, s0.loss_bbox: 0.1547, s1.loss_cls: 0.1842, s1.acc: 91.5002, s1.loss_bbox: 0.1258, s2.loss_cls: 0.0695, s2.acc: 94.1373, s2.loss_bbox: 0.0504, loss: 1.3125, grad_norm: 1.2799\n",
      "2021-09-29 08:30:25,116 - mmdet - INFO - Epoch [6][520/980]\tlr: 2.000e-02, eta: 2:40:36, time: 1.392, data_time: 0.010, memory: 19497, loss_rpn_cls: 0.1233, loss_rpn_bbox: 0.0716, s0.loss_cls: 0.3268, s0.acc: 92.1030, s0.loss_bbox: 0.1169, s1.loss_cls: 0.1635, s1.acc: 91.5387, s1.loss_bbox: 0.1087, s2.loss_cls: 0.0673, s2.acc: 92.8216, s2.loss_bbox: 0.0502, loss: 1.0284, grad_norm: 1.5968\n",
      "2021-09-29 08:30:38,109 - mmdet - INFO - Epoch [6][530/980]\tlr: 2.000e-02, eta: 2:40:18, time: 1.299, data_time: 0.009, memory: 19497, loss_rpn_cls: 0.1978, loss_rpn_bbox: 0.0982, s0.loss_cls: 0.5117, s0.acc: 87.0459, s0.loss_bbox: 0.2102, s1.loss_cls: 0.2203, s1.acc: 88.8672, s1.loss_bbox: 0.1572, s2.loss_cls: 0.0823, s2.acc: 91.9873, s2.loss_bbox: 0.0624, loss: 1.5401, grad_norm: 1.3234\n",
      "2021-09-29 08:30:55,548 - mmdet - INFO - Epoch [6][540/980]\tlr: 2.000e-02, eta: 2:40:06, time: 1.744, data_time: 0.011, memory: 19497, loss_rpn_cls: 0.1693, loss_rpn_bbox: 0.1141, s0.loss_cls: 0.4013, s0.acc: 90.0928, s0.loss_bbox: 0.1531, s1.loss_cls: 0.1880, s1.acc: 90.3223, s1.loss_bbox: 0.1233, s2.loss_cls: 0.0754, s2.acc: 92.0020, s2.loss_bbox: 0.0543, loss: 1.2788, grad_norm: 1.4299\n",
      "2021-09-29 08:31:09,246 - mmdet - INFO - Epoch [6][550/980]\tlr: 2.000e-02, eta: 2:39:49, time: 1.370, data_time: 0.010, memory: 19497, loss_rpn_cls: 0.1945, loss_rpn_bbox: 0.0884, s0.loss_cls: 0.4371, s0.acc: 89.7070, s0.loss_bbox: 0.1656, s1.loss_cls: 0.2033, s1.acc: 89.6143, s1.loss_bbox: 0.1408, s2.loss_cls: 0.0825, s2.acc: 92.0605, s2.loss_bbox: 0.0617, loss: 1.3739, grad_norm: 1.5784\n",
      "2021-09-29 08:31:26,506 - mmdet - INFO - Epoch [6][560/980]\tlr: 2.000e-02, eta: 2:39:36, time: 1.726, data_time: 0.010, memory: 19497, loss_rpn_cls: 0.1751, loss_rpn_bbox: 0.1111, s0.loss_cls: 0.4522, s0.acc: 87.8711, s0.loss_bbox: 0.1957, s1.loss_cls: 0.2083, s1.acc: 88.3956, s1.loss_bbox: 0.1597, s2.loss_cls: 0.0863, s2.acc: 90.3611, s2.loss_bbox: 0.0707, loss: 1.4590, grad_norm: 1.4887\n",
      "2021-09-29 08:31:41,526 - mmdet - INFO - Epoch [6][570/980]\tlr: 2.000e-02, eta: 2:39:20, time: 1.502, data_time: 0.011, memory: 19497, loss_rpn_cls: 0.1612, loss_rpn_bbox: 0.0819, s0.loss_cls: 0.3844, s0.acc: 90.6502, s0.loss_bbox: 0.1308, s1.loss_cls: 0.1893, s1.acc: 89.9333, s1.loss_bbox: 0.1357, s2.loss_cls: 0.0769, s2.acc: 92.2049, s2.loss_bbox: 0.0577, loss: 1.2179, grad_norm: 1.4752\n",
      "2021-09-29 08:31:56,389 - mmdet - INFO - Epoch [6][580/980]\tlr: 2.000e-02, eta: 2:39:05, time: 1.486, data_time: 0.010, memory: 19497, loss_rpn_cls: 0.1876, loss_rpn_bbox: 0.0947, s0.loss_cls: 0.4575, s0.acc: 88.9258, s0.loss_bbox: 0.1768, s1.loss_cls: 0.2142, s1.acc: 88.8933, s1.loss_bbox: 0.1402, s2.loss_cls: 0.0900, s2.acc: 90.1904, s2.loss_bbox: 0.0693, loss: 1.4303, grad_norm: 1.6119\n",
      "2021-09-29 08:32:11,673 - mmdet - INFO - Epoch [6][590/980]\tlr: 2.000e-02, eta: 2:38:50, time: 1.528, data_time: 0.011, memory: 19497, loss_rpn_cls: 0.1761, loss_rpn_bbox: 0.0665, s0.loss_cls: 0.3702, s0.acc: 91.5771, s0.loss_bbox: 0.1280, s1.loss_cls: 0.1615, s1.acc: 91.9873, s1.loss_bbox: 0.1019, s2.loss_cls: 0.0636, s2.acc: 93.3984, s2.loss_bbox: 0.0471, loss: 1.1149, grad_norm: 1.7941\n",
      "2021-09-29 08:32:26,688 - mmdet - INFO - Epoch [6][600/980]\tlr: 2.000e-02, eta: 2:38:34, time: 1.502, data_time: 0.011, memory: 19497, loss_rpn_cls: 0.1965, loss_rpn_bbox: 0.0739, s0.loss_cls: 0.3492, s0.acc: 92.0020, s0.loss_bbox: 0.1308, s1.loss_cls: 0.1562, s1.acc: 92.3926, s1.loss_bbox: 0.0942, s2.loss_cls: 0.0627, s2.acc: 93.8770, s2.loss_bbox: 0.0403, loss: 1.1039, grad_norm: 1.4360\n",
      "2021-09-29 08:32:43,863 - mmdet - INFO - Epoch [6][610/980]\tlr: 2.000e-02, eta: 2:38:21, time: 1.717, data_time: 0.011, memory: 19497, loss_rpn_cls: 0.1728, loss_rpn_bbox: 0.0865, s0.loss_cls: 0.3757, s0.acc: 91.2012, s0.loss_bbox: 0.1474, s1.loss_cls: 0.1771, s1.acc: 91.0318, s1.loss_bbox: 0.1283, s2.loss_cls: 0.0719, s2.acc: 92.7508, s2.loss_bbox: 0.0600, loss: 1.2199, grad_norm: 1.5221\n",
      "2021-09-29 08:32:58,998 - mmdet - INFO - Epoch [6][620/980]\tlr: 2.000e-02, eta: 2:38:06, time: 1.513, data_time: 0.011, memory: 19497, loss_rpn_cls: 0.2157, loss_rpn_bbox: 0.1240, s0.loss_cls: 0.4562, s0.acc: 89.2938, s0.loss_bbox: 0.1706, s1.loss_cls: 0.2050, s1.acc: 89.7082, s1.loss_bbox: 0.1304, s2.loss_cls: 0.0864, s2.acc: 91.0460, s2.loss_bbox: 0.0539, loss: 1.4422, grad_norm: 1.6504\n",
      "2021-09-29 08:33:14,090 - mmdet - INFO - Epoch [6][630/980]\tlr: 2.000e-02, eta: 2:37:51, time: 1.509, data_time: 0.010, memory: 19497, loss_rpn_cls: 0.1940, loss_rpn_bbox: 0.1042, s0.loss_cls: 0.4387, s0.acc: 89.7070, s0.loss_bbox: 0.1614, s1.loss_cls: 0.1975, s1.acc: 90.2372, s1.loss_bbox: 0.1349, s2.loss_cls: 0.0778, s2.acc: 92.1348, s2.loss_bbox: 0.0570, loss: 1.3655, grad_norm: 1.3606\n"
     ]
    },
    {
     "name": "stderr",
     "output_type": "stream",
     "text": [
      "2021-09-29 08:33:28,256 - mmdet - INFO - Epoch [6][640/980]\tlr: 2.000e-02, eta: 2:37:34, time: 1.417, data_time: 0.011, memory: 19497, loss_rpn_cls: 0.1661, loss_rpn_bbox: 0.1022, s0.loss_cls: 0.4264, s0.acc: 89.9753, s0.loss_bbox: 0.1557, s1.loss_cls: 0.2027, s1.acc: 90.2561, s1.loss_bbox: 0.1343, s2.loss_cls: 0.0810, s2.acc: 92.0938, s2.loss_bbox: 0.0609, loss: 1.3292, grad_norm: 1.5557\n",
      "2021-09-29 08:33:42,290 - mmdet - INFO - Epoch [6][650/980]\tlr: 2.000e-02, eta: 2:37:18, time: 1.403, data_time: 0.010, memory: 19497, loss_rpn_cls: 0.1652, loss_rpn_bbox: 0.1059, s0.loss_cls: 0.4319, s0.acc: 89.0332, s0.loss_bbox: 0.1893, s1.loss_cls: 0.1913, s1.acc: 89.9858, s1.loss_bbox: 0.1533, s2.loss_cls: 0.0726, s2.acc: 92.9360, s2.loss_bbox: 0.0637, loss: 1.3732, grad_norm: 1.5999\n",
      "2021-09-29 08:33:57,531 - mmdet - INFO - Epoch [6][660/980]\tlr: 2.000e-02, eta: 2:37:03, time: 1.524, data_time: 0.010, memory: 19497, loss_rpn_cls: 0.1984, loss_rpn_bbox: 0.1335, s0.loss_cls: 0.4794, s0.acc: 88.5791, s0.loss_bbox: 0.1971, s1.loss_cls: 0.2080, s1.acc: 89.7375, s1.loss_bbox: 0.1476, s2.loss_cls: 0.0809, s2.acc: 91.6283, s2.loss_bbox: 0.0550, loss: 1.4998, grad_norm: 1.5138\n",
      "2021-09-29 08:34:13,758 - mmdet - INFO - Epoch [6][670/980]\tlr: 2.000e-02, eta: 2:36:49, time: 1.623, data_time: 0.011, memory: 19497, loss_rpn_cls: 0.2151, loss_rpn_bbox: 0.0862, s0.loss_cls: 0.3744, s0.acc: 90.8967, s0.loss_bbox: 0.1383, s1.loss_cls: 0.1770, s1.acc: 90.9218, s1.loss_bbox: 0.1159, s2.loss_cls: 0.0709, s2.acc: 93.0027, s2.loss_bbox: 0.0467, loss: 1.2244, grad_norm: 1.4677\n",
      "2021-09-29 08:34:28,913 - mmdet - INFO - Epoch [6][680/980]\tlr: 2.000e-02, eta: 2:36:33, time: 1.515, data_time: 0.011, memory: 19497, loss_rpn_cls: 0.1561, loss_rpn_bbox: 0.0776, s0.loss_cls: 0.3646, s0.acc: 90.9082, s0.loss_bbox: 0.1355, s1.loss_cls: 0.1776, s1.acc: 90.5064, s1.loss_bbox: 0.1308, s2.loss_cls: 0.0734, s2.acc: 92.3017, s2.loss_bbox: 0.0598, loss: 1.1752, grad_norm: 1.3169\n",
      "2021-09-29 08:34:45,004 - mmdet - INFO - Epoch [6][690/980]\tlr: 2.000e-02, eta: 2:36:19, time: 1.609, data_time: 0.010, memory: 19497, loss_rpn_cls: 0.1825, loss_rpn_bbox: 0.1090, s0.loss_cls: 0.4800, s0.acc: 88.3154, s0.loss_bbox: 0.2034, s1.loss_cls: 0.2111, s1.acc: 89.1928, s1.loss_bbox: 0.1549, s2.loss_cls: 0.0840, s2.acc: 91.3895, s2.loss_bbox: 0.0609, loss: 1.4858, grad_norm: 1.6123\n",
      "2021-09-29 08:35:00,219 - mmdet - INFO - Epoch [6][700/980]\tlr: 2.000e-02, eta: 2:36:04, time: 1.522, data_time: 0.011, memory: 19497, loss_rpn_cls: 0.1442, loss_rpn_bbox: 0.1232, s0.loss_cls: 0.4637, s0.acc: 88.5023, s0.loss_bbox: 0.1914, s1.loss_cls: 0.2192, s1.acc: 89.0288, s1.loss_bbox: 0.1619, s2.loss_cls: 0.0921, s2.acc: 90.6779, s2.loss_bbox: 0.0730, loss: 1.4687, grad_norm: 1.4169\n",
      "2021-09-29 08:35:14,185 - mmdet - INFO - Epoch [6][710/980]\tlr: 2.000e-02, eta: 2:35:47, time: 1.397, data_time: 0.010, memory: 19497, loss_rpn_cls: 0.1802, loss_rpn_bbox: 0.1105, s0.loss_cls: 0.4541, s0.acc: 89.2920, s0.loss_bbox: 0.1869, s1.loss_cls: 0.2089, s1.acc: 89.7119, s1.loss_bbox: 0.1594, s2.loss_cls: 0.0816, s2.acc: 91.7578, s2.loss_bbox: 0.0780, loss: 1.4596, grad_norm: 1.6054\n",
      "2021-09-29 08:35:31,471 - mmdet - INFO - Epoch [6][720/980]\tlr: 2.000e-02, eta: 2:35:35, time: 1.729, data_time: 0.011, memory: 19497, loss_rpn_cls: 0.1857, loss_rpn_bbox: 0.0990, s0.loss_cls: 0.4434, s0.acc: 89.1699, s0.loss_bbox: 0.1737, s1.loss_cls: 0.2043, s1.acc: 89.4777, s1.loss_bbox: 0.1319, s2.loss_cls: 0.0851, s2.acc: 91.0801, s2.loss_bbox: 0.0578, loss: 1.3809, grad_norm: 1.4676\n",
      "2021-09-29 08:35:45,421 - mmdet - INFO - Epoch [6][730/980]\tlr: 2.000e-02, eta: 2:35:18, time: 1.395, data_time: 0.010, memory: 19497, loss_rpn_cls: 0.1757, loss_rpn_bbox: 0.1290, s0.loss_cls: 0.4083, s0.acc: 90.5518, s0.loss_bbox: 0.1451, s1.loss_cls: 0.1895, s1.acc: 90.9277, s1.loss_bbox: 0.1282, s2.loss_cls: 0.0737, s2.acc: 92.5684, s2.loss_bbox: 0.0500, loss: 1.2995, grad_norm: 1.4679\n",
      "2021-09-29 08:36:02,670 - mmdet - INFO - Epoch [6][740/980]\tlr: 2.000e-02, eta: 2:35:05, time: 1.725, data_time: 0.011, memory: 19497, loss_rpn_cls: 0.1696, loss_rpn_bbox: 0.0933, s0.loss_cls: 0.2918, s0.acc: 93.0498, s0.loss_bbox: 0.1064, s1.loss_cls: 0.1403, s1.acc: 92.8701, s1.loss_bbox: 0.0952, s2.loss_cls: 0.0553, s2.acc: 94.2271, s2.loss_bbox: 0.0385, loss: 0.9902, grad_norm: 1.2149\n",
      "2021-09-29 08:36:18,951 - mmdet - INFO - Epoch [6][750/980]\tlr: 2.000e-02, eta: 2:34:51, time: 1.628, data_time: 0.011, memory: 19497, loss_rpn_cls: 0.2444, loss_rpn_bbox: 0.1559, s0.loss_cls: 0.4024, s0.acc: 89.6729, s0.loss_bbox: 0.1644, s1.loss_cls: 0.1857, s1.acc: 90.1310, s1.loss_bbox: 0.1408, s2.loss_cls: 0.0758, s2.acc: 92.0361, s2.loss_bbox: 0.0542, loss: 1.4236, grad_norm: 1.5451\n",
      "2021-09-29 08:36:33,970 - mmdet - INFO - Epoch [6][760/980]\tlr: 2.000e-02, eta: 2:34:36, time: 1.502, data_time: 0.011, memory: 19497, loss_rpn_cls: 0.1908, loss_rpn_bbox: 0.1033, s0.loss_cls: 0.3454, s0.acc: 91.6260, s0.loss_bbox: 0.1464, s1.loss_cls: 0.1551, s1.acc: 92.1826, s1.loss_bbox: 0.1033, s2.loss_cls: 0.0629, s2.acc: 93.6247, s2.loss_bbox: 0.0444, loss: 1.1516, grad_norm: 1.5168\n",
      "2021-09-29 08:36:50,139 - mmdet - INFO - Epoch [6][770/980]\tlr: 2.000e-02, eta: 2:34:21, time: 1.617, data_time: 0.012, memory: 19497, loss_rpn_cls: 0.2255, loss_rpn_bbox: 0.0968, s0.loss_cls: 0.3453, s0.acc: 91.7334, s0.loss_bbox: 0.1175, s1.loss_cls: 0.1595, s1.acc: 92.0166, s1.loss_bbox: 0.1015, s2.loss_cls: 0.0665, s2.acc: 93.2129, s2.loss_bbox: 0.0477, loss: 1.1603, grad_norm: 1.3116\n",
      "2021-09-29 08:37:03,133 - mmdet - INFO - Epoch [6][780/980]\tlr: 2.000e-02, eta: 2:34:04, time: 1.299, data_time: 0.009, memory: 19497, loss_rpn_cls: 0.1291, loss_rpn_bbox: 0.0761, s0.loss_cls: 0.3836, s0.acc: 90.0488, s0.loss_bbox: 0.1343, s1.loss_cls: 0.2015, s1.acc: 87.8278, s1.loss_bbox: 0.1354, s2.loss_cls: 0.0936, s2.acc: 88.8464, s2.loss_bbox: 0.0758, loss: 1.2295, grad_norm: 1.5087\n",
      "2021-09-29 08:37:20,489 - mmdet - INFO - Epoch [6][790/980]\tlr: 2.000e-02, eta: 2:33:51, time: 1.736, data_time: 0.012, memory: 19497, loss_rpn_cls: 0.1872, loss_rpn_bbox: 0.0880, s0.loss_cls: 0.3731, s0.acc: 91.7480, s0.loss_bbox: 0.1350, s1.loss_cls: 0.1654, s1.acc: 92.6532, s1.loss_bbox: 0.0997, s2.loss_cls: 0.0650, s2.acc: 93.8501, s2.loss_bbox: 0.0402, loss: 1.1536, grad_norm: 1.5535\n",
      "2021-09-29 08:37:33,447 - mmdet - INFO - Epoch [6][800/980]\tlr: 2.000e-02, eta: 2:33:33, time: 1.296, data_time: 0.011, memory: 19497, loss_rpn_cls: 0.1959, loss_rpn_bbox: 0.0928, s0.loss_cls: 0.4126, s0.acc: 90.3631, s0.loss_bbox: 0.1645, s1.loss_cls: 0.1787, s1.acc: 91.3925, s1.loss_bbox: 0.1278, s2.loss_cls: 0.0672, s2.acc: 93.4580, s2.loss_bbox: 0.0528, loss: 1.2922, grad_norm: 1.5408\n",
      "2021-09-29 08:37:49,691 - mmdet - INFO - Epoch [6][810/980]\tlr: 2.000e-02, eta: 2:33:19, time: 1.624, data_time: 0.010, memory: 19497, loss_rpn_cls: 0.2064, loss_rpn_bbox: 0.1224, s0.loss_cls: 0.4785, s0.acc: 87.8662, s0.loss_bbox: 0.2078, s1.loss_cls: 0.2137, s1.acc: 89.0124, s1.loss_bbox: 0.1648, s2.loss_cls: 0.0830, s2.acc: 91.6874, s2.loss_bbox: 0.0686, loss: 1.5452, grad_norm: 1.4253\n",
      "2021-09-29 08:38:03,638 - mmdet - INFO - Epoch [6][820/980]\tlr: 2.000e-02, eta: 2:33:03, time: 1.395, data_time: 0.010, memory: 19497, loss_rpn_cls: 0.2302, loss_rpn_bbox: 0.1179, s0.loss_cls: 0.5147, s0.acc: 87.1193, s0.loss_bbox: 0.2173, s1.loss_cls: 0.2317, s1.acc: 88.5028, s1.loss_bbox: 0.1582, s2.loss_cls: 0.0913, s2.acc: 91.4600, s2.loss_bbox: 0.0620, loss: 1.6234, grad_norm: 1.6307\n",
      "2021-09-29 08:38:17,643 - mmdet - INFO - Epoch [6][830/980]\tlr: 2.000e-02, eta: 2:32:46, time: 1.400, data_time: 0.010, memory: 19497, loss_rpn_cls: 0.1771, loss_rpn_bbox: 0.0856, s0.loss_cls: 0.3742, s0.acc: 90.3076, s0.loss_bbox: 0.1511, s1.loss_cls: 0.1712, s1.acc: 90.1807, s1.loss_bbox: 0.1342, s2.loss_cls: 0.0674, s2.acc: 92.4951, s2.loss_bbox: 0.0541, loss: 1.2148, grad_norm: 1.5892\n",
      "2021-09-29 08:38:31,662 - mmdet - INFO - Epoch [6][840/980]\tlr: 2.000e-02, eta: 2:32:30, time: 1.402, data_time: 0.009, memory: 19497, loss_rpn_cls: 0.2194, loss_rpn_bbox: 0.1277, s0.loss_cls: 0.4683, s0.acc: 88.6062, s0.loss_bbox: 0.1973, s1.loss_cls: 0.2101, s1.acc: 89.1603, s1.loss_bbox: 0.1477, s2.loss_cls: 0.0887, s2.acc: 90.9922, s2.loss_bbox: 0.0634, loss: 1.5227, grad_norm: 1.6997\n"
     ]
    },
    {
     "name": "stderr",
     "output_type": "stream",
     "text": [
      "2021-09-29 08:38:48,083 - mmdet - INFO - Epoch [6][850/980]\tlr: 2.000e-02, eta: 2:32:16, time: 1.642, data_time: 0.011, memory: 19497, loss_rpn_cls: 0.2087, loss_rpn_bbox: 0.0893, s0.loss_cls: 0.4128, s0.acc: 89.7900, s0.loss_bbox: 0.1610, s1.loss_cls: 0.1879, s1.acc: 90.6738, s1.loss_bbox: 0.1183, s2.loss_cls: 0.0779, s2.acc: 91.4404, s2.loss_bbox: 0.0576, loss: 1.3135, grad_norm: 1.4138\n",
      "2021-09-29 08:39:04,354 - mmdet - INFO - Epoch [6][860/980]\tlr: 2.000e-02, eta: 2:32:02, time: 1.627, data_time: 0.011, memory: 19497, loss_rpn_cls: 0.1614, loss_rpn_bbox: 0.0974, s0.loss_cls: 0.3294, s0.acc: 91.8262, s0.loss_bbox: 0.1115, s1.loss_cls: 0.1623, s1.acc: 90.7758, s1.loss_bbox: 0.0995, s2.loss_cls: 0.0711, s2.acc: 91.9750, s2.loss_bbox: 0.0469, loss: 1.0795, grad_norm: 1.3268\n",
      "2021-09-29 08:39:18,356 - mmdet - INFO - Epoch [6][870/980]\tlr: 2.000e-02, eta: 2:31:45, time: 1.400, data_time: 0.010, memory: 19497, loss_rpn_cls: 0.1865, loss_rpn_bbox: 0.0811, s0.loss_cls: 0.4017, s0.acc: 89.8877, s0.loss_bbox: 0.1622, s1.loss_cls: 0.1936, s1.acc: 90.2710, s1.loss_bbox: 0.1360, s2.loss_cls: 0.0791, s2.acc: 91.5287, s2.loss_bbox: 0.0592, loss: 1.2993, grad_norm: 1.6895\n",
      "2021-09-29 08:39:33,559 - mmdet - INFO - Epoch [6][880/980]\tlr: 2.000e-02, eta: 2:31:30, time: 1.520, data_time: 0.011, memory: 19497, loss_rpn_cls: 0.1392, loss_rpn_bbox: 0.0805, s0.loss_cls: 0.3632, s0.acc: 90.8373, s0.loss_bbox: 0.1359, s1.loss_cls: 0.1798, s1.acc: 90.4264, s1.loss_bbox: 0.1232, s2.loss_cls: 0.0724, s2.acc: 92.4887, s2.loss_bbox: 0.0492, loss: 1.1433, grad_norm: 1.6774\n",
      "2021-09-29 08:39:45,364 - mmdet - INFO - Epoch [6][890/980]\tlr: 2.000e-02, eta: 2:31:11, time: 1.181, data_time: 0.009, memory: 19497, loss_rpn_cls: 0.1919, loss_rpn_bbox: 0.1004, s0.loss_cls: 0.3931, s0.acc: 90.0049, s0.loss_bbox: 0.1509, s1.loss_cls: 0.1938, s1.acc: 89.3555, s1.loss_bbox: 0.1294, s2.loss_cls: 0.0821, s2.acc: 91.1523, s2.loss_bbox: 0.0606, loss: 1.3021, grad_norm: 1.4471\n",
      "2021-09-29 08:40:01,700 - mmdet - INFO - Epoch [6][900/980]\tlr: 2.000e-02, eta: 2:30:57, time: 1.634, data_time: 0.011, memory: 19497, loss_rpn_cls: 0.1448, loss_rpn_bbox: 0.0927, s0.loss_cls: 0.4053, s0.acc: 90.4443, s0.loss_bbox: 0.1712, s1.loss_cls: 0.1794, s1.acc: 91.4502, s1.loss_bbox: 0.1361, s2.loss_cls: 0.0696, s2.acc: 93.6035, s2.loss_bbox: 0.0550, loss: 1.2540, grad_norm: 1.4632\n",
      "2021-09-29 08:40:15,768 - mmdet - INFO - Epoch [6][910/980]\tlr: 2.000e-02, eta: 2:30:41, time: 1.407, data_time: 0.010, memory: 19497, loss_rpn_cls: 0.1543, loss_rpn_bbox: 0.0914, s0.loss_cls: 0.3760, s0.acc: 91.0889, s0.loss_bbox: 0.1516, s1.loss_cls: 0.1603, s1.acc: 92.1826, s1.loss_bbox: 0.1056, s2.loss_cls: 0.0632, s2.acc: 93.7402, s2.loss_bbox: 0.0427, loss: 1.1451, grad_norm: 1.4973\n",
      "2021-09-29 08:40:29,832 - mmdet - INFO - Epoch [6][920/980]\tlr: 2.000e-02, eta: 2:30:25, time: 1.406, data_time: 0.010, memory: 19497, loss_rpn_cls: 0.1573, loss_rpn_bbox: 0.0917, s0.loss_cls: 0.4435, s0.acc: 88.7646, s0.loss_bbox: 0.1720, s1.loss_cls: 0.2144, s1.acc: 88.7002, s1.loss_bbox: 0.1494, s2.loss_cls: 0.0904, s2.acc: 89.8625, s2.loss_bbox: 0.0717, loss: 1.3905, grad_norm: 1.4989\n",
      "2021-09-29 08:40:46,112 - mmdet - INFO - Epoch [6][930/980]\tlr: 2.000e-02, eta: 2:30:11, time: 1.628, data_time: 0.010, memory: 19497, loss_rpn_cls: 0.1791, loss_rpn_bbox: 0.0899, s0.loss_cls: 0.4752, s0.acc: 88.1934, s0.loss_bbox: 0.2014, s1.loss_cls: 0.2214, s1.acc: 88.6572, s1.loss_bbox: 0.1563, s2.loss_cls: 0.0881, s2.acc: 91.3161, s2.loss_bbox: 0.0680, loss: 1.4794, grad_norm: 1.5669\n",
      "2021-09-29 08:41:02,282 - mmdet - INFO - Epoch [6][940/980]\tlr: 2.000e-02, eta: 2:29:56, time: 1.617, data_time: 0.011, memory: 19497, loss_rpn_cls: 0.1712, loss_rpn_bbox: 0.0829, s0.loss_cls: 0.4014, s0.acc: 89.5557, s0.loss_bbox: 0.1546, s1.loss_cls: 0.1900, s1.acc: 89.5310, s1.loss_bbox: 0.1289, s2.loss_cls: 0.0775, s2.acc: 91.5916, s2.loss_bbox: 0.0608, loss: 1.2673, grad_norm: 1.5554\n",
      "2021-09-29 08:41:18,436 - mmdet - INFO - Epoch [6][950/980]\tlr: 2.000e-02, eta: 2:29:42, time: 1.615, data_time: 0.012, memory: 19497, loss_rpn_cls: 0.1229, loss_rpn_bbox: 0.0985, s0.loss_cls: 0.3887, s0.acc: 90.1709, s0.loss_bbox: 0.1342, s1.loss_cls: 0.1859, s1.acc: 90.2832, s1.loss_bbox: 0.1163, s2.loss_cls: 0.0782, s2.acc: 91.5479, s2.loss_bbox: 0.0606, loss: 1.1853, grad_norm: 1.4226\n",
      "2021-09-29 08:41:35,165 - mmdet - INFO - Epoch [6][960/980]\tlr: 2.000e-02, eta: 2:29:28, time: 1.673, data_time: 0.010, memory: 19497, loss_rpn_cls: 0.2324, loss_rpn_bbox: 0.1289, s0.loss_cls: 0.4938, s0.acc: 88.1787, s0.loss_bbox: 0.2189, s1.loss_cls: 0.2181, s1.acc: 89.4808, s1.loss_bbox: 0.1666, s2.loss_cls: 0.0806, s2.acc: 92.5240, s2.loss_bbox: 0.0610, loss: 1.6003, grad_norm: 1.7251\n",
      "2021-09-29 08:41:52,636 - mmdet - INFO - Epoch [6][970/980]\tlr: 2.000e-02, eta: 2:29:16, time: 1.747, data_time: 0.011, memory: 19497, loss_rpn_cls: 0.2061, loss_rpn_bbox: 0.0894, s0.loss_cls: 0.4751, s0.acc: 88.5938, s0.loss_bbox: 0.1812, s1.loss_cls: 0.2253, s1.acc: 88.9057, s1.loss_bbox: 0.1504, s2.loss_cls: 0.0906, s2.acc: 90.9921, s2.loss_bbox: 0.0622, loss: 1.4802, grad_norm: 1.7899\n",
      "2021-09-29 08:42:07,831 - mmdet - INFO - Epoch [6][980/980]\tlr: 2.000e-02, eta: 2:29:00, time: 1.520, data_time: 0.010, memory: 19497, loss_rpn_cls: 0.1561, loss_rpn_bbox: 0.0903, s0.loss_cls: 0.4305, s0.acc: 89.4531, s0.loss_bbox: 0.1787, s1.loss_cls: 0.1924, s1.acc: 90.4199, s1.loss_bbox: 0.1351, s2.loss_cls: 0.0758, s2.acc: 92.4707, s2.loss_bbox: 0.0602, loss: 1.3191, grad_norm: 1.4573\n",
      "2021-09-29 08:42:07,889 - mmdet - INFO - Saving checkpoint at 6 epochs\n"
     ]
    },
    {
     "name": "stdout",
     "output_type": "stream",
     "text": [
      "[>>>>>>>>>>>>>                ] 442/966, 1.4 task/s, elapsed: 309s, ETA:   367s"
     ]
    },
    {
     "ename": "KeyboardInterrupt",
     "evalue": "",
     "output_type": "error",
     "traceback": [
      "\u001b[0;31m---------------------------------------------------------------------------\u001b[0m",
      "\u001b[0;31mKeyboardInterrupt\u001b[0m                         Traceback (most recent call last)",
      "\u001b[0;32m/tmp/ipykernel_50975/259805608.py\u001b[0m in \u001b[0;36m<module>\u001b[0;34m\u001b[0m\n\u001b[0;32m----> 1\u001b[0;31m \u001b[0mtrain_detector\u001b[0m\u001b[0;34m(\u001b[0m\u001b[0mmodel\u001b[0m\u001b[0;34m,\u001b[0m \u001b[0mdatasets\u001b[0m\u001b[0;34m,\u001b[0m \u001b[0mcfg\u001b[0m\u001b[0;34m,\u001b[0m \u001b[0mdistributed\u001b[0m\u001b[0;34m=\u001b[0m\u001b[0;32mFalse\u001b[0m\u001b[0;34m,\u001b[0m \u001b[0mvalidate\u001b[0m\u001b[0;34m=\u001b[0m\u001b[0;32mTrue\u001b[0m\u001b[0;34m)\u001b[0m\u001b[0;34m\u001b[0m\u001b[0;34m\u001b[0m\u001b[0m\n\u001b[0m",
      "\u001b[0;32m~/detection/mmdetection/mmdet/apis/train.py\u001b[0m in \u001b[0;36mtrain_detector\u001b[0;34m(model, dataset, cfg, distributed, validate, timestamp, meta)\u001b[0m\n\u001b[1;32m    168\u001b[0m     \u001b[0;32melif\u001b[0m \u001b[0mcfg\u001b[0m\u001b[0;34m.\u001b[0m\u001b[0mload_from\u001b[0m\u001b[0;34m:\u001b[0m\u001b[0;34m\u001b[0m\u001b[0;34m\u001b[0m\u001b[0m\n\u001b[1;32m    169\u001b[0m         \u001b[0mrunner\u001b[0m\u001b[0;34m.\u001b[0m\u001b[0mload_checkpoint\u001b[0m\u001b[0;34m(\u001b[0m\u001b[0mcfg\u001b[0m\u001b[0;34m.\u001b[0m\u001b[0mload_from\u001b[0m\u001b[0;34m)\u001b[0m\u001b[0;34m\u001b[0m\u001b[0;34m\u001b[0m\u001b[0m\n\u001b[0;32m--> 170\u001b[0;31m     \u001b[0mrunner\u001b[0m\u001b[0;34m.\u001b[0m\u001b[0mrun\u001b[0m\u001b[0;34m(\u001b[0m\u001b[0mdata_loaders\u001b[0m\u001b[0;34m,\u001b[0m \u001b[0mcfg\u001b[0m\u001b[0;34m.\u001b[0m\u001b[0mworkflow\u001b[0m\u001b[0;34m)\u001b[0m\u001b[0;34m\u001b[0m\u001b[0;34m\u001b[0m\u001b[0m\n\u001b[0m",
      "\u001b[0;32m/opt/conda/envs/detection/lib/python3.7/site-packages/mmcv/runner/epoch_based_runner.py\u001b[0m in \u001b[0;36mrun\u001b[0;34m(self, data_loaders, workflow, max_epochs, **kwargs)\u001b[0m\n\u001b[1;32m    125\u001b[0m                     \u001b[0;32mif\u001b[0m \u001b[0mmode\u001b[0m \u001b[0;34m==\u001b[0m \u001b[0;34m'train'\u001b[0m \u001b[0;32mand\u001b[0m \u001b[0mself\u001b[0m\u001b[0;34m.\u001b[0m\u001b[0mepoch\u001b[0m \u001b[0;34m>=\u001b[0m \u001b[0mself\u001b[0m\u001b[0;34m.\u001b[0m\u001b[0m_max_epochs\u001b[0m\u001b[0;34m:\u001b[0m\u001b[0;34m\u001b[0m\u001b[0;34m\u001b[0m\u001b[0m\n\u001b[1;32m    126\u001b[0m                         \u001b[0;32mbreak\u001b[0m\u001b[0;34m\u001b[0m\u001b[0;34m\u001b[0m\u001b[0m\n\u001b[0;32m--> 127\u001b[0;31m                     \u001b[0mepoch_runner\u001b[0m\u001b[0;34m(\u001b[0m\u001b[0mdata_loaders\u001b[0m\u001b[0;34m[\u001b[0m\u001b[0mi\u001b[0m\u001b[0;34m]\u001b[0m\u001b[0;34m,\u001b[0m \u001b[0;34m**\u001b[0m\u001b[0mkwargs\u001b[0m\u001b[0;34m)\u001b[0m\u001b[0;34m\u001b[0m\u001b[0;34m\u001b[0m\u001b[0m\n\u001b[0m\u001b[1;32m    128\u001b[0m \u001b[0;34m\u001b[0m\u001b[0m\n\u001b[1;32m    129\u001b[0m         \u001b[0mtime\u001b[0m\u001b[0;34m.\u001b[0m\u001b[0msleep\u001b[0m\u001b[0;34m(\u001b[0m\u001b[0;36m1\u001b[0m\u001b[0;34m)\u001b[0m  \u001b[0;31m# wait for some hooks like loggers to finish\u001b[0m\u001b[0;34m\u001b[0m\u001b[0;34m\u001b[0m\u001b[0m\n",
      "\u001b[0;32m/opt/conda/envs/detection/lib/python3.7/site-packages/mmcv/runner/epoch_based_runner.py\u001b[0m in \u001b[0;36mtrain\u001b[0;34m(self, data_loader, **kwargs)\u001b[0m\n\u001b[1;32m     52\u001b[0m             \u001b[0mself\u001b[0m\u001b[0;34m.\u001b[0m\u001b[0m_iter\u001b[0m \u001b[0;34m+=\u001b[0m \u001b[0;36m1\u001b[0m\u001b[0;34m\u001b[0m\u001b[0;34m\u001b[0m\u001b[0m\n\u001b[1;32m     53\u001b[0m \u001b[0;34m\u001b[0m\u001b[0m\n\u001b[0;32m---> 54\u001b[0;31m         \u001b[0mself\u001b[0m\u001b[0;34m.\u001b[0m\u001b[0mcall_hook\u001b[0m\u001b[0;34m(\u001b[0m\u001b[0;34m'after_train_epoch'\u001b[0m\u001b[0;34m)\u001b[0m\u001b[0;34m\u001b[0m\u001b[0;34m\u001b[0m\u001b[0m\n\u001b[0m\u001b[1;32m     55\u001b[0m         \u001b[0mself\u001b[0m\u001b[0;34m.\u001b[0m\u001b[0m_epoch\u001b[0m \u001b[0;34m+=\u001b[0m \u001b[0;36m1\u001b[0m\u001b[0;34m\u001b[0m\u001b[0;34m\u001b[0m\u001b[0m\n\u001b[1;32m     56\u001b[0m \u001b[0;34m\u001b[0m\u001b[0m\n",
      "\u001b[0;32m/opt/conda/envs/detection/lib/python3.7/site-packages/mmcv/runner/base_runner.py\u001b[0m in \u001b[0;36mcall_hook\u001b[0;34m(self, fn_name)\u001b[0m\n\u001b[1;32m    305\u001b[0m         \"\"\"\n\u001b[1;32m    306\u001b[0m         \u001b[0;32mfor\u001b[0m \u001b[0mhook\u001b[0m \u001b[0;32min\u001b[0m \u001b[0mself\u001b[0m\u001b[0;34m.\u001b[0m\u001b[0m_hooks\u001b[0m\u001b[0;34m:\u001b[0m\u001b[0;34m\u001b[0m\u001b[0;34m\u001b[0m\u001b[0m\n\u001b[0;32m--> 307\u001b[0;31m             \u001b[0mgetattr\u001b[0m\u001b[0;34m(\u001b[0m\u001b[0mhook\u001b[0m\u001b[0;34m,\u001b[0m \u001b[0mfn_name\u001b[0m\u001b[0;34m)\u001b[0m\u001b[0;34m(\u001b[0m\u001b[0mself\u001b[0m\u001b[0;34m)\u001b[0m\u001b[0;34m\u001b[0m\u001b[0;34m\u001b[0m\u001b[0m\n\u001b[0m\u001b[1;32m    308\u001b[0m \u001b[0;34m\u001b[0m\u001b[0m\n\u001b[1;32m    309\u001b[0m     \u001b[0;32mdef\u001b[0m \u001b[0mget_hook_info\u001b[0m\u001b[0;34m(\u001b[0m\u001b[0mself\u001b[0m\u001b[0;34m)\u001b[0m\u001b[0;34m:\u001b[0m\u001b[0;34m\u001b[0m\u001b[0;34m\u001b[0m\u001b[0m\n",
      "\u001b[0;32m/opt/conda/envs/detection/lib/python3.7/site-packages/mmcv/runner/hooks/evaluation.py\u001b[0m in \u001b[0;36mafter_train_epoch\u001b[0;34m(self, runner)\u001b[0m\n\u001b[1;32m    235\u001b[0m         \u001b[0;34m\"\"\"Called after every training epoch to evaluate the results.\"\"\"\u001b[0m\u001b[0;34m\u001b[0m\u001b[0;34m\u001b[0m\u001b[0m\n\u001b[1;32m    236\u001b[0m         \u001b[0;32mif\u001b[0m \u001b[0mself\u001b[0m\u001b[0;34m.\u001b[0m\u001b[0mby_epoch\u001b[0m \u001b[0;32mand\u001b[0m \u001b[0mself\u001b[0m\u001b[0;34m.\u001b[0m\u001b[0m_should_evaluate\u001b[0m\u001b[0;34m(\u001b[0m\u001b[0mrunner\u001b[0m\u001b[0;34m)\u001b[0m\u001b[0;34m:\u001b[0m\u001b[0;34m\u001b[0m\u001b[0;34m\u001b[0m\u001b[0m\n\u001b[0;32m--> 237\u001b[0;31m             \u001b[0mself\u001b[0m\u001b[0;34m.\u001b[0m\u001b[0m_do_evaluate\u001b[0m\u001b[0;34m(\u001b[0m\u001b[0mrunner\u001b[0m\u001b[0;34m)\u001b[0m\u001b[0;34m\u001b[0m\u001b[0;34m\u001b[0m\u001b[0m\n\u001b[0m\u001b[1;32m    238\u001b[0m \u001b[0;34m\u001b[0m\u001b[0m\n\u001b[1;32m    239\u001b[0m     \u001b[0;32mdef\u001b[0m \u001b[0m_do_evaluate\u001b[0m\u001b[0;34m(\u001b[0m\u001b[0mself\u001b[0m\u001b[0;34m,\u001b[0m \u001b[0mrunner\u001b[0m\u001b[0;34m)\u001b[0m\u001b[0;34m:\u001b[0m\u001b[0;34m\u001b[0m\u001b[0;34m\u001b[0m\u001b[0m\n",
      "\u001b[0;32m~/detection/mmdetection/mmdet/core/evaluation/eval_hooks.py\u001b[0m in \u001b[0;36m_do_evaluate\u001b[0;34m(self, runner)\u001b[0m\n\u001b[1;32m     15\u001b[0m \u001b[0;34m\u001b[0m\u001b[0m\n\u001b[1;32m     16\u001b[0m         \u001b[0;32mfrom\u001b[0m \u001b[0mmmdet\u001b[0m\u001b[0;34m.\u001b[0m\u001b[0mapis\u001b[0m \u001b[0;32mimport\u001b[0m \u001b[0msingle_gpu_test\u001b[0m\u001b[0;34m\u001b[0m\u001b[0;34m\u001b[0m\u001b[0m\n\u001b[0;32m---> 17\u001b[0;31m         \u001b[0mresults\u001b[0m \u001b[0;34m=\u001b[0m \u001b[0msingle_gpu_test\u001b[0m\u001b[0;34m(\u001b[0m\u001b[0mrunner\u001b[0m\u001b[0;34m.\u001b[0m\u001b[0mmodel\u001b[0m\u001b[0;34m,\u001b[0m \u001b[0mself\u001b[0m\u001b[0;34m.\u001b[0m\u001b[0mdataloader\u001b[0m\u001b[0;34m,\u001b[0m \u001b[0mshow\u001b[0m\u001b[0;34m=\u001b[0m\u001b[0;32mFalse\u001b[0m\u001b[0;34m)\u001b[0m\u001b[0;34m\u001b[0m\u001b[0;34m\u001b[0m\u001b[0m\n\u001b[0m\u001b[1;32m     18\u001b[0m         \u001b[0mrunner\u001b[0m\u001b[0;34m.\u001b[0m\u001b[0mlog_buffer\u001b[0m\u001b[0;34m.\u001b[0m\u001b[0moutput\u001b[0m\u001b[0;34m[\u001b[0m\u001b[0;34m'eval_iter_num'\u001b[0m\u001b[0;34m]\u001b[0m \u001b[0;34m=\u001b[0m \u001b[0mlen\u001b[0m\u001b[0;34m(\u001b[0m\u001b[0mself\u001b[0m\u001b[0;34m.\u001b[0m\u001b[0mdataloader\u001b[0m\u001b[0;34m)\u001b[0m\u001b[0;34m\u001b[0m\u001b[0;34m\u001b[0m\u001b[0m\n\u001b[1;32m     19\u001b[0m         \u001b[0mkey_score\u001b[0m \u001b[0;34m=\u001b[0m \u001b[0mself\u001b[0m\u001b[0;34m.\u001b[0m\u001b[0mevaluate\u001b[0m\u001b[0;34m(\u001b[0m\u001b[0mrunner\u001b[0m\u001b[0;34m,\u001b[0m \u001b[0mresults\u001b[0m\u001b[0;34m)\u001b[0m\u001b[0;34m\u001b[0m\u001b[0;34m\u001b[0m\u001b[0m\n",
      "\u001b[0;32m~/detection/mmdetection/mmdet/apis/test.py\u001b[0m in \u001b[0;36msingle_gpu_test\u001b[0;34m(model, data_loader, show, out_dir, show_score_thr)\u001b[0m\n\u001b[1;32m     25\u001b[0m     \u001b[0;32mfor\u001b[0m \u001b[0mi\u001b[0m\u001b[0;34m,\u001b[0m \u001b[0mdata\u001b[0m \u001b[0;32min\u001b[0m \u001b[0menumerate\u001b[0m\u001b[0;34m(\u001b[0m\u001b[0mdata_loader\u001b[0m\u001b[0;34m)\u001b[0m\u001b[0;34m:\u001b[0m\u001b[0;34m\u001b[0m\u001b[0;34m\u001b[0m\u001b[0m\n\u001b[1;32m     26\u001b[0m         \u001b[0;32mwith\u001b[0m \u001b[0mtorch\u001b[0m\u001b[0;34m.\u001b[0m\u001b[0mno_grad\u001b[0m\u001b[0;34m(\u001b[0m\u001b[0;34m)\u001b[0m\u001b[0;34m:\u001b[0m\u001b[0;34m\u001b[0m\u001b[0;34m\u001b[0m\u001b[0m\n\u001b[0;32m---> 27\u001b[0;31m             \u001b[0mresult\u001b[0m \u001b[0;34m=\u001b[0m \u001b[0mmodel\u001b[0m\u001b[0;34m(\u001b[0m\u001b[0mreturn_loss\u001b[0m\u001b[0;34m=\u001b[0m\u001b[0;32mFalse\u001b[0m\u001b[0;34m,\u001b[0m \u001b[0mrescale\u001b[0m\u001b[0;34m=\u001b[0m\u001b[0;32mTrue\u001b[0m\u001b[0;34m,\u001b[0m \u001b[0;34m**\u001b[0m\u001b[0mdata\u001b[0m\u001b[0;34m)\u001b[0m\u001b[0;34m\u001b[0m\u001b[0;34m\u001b[0m\u001b[0m\n\u001b[0m\u001b[1;32m     28\u001b[0m \u001b[0;34m\u001b[0m\u001b[0m\n\u001b[1;32m     29\u001b[0m         \u001b[0mbatch_size\u001b[0m \u001b[0;34m=\u001b[0m \u001b[0mlen\u001b[0m\u001b[0;34m(\u001b[0m\u001b[0mresult\u001b[0m\u001b[0;34m)\u001b[0m\u001b[0;34m\u001b[0m\u001b[0;34m\u001b[0m\u001b[0m\n",
      "\u001b[0;32m/opt/conda/envs/detection/lib/python3.7/site-packages/torch/nn/modules/module.py\u001b[0m in \u001b[0;36m_call_impl\u001b[0;34m(self, *input, **kwargs)\u001b[0m\n\u001b[1;32m    725\u001b[0m             \u001b[0mresult\u001b[0m \u001b[0;34m=\u001b[0m \u001b[0mself\u001b[0m\u001b[0;34m.\u001b[0m\u001b[0m_slow_forward\u001b[0m\u001b[0;34m(\u001b[0m\u001b[0;34m*\u001b[0m\u001b[0minput\u001b[0m\u001b[0;34m,\u001b[0m \u001b[0;34m**\u001b[0m\u001b[0mkwargs\u001b[0m\u001b[0;34m)\u001b[0m\u001b[0;34m\u001b[0m\u001b[0;34m\u001b[0m\u001b[0m\n\u001b[1;32m    726\u001b[0m         \u001b[0;32melse\u001b[0m\u001b[0;34m:\u001b[0m\u001b[0;34m\u001b[0m\u001b[0;34m\u001b[0m\u001b[0m\n\u001b[0;32m--> 727\u001b[0;31m             \u001b[0mresult\u001b[0m \u001b[0;34m=\u001b[0m \u001b[0mself\u001b[0m\u001b[0;34m.\u001b[0m\u001b[0mforward\u001b[0m\u001b[0;34m(\u001b[0m\u001b[0;34m*\u001b[0m\u001b[0minput\u001b[0m\u001b[0;34m,\u001b[0m \u001b[0;34m**\u001b[0m\u001b[0mkwargs\u001b[0m\u001b[0;34m)\u001b[0m\u001b[0;34m\u001b[0m\u001b[0;34m\u001b[0m\u001b[0m\n\u001b[0m\u001b[1;32m    728\u001b[0m         for hook in itertools.chain(\n\u001b[1;32m    729\u001b[0m                 \u001b[0m_global_forward_hooks\u001b[0m\u001b[0;34m.\u001b[0m\u001b[0mvalues\u001b[0m\u001b[0;34m(\u001b[0m\u001b[0;34m)\u001b[0m\u001b[0;34m,\u001b[0m\u001b[0;34m\u001b[0m\u001b[0;34m\u001b[0m\u001b[0m\n",
      "\u001b[0;32m/opt/conda/envs/detection/lib/python3.7/site-packages/mmcv/parallel/data_parallel.py\u001b[0m in \u001b[0;36mforward\u001b[0;34m(self, *inputs, **kwargs)\u001b[0m\n\u001b[1;32m     40\u001b[0m             \u001b[0;32mreturn\u001b[0m \u001b[0mself\u001b[0m\u001b[0;34m.\u001b[0m\u001b[0mmodule\u001b[0m\u001b[0;34m(\u001b[0m\u001b[0;34m*\u001b[0m\u001b[0minputs\u001b[0m\u001b[0;34m[\u001b[0m\u001b[0;36m0\u001b[0m\u001b[0;34m]\u001b[0m\u001b[0;34m,\u001b[0m \u001b[0;34m**\u001b[0m\u001b[0mkwargs\u001b[0m\u001b[0;34m[\u001b[0m\u001b[0;36m0\u001b[0m\u001b[0;34m]\u001b[0m\u001b[0;34m)\u001b[0m\u001b[0;34m\u001b[0m\u001b[0;34m\u001b[0m\u001b[0m\n\u001b[1;32m     41\u001b[0m         \u001b[0;32melse\u001b[0m\u001b[0;34m:\u001b[0m\u001b[0;34m\u001b[0m\u001b[0;34m\u001b[0m\u001b[0m\n\u001b[0;32m---> 42\u001b[0;31m             \u001b[0;32mreturn\u001b[0m \u001b[0msuper\u001b[0m\u001b[0;34m(\u001b[0m\u001b[0;34m)\u001b[0m\u001b[0;34m.\u001b[0m\u001b[0mforward\u001b[0m\u001b[0;34m(\u001b[0m\u001b[0;34m*\u001b[0m\u001b[0minputs\u001b[0m\u001b[0;34m,\u001b[0m \u001b[0;34m**\u001b[0m\u001b[0mkwargs\u001b[0m\u001b[0;34m)\u001b[0m\u001b[0;34m\u001b[0m\u001b[0;34m\u001b[0m\u001b[0m\n\u001b[0m\u001b[1;32m     43\u001b[0m \u001b[0;34m\u001b[0m\u001b[0m\n\u001b[1;32m     44\u001b[0m     \u001b[0;32mdef\u001b[0m \u001b[0mscatter\u001b[0m\u001b[0;34m(\u001b[0m\u001b[0mself\u001b[0m\u001b[0;34m,\u001b[0m \u001b[0minputs\u001b[0m\u001b[0;34m,\u001b[0m \u001b[0mkwargs\u001b[0m\u001b[0;34m,\u001b[0m \u001b[0mdevice_ids\u001b[0m\u001b[0;34m)\u001b[0m\u001b[0;34m:\u001b[0m\u001b[0;34m\u001b[0m\u001b[0;34m\u001b[0m\u001b[0m\n",
      "\u001b[0;32m/opt/conda/envs/detection/lib/python3.7/site-packages/torch/nn/parallel/data_parallel.py\u001b[0m in \u001b[0;36mforward\u001b[0;34m(self, *inputs, **kwargs)\u001b[0m\n\u001b[1;32m    157\u001b[0m         \u001b[0minputs\u001b[0m\u001b[0;34m,\u001b[0m \u001b[0mkwargs\u001b[0m \u001b[0;34m=\u001b[0m \u001b[0mself\u001b[0m\u001b[0;34m.\u001b[0m\u001b[0mscatter\u001b[0m\u001b[0;34m(\u001b[0m\u001b[0minputs\u001b[0m\u001b[0;34m,\u001b[0m \u001b[0mkwargs\u001b[0m\u001b[0;34m,\u001b[0m \u001b[0mself\u001b[0m\u001b[0;34m.\u001b[0m\u001b[0mdevice_ids\u001b[0m\u001b[0;34m)\u001b[0m\u001b[0;34m\u001b[0m\u001b[0;34m\u001b[0m\u001b[0m\n\u001b[1;32m    158\u001b[0m         \u001b[0;32mif\u001b[0m \u001b[0mlen\u001b[0m\u001b[0;34m(\u001b[0m\u001b[0mself\u001b[0m\u001b[0;34m.\u001b[0m\u001b[0mdevice_ids\u001b[0m\u001b[0;34m)\u001b[0m \u001b[0;34m==\u001b[0m \u001b[0;36m1\u001b[0m\u001b[0;34m:\u001b[0m\u001b[0;34m\u001b[0m\u001b[0;34m\u001b[0m\u001b[0m\n\u001b[0;32m--> 159\u001b[0;31m             \u001b[0;32mreturn\u001b[0m \u001b[0mself\u001b[0m\u001b[0;34m.\u001b[0m\u001b[0mmodule\u001b[0m\u001b[0;34m(\u001b[0m\u001b[0;34m*\u001b[0m\u001b[0minputs\u001b[0m\u001b[0;34m[\u001b[0m\u001b[0;36m0\u001b[0m\u001b[0;34m]\u001b[0m\u001b[0;34m,\u001b[0m \u001b[0;34m**\u001b[0m\u001b[0mkwargs\u001b[0m\u001b[0;34m[\u001b[0m\u001b[0;36m0\u001b[0m\u001b[0;34m]\u001b[0m\u001b[0;34m)\u001b[0m\u001b[0;34m\u001b[0m\u001b[0;34m\u001b[0m\u001b[0m\n\u001b[0m\u001b[1;32m    160\u001b[0m         \u001b[0mreplicas\u001b[0m \u001b[0;34m=\u001b[0m \u001b[0mself\u001b[0m\u001b[0;34m.\u001b[0m\u001b[0mreplicate\u001b[0m\u001b[0;34m(\u001b[0m\u001b[0mself\u001b[0m\u001b[0;34m.\u001b[0m\u001b[0mmodule\u001b[0m\u001b[0;34m,\u001b[0m \u001b[0mself\u001b[0m\u001b[0;34m.\u001b[0m\u001b[0mdevice_ids\u001b[0m\u001b[0;34m[\u001b[0m\u001b[0;34m:\u001b[0m\u001b[0mlen\u001b[0m\u001b[0;34m(\u001b[0m\u001b[0minputs\u001b[0m\u001b[0;34m)\u001b[0m\u001b[0;34m]\u001b[0m\u001b[0;34m)\u001b[0m\u001b[0;34m\u001b[0m\u001b[0;34m\u001b[0m\u001b[0m\n\u001b[1;32m    161\u001b[0m         \u001b[0moutputs\u001b[0m \u001b[0;34m=\u001b[0m \u001b[0mself\u001b[0m\u001b[0;34m.\u001b[0m\u001b[0mparallel_apply\u001b[0m\u001b[0;34m(\u001b[0m\u001b[0mreplicas\u001b[0m\u001b[0;34m,\u001b[0m \u001b[0minputs\u001b[0m\u001b[0;34m,\u001b[0m \u001b[0mkwargs\u001b[0m\u001b[0;34m)\u001b[0m\u001b[0;34m\u001b[0m\u001b[0;34m\u001b[0m\u001b[0m\n",
      "\u001b[0;32m/opt/conda/envs/detection/lib/python3.7/site-packages/torch/nn/modules/module.py\u001b[0m in \u001b[0;36m_call_impl\u001b[0;34m(self, *input, **kwargs)\u001b[0m\n\u001b[1;32m    725\u001b[0m             \u001b[0mresult\u001b[0m \u001b[0;34m=\u001b[0m \u001b[0mself\u001b[0m\u001b[0;34m.\u001b[0m\u001b[0m_slow_forward\u001b[0m\u001b[0;34m(\u001b[0m\u001b[0;34m*\u001b[0m\u001b[0minput\u001b[0m\u001b[0;34m,\u001b[0m \u001b[0;34m**\u001b[0m\u001b[0mkwargs\u001b[0m\u001b[0;34m)\u001b[0m\u001b[0;34m\u001b[0m\u001b[0;34m\u001b[0m\u001b[0m\n\u001b[1;32m    726\u001b[0m         \u001b[0;32melse\u001b[0m\u001b[0;34m:\u001b[0m\u001b[0;34m\u001b[0m\u001b[0;34m\u001b[0m\u001b[0m\n\u001b[0;32m--> 727\u001b[0;31m             \u001b[0mresult\u001b[0m \u001b[0;34m=\u001b[0m \u001b[0mself\u001b[0m\u001b[0;34m.\u001b[0m\u001b[0mforward\u001b[0m\u001b[0;34m(\u001b[0m\u001b[0;34m*\u001b[0m\u001b[0minput\u001b[0m\u001b[0;34m,\u001b[0m \u001b[0;34m**\u001b[0m\u001b[0mkwargs\u001b[0m\u001b[0;34m)\u001b[0m\u001b[0;34m\u001b[0m\u001b[0;34m\u001b[0m\u001b[0m\n\u001b[0m\u001b[1;32m    728\u001b[0m         for hook in itertools.chain(\n\u001b[1;32m    729\u001b[0m                 \u001b[0m_global_forward_hooks\u001b[0m\u001b[0;34m.\u001b[0m\u001b[0mvalues\u001b[0m\u001b[0;34m(\u001b[0m\u001b[0;34m)\u001b[0m\u001b[0;34m,\u001b[0m\u001b[0;34m\u001b[0m\u001b[0;34m\u001b[0m\u001b[0m\n",
      "\u001b[0;32m/opt/conda/envs/detection/lib/python3.7/site-packages/mmcv/runner/fp16_utils.py\u001b[0m in \u001b[0;36mnew_func\u001b[0;34m(*args, **kwargs)\u001b[0m\n\u001b[1;32m     96\u001b[0m                                 'method of nn.Module')\n\u001b[1;32m     97\u001b[0m             \u001b[0;32mif\u001b[0m \u001b[0;32mnot\u001b[0m \u001b[0;34m(\u001b[0m\u001b[0mhasattr\u001b[0m\u001b[0;34m(\u001b[0m\u001b[0margs\u001b[0m\u001b[0;34m[\u001b[0m\u001b[0;36m0\u001b[0m\u001b[0;34m]\u001b[0m\u001b[0;34m,\u001b[0m \u001b[0;34m'fp16_enabled'\u001b[0m\u001b[0;34m)\u001b[0m \u001b[0;32mand\u001b[0m \u001b[0margs\u001b[0m\u001b[0;34m[\u001b[0m\u001b[0;36m0\u001b[0m\u001b[0;34m]\u001b[0m\u001b[0;34m.\u001b[0m\u001b[0mfp16_enabled\u001b[0m\u001b[0;34m)\u001b[0m\u001b[0;34m:\u001b[0m\u001b[0;34m\u001b[0m\u001b[0;34m\u001b[0m\u001b[0m\n\u001b[0;32m---> 98\u001b[0;31m                 \u001b[0;32mreturn\u001b[0m \u001b[0mold_func\u001b[0m\u001b[0;34m(\u001b[0m\u001b[0;34m*\u001b[0m\u001b[0margs\u001b[0m\u001b[0;34m,\u001b[0m \u001b[0;34m**\u001b[0m\u001b[0mkwargs\u001b[0m\u001b[0;34m)\u001b[0m\u001b[0;34m\u001b[0m\u001b[0;34m\u001b[0m\u001b[0m\n\u001b[0m\u001b[1;32m     99\u001b[0m \u001b[0;34m\u001b[0m\u001b[0m\n\u001b[1;32m    100\u001b[0m             \u001b[0;31m# get the arg spec of the decorated method\u001b[0m\u001b[0;34m\u001b[0m\u001b[0;34m\u001b[0m\u001b[0;34m\u001b[0m\u001b[0m\n",
      "\u001b[0;32m~/detection/mmdetection/mmdet/models/detectors/base.py\u001b[0m in \u001b[0;36mforward\u001b[0;34m(self, img, img_metas, return_loss, **kwargs)\u001b[0m\n\u001b[1;32m    171\u001b[0m             \u001b[0;32mreturn\u001b[0m \u001b[0mself\u001b[0m\u001b[0;34m.\u001b[0m\u001b[0mforward_train\u001b[0m\u001b[0;34m(\u001b[0m\u001b[0mimg\u001b[0m\u001b[0;34m,\u001b[0m \u001b[0mimg_metas\u001b[0m\u001b[0;34m,\u001b[0m \u001b[0;34m**\u001b[0m\u001b[0mkwargs\u001b[0m\u001b[0;34m)\u001b[0m\u001b[0;34m\u001b[0m\u001b[0;34m\u001b[0m\u001b[0m\n\u001b[1;32m    172\u001b[0m         \u001b[0;32melse\u001b[0m\u001b[0;34m:\u001b[0m\u001b[0;34m\u001b[0m\u001b[0;34m\u001b[0m\u001b[0m\n\u001b[0;32m--> 173\u001b[0;31m             \u001b[0;32mreturn\u001b[0m \u001b[0mself\u001b[0m\u001b[0;34m.\u001b[0m\u001b[0mforward_test\u001b[0m\u001b[0;34m(\u001b[0m\u001b[0mimg\u001b[0m\u001b[0;34m,\u001b[0m \u001b[0mimg_metas\u001b[0m\u001b[0;34m,\u001b[0m \u001b[0;34m**\u001b[0m\u001b[0mkwargs\u001b[0m\u001b[0;34m)\u001b[0m\u001b[0;34m\u001b[0m\u001b[0;34m\u001b[0m\u001b[0m\n\u001b[0m\u001b[1;32m    174\u001b[0m \u001b[0;34m\u001b[0m\u001b[0m\n\u001b[1;32m    175\u001b[0m     \u001b[0;32mdef\u001b[0m \u001b[0m_parse_losses\u001b[0m\u001b[0;34m(\u001b[0m\u001b[0mself\u001b[0m\u001b[0;34m,\u001b[0m \u001b[0mlosses\u001b[0m\u001b[0;34m)\u001b[0m\u001b[0;34m:\u001b[0m\u001b[0;34m\u001b[0m\u001b[0;34m\u001b[0m\u001b[0m\n",
      "\u001b[0;32m~/detection/mmdetection/mmdet/models/detectors/base.py\u001b[0m in \u001b[0;36mforward_test\u001b[0;34m(self, imgs, img_metas, **kwargs)\u001b[0m\n\u001b[1;32m    151\u001b[0m             \u001b[0;31m# TODO: support test augmentation for predefined proposals\u001b[0m\u001b[0;34m\u001b[0m\u001b[0;34m\u001b[0m\u001b[0;34m\u001b[0m\u001b[0m\n\u001b[1;32m    152\u001b[0m             \u001b[0;32massert\u001b[0m \u001b[0;34m'proposals'\u001b[0m \u001b[0;32mnot\u001b[0m \u001b[0;32min\u001b[0m \u001b[0mkwargs\u001b[0m\u001b[0;34m\u001b[0m\u001b[0;34m\u001b[0m\u001b[0m\n\u001b[0;32m--> 153\u001b[0;31m             \u001b[0;32mreturn\u001b[0m \u001b[0mself\u001b[0m\u001b[0;34m.\u001b[0m\u001b[0maug_test\u001b[0m\u001b[0;34m(\u001b[0m\u001b[0mimgs\u001b[0m\u001b[0;34m,\u001b[0m \u001b[0mimg_metas\u001b[0m\u001b[0;34m,\u001b[0m \u001b[0;34m**\u001b[0m\u001b[0mkwargs\u001b[0m\u001b[0;34m)\u001b[0m\u001b[0;34m\u001b[0m\u001b[0;34m\u001b[0m\u001b[0m\n\u001b[0m\u001b[1;32m    154\u001b[0m \u001b[0;34m\u001b[0m\u001b[0m\n\u001b[1;32m    155\u001b[0m     \u001b[0;34m@\u001b[0m\u001b[0mauto_fp16\u001b[0m\u001b[0;34m(\u001b[0m\u001b[0mapply_to\u001b[0m\u001b[0;34m=\u001b[0m\u001b[0;34m(\u001b[0m\u001b[0;34m'img'\u001b[0m\u001b[0;34m,\u001b[0m \u001b[0;34m)\u001b[0m\u001b[0;34m)\u001b[0m\u001b[0;34m\u001b[0m\u001b[0;34m\u001b[0m\u001b[0m\n",
      "\u001b[0;32m~/detection/mmdetection/mmdet/models/detectors/two_stage.py\u001b[0m in \u001b[0;36maug_test\u001b[0;34m(self, imgs, img_metas, rescale)\u001b[0m\n\u001b[1;32m    188\u001b[0m         \u001b[0mof\u001b[0m \u001b[0mimgs\u001b[0m\u001b[0;34m[\u001b[0m\u001b[0;36m0\u001b[0m\u001b[0;34m]\u001b[0m\u001b[0;34m.\u001b[0m\u001b[0;34m\u001b[0m\u001b[0;34m\u001b[0m\u001b[0m\n\u001b[1;32m    189\u001b[0m         \"\"\"\n\u001b[0;32m--> 190\u001b[0;31m         \u001b[0mx\u001b[0m \u001b[0;34m=\u001b[0m \u001b[0mself\u001b[0m\u001b[0;34m.\u001b[0m\u001b[0mextract_feats\u001b[0m\u001b[0;34m(\u001b[0m\u001b[0mimgs\u001b[0m\u001b[0;34m)\u001b[0m\u001b[0;34m\u001b[0m\u001b[0;34m\u001b[0m\u001b[0m\n\u001b[0m\u001b[1;32m    191\u001b[0m         \u001b[0mproposal_list\u001b[0m \u001b[0;34m=\u001b[0m \u001b[0mself\u001b[0m\u001b[0;34m.\u001b[0m\u001b[0mrpn_head\u001b[0m\u001b[0;34m.\u001b[0m\u001b[0maug_test_rpn\u001b[0m\u001b[0;34m(\u001b[0m\u001b[0mx\u001b[0m\u001b[0;34m,\u001b[0m \u001b[0mimg_metas\u001b[0m\u001b[0;34m)\u001b[0m\u001b[0;34m\u001b[0m\u001b[0;34m\u001b[0m\u001b[0m\n\u001b[1;32m    192\u001b[0m         return self.roi_head.aug_test(\n",
      "\u001b[0;32m~/detection/mmdetection/mmdet/models/detectors/base.py\u001b[0m in \u001b[0;36mextract_feats\u001b[0;34m(self, imgs)\u001b[0m\n\u001b[1;32m     58\u001b[0m         \"\"\"\n\u001b[1;32m     59\u001b[0m         \u001b[0;32massert\u001b[0m \u001b[0misinstance\u001b[0m\u001b[0;34m(\u001b[0m\u001b[0mimgs\u001b[0m\u001b[0;34m,\u001b[0m \u001b[0mlist\u001b[0m\u001b[0;34m)\u001b[0m\u001b[0;34m\u001b[0m\u001b[0;34m\u001b[0m\u001b[0m\n\u001b[0;32m---> 60\u001b[0;31m         \u001b[0;32mreturn\u001b[0m \u001b[0;34m[\u001b[0m\u001b[0mself\u001b[0m\u001b[0;34m.\u001b[0m\u001b[0mextract_feat\u001b[0m\u001b[0;34m(\u001b[0m\u001b[0mimg\u001b[0m\u001b[0;34m)\u001b[0m \u001b[0;32mfor\u001b[0m \u001b[0mimg\u001b[0m \u001b[0;32min\u001b[0m \u001b[0mimgs\u001b[0m\u001b[0;34m]\u001b[0m\u001b[0;34m\u001b[0m\u001b[0;34m\u001b[0m\u001b[0m\n\u001b[0m\u001b[1;32m     61\u001b[0m \u001b[0;34m\u001b[0m\u001b[0m\n\u001b[1;32m     62\u001b[0m     \u001b[0;32mdef\u001b[0m \u001b[0mforward_train\u001b[0m\u001b[0;34m(\u001b[0m\u001b[0mself\u001b[0m\u001b[0;34m,\u001b[0m \u001b[0mimgs\u001b[0m\u001b[0;34m,\u001b[0m \u001b[0mimg_metas\u001b[0m\u001b[0;34m,\u001b[0m \u001b[0;34m**\u001b[0m\u001b[0mkwargs\u001b[0m\u001b[0;34m)\u001b[0m\u001b[0;34m:\u001b[0m\u001b[0;34m\u001b[0m\u001b[0;34m\u001b[0m\u001b[0m\n",
      "\u001b[0;32m~/detection/mmdetection/mmdet/models/detectors/base.py\u001b[0m in \u001b[0;36m<listcomp>\u001b[0;34m(.0)\u001b[0m\n\u001b[1;32m     58\u001b[0m         \"\"\"\n\u001b[1;32m     59\u001b[0m         \u001b[0;32massert\u001b[0m \u001b[0misinstance\u001b[0m\u001b[0;34m(\u001b[0m\u001b[0mimgs\u001b[0m\u001b[0;34m,\u001b[0m \u001b[0mlist\u001b[0m\u001b[0;34m)\u001b[0m\u001b[0;34m\u001b[0m\u001b[0;34m\u001b[0m\u001b[0m\n\u001b[0;32m---> 60\u001b[0;31m         \u001b[0;32mreturn\u001b[0m \u001b[0;34m[\u001b[0m\u001b[0mself\u001b[0m\u001b[0;34m.\u001b[0m\u001b[0mextract_feat\u001b[0m\u001b[0;34m(\u001b[0m\u001b[0mimg\u001b[0m\u001b[0;34m)\u001b[0m \u001b[0;32mfor\u001b[0m \u001b[0mimg\u001b[0m \u001b[0;32min\u001b[0m \u001b[0mimgs\u001b[0m\u001b[0;34m]\u001b[0m\u001b[0;34m\u001b[0m\u001b[0;34m\u001b[0m\u001b[0m\n\u001b[0m\u001b[1;32m     61\u001b[0m \u001b[0;34m\u001b[0m\u001b[0m\n\u001b[1;32m     62\u001b[0m     \u001b[0;32mdef\u001b[0m \u001b[0mforward_train\u001b[0m\u001b[0;34m(\u001b[0m\u001b[0mself\u001b[0m\u001b[0;34m,\u001b[0m \u001b[0mimgs\u001b[0m\u001b[0;34m,\u001b[0m \u001b[0mimg_metas\u001b[0m\u001b[0;34m,\u001b[0m \u001b[0;34m**\u001b[0m\u001b[0mkwargs\u001b[0m\u001b[0;34m)\u001b[0m\u001b[0;34m:\u001b[0m\u001b[0;34m\u001b[0m\u001b[0;34m\u001b[0m\u001b[0m\n",
      "\u001b[0;32m~/detection/mmdetection/mmdet/models/detectors/two_stage.py\u001b[0m in \u001b[0;36mextract_feat\u001b[0;34m(self, img)\u001b[0m\n\u001b[1;32m     64\u001b[0m     \u001b[0;32mdef\u001b[0m \u001b[0mextract_feat\u001b[0m\u001b[0;34m(\u001b[0m\u001b[0mself\u001b[0m\u001b[0;34m,\u001b[0m \u001b[0mimg\u001b[0m\u001b[0;34m)\u001b[0m\u001b[0;34m:\u001b[0m\u001b[0;34m\u001b[0m\u001b[0;34m\u001b[0m\u001b[0m\n\u001b[1;32m     65\u001b[0m         \u001b[0;34m\"\"\"Directly extract features from the backbone+neck.\"\"\"\u001b[0m\u001b[0;34m\u001b[0m\u001b[0;34m\u001b[0m\u001b[0m\n\u001b[0;32m---> 66\u001b[0;31m         \u001b[0mx\u001b[0m \u001b[0;34m=\u001b[0m \u001b[0mself\u001b[0m\u001b[0;34m.\u001b[0m\u001b[0mbackbone\u001b[0m\u001b[0;34m(\u001b[0m\u001b[0mimg\u001b[0m\u001b[0;34m)\u001b[0m\u001b[0;34m\u001b[0m\u001b[0;34m\u001b[0m\u001b[0m\n\u001b[0m\u001b[1;32m     67\u001b[0m         \u001b[0;32mif\u001b[0m \u001b[0mself\u001b[0m\u001b[0;34m.\u001b[0m\u001b[0mwith_neck\u001b[0m\u001b[0;34m:\u001b[0m\u001b[0;34m\u001b[0m\u001b[0;34m\u001b[0m\u001b[0m\n\u001b[1;32m     68\u001b[0m             \u001b[0mx\u001b[0m \u001b[0;34m=\u001b[0m \u001b[0mself\u001b[0m\u001b[0;34m.\u001b[0m\u001b[0mneck\u001b[0m\u001b[0;34m(\u001b[0m\u001b[0mx\u001b[0m\u001b[0;34m)\u001b[0m\u001b[0;34m\u001b[0m\u001b[0;34m\u001b[0m\u001b[0m\n",
      "\u001b[0;32m/opt/conda/envs/detection/lib/python3.7/site-packages/torch/nn/modules/module.py\u001b[0m in \u001b[0;36m_call_impl\u001b[0;34m(self, *input, **kwargs)\u001b[0m\n\u001b[1;32m    725\u001b[0m             \u001b[0mresult\u001b[0m \u001b[0;34m=\u001b[0m \u001b[0mself\u001b[0m\u001b[0;34m.\u001b[0m\u001b[0m_slow_forward\u001b[0m\u001b[0;34m(\u001b[0m\u001b[0;34m*\u001b[0m\u001b[0minput\u001b[0m\u001b[0;34m,\u001b[0m \u001b[0;34m**\u001b[0m\u001b[0mkwargs\u001b[0m\u001b[0;34m)\u001b[0m\u001b[0;34m\u001b[0m\u001b[0;34m\u001b[0m\u001b[0m\n\u001b[1;32m    726\u001b[0m         \u001b[0;32melse\u001b[0m\u001b[0;34m:\u001b[0m\u001b[0;34m\u001b[0m\u001b[0;34m\u001b[0m\u001b[0m\n\u001b[0;32m--> 727\u001b[0;31m             \u001b[0mresult\u001b[0m \u001b[0;34m=\u001b[0m \u001b[0mself\u001b[0m\u001b[0;34m.\u001b[0m\u001b[0mforward\u001b[0m\u001b[0;34m(\u001b[0m\u001b[0;34m*\u001b[0m\u001b[0minput\u001b[0m\u001b[0;34m,\u001b[0m \u001b[0;34m**\u001b[0m\u001b[0mkwargs\u001b[0m\u001b[0;34m)\u001b[0m\u001b[0;34m\u001b[0m\u001b[0;34m\u001b[0m\u001b[0m\n\u001b[0m\u001b[1;32m    728\u001b[0m         for hook in itertools.chain(\n\u001b[1;32m    729\u001b[0m                 \u001b[0m_global_forward_hooks\u001b[0m\u001b[0;34m.\u001b[0m\u001b[0mvalues\u001b[0m\u001b[0;34m(\u001b[0m\u001b[0;34m)\u001b[0m\u001b[0;34m,\u001b[0m\u001b[0;34m\u001b[0m\u001b[0;34m\u001b[0m\u001b[0m\n",
      "\u001b[0;32m~/detection/mmdetection/mmdet/models/backbones/resnet.py\u001b[0m in \u001b[0;36mforward\u001b[0;34m(self, x)\u001b[0m\n\u001b[1;32m    640\u001b[0m         \u001b[0;32mfor\u001b[0m \u001b[0mi\u001b[0m\u001b[0;34m,\u001b[0m \u001b[0mlayer_name\u001b[0m \u001b[0;32min\u001b[0m \u001b[0menumerate\u001b[0m\u001b[0;34m(\u001b[0m\u001b[0mself\u001b[0m\u001b[0;34m.\u001b[0m\u001b[0mres_layers\u001b[0m\u001b[0;34m)\u001b[0m\u001b[0;34m:\u001b[0m\u001b[0;34m\u001b[0m\u001b[0;34m\u001b[0m\u001b[0m\n\u001b[1;32m    641\u001b[0m             \u001b[0mres_layer\u001b[0m \u001b[0;34m=\u001b[0m \u001b[0mgetattr\u001b[0m\u001b[0;34m(\u001b[0m\u001b[0mself\u001b[0m\u001b[0;34m,\u001b[0m \u001b[0mlayer_name\u001b[0m\u001b[0;34m)\u001b[0m\u001b[0;34m\u001b[0m\u001b[0;34m\u001b[0m\u001b[0m\n\u001b[0;32m--> 642\u001b[0;31m             \u001b[0mx\u001b[0m \u001b[0;34m=\u001b[0m \u001b[0mres_layer\u001b[0m\u001b[0;34m(\u001b[0m\u001b[0mx\u001b[0m\u001b[0;34m)\u001b[0m\u001b[0;34m\u001b[0m\u001b[0;34m\u001b[0m\u001b[0m\n\u001b[0m\u001b[1;32m    643\u001b[0m             \u001b[0;32mif\u001b[0m \u001b[0mi\u001b[0m \u001b[0;32min\u001b[0m \u001b[0mself\u001b[0m\u001b[0;34m.\u001b[0m\u001b[0mout_indices\u001b[0m\u001b[0;34m:\u001b[0m\u001b[0;34m\u001b[0m\u001b[0;34m\u001b[0m\u001b[0m\n\u001b[1;32m    644\u001b[0m                 \u001b[0mouts\u001b[0m\u001b[0;34m.\u001b[0m\u001b[0mappend\u001b[0m\u001b[0;34m(\u001b[0m\u001b[0mx\u001b[0m\u001b[0;34m)\u001b[0m\u001b[0;34m\u001b[0m\u001b[0;34m\u001b[0m\u001b[0m\n",
      "\u001b[0;32m/opt/conda/envs/detection/lib/python3.7/site-packages/torch/nn/modules/module.py\u001b[0m in \u001b[0;36m_call_impl\u001b[0;34m(self, *input, **kwargs)\u001b[0m\n\u001b[1;32m    725\u001b[0m             \u001b[0mresult\u001b[0m \u001b[0;34m=\u001b[0m \u001b[0mself\u001b[0m\u001b[0;34m.\u001b[0m\u001b[0m_slow_forward\u001b[0m\u001b[0;34m(\u001b[0m\u001b[0;34m*\u001b[0m\u001b[0minput\u001b[0m\u001b[0;34m,\u001b[0m \u001b[0;34m**\u001b[0m\u001b[0mkwargs\u001b[0m\u001b[0;34m)\u001b[0m\u001b[0;34m\u001b[0m\u001b[0;34m\u001b[0m\u001b[0m\n\u001b[1;32m    726\u001b[0m         \u001b[0;32melse\u001b[0m\u001b[0;34m:\u001b[0m\u001b[0;34m\u001b[0m\u001b[0;34m\u001b[0m\u001b[0m\n\u001b[0;32m--> 727\u001b[0;31m             \u001b[0mresult\u001b[0m \u001b[0;34m=\u001b[0m \u001b[0mself\u001b[0m\u001b[0;34m.\u001b[0m\u001b[0mforward\u001b[0m\u001b[0;34m(\u001b[0m\u001b[0;34m*\u001b[0m\u001b[0minput\u001b[0m\u001b[0;34m,\u001b[0m \u001b[0;34m**\u001b[0m\u001b[0mkwargs\u001b[0m\u001b[0;34m)\u001b[0m\u001b[0;34m\u001b[0m\u001b[0;34m\u001b[0m\u001b[0m\n\u001b[0m\u001b[1;32m    728\u001b[0m         for hook in itertools.chain(\n\u001b[1;32m    729\u001b[0m                 \u001b[0m_global_forward_hooks\u001b[0m\u001b[0;34m.\u001b[0m\u001b[0mvalues\u001b[0m\u001b[0;34m(\u001b[0m\u001b[0;34m)\u001b[0m\u001b[0;34m,\u001b[0m\u001b[0;34m\u001b[0m\u001b[0;34m\u001b[0m\u001b[0m\n",
      "\u001b[0;32m/opt/conda/envs/detection/lib/python3.7/site-packages/torch/nn/modules/container.py\u001b[0m in \u001b[0;36mforward\u001b[0;34m(self, input)\u001b[0m\n\u001b[1;32m    115\u001b[0m     \u001b[0;32mdef\u001b[0m \u001b[0mforward\u001b[0m\u001b[0;34m(\u001b[0m\u001b[0mself\u001b[0m\u001b[0;34m,\u001b[0m \u001b[0minput\u001b[0m\u001b[0;34m)\u001b[0m\u001b[0;34m:\u001b[0m\u001b[0;34m\u001b[0m\u001b[0;34m\u001b[0m\u001b[0m\n\u001b[1;32m    116\u001b[0m         \u001b[0;32mfor\u001b[0m \u001b[0mmodule\u001b[0m \u001b[0;32min\u001b[0m \u001b[0mself\u001b[0m\u001b[0;34m:\u001b[0m\u001b[0;34m\u001b[0m\u001b[0;34m\u001b[0m\u001b[0m\n\u001b[0;32m--> 117\u001b[0;31m             \u001b[0minput\u001b[0m \u001b[0;34m=\u001b[0m \u001b[0mmodule\u001b[0m\u001b[0;34m(\u001b[0m\u001b[0minput\u001b[0m\u001b[0;34m)\u001b[0m\u001b[0;34m\u001b[0m\u001b[0;34m\u001b[0m\u001b[0m\n\u001b[0m\u001b[1;32m    118\u001b[0m         \u001b[0;32mreturn\u001b[0m \u001b[0minput\u001b[0m\u001b[0;34m\u001b[0m\u001b[0;34m\u001b[0m\u001b[0m\n\u001b[1;32m    119\u001b[0m \u001b[0;34m\u001b[0m\u001b[0m\n",
      "\u001b[0;32m/opt/conda/envs/detection/lib/python3.7/site-packages/torch/nn/modules/module.py\u001b[0m in \u001b[0;36m_call_impl\u001b[0;34m(self, *input, **kwargs)\u001b[0m\n\u001b[1;32m    725\u001b[0m             \u001b[0mresult\u001b[0m \u001b[0;34m=\u001b[0m \u001b[0mself\u001b[0m\u001b[0;34m.\u001b[0m\u001b[0m_slow_forward\u001b[0m\u001b[0;34m(\u001b[0m\u001b[0;34m*\u001b[0m\u001b[0minput\u001b[0m\u001b[0;34m,\u001b[0m \u001b[0;34m**\u001b[0m\u001b[0mkwargs\u001b[0m\u001b[0;34m)\u001b[0m\u001b[0;34m\u001b[0m\u001b[0;34m\u001b[0m\u001b[0m\n\u001b[1;32m    726\u001b[0m         \u001b[0;32melse\u001b[0m\u001b[0;34m:\u001b[0m\u001b[0;34m\u001b[0m\u001b[0;34m\u001b[0m\u001b[0m\n\u001b[0;32m--> 727\u001b[0;31m             \u001b[0mresult\u001b[0m \u001b[0;34m=\u001b[0m \u001b[0mself\u001b[0m\u001b[0;34m.\u001b[0m\u001b[0mforward\u001b[0m\u001b[0;34m(\u001b[0m\u001b[0;34m*\u001b[0m\u001b[0minput\u001b[0m\u001b[0;34m,\u001b[0m \u001b[0;34m**\u001b[0m\u001b[0mkwargs\u001b[0m\u001b[0;34m)\u001b[0m\u001b[0;34m\u001b[0m\u001b[0;34m\u001b[0m\u001b[0m\n\u001b[0m\u001b[1;32m    728\u001b[0m         for hook in itertools.chain(\n\u001b[1;32m    729\u001b[0m                 \u001b[0m_global_forward_hooks\u001b[0m\u001b[0;34m.\u001b[0m\u001b[0mvalues\u001b[0m\u001b[0;34m(\u001b[0m\u001b[0;34m)\u001b[0m\u001b[0;34m,\u001b[0m\u001b[0;34m\u001b[0m\u001b[0;34m\u001b[0m\u001b[0m\n",
      "\u001b[0;32m~/detection/mmdetection/mmdet/models/backbones/resnet.py\u001b[0m in \u001b[0;36mforward\u001b[0;34m(self, x)\u001b[0m\n\u001b[1;32m    295\u001b[0m             \u001b[0mout\u001b[0m \u001b[0;34m=\u001b[0m \u001b[0mcp\u001b[0m\u001b[0;34m.\u001b[0m\u001b[0mcheckpoint\u001b[0m\u001b[0;34m(\u001b[0m\u001b[0m_inner_forward\u001b[0m\u001b[0;34m,\u001b[0m \u001b[0mx\u001b[0m\u001b[0;34m)\u001b[0m\u001b[0;34m\u001b[0m\u001b[0;34m\u001b[0m\u001b[0m\n\u001b[1;32m    296\u001b[0m         \u001b[0;32melse\u001b[0m\u001b[0;34m:\u001b[0m\u001b[0;34m\u001b[0m\u001b[0;34m\u001b[0m\u001b[0m\n\u001b[0;32m--> 297\u001b[0;31m             \u001b[0mout\u001b[0m \u001b[0;34m=\u001b[0m \u001b[0m_inner_forward\u001b[0m\u001b[0;34m(\u001b[0m\u001b[0mx\u001b[0m\u001b[0;34m)\u001b[0m\u001b[0;34m\u001b[0m\u001b[0;34m\u001b[0m\u001b[0m\n\u001b[0m\u001b[1;32m    298\u001b[0m \u001b[0;34m\u001b[0m\u001b[0m\n\u001b[1;32m    299\u001b[0m         \u001b[0mout\u001b[0m \u001b[0;34m=\u001b[0m \u001b[0mself\u001b[0m\u001b[0;34m.\u001b[0m\u001b[0mrelu\u001b[0m\u001b[0;34m(\u001b[0m\u001b[0mout\u001b[0m\u001b[0;34m)\u001b[0m\u001b[0;34m\u001b[0m\u001b[0;34m\u001b[0m\u001b[0m\n",
      "\u001b[0;32m~/detection/mmdetection/mmdet/models/backbones/resnet.py\u001b[0m in \u001b[0;36m_inner_forward\u001b[0;34m(x)\u001b[0m\n\u001b[1;32m    272\u001b[0m                 \u001b[0mout\u001b[0m \u001b[0;34m=\u001b[0m \u001b[0mself\u001b[0m\u001b[0;34m.\u001b[0m\u001b[0mforward_plugin\u001b[0m\u001b[0;34m(\u001b[0m\u001b[0mout\u001b[0m\u001b[0;34m,\u001b[0m \u001b[0mself\u001b[0m\u001b[0;34m.\u001b[0m\u001b[0mafter_conv1_plugin_names\u001b[0m\u001b[0;34m)\u001b[0m\u001b[0;34m\u001b[0m\u001b[0;34m\u001b[0m\u001b[0m\n\u001b[1;32m    273\u001b[0m \u001b[0;34m\u001b[0m\u001b[0m\n\u001b[0;32m--> 274\u001b[0;31m             \u001b[0mout\u001b[0m \u001b[0;34m=\u001b[0m \u001b[0mself\u001b[0m\u001b[0;34m.\u001b[0m\u001b[0mconv2\u001b[0m\u001b[0;34m(\u001b[0m\u001b[0mout\u001b[0m\u001b[0;34m)\u001b[0m\u001b[0;34m\u001b[0m\u001b[0;34m\u001b[0m\u001b[0m\n\u001b[0m\u001b[1;32m    275\u001b[0m             \u001b[0mout\u001b[0m \u001b[0;34m=\u001b[0m \u001b[0mself\u001b[0m\u001b[0;34m.\u001b[0m\u001b[0mnorm2\u001b[0m\u001b[0;34m(\u001b[0m\u001b[0mout\u001b[0m\u001b[0;34m)\u001b[0m\u001b[0;34m\u001b[0m\u001b[0;34m\u001b[0m\u001b[0m\n\u001b[1;32m    276\u001b[0m             \u001b[0mout\u001b[0m \u001b[0;34m=\u001b[0m \u001b[0mself\u001b[0m\u001b[0;34m.\u001b[0m\u001b[0mrelu\u001b[0m\u001b[0;34m(\u001b[0m\u001b[0mout\u001b[0m\u001b[0;34m)\u001b[0m\u001b[0;34m\u001b[0m\u001b[0;34m\u001b[0m\u001b[0m\n",
      "\u001b[0;31mKeyboardInterrupt\u001b[0m: "
     ]
    }
   ],
   "source": [
    "train_detector(model, datasets, cfg, distributed=False, validate=True)"
   ]
  },
  {
   "cell_type": "markdown",
   "id": "e1e0e8c2",
   "metadata": {},
   "source": [
    "### save config for test"
   ]
  },
  {
   "cell_type": "code",
   "execution_count": 20,
   "id": "2df8663a",
   "metadata": {},
   "outputs": [],
   "source": [
    "import pickle\n",
    "import os\n",
    "with open(os.path.join(cfg.work_dir,'cfg.pkl'),'wb') as f:\n",
    "    pickle.dump(cfg,f)"
   ]
  },
  {
   "cell_type": "code",
   "execution_count": null,
   "id": "4be80b43",
   "metadata": {},
   "outputs": [],
   "source": []
  }
 ],
 "metadata": {
  "kernelspec": {
   "display_name": "detection",
   "language": "python",
   "name": "detection"
  },
  "language_info": {
   "codemirror_mode": {
    "name": "ipython",
    "version": 3
   },
   "file_extension": ".py",
   "mimetype": "text/x-python",
   "name": "python",
   "nbconvert_exporter": "python",
   "pygments_lexer": "ipython3",
   "version": "3.7.11"
  }
 },
 "nbformat": 4,
 "nbformat_minor": 5
}
