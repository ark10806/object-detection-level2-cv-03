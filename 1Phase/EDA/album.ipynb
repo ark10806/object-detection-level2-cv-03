{
 "cells": [
  {
   "cell_type": "code",
   "execution_count": null,
   "metadata": {},
   "outputs": [],
   "source": [
    "import albumentations as A\n",
    "import torch\n",
    "import os\n",
    "from glob import glob\n",
    "\n",
    "from PIL import Image\n",
    "import matplotlib.pyplot as plt\n",
    "%matplotlib inline"
   ]
  },
  {
   "cell_type": "code",
   "execution_count": null,
   "metadata": {},
   "outputs": [],
   "source": [
    "base = '/opt/ml/detection/dataset/test'\n",
    "all_path = glob(os.path.join(base, '*'))"
   ]
  }
 ],
 "metadata": {
  "kernelspec": {
   "display_name": "Python 3.8.11 64-bit ('psc': conda)",
   "name": "python3811jvsc74a57bd08e5f15054793da42435bf5fab16ae8e9de46dcdb34cd5863606910f8a168e642"
  },
  "language_info": {
   "name": "python",
   "version": ""
  },
  "metadata": {
   "interpreter": {
    "hash": "8e5f15054793da42435bf5fab16ae8e9de46dcdb34cd5863606910f8a168e642"
   }
  },
  "orig_nbformat": 2
 },
 "nbformat": 4,
 "nbformat_minor": 2
}