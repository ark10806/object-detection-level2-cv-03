{
 "cells": [
  {
   "cell_type": "code",
   "execution_count": 1,
   "metadata": {},
   "outputs": [],
   "source": [
    "import os\n",
    "import matplotlib.pyplot as plt\n",
    "%matplotlib inline\n",
    "%config InlineBackend.figure_format='retina'\n",
    "from glob import glob\n",
    "from PIL import Image, ImageDraw, ImageFont\n",
    "from tqdm import tqdm\n",
    "import numpy as np\n",
    "import torch\n",
    "import json\n",
    "from collections import Counter\n",
    "\n",
    "base = '/opt/ml/detection/dataset'\n",
    "trainroot = os.path.join(base, 'train')\n",
    "testroot = os.path.join(base, 'test')\n",
    "resultroot = './results'\n",
    "\n",
    "if not os.path.isdir(resultroot):\n",
    "    os.makedirs(resultroot)"
   ]
  },
  {
   "cell_type": "code",
   "execution_count": 2,
   "metadata": {},
   "outputs": [
    {
     "name": "stdout",
     "output_type": "stream",
     "text": [
      "{'width': 1024, 'height': 1024, 'file_name': 'train/4882.jpg', 'license': 0, 'flickr_url': None, 'coco_url': None, 'date_captured': '2020-12-23 16:20:30', 'id': 4882}\n",
      "info          :\t 6\n",
      "licenses      :\t 1\n",
      "images        :\t 4883\n",
      "categories    :\t 10\n",
      "annotations   :\t 23144\n",
      "\n",
      "  [images]\n",
      "\t{'width': 1024, 'height': 1024, 'file_name': 'train/4880.jpg', 'license': 0, 'flickr_url': None, 'coco_url': None, 'date_captured': '2020-12-24 11:25:46', 'id': 4880}\n",
      "\t{'width': 1024, 'height': 1024, 'file_name': 'train/4881.jpg', 'license': 0, 'flickr_url': None, 'coco_url': None, 'date_captured': '2021-01-05 11:01:18', 'id': 4881}\n",
      "\t{'width': 1024, 'height': 1024, 'file_name': 'train/4882.jpg', 'license': 0, 'flickr_url': None, 'coco_url': None, 'date_captured': '2020-12-23 16:20:30', 'id': 4882}\n",
      "4883\n",
      "\n",
      "  [categories]\n",
      "\t0:  General trash\n",
      "\t1:  Paper\n",
      "\t2:  Paper pack\n",
      "\t3:  Metal\n",
      "\t4:  Glass\n",
      "\t5:  Plastic\n",
      "\t6:  Styrofoam\n",
      "\t7:  Plastic bag\n",
      "\t8:  Battery\n",
      "\t9:  Clothing\n",
      "\n",
      "  [annotations]\n",
      "\t{'image_id': 0, 'category_id': 0, 'area': 257301.66, 'bbox': [197.6, 193.7, 547.8, 469.7], 'iscrowd': 0, 'id': 0}\n",
      "\t{'image_id': 1, 'category_id': 3, 'area': 10402.56, 'bbox': [0.0, 407.4, 57.6, 180.6], 'iscrowd': 0, 'id': 1}\n",
      "\t{'image_id': 1, 'category_id': 7, 'area': 26259.36, 'bbox': [0.0, 455.6, 144.6, 181.6], 'iscrowd': 0, 'id': 2}\n",
      "\n",
      "['General trash', 'Paper', 'Paper pack', 'Metal', 'Glass', 'Plastic', 'Styrofoam', 'Plastic bag', 'Battery', 'Clothing']\n",
      "[{'id': 0, 'name': 'General trash', 'supercategory': 'General trash'}, {'id': 1, 'name': 'Paper', 'supercategory': 'Paper'}, {'id': 2, 'name': 'Paper pack', 'supercategory': 'Paper pack'}, {'id': 3, 'name': 'Metal', 'supercategory': 'Metal'}, {'id': 4, 'name': 'Glass', 'supercategory': 'Glass'}, {'id': 5, 'name': 'Plastic', 'supercategory': 'Plastic'}, {'id': 6, 'name': 'Styrofoam', 'supercategory': 'Styrofoam'}, {'id': 7, 'name': 'Plastic bag', 'supercategory': 'Plastic bag'}, {'id': 8, 'name': 'Battery', 'supercategory': 'Battery'}, {'id': 9, 'name': 'Clothing', 'supercategory': 'Clothing'}]\n"
     ]
    }
   ],
   "source": [
    "train_json = json.load(open(os.path.join(base, 'train.json')))\n",
    "# print(train_json['annotations'][0])\n",
    "print(train_json['images'][-1])\n",
    "\n",
    "is_vis = False\n",
    "for k in train_json.keys():\n",
    "    print(f'{k: <14}:\\t {len(train_json[k])}')\n",
    "\n",
    "print('\\n  [images]')\n",
    "all_paths = train_json['images'][-3:]\n",
    "for path in all_paths:\n",
    "    print(f'\\t{path}')\n",
    "print(len(train_json['images']))\n",
    "\n",
    "\n",
    "print('\\n  [categories]')\n",
    "for v in train_json['categories']:\n",
    "    print(f'\\t{v[\"id\"]}:  {v[\"name\"]}')\n",
    "\n",
    "print('\\n  [annotations]')\n",
    "annots = train_json['annotations'][:3]\n",
    "for ann in annots:\n",
    "    print(f'\\t{ann}')\n",
    "\n",
    "annots = train_json['annotations']\n",
    "cates = []\n",
    "\n",
    "for v in train_json['categories']:\n",
    "    cates.append(v['name'])\n",
    "print(f'\\n{cates}')\n",
    "print(train_json['categories'])"
   ]
  },
  {
   "cell_type": "code",
   "execution_count": 4,
   "metadata": {},
   "outputs": [
    {
     "name": "stderr",
     "output_type": "stream",
     "text": [
      "100%|██████████| 23144/23144 [00:00<00:00, 227893.83it/s]\n"
     ]
    },
    {
     "name": "stdout",
     "output_type": "stream",
     "text": [
      "pop: 71\n",
      "pop: 55\n",
      "0.5599999999999999\n",
      "1048371.21\n",
      "92863.95783831662\n",
      "(4047, 52):\t 52\n",
      "(0, 1):\t 1\n"
     ]
    },
    {
     "data": {
      "image/png": "[encoded data removed]",
      "text/plain": "<Figure size 432x288 with 1 Axes>"
     },
     "metadata": {
      "image/png": {
       "height": 260,
       "width": 369
      },
      "needs_background": "light"
     },
     "output_type": "display_data"
    }
   ],
   "source": [
    "size_cnt = Counter()\n",
    "annot_cnt = Counter()\n",
    "box_size = []\n",
    "\n",
    "for ann in tqdm(annots):\n",
    "    _, _, w, h = ann['bbox']\n",
    "    box_size.append(w*h)\n",
    "    size_cnt.update([int(w*h/1)])\n",
    "    annot_cnt.update([ann['image_id']])\n",
    "\n",
    "\n",
    "# for annot_cnt \n",
    "print(f'pop: {annot_cnt.pop(4197)}')\n",
    "print(f'pop: {annot_cnt.pop(946)}')\n",
    "\n",
    "print(min(box_size))\n",
    "print(max(box_size))\n",
    "print(np.mean(np.array(box_size)))\n",
    "plt.scatter(list(size_cnt.keys()), list(size_cnt.values()))\n",
    "print(f'{max(annot_cnt.items(), key=lambda x: x[1])}:\\t {max(annot_cnt.values())}')\n",
    "print(f'{min(annot_cnt.items(), key=lambda x: x[1])}:\\t {min(annot_cnt.values())}')\n",
    "# print(np.mean(np.array(annot_cnt.values())))"
   ]
  },
  {
   "cell_type": "code",
   "execution_count": 5,
   "metadata": {},
   "outputs": [
    {
     "name": "stdout",
     "output_type": "stream",
     "text": [
      "x:  386.20,  244.49\n",
      "y:  382.23,  217.28\n",
      "w:  257.50,  204.58\n",
      "h:  252.24,  200.14\n"
     ]
    }
   ],
   "source": [
    "# get dist. of bbox W, H\n",
    "xs, ys = [], []\n",
    "ws, hs = [], []\n",
    "#\n",
    "for ann in annots:\n",
    "    x,y,w,h = ann['bbox']\n",
    "    xs.append(x)\n",
    "    ys.append(y)\n",
    "    ws.append(w)\n",
    "    hs.append(h)\n",
    "\n",
    "xs = np.array(xs)\n",
    "ys = np.array(ys)\n",
    "ws = np.array(ws)\n",
    "hs = np.array(hs)\n",
    "\n",
    "print(f'x: {np.mean(xs): .2f}, {np.std(xs): .2f}')\n",
    "print(f'y: {np.mean(ys): .2f}, {np.std(ys): .2f}')\n",
    "print(f'w: {np.mean(ws): .2f}, {np.std(ws): .2f}')\n",
    "print(f'h: {np.mean(hs): .2f}, {np.std(hs): .2f}')\n",
    "\n"
   ]
  },
  {
   "cell_type": "code",
   "execution_count": 6,
   "metadata": {},
   "outputs": [
    {
     "name": "stdout",
     "output_type": "stream",
     "text": [
      "[(0, 3966), (1, 6352), (2, 897), (3, 936), (4, 982), (5, 2943), (6, 1263), (7, 5178), (8, 159), (9, 468)]\n",
      "Counter({1: 6352, 7: 5178, 0: 3966, 5: 2943, 6: 1263, 4: 982, 3: 936, 2: 897, 9: 468, 8: 159})\n",
      "[('Battery', 159), ('Clothing', 468), ('Paper pack', 897), ('Metal', 936), ('Glass', 982), ('Styrofoam', 1263), ('Plastic', 2943), ('General trash', 3966), ('Plastic bag', 5178), ('Paper', 6352)]\n"
     ]
    },
    {
     "data": {
      "text/plain": "<BarContainer object of 10 artists>"
     },
     "execution_count": 6,
     "metadata": {},
     "output_type": "execute_result"
    },
    {
     "data": {
      "image/png": "[encoded data removed]",
      "text/plain": "<Figure size 432x288 with 1 Axes>"
     },
     "metadata": {
      "image/png": {
       "height": 248,
       "width": 424
      },
      "needs_background": "light"
     },
     "output_type": "display_data"
    }
   ],
   "source": [
    "ann_cnt = Counter()\n",
    "for ann in annots:\n",
    "    ann_cnt.update([cates[int(ann['category_id'])]])\n",
    "\n",
    "ape_cnt = Counter()\n",
    "for ann in annots:\n",
    "    ape_cnt.update([ann['category_id']])\n",
    "ape = sorted(ape_cnt.items(), key=lambda x: x[0])\n",
    "print(ape)\n",
    "print(ape_cnt)\n",
    "\n",
    "ann_cnt = sorted(ann_cnt.items(), key = lambda x: x[1], reverse=False)\n",
    "print(ann_cnt)\n",
    "\n",
    "xs, ys = [], []\n",
    "for x, y in ann_cnt:\n",
    "    xs.append(x)\n",
    "    ys.append(y)\n",
    "plt.barh(xs, ys)\n",
    "\n",
    "\n"
   ]
  },
  {
   "cell_type": "code",
   "execution_count": 9,
   "metadata": {},
   "outputs": [
    {
     "data": {
      "text/plain": "<BarContainer object of 10 artists>"
     },
     "execution_count": 9,
     "metadata": {},
     "output_type": "execute_result"
    },
    {
     "data": {
      "image/png": "[encoded data removed]",
      "text/plain": "<Figure size 432x288 with 3 Axes>"
     },
     "metadata": {
      "image/png": {
       "height": 243,
       "width": 264
      },
      "needs_background": "light"
     },
     "output_type": "display_data"
    }
   ],
   "source": [
    "def minmax(arr):\n",
    "    arr = arr / np.sum(arr)\n",
    "    return arr\n",
    "\n",
    "plt.rc('font', size=6)\n",
    "# plt.axis('off')\n",
    "fig = plt.figure()\n",
    "ax1 = fig.add_subplot(1,4,1)\n",
    "ax2 = fig.add_subplot(1,4,2)\n",
    "ax3 = fig.add_subplot(1,4,3)\n",
    "\n",
    "\n",
    "\n",
    "ratio = np.array(ys) / np.max(ys)\n",
    "ax1.set_title('before smoothing')\n",
    "ax1.axis('off')\n",
    "ax1.bar([x for x in range(len(ratio))], ratio)\n",
    "# print(ratio)\n",
    "\n",
    "res = minmax(np.log(ratio + 1.1))\n",
    "ax2.set_title('smoothing (bias=1.1)')\n",
    "ax2.axis('off')\n",
    "ax2.bar([x for x in range(len(res))], res)\n",
    "\n",
    "res = minmax(np.log(ratio + 1.9))\n",
    "ax3.set_title('smoothing (bias=1.9)')\n",
    "ax3.axis('off')\n",
    "ax3.bar([x for x in range(len(res))], res)\n"
   ]
  },
  {
   "cell_type": "code",
   "execution_count": 7,
   "metadata": {},
   "outputs": [
    {
     "name": "stdout",
     "output_type": "stream",
     "text": [
      "Counter({9: 659, 8: 618, 7: 573, 6: 532, 5: 459, 4: 445, 3: 443, 2: 441, 1: 420, 0: 405})\n"
     ]
    }
   ],
   "source": [
    "cls_arr = []\n",
    "for idx, rat in enumerate(ratio):\n",
    "    for vol in range(int(rat*5000)):\n",
    "        cls_arr.append(idx)\n",
    "    \n",
    "cls_cnt = Counter(cls_arr)\n",
    "print(cls_cnt)"
   ]
  },
  {
   "cell_type": "code",
   "execution_count": 45,
   "metadata": {},
   "outputs": [],
   "source": [
    "font = ImageFont.truetype('./ubuntu.regular.ttf', 15)\n",
    "color_group = {'General trash': 'orange', 'Paper': 'white', 'Paper pack': 'ivory', 'Metal': 'dimgrey', 'Glass': 'dodgerBlue', 'Plastic': 'darkolivegreen', 'Styrofoam': 'khaki', 'Plastic bag': 'Teal', 'Battery': 'lime', 'Clothing': 'fuchsia'}\n",
    "\n",
    "def drawbox(draw, cate, pt1, pt2):\n",
    "    draw.rectangle((pt1, pt2), outline=color_group[cate], width=3)\n",
    "    backrec = (pt1[0]+90, pt1[1]+15)\n",
    "    # draw.rectangle((pt1, backrec), outline=(0,0,0), fill=True)\n",
    "    draw.text(pt1, cate, (255,255,255), font=font, backrec=True)"
   ]
  },
  {
   "cell_type": "code",
   "execution_count": 46,
   "metadata": {},
   "outputs": [
    {
     "name": "stdout",
     "output_type": "stream",
     "text": [
      "4883 4871\n"
     ]
    },
    {
     "name": "stderr",
     "output_type": "stream",
     "text": [
      " 26%|██▌       | 1270/4883 [04:37<13:09,  4.58it/s]\n"
     ]
    },
    {
     "ename": "KeyboardInterrupt",
     "evalue": "",
     "output_type": "error",
     "traceback": [
      "\u001b[0;31m---------------------------------------------------------------------------\u001b[0m",
      "\u001b[0;31mKeyboardInterrupt\u001b[0m                         Traceback (most recent call last)",
      "\u001b[0;32m/tmp/ipykernel_7344/2832435511.py\u001b[0m in \u001b[0;36m<module>\u001b[0;34m\u001b[0m\n\u001b[1;32m     16\u001b[0m             \u001b[0mpt1\u001b[0m\u001b[0;34m,\u001b[0m \u001b[0mpt2\u001b[0m \u001b[0;34m=\u001b[0m \u001b[0;34m(\u001b[0m\u001b[0mx\u001b[0m\u001b[0;34m,\u001b[0m\u001b[0my\u001b[0m\u001b[0;34m)\u001b[0m\u001b[0;34m,\u001b[0m \u001b[0;34m(\u001b[0m\u001b[0mx\u001b[0m\u001b[0;34m+\u001b[0m\u001b[0mw\u001b[0m\u001b[0;34m,\u001b[0m \u001b[0my\u001b[0m\u001b[0;34m+\u001b[0m\u001b[0mh\u001b[0m\u001b[0;34m)\u001b[0m\u001b[0;34m\u001b[0m\u001b[0;34m\u001b[0m\u001b[0m\n\u001b[1;32m     17\u001b[0m             \u001b[0mdrawbox\u001b[0m\u001b[0;34m(\u001b[0m\u001b[0mdraw\u001b[0m\u001b[0;34m,\u001b[0m \u001b[0mcates\u001b[0m\u001b[0;34m[\u001b[0m\u001b[0mann\u001b[0m\u001b[0;34m[\u001b[0m\u001b[0;34m'category_id'\u001b[0m\u001b[0;34m]\u001b[0m\u001b[0;34m]\u001b[0m\u001b[0;34m,\u001b[0m \u001b[0mpt1\u001b[0m\u001b[0;34m,\u001b[0m \u001b[0mpt2\u001b[0m\u001b[0;34m)\u001b[0m\u001b[0;34m\u001b[0m\u001b[0;34m\u001b[0m\u001b[0m\n\u001b[0;32m---> 18\u001b[0;31m             \u001b[0mimg\u001b[0m\u001b[0;34m.\u001b[0m\u001b[0msave\u001b[0m\u001b[0;34m(\u001b[0m\u001b[0mos\u001b[0m\u001b[0;34m.\u001b[0m\u001b[0mpath\u001b[0m\u001b[0;34m.\u001b[0m\u001b[0mjoin\u001b[0m\u001b[0;34m(\u001b[0m\u001b[0mresultroot\u001b[0m\u001b[0;34m,\u001b[0m \u001b[0mimage\u001b[0m\u001b[0;34m[\u001b[0m\u001b[0;34m'file_name'\u001b[0m\u001b[0;34m]\u001b[0m\u001b[0;34m.\u001b[0m\u001b[0msplit\u001b[0m\u001b[0;34m(\u001b[0m\u001b[0;34m'/'\u001b[0m\u001b[0;34m)\u001b[0m\u001b[0;34m[\u001b[0m\u001b[0;34m-\u001b[0m\u001b[0;36m1\u001b[0m\u001b[0;34m]\u001b[0m\u001b[0;34m)\u001b[0m\u001b[0;34m)\u001b[0m\u001b[0;34m\u001b[0m\u001b[0;34m\u001b[0m\u001b[0m\n\u001b[0m",
      "\u001b[0;32m/opt/conda/envs/detection/lib/python3.7/site-packages/PIL/Image.py\u001b[0m in \u001b[0;36msave\u001b[0;34m(self, fp, format, **params)\u001b[0m\n\u001b[1;32m   2233\u001b[0m \u001b[0;34m\u001b[0m\u001b[0m\n\u001b[1;32m   2234\u001b[0m         \u001b[0;32mtry\u001b[0m\u001b[0;34m:\u001b[0m\u001b[0;34m\u001b[0m\u001b[0;34m\u001b[0m\u001b[0m\n\u001b[0;32m-> 2235\u001b[0;31m             \u001b[0msave_handler\u001b[0m\u001b[0;34m(\u001b[0m\u001b[0mself\u001b[0m\u001b[0;34m,\u001b[0m \u001b[0mfp\u001b[0m\u001b[0;34m,\u001b[0m \u001b[0mfilename\u001b[0m\u001b[0;34m)\u001b[0m\u001b[0;34m\u001b[0m\u001b[0;34m\u001b[0m\u001b[0m\n\u001b[0m\u001b[1;32m   2236\u001b[0m         \u001b[0;32mfinally\u001b[0m\u001b[0;34m:\u001b[0m\u001b[0;34m\u001b[0m\u001b[0;34m\u001b[0m\u001b[0m\n\u001b[1;32m   2237\u001b[0m             \u001b[0;31m# do what we can to clean up\u001b[0m\u001b[0;34m\u001b[0m\u001b[0;34m\u001b[0m\u001b[0;34m\u001b[0m\u001b[0m\n",
      "\u001b[0;32m/opt/conda/envs/detection/lib/python3.7/site-packages/PIL/JpegImagePlugin.py\u001b[0m in \u001b[0;36m_save\u001b[0;34m(im, fp, filename)\u001b[0m\n\u001b[1;32m    780\u001b[0m     \u001b[0mbufsize\u001b[0m \u001b[0;34m=\u001b[0m \u001b[0mmax\u001b[0m\u001b[0;34m(\u001b[0m\u001b[0mImageFile\u001b[0m\u001b[0;34m.\u001b[0m\u001b[0mMAXBLOCK\u001b[0m\u001b[0;34m,\u001b[0m \u001b[0mbufsize\u001b[0m\u001b[0;34m,\u001b[0m \u001b[0mlen\u001b[0m\u001b[0;34m(\u001b[0m\u001b[0mexif\u001b[0m\u001b[0;34m)\u001b[0m \u001b[0;34m+\u001b[0m \u001b[0;36m5\u001b[0m\u001b[0;34m,\u001b[0m \u001b[0mlen\u001b[0m\u001b[0;34m(\u001b[0m\u001b[0mextra\u001b[0m\u001b[0;34m)\u001b[0m \u001b[0;34m+\u001b[0m \u001b[0;36m1\u001b[0m\u001b[0;34m)\u001b[0m\u001b[0;34m\u001b[0m\u001b[0;34m\u001b[0m\u001b[0m\n\u001b[1;32m    781\u001b[0m \u001b[0;34m\u001b[0m\u001b[0m\n\u001b[0;32m--> 782\u001b[0;31m     \u001b[0mImageFile\u001b[0m\u001b[0;34m.\u001b[0m\u001b[0m_save\u001b[0m\u001b[0;34m(\u001b[0m\u001b[0mim\u001b[0m\u001b[0;34m,\u001b[0m \u001b[0mfp\u001b[0m\u001b[0;34m,\u001b[0m \u001b[0;34m[\u001b[0m\u001b[0;34m(\u001b[0m\u001b[0;34m\"jpeg\"\u001b[0m\u001b[0;34m,\u001b[0m \u001b[0;34m(\u001b[0m\u001b[0;36m0\u001b[0m\u001b[0;34m,\u001b[0m \u001b[0;36m0\u001b[0m\u001b[0;34m)\u001b[0m \u001b[0;34m+\u001b[0m \u001b[0mim\u001b[0m\u001b[0;34m.\u001b[0m\u001b[0msize\u001b[0m\u001b[0;34m,\u001b[0m \u001b[0;36m0\u001b[0m\u001b[0;34m,\u001b[0m \u001b[0mrawmode\u001b[0m\u001b[0;34m)\u001b[0m\u001b[0;34m]\u001b[0m\u001b[0;34m,\u001b[0m \u001b[0mbufsize\u001b[0m\u001b[0;34m)\u001b[0m\u001b[0;34m\u001b[0m\u001b[0;34m\u001b[0m\u001b[0m\n\u001b[0m\u001b[1;32m    783\u001b[0m \u001b[0;34m\u001b[0m\u001b[0m\n\u001b[1;32m    784\u001b[0m \u001b[0;34m\u001b[0m\u001b[0m\n",
      "\u001b[0;32m/opt/conda/envs/detection/lib/python3.7/site-packages/PIL/ImageFile.py\u001b[0m in \u001b[0;36m_save\u001b[0;34m(im, fp, tile, bufsize)\u001b[0m\n\u001b[1;32m    534\u001b[0m                 \u001b[0ml\u001b[0m\u001b[0;34m,\u001b[0m \u001b[0ms\u001b[0m \u001b[0;34m=\u001b[0m \u001b[0me\u001b[0m\u001b[0;34m.\u001b[0m\u001b[0mencode_to_pyfd\u001b[0m\u001b[0;34m(\u001b[0m\u001b[0;34m)\u001b[0m\u001b[0;34m\u001b[0m\u001b[0;34m\u001b[0m\u001b[0m\n\u001b[1;32m    535\u001b[0m             \u001b[0;32melse\u001b[0m\u001b[0;34m:\u001b[0m\u001b[0;34m\u001b[0m\u001b[0;34m\u001b[0m\u001b[0m\n\u001b[0;32m--> 536\u001b[0;31m                 \u001b[0ms\u001b[0m \u001b[0;34m=\u001b[0m \u001b[0me\u001b[0m\u001b[0;34m.\u001b[0m\u001b[0mencode_to_file\u001b[0m\u001b[0;34m(\u001b[0m\u001b[0mfh\u001b[0m\u001b[0;34m,\u001b[0m \u001b[0mbufsize\u001b[0m\u001b[0;34m)\u001b[0m\u001b[0;34m\u001b[0m\u001b[0;34m\u001b[0m\u001b[0m\n\u001b[0m\u001b[1;32m    537\u001b[0m             \u001b[0;32mif\u001b[0m \u001b[0ms\u001b[0m \u001b[0;34m<\u001b[0m \u001b[0;36m0\u001b[0m\u001b[0;34m:\u001b[0m\u001b[0;34m\u001b[0m\u001b[0;34m\u001b[0m\u001b[0m\n\u001b[1;32m    538\u001b[0m                 \u001b[0;32mraise\u001b[0m \u001b[0mOSError\u001b[0m\u001b[0;34m(\u001b[0m\u001b[0;34mf\"encoder error {s} when writing image file\"\u001b[0m\u001b[0;34m)\u001b[0m\u001b[0;34m\u001b[0m\u001b[0;34m\u001b[0m\u001b[0m\n",
      "\u001b[0;31mKeyboardInterrupt\u001b[0m: "
     ]
    }
   ],
   "source": [
    "##\n",
    "# visualizing annots\n",
    "\n",
    "train_paths = glob(os.path.join(trainroot, '*'))\n",
    "test_paths = glob(os.path.join(testroot, '*'))\n",
    "print(f'{len(train_paths)} {len(test_paths)}')\n",
    "\n",
    "\n",
    "images = train_json['images']\n",
    "for image in tqdm(images):\n",
    "    img = Image.open(os.path.join(base, image['file_name']))\n",
    "    draw = ImageDraw.Draw(img)\n",
    "    for ann in annots:\n",
    "        if ann['image_id'] == image['id']:\n",
    "            x,y,w,h = ann['bbox']\n",
    "            pt1, pt2 = (x,y), (x+w, y+h)\n",
    "            drawbox(draw, cates[ann['category_id']], pt1, pt2)\n",
    "            img.save(os.path.join(resultroot, image['file_name'].split('/')[-1]))"
   ]
  },
  {
   "cell_type": "code",
   "execution_count": null,
   "metadata": {},
   "outputs": [],
   "source": []
  },
  {
   "cell_type": "code",
   "execution_count": null,
   "metadata": {},
   "outputs": [],
   "source": []
  }
 ],
 "metadata": {
  "kernelspec": {
   "display_name": "Python 3.7.11 64-bit ('detection': conda)",
   "name": "python3711jvsc74a57bd029b0cbc8c2bc4924fb253dd9334aba0cc9ad3225fd824ea55dea16089b664698"
  },
  "language_info": {
   "codemirror_mode": {
    "name": "ipython",
    "version": 3
   },
   "file_extension": ".py",
   "mimetype": "text/x-python",
   "name": "python",
   "nbconvert_exporter": "python",
   "pygments_lexer": "ipython3",
   "version": "3.7.11"
  },
  "orig_nbformat": 3
 },
 "nbformat": 4,
 "nbformat_minor": 2
}