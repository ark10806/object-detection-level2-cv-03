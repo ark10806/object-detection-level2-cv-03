{
 "cells": [
  {
   "cell_type": "code",
   "execution_count": 1,
   "id": "0422ef5a",
   "metadata": {},
   "outputs": [],
   "source": [
    "# 모듈 import\n",
    "from mmcv import Config\n",
    "from mmdet.datasets import build_dataset\n",
    "from mmdet.models import build_detector\n",
    "from mmdet.apis import train_detector\n",
    "from mmdet.datasets import (build_dataloader, build_dataset,\n",
    "                            replace_ImageToTensor)"
   ]
  },
  {
   "cell_type": "code",
   "execution_count": 2,
   "id": "a989303d",
   "metadata": {},
   "outputs": [],
   "source": [
    "classes = (\"General trash\", \"Paper\", \"Paper pack\", \"Metal\", \"Glass\", \n",
    "           \"Plastic\", \"Styrofoam\", \"Plastic bag\", \"Battery\", \"Clothing\")\n",
    "\n",
    "# config file 들고오기\n",
    "cfg = Config.fromfile('./configs/cascade_rcnn/cascade_rcnn_x101_64x4d_fpn_1x_coco.py')\n",
    "\n",
    "root='../dataset/'\n",
    "\n",
    "# dataset config 수정\n",
    "cfg.data.train.classes = classes\n",
    "cfg.data.train.img_prefix = root\n",
    "cfg.data.train.ann_file = root + 'train.json' # train json 정보\n",
    "cfg.data.train.pipeline[2]['img_scale'] = (512,512) # Resize\n",
    "\n",
    "cfg.data.test.classes = classes\n",
    "cfg.data.test.img_prefix = root\n",
    "cfg.data.test.ann_file = root + 'test.json' # test json 정보\n",
    "cfg.data.test.pipeline[1]['img_scale'] = (512,512) # Resize\n",
    "\n",
    "cfg.data.samples_per_gpu = 4\n",
    "\n",
    "cfg.seed = 2021\n",
    "cfg.gpu_ids = [0]\n",
    "cfg.work_dir = './work_dirs/cascade_rcnn_x101_64x4d_fpn_1x_coco_trash'\n",
    "\n",
    "# for faster r-cnn\n",
    "#cfg.model.roi_head.bbox_head.num_classes = 10\n",
    "\n",
    "# for cascade r-cnn\n",
    "for bbox_head in cfg.model.roi_head.bbox_head:\n",
    "    bbox_head.num_classes = 10\n",
    "\n",
    "cfg.optimizer_config.grad_clip = dict(max_norm=35, norm_type=2)\n",
    "cfg.checkpoint_config = dict(max_keep_ckpts=3, interval=1)"
   ]
  },
  {
   "cell_type": "code",
   "execution_count": 3,
   "id": "3587e4bb",
   "metadata": {},
   "outputs": [],
   "source": [
    "log_config = dict(\n",
    "    interval=10,\n",
    "    hooks=[\n",
    "        dict(type='TextLoggerHook'),\n",
    "        dict(\n",
    "            type='WandbLoggerHook',\n",
    "            init_kwargs=dict(\n",
    "                project='p-stage_object_detection',\n",
    "                name='moon'))])"
   ]
  },
  {
   "cell_type": "code",
   "execution_count": 4,
   "id": "6c637307",
   "metadata": {},
   "outputs": [
    {
     "name": "stdout",
     "output_type": "stream",
     "text": [
      "['model',\n",
      " 'dataset_type',\n",
      " 'data_root',\n",
      " 'img_norm_cfg',\n",
      " 'train_pipeline',\n",
      " 'test_pipeline',\n",
      " 'data',\n",
      " 'evaluation',\n",
      " 'optimizer',\n",
      " 'optimizer_config',\n",
      " 'lr_config',\n",
      " 'runner',\n",
      " 'checkpoint_config',\n",
      " 'log_config',\n",
      " 'custom_hooks',\n",
      " 'dist_params',\n",
      " 'log_level',\n",
      " 'load_from',\n",
      " 'resume_from',\n",
      " 'workflow',\n",
      " 'seed',\n",
      " 'gpu_ids',\n",
      " 'work_dir']"
     ]
    }
   ],
   "source": [
    "list(cfg.keys())"
   ]
  },
  {
   "cell_type": "code",
   "execution_count": 5,
   "id": "0ccbb08a",
   "metadata": {},
   "outputs": [],
   "source": [
    "# for wandb\n",
    "cfg.log_config = log_config"
   ]
  },
  {
   "cell_type": "code",
   "execution_count": 6,
   "id": "b5145068",
   "metadata": {},
   "outputs": [],
   "source": [
    "cfg.model.test_cfg.rpn.nms.type = 'soft_nms'"
   ]
  },
  {
   "cell_type": "code",
   "execution_count": 7,
   "id": "6068f21e",
   "metadata": {},
   "outputs": [],
   "source": [
    "cfg.evaluation.metric = 'mAP'"
   ]
  },
  {
   "cell_type": "code",
   "execution_count": 8,
   "id": "a61d883d",
   "metadata": {},
   "outputs": [
    {
     "name": "stdout",
     "output_type": "stream",
     "text": [
      "['nms_pre', 'max_per_img', 'nms', 'min_bbox_size']"
     ]
    }
   ],
   "source": [
    "list(cfg.model.train_cfg.rpn_proposal.keys())"
   ]
  },
  {
   "cell_type": "code",
   "execution_count": 9,
   "id": "6f6126a4",
   "metadata": {},
   "outputs": [],
   "source": [
    "# build_dataset\n",
    "datasets = [build_dataset(cfg.data.train)]"
   ]
  },
  {
   "cell_type": "code",
   "execution_count": 10,
   "id": "ab097892",
   "metadata": {},
   "outputs": [
    {
     "name": "stdout",
     "output_type": "stream",
     "text": [
      "\n",
      "CocoDataset Train dataset with number of images 4883, and instance counts: \n",
      "+-------------------+-------+---------------+-------+-----------------+-------+-------------+-------+--------------+-------+\n",
      "| category          | count | category      | count | category        | count | category    | count | category     | count |\n",
      "+-------------------+-------+---------------+-------+-----------------+-------+-------------+-------+--------------+-------+\n",
      "| 0 [General trash] | 3965  | 1 [Paper]     | 6352  | 2 [Paper pack]  | 897   | 3 [Metal]   | 936   | 4 [Glass]    | 982   |\n",
      "| 5 [Plastic]       | 2943  | 6 [Styrofoam] | 1263  | 7 [Plastic bag] | 5178  | 8 [Battery] | 159   | 9 [Clothing] | 468   |\n",
      "+-------------------+-------+---------------+-------+-----------------+-------+-------------+-------+--------------+-------+"
     ]
    }
   ],
   "source": [
    "# dataset 확인\n",
    "datasets[0]"
   ]
  },
  {
   "cell_type": "code",
   "execution_count": 11,
   "id": "41023356",
   "metadata": {},
   "outputs": [],
   "source": [
    "# 모델 build 및 pretrained network 불러오기\n",
    "model = build_detector(cfg.model)\n",
    "model.init_weights()"
   ]
  },
  {
   "cell_type": "code",
   "execution_count": 12,
   "id": "3f7d1a8a",
   "metadata": {},
   "outputs": [
    {
     "data": {
      "text/html": [
       "\n",
       "                Tracking run with wandb version 0.12.2<br/>\n",
       "                Syncing run <strong style=\"color:#cdcd00\">moon</strong> to <a href=\"https://wandb.ai\" target=\"_blank\">Weights & Biases</a> <a href=\"https://docs.wandb.com/integrations/jupyter.html\" target=\"_blank\">(Documentation)</a>.<br/>\n",
       "                Project page: <a href=\"https://wandb.ai/larcane/p-stage_object_detection\" target=\"_blank\">https://wandb.ai/larcane/p-stage_object_detection</a><br/>\n",
       "                Run page: <a href=\"https://wandb.ai/larcane/p-stage_object_detection/runs/1fv9r4c9\" target=\"_blank\">https://wandb.ai/larcane/p-stage_object_detection/runs/1fv9r4c9</a><br/>\n",
       "                Run data is saved locally in <code>/opt/ml/detection/mmdetection/wandb/run-20210928_091419-1fv9r4c9</code><br/><br/>\n",
       "            "
      ],
      "text/plain": [
       "<IPython.core.display.HTML object>"
      ]
     },
     "metadata": {},
     "output_type": "display_data"
    }
   ],
   "source": [
    "# 모델 학습\n",
    "train_detector(model, datasets[0], cfg, distributed=False, validate=False)"
   ]
  }
 ],
 "metadata": {
  "kernelspec": {
   "display_name": "Python 3",
   "language": "python",
   "name": "python3"
  },
  "language_info": {
   "codemirror_mode": {
    "name": "ipython",
    "version": 3
   },
   "file_extension": ".py",
   "mimetype": "text/x-python",
   "name": "python",
   "nbconvert_exporter": "python",
   "pygments_lexer": "ipython3",
   "version": "3.7.11"
  }
 },
 "nbformat": 4,
 "nbformat_minor": 5
}
