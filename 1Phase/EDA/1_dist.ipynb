{
 "cells": [
  {
   "cell_type": "code",
   "execution_count": 1,
   "metadata": {},
   "outputs": [],
   "source": [
    "import os\n",
    "import matplotlib.pyplot as plt\n",
    "%matplotlib inline\n",
    "%config InlineBackend.figure_format='retina'\n",
    "from glob import glob\n",
    "from PIL import Image, ImageDraw, ImageFont\n",
    "from tqdm import tqdm\n",
    "import numpy as np\n",
    "import torch\n",
    "import json\n",
    "from collections import Counter\n",
    "\n",
    "base = '/opt/ml/detection/dataset'\n",
    "trainroot = os.path.join(base, 'train')\n",
    "testroot = os.path.join(base, 'test')\n",
    "resultroot = './results'\n",
    "\n",
    "if not os.path.isdir(resultroot):\n",
    "    os.makedirs(resultroot)"
   ]
  },
  {
   "cell_type": "code",
   "execution_count": 2,
   "metadata": {},
   "outputs": [
    {
     "name": "stdout",
     "output_type": "stream",
     "text": [
      "{'width': 1024, 'height': 1024, 'file_name': 'train/4882.jpg', 'license': 0, 'flickr_url': None, 'coco_url': None, 'date_captured': '2020-12-23 16:20:30', 'id': 4882}\n",
      "info          :\t 6\n",
      "licenses      :\t 1\n",
      "images        :\t 4883\n",
      "categories    :\t 10\n",
      "annotations   :\t 23144\n",
      "\n",
      "  [images]\n",
      "\t{'width': 1024, 'height': 1024, 'file_name': 'train/4880.jpg', 'license': 0, 'flickr_url': None, 'coco_url': None, 'date_captured': '2020-12-24 11:25:46', 'id': 4880}\n",
      "\t{'width': 1024, 'height': 1024, 'file_name': 'train/4881.jpg', 'license': 0, 'flickr_url': None, 'coco_url': None, 'date_captured': '2021-01-05 11:01:18', 'id': 4881}\n",
      "\t{'width': 1024, 'height': 1024, 'file_name': 'train/4882.jpg', 'license': 0, 'flickr_url': None, 'coco_url': None, 'date_captured': '2020-12-23 16:20:30', 'id': 4882}\n",
      "4883\n",
      "\n",
      "  [categories]\n",
      "\t0:  General trash\n",
      "\t1:  Paper\n",
      "\t2:  Paper pack\n",
      "\t3:  Metal\n",
      "\t4:  Glass\n",
      "\t5:  Plastic\n",
      "\t6:  Styrofoam\n",
      "\t7:  Plastic bag\n",
      "\t8:  Battery\n",
      "\t9:  Clothing\n",
      "\n",
      "  [annotations]\n",
      "\t{'image_id': 0, 'category_id': 0, 'area': 257301.66, 'bbox': [197.6, 193.7, 547.8, 469.7], 'iscrowd': 0, 'id': 0}\n",
      "\t{'image_id': 1, 'category_id': 3, 'area': 10402.56, 'bbox': [0.0, 407.4, 57.6, 180.6], 'iscrowd': 0, 'id': 1}\n",
      "\t{'image_id': 1, 'category_id': 7, 'area': 26259.36, 'bbox': [0.0, 455.6, 144.6, 181.6], 'iscrowd': 0, 'id': 2}\n",
      "\n",
      "['General trash', 'Paper', 'Paper pack', 'Metal', 'Glass', 'Plastic', 'Styrofoam', 'Plastic bag', 'Battery', 'Clothing']\n",
      "[{'id': 0, 'name': 'General trash', 'supercategory': 'General trash'}, {'id': 1, 'name': 'Paper', 'supercategory': 'Paper'}, {'id': 2, 'name': 'Paper pack', 'supercategory': 'Paper pack'}, {'id': 3, 'name': 'Metal', 'supercategory': 'Metal'}, {'id': 4, 'name': 'Glass', 'supercategory': 'Glass'}, {'id': 5, 'name': 'Plastic', 'supercategory': 'Plastic'}, {'id': 6, 'name': 'Styrofoam', 'supercategory': 'Styrofoam'}, {'id': 7, 'name': 'Plastic bag', 'supercategory': 'Plastic bag'}, {'id': 8, 'name': 'Battery', 'supercategory': 'Battery'}, {'id': 9, 'name': 'Clothing', 'supercategory': 'Clothing'}]\n"
     ]
    }
   ],
   "source": [
    "train_json = json.load(open(os.path.join(base, 'train.json')))\n",
    "# print(train_json['annotations'][0])\n",
    "print(train_json['images'][-1])\n",
    "\n",
    "is_vis = False\n",
    "for k in train_json.keys():\n",
    "    print(f'{k: <14}:\\t {len(train_json[k])}')\n",
    "\n",
    "print('\\n  [images]')\n",
    "all_paths = train_json['images'][-3:]\n",
    "for path in all_paths:\n",
    "    print(f'\\t{path}')\n",
    "print(len(train_json['images']))\n",
    "\n",
    "\n",
    "print('\\n  [categories]')\n",
    "for v in train_json['categories']:\n",
    "    print(f'\\t{v[\"id\"]}:  {v[\"name\"]}')\n",
    "\n",
    "print('\\n  [annotations]')\n",
    "annots = train_json['annotations'][:3]\n",
    "for ann in annots:\n",
    "    print(f'\\t{ann}')\n",
    "\n",
    "annots = train_json['annotations']\n",
    "cates = []\n",
    "\n",
    "for v in train_json['categories']:\n",
    "    cates.append(v['name'])\n",
    "print(f'\\n{cates}')\n",
    "print(train_json['categories'])"
   ]
  },
  {
   "cell_type": "code",
   "execution_count": 3,
   "metadata": {},
   "outputs": [
    {
     "name": "stdout",
     "output_type": "stream",
     "text": [
      "x:  386.20,  244.49\n",
      "y:  382.23,  217.28\n",
      "w:  257.50,  204.58\n",
      "h:  252.24,  200.14\n",
      "1.2077341859661253\n",
      "0.0\n",
      "mean:\t 1.2077341859661253\n",
      "std:\t 0.9872334834141009\n",
      "(-3):\t -1.7539662642761773\n",
      "(-2):\t -0.7667327808620765\n",
      "(-1):\t 0.22050070255202436\n",
      "(-0.5):\t 0.7141174442590748\n",
      "(0):\t 1.2077341859661253\n",
      "(0.5):\t 1.7013509276731758\n",
      "(1):\t 2.194967669380226\n",
      "(2):\t 3.182201152794327\n",
      "(3):\t 4.169434636208428\n",
      "\n",
      "(array([14253, 14254, 14255, ..., 15431, 15432, 15433]),)\n",
      "14843\n",
      "23144\n",
      "min:\t 0.6412520064205457\n",
      "mean:\t1.2077341859661253\n",
      "max:\t 1.796603627942879\n"
     ]
    },
    {
     "data": {
      "image/png": "[encoded data removed]",
      "text/plain": "<Figure size 432x288 with 1 Axes>"
     },
     "metadata": {
      "image/png": {
       "height": 248,
       "width": 381
      },
      "needs_background": "light"
     },
     "output_type": "display_data"
    }
   ],
   "source": [
    "# get dist. of bbox W, H\n",
    "xs, ys = [], []\n",
    "ws, hs = [], []\n",
    "#\n",
    "for ann in annots:\n",
    "    x,y,w,h = ann['bbox']\n",
    "    xs.append(x)\n",
    "    ys.append(y)\n",
    "    ws.append(w)\n",
    "    hs.append(h)\n",
    "\n",
    "xs = np.array(xs)\n",
    "ys = np.array(ys)\n",
    "ws = np.array(ws)\n",
    "hs = np.array(hs)\n",
    "\n",
    "print(f'x: {np.mean(xs): .2f}, {np.std(xs): .2f}')\n",
    "print(f'y: {np.mean(ys): .2f}, {np.std(ys): .2f}')\n",
    "print(f'w: {np.mean(ws): .2f}, {np.std(ws): .2f}')\n",
    "print(f'h: {np.mean(hs): .2f}, {np.std(hs): .2f}')\n",
    "\n",
    "\n",
    "# get dist. of Anchor ratio\n",
    "anchor_ratio = np.round(hs / ws, 1)\n",
    "print(np.mean(anchor_ratio))\n",
    "print(np.min(anchor_ratio))\n",
    "\n",
    "cnt = Counter()\n",
    "for anc in anchor_ratio:\n",
    "    if anc <= 5:\n",
    "        cnt.update([anc])\n",
    "    if anc < 0:\n",
    "        print(anc)\n",
    "\n",
    "cnts = sorted(cnt.items(), key=lambda x: x[1], reverse=True)\n",
    "prev_v = 3000\n",
    "# for k, v in cnts:\n",
    "#     print(f'{k}:\\t {v},\\t {prev_v-v}')\n",
    "#     prev_v = v\n",
    "\n",
    "# print(cnt.keys())\n",
    "plt.bar(cnt.keys(), cnt.values())\n",
    "# print(cnt)\n",
    "\n",
    "sigma = 1\n",
    "an_mean = np.mean(anchor_ratio)\n",
    "an_std = np.std(anchor_ratio)\n",
    "print(f'mean:\\t {np.mean(anchor_ratio)}')\n",
    "print(f'std:\\t {np.std(anchor_ratio)}')\n",
    "\n",
    "print(f'(-3):\\t {an_mean - 3*an_std}')\n",
    "print(f'(-2):\\t {an_mean - 2*an_std}')\n",
    "print(f'(-1):\\t {an_mean - 1*an_std}')\n",
    "print(f'(-0.5):\\t {an_mean - 0.5*an_std}')\n",
    "print(f'(0):\\t {an_mean}')\n",
    "print(f'(0.5):\\t {an_mean + 0.5*an_std}')\n",
    "print(f'(1):\\t {an_mean + 1*an_std}')\n",
    "print(f'(2):\\t {an_mean + 2*an_std}')\n",
    "print(f'(3):\\t {an_mean + 3*an_std}', end='\\n\\n')\n",
    "\n",
    "sup = 0.01\n",
    "anchor_ratio = np.sort(anchor_ratio)\n",
    "anc_mid_idxs = np.where(anchor_ratio == 1.2)\n",
    "print(anc_mid_idxs)\n",
    "mid_idx = int(np.mean(anc_mid_idxs))\n",
    "print(int(np.mean(anc_mid_idxs)))\n",
    "print(len(anchor_ratio))\n",
    "\n",
    "range_size = int( len(anchor_ratio) / 2  * (0.025/100) )\n",
    "anchor_ratio = hs / ws\n",
    "anc_range = anchor_ratio[ mid_idx - range_size : mid_idx + range_size]\n",
    "print(f'min:\\t {np.min(anc_range)}')\n",
    "print(f'mean:\\t{an_mean}')\n",
    "print(f'max:\\t {np.max(anc_range)}')\n"
   ]
  },
  {
   "cell_type": "code",
   "execution_count": 4,
   "metadata": {},
   "outputs": [
    {
     "name": "stdout",
     "output_type": "stream",
     "text": [
      "[(0, 3966), (1, 6352), (2, 897), (3, 936), (4, 982), (5, 2943), (6, 1263), (7, 5178), (8, 159), (9, 468)]\n",
      "Counter({1: 6352, 7: 5178, 0: 3966, 5: 2943, 6: 1263, 4: 982, 3: 936, 2: 897, 9: 468, 8: 159})\n",
      "[('Battery', 159), ('Clothing', 468), ('Paper pack', 897), ('Metal', 936), ('Glass', 982), ('Styrofoam', 1263), ('Plastic', 2943), ('General trash', 3966), ('Plastic bag', 5178), ('Paper', 6352)]\n"
     ]
    },
    {
     "data": {
      "text/plain": "<BarContainer object of 10 artists>"
     },
     "execution_count": 4,
     "metadata": {},
     "output_type": "execute_result"
    },
    {
     "data": {
      "image/png": "[encoded data removed]",
      "text/plain": "<Figure size 432x288 with 1 Axes>"
     },
     "metadata": {
      "image/png": {
       "height": 248,
       "width": 424
      },
      "needs_background": "light"
     },
     "output_type": "display_data"
    }
   ],
   "source": [
    "ann_cnt = Counter()\n",
    "for ann in annots:\n",
    "    ann_cnt.update([cates[int(ann['category_id'])]])\n",
    "\n",
    "ape_cnt = Counter()\n",
    "for ann in annots:\n",
    "    ape_cnt.update([ann['category_id']])\n",
    "ape = sorted(ape_cnt.items(), key=lambda x: x[0])\n",
    "print(ape)\n",
    "print(ape_cnt)\n",
    "\n",
    "ann_cnt = sorted(ann_cnt.items(), key = lambda x: x[1], reverse=False)\n",
    "print(ann_cnt)\n",
    "\n",
    "xs, ys = [], []\n",
    "for x, y in ann_cnt:\n",
    "    xs.append(x)\n",
    "    ys.append(y)\n",
    "plt.rcParams['axes.facecolor'] = 'black'\n",
    "plt.barh(xs, ys)\n",
    "\n",
    "\n"
   ]
  },
  {
   "cell_type": "code",
   "execution_count": 5,
   "metadata": {},
   "outputs": [
    {
     "name": "stdout",
     "output_type": "stream",
     "text": [
      "[(0, 11310), (1, 18595), (2, 3083), (3, 3125), (4, 3068), (5, 8840), (6, 3894), (7, 15096), (8, 1171), (9, 1691)]\n",
      "Counter({1: 18595, 7: 15096, 0: 11310, 5: 8840, 6: 3894, 3: 3125, 2: 3083, 4: 3068, 9: 1691, 8: 1171})\n",
      "[('Battery', 1171), ('Clothing', 1691), ('Glass', 3068), ('Paper pack', 3083), ('Metal', 3125), ('Styrofoam', 3894), ('Plastic', 8840), ('General trash', 11310), ('Plastic bag', 15096), ('Paper', 18595)]\n"
     ]
    },
    {
     "data": {
      "text/plain": "<BarContainer object of 10 artists>"
     },
     "execution_count": 5,
     "metadata": {},
     "output_type": "execute_result"
    },
    {
     "data": {
      "image/png": "[encoded data removed]",
      "text/plain": "<Figure size 432x288 with 1 Axes>"
     },
     "metadata": {
      "image/png": {
       "height": 248,
       "width": 424
      },
      "needs_background": "light"
     },
     "output_type": "display_data"
    }
   ],
   "source": [
    "new_ds_path = '/opt/ml/detection/train_Mixaug.json'\n",
    "new_dataset = json.load(open(new_ds_path))\n",
    "n_annots = new_dataset['annotations']\n",
    "\n",
    "ann_cnt = Counter()\n",
    "for ann in n_annots:\n",
    "    ann_cnt.update([cates[int(ann['category_id'])]])\n",
    "\n",
    "ape_cnt = Counter()\n",
    "for ann in n_annots:\n",
    "    ape_cnt.update([ann['category_id']])\n",
    "ape = sorted(ape_cnt.items(), key=lambda x: x[0])\n",
    "print(ape)\n",
    "print(ape_cnt)\n",
    "\n",
    "ann_cnt = sorted(ann_cnt.items(), key = lambda x: x[1], reverse=False)\n",
    "print(ann_cnt)\n",
    "\n",
    "xs, ys = [], []\n",
    "for x, y in ann_cnt:\n",
    "    xs.append(x)\n",
    "    ys.append(y)\n",
    "plt.barh(xs, ys)"
   ]
  },
  {
   "cell_type": "code",
   "execution_count": 6,
   "metadata": {},
   "outputs": [
    {
     "name": "stdout",
     "output_type": "stream",
     "text": [
      "[(0, 11695), (1, 17922), (2, 3197), (3, 3579), (4, 3808), (5, 8910), (6, 4289), (7, 15172), (8, 1797), (9, 2011)]\n",
      "Counter({1: 17922, 7: 15172, 0: 11695, 5: 8910, 6: 4289, 4: 3808, 3: 3579, 2: 3197, 9: 2011, 8: 1797})\n",
      "[('Battery', 1797), ('Clothing', 2011), ('Paper pack', 3197), ('Metal', 3579), ('Glass', 3808), ('Styrofoam', 4289), ('Plastic', 8910), ('General trash', 11695), ('Plastic bag', 15172), ('Paper', 17922)]\n"
     ]
    },
    {
     "data": {
      "text/plain": "<BarContainer object of 10 artists>"
     },
     "execution_count": 6,
     "metadata": {},
     "output_type": "execute_result"
    },
    {
     "data": {
      "image/png": "[encoded data removed]",
      "text/plain": "<Figure size 432x288 with 1 Axes>"
     },
     "metadata": {
      "image/png": {
       "height": 248,
       "width": 424
      },
      "needs_background": "light"
     },
     "output_type": "display_data"
    }
   ],
   "source": [
    "new_ds_path = '/opt/ml/detection/Augmented/datasetMixBgAug3406/train_v1.json'\n",
    "new_dataset = json.load(open(new_ds_path))\n",
    "n_annots = new_dataset['annotations']\n",
    "\n",
    "ann_cnt = Counter()\n",
    "for ann in n_annots:\n",
    "    ann_cnt.update([cates[int(ann['category_id'])]])\n",
    "\n",
    "ape_cnt = Counter()\n",
    "for ann in n_annots:\n",
    "    ape_cnt.update([ann['category_id']])\n",
    "ape = sorted(ape_cnt.items(), key=lambda x: x[0])\n",
    "print(ape)\n",
    "print(ape_cnt)\n",
    "\n",
    "ann_cnt = sorted(ann_cnt.items(), key = lambda x: x[1], reverse=False)\n",
    "print(ann_cnt)\n",
    "\n",
    "xs, ys = [], []\n",
    "for x, y in ann_cnt:\n",
    "    xs.append(x)\n",
    "    ys.append(y)\n",
    "plt.barh(xs, ys)"
   ]
  },
  {
   "cell_type": "code",
   "execution_count": 7,
   "metadata": {},
   "outputs": [
    {
     "name": "stdout",
     "output_type": "stream",
     "text": [
      "Classes\t\t\t APs\t\t meanBoxRatio\n",
      "Paper          :\t [0.365]\t  1.1322\n",
      "Plastic bag    :\t [0.574]\t  1.2840\n",
      "General trash  :\t [0.324]\t  1.2364\n",
      "Plastic        :\t [0.37 ]\t  1.1888\n",
      "Styrofoam      :\t [0.511]\t  1.0622\n",
      "Glass          :\t [0.497]\t  1.6113\n",
      "Metal          :\t [0.466]\t  1.1841\n",
      "Paper pack     :\t [0.573]\t  0.9806\n",
      "Clothing       :\t [0.443]\t  1.2621\n",
      "Battery        :\t [0.78 ]\t  1.2897\n"
     ]
    }
   ],
   "source": [
    "##\n",
    "# Class-wise box ratio\n",
    "class_bbox_ratio = {}\n",
    "for cls in range(10):\n",
    "    class_bbox_ratio[cls] = []\n",
    "\n",
    "APs = [365, 574, 324, 370, 511, 497, 466, 573, 443, 780]\n",
    "\n",
    "for ann in annots:\n",
    "    curr_ratio = ann['bbox'][3] / ann['bbox'][2]\n",
    "    class_bbox_ratio[ann['category_id']].append(curr_ratio)\n",
    "\n",
    "\n",
    "\n",
    "class_bbox_ratio = sorted(class_bbox_ratio.items(), key=lambda x: len(x[1]), reverse=True)\n",
    "\n",
    "print('Classes\\t\\t\\t APs\\t\\t meanBoxRatio')\n",
    "for idx, (k ,v) in enumerate(class_bbox_ratio):\n",
    "    print(f'{cates[k]: <15}:\\t [{APs[idx]/1000: <5}]\\t {np.mean(np.array(v)): .4f}')\n",
    "\n"
   ]
  },
  {
   "cell_type": "code",
   "execution_count": null,
   "metadata": {},
   "outputs": [],
   "source": [
    "##\n",
    "# Class-wise box area\n",
    "class_bbox_area = {}\n",
    "for cls in range(10):\n",
    "    class_bbox_ratio[cls] = []\n",
    "\n",
    "APs = [365, 574, 324, 370, 511, 497, 466, 573, 443, 780]\n",
    "\n",
    "for ann in annots:\n",
    "    curr_ratio = ann['bbox'][3] / ann['bbox'][2]\n",
    "    class_bbox_ratio[ann['category_id']].append(curr_ratio)\n",
    "\n",
    "\n",
    "\n",
    "class_bbox_ratio = sorted(class_bbox_ratio.items(), key=lambda x: len(x[1]), reverse=True)\n",
    "\n",
    "print('Classes\\t\\t\\t APs\\t\\t meanBoxRatio')\n",
    "for idx, (k ,v) in enumerate(class_bbox_ratio):\n",
    "    print(f'{cates[k]: <15}:\\t [{APs[idx]/1000: <5}]\\t {np.mean(np.array(v)): .4f}')\n",
    "\n"
   ]
  },
  {
   "cell_type": "code",
   "execution_count": 12,
   "metadata": {},
   "outputs": [
    {
     "name": "stdout",
     "output_type": "stream",
     "text": [
      "[0.89973217 0.88779154 0.82161589 0.80030131 0.78752371 0.76068519\n",
      " 0.50284566 0.34745006 0.1534427  0.        ]\n"
     ]
    }
   ],
   "source": [
    "ratio = np.array(ys) / np.max(ys)\n",
    "ratio = 1-ratio\n",
    "print(ratio)"
   ]
  },
  {
   "cell_type": "code",
   "execution_count": 13,
   "metadata": {},
   "outputs": [
    {
     "name": "stdout",
     "output_type": "stream",
     "text": [
      "[(0, 3966), (1, 6352), (2, 897), (3, 936), (4, 982), (5, 2943), (6, 1263), (7, 5178), (8, 159), (9, 468)]\n",
      "[0.05377684 0.         0.22341946 0.21856505 0.21309257 0.08783444\n",
      " 0.18438257 0.02333203 0.42035245 0.2975873 ]\n"
     ]
    }
   ],
   "source": [
    "ann_cnt = Counter()\n",
    "for ann in annots:\n",
    "    ann_cnt.update([ann['category_id']])\n",
    "\n",
    "ann_cnt = sorted(ann_cnt.items(), key=lambda x: x[0])\n",
    "print(ann_cnt)\n",
    "ann_cnt = [x[1] for x in ann_cnt]\n",
    "ratio = np.array(ann_cnt)\n",
    "ratio = np.log(ratio + 1.1)\n",
    "ratio = ratio / np.sum(ratio)\n",
    "ratio = 1 - (ratio / np.max(ratio))\n",
    "print(ratio)"
   ]
  },
  {
   "cell_type": "code",
   "execution_count": 9,
   "metadata": {},
   "outputs": [
    {
     "data": {
      "text/plain": "<BarContainer object of 10 artists>"
     },
     "execution_count": 9,
     "metadata": {},
     "output_type": "execute_result"
    },
    {
     "data": {
      "image/png": "[encoded data removed]",
      "text/plain": "<Figure size 432x288 with 3 Axes>"
     },
     "metadata": {
      "image/png": {
       "height": 243,
       "width": 264
      },
      "needs_background": "light"
     },
     "output_type": "display_data"
    }
   ],
   "source": [
    "def minmax(arr):\n",
    "    arr = arr / np.sum(arr)\n",
    "    return arr\n",
    "\n",
    "plt.rc('font', size=6)\n",
    "# plt.axis('off')\n",
    "fig = plt.figure()\n",
    "ax1 = fig.add_subplot(1,4,1)\n",
    "ax2 = fig.add_subplot(1,4,2)\n",
    "ax3 = fig.add_subplot(1,4,3)\n",
    "\n",
    "\n",
    "\n",
    "ratio = np.array(ys) / np.max(ys)\n",
    "ax1.set_title('before smoothing')\n",
    "ax1.axis('off')\n",
    "ax1.bar([x for x in range(len(ratio))], ratio)\n",
    "# print(ratio)\n",
    "\n",
    "res = minmax(np.log(ratio + 1.1))\n",
    "ax2.set_title('smoothing (bias=1.1)')\n",
    "ax2.axis('off')\n",
    "ax2.bar([x for x in range(len(res))], res)\n",
    "\n",
    "res = minmax(np.log(ratio + 1.9))\n",
    "ax3.set_title('smoothing (bias=1.9)')\n",
    "ax3.axis('off')\n",
    "ax3.bar([x for x in range(len(res))], res)\n"
   ]
  },
  {
   "cell_type": "code",
   "execution_count": 7,
   "metadata": {},
   "outputs": [
    {
     "name": "stdout",
     "output_type": "stream",
     "text": [
      "Counter({9: 659, 8: 618, 7: 573, 6: 532, 5: 459, 4: 445, 3: 443, 2: 441, 1: 420, 0: 405})\n"
     ]
    }
   ],
   "source": [
    "cls_arr = []\n",
    "for idx, rat in enumerate(ratio):\n",
    "    for vol in range(int(rat*5000)):\n",
    "        cls_arr.append(idx)\n",
    "    \n",
    "cls_cnt = Counter(cls_arr)\n",
    "print(cls_cnt)"
   ]
  },
  {
   "cell_type": "code",
   "execution_count": 45,
   "metadata": {},
   "outputs": [],
   "source": [
    "font = ImageFont.truetype('./ubuntu.regular.ttf', 15)\n",
    "color_group = {'General trash': 'orange', 'Paper': 'white', 'Paper pack': 'ivory', 'Metal': 'dimgrey', 'Glass': 'dodgerBlue', 'Plastic': 'darkolivegreen', 'Styrofoam': 'khaki', 'Plastic bag': 'Teal', 'Battery': 'lime', 'Clothing': 'fuchsia'}\n",
    "\n",
    "def drawbox(draw, cate, pt1, pt2):\n",
    "    draw.rectangle((pt1, pt2), outline=color_group[cate], width=3)\n",
    "    backrec = (pt1[0]+90, pt1[1]+15)\n",
    "    # draw.rectangle((pt1, backrec), outline=(0,0,0), fill=True)\n",
    "    draw.text(pt1, cate, (255,255,255), font=font, backrec=True)"
   ]
  },
  {
   "cell_type": "code",
   "execution_count": 46,
   "metadata": {},
   "outputs": [
    {
     "name": "stdout",
     "output_type": "stream",
     "text": [
      "4883 4871\n"
     ]
    },
    {
     "name": "stderr",
     "output_type": "stream",
     "text": [
      " 26%|██▌       | 1270/4883 [04:37<13:09,  4.58it/s]\n"
     ]
    },
    {
     "ename": "KeyboardInterrupt",
     "evalue": "",
     "output_type": "error",
     "traceback": [
      "\u001b[0;31m---------------------------------------------------------------------------\u001b[0m",
      "\u001b[0;31mKeyboardInterrupt\u001b[0m                         Traceback (most recent call last)",
      "\u001b[0;32m/tmp/ipykernel_7344/2832435511.py\u001b[0m in \u001b[0;36m<module>\u001b[0;34m\u001b[0m\n\u001b[1;32m     16\u001b[0m             \u001b[0mpt1\u001b[0m\u001b[0;34m,\u001b[0m \u001b[0mpt2\u001b[0m \u001b[0;34m=\u001b[0m \u001b[0;34m(\u001b[0m\u001b[0mx\u001b[0m\u001b[0;34m,\u001b[0m\u001b[0my\u001b[0m\u001b[0;34m)\u001b[0m\u001b[0;34m,\u001b[0m \u001b[0;34m(\u001b[0m\u001b[0mx\u001b[0m\u001b[0;34m+\u001b[0m\u001b[0mw\u001b[0m\u001b[0;34m,\u001b[0m \u001b[0my\u001b[0m\u001b[0;34m+\u001b[0m\u001b[0mh\u001b[0m\u001b[0;34m)\u001b[0m\u001b[0;34m\u001b[0m\u001b[0;34m\u001b[0m\u001b[0m\n\u001b[1;32m     17\u001b[0m             \u001b[0mdrawbox\u001b[0m\u001b[0;34m(\u001b[0m\u001b[0mdraw\u001b[0m\u001b[0;34m,\u001b[0m \u001b[0mcates\u001b[0m\u001b[0;34m[\u001b[0m\u001b[0mann\u001b[0m\u001b[0;34m[\u001b[0m\u001b[0;34m'category_id'\u001b[0m\u001b[0;34m]\u001b[0m\u001b[0;34m]\u001b[0m\u001b[0;34m,\u001b[0m \u001b[0mpt1\u001b[0m\u001b[0;34m,\u001b[0m \u001b[0mpt2\u001b[0m\u001b[0;34m)\u001b[0m\u001b[0;34m\u001b[0m\u001b[0;34m\u001b[0m\u001b[0m\n\u001b[0;32m---> 18\u001b[0;31m             \u001b[0mimg\u001b[0m\u001b[0;34m.\u001b[0m\u001b[0msave\u001b[0m\u001b[0;34m(\u001b[0m\u001b[0mos\u001b[0m\u001b[0;34m.\u001b[0m\u001b[0mpath\u001b[0m\u001b[0;34m.\u001b[0m\u001b[0mjoin\u001b[0m\u001b[0;34m(\u001b[0m\u001b[0mresultroot\u001b[0m\u001b[0;34m,\u001b[0m \u001b[0mimage\u001b[0m\u001b[0;34m[\u001b[0m\u001b[0;34m'file_name'\u001b[0m\u001b[0;34m]\u001b[0m\u001b[0;34m.\u001b[0m\u001b[0msplit\u001b[0m\u001b[0;34m(\u001b[0m\u001b[0;34m'/'\u001b[0m\u001b[0;34m)\u001b[0m\u001b[0;34m[\u001b[0m\u001b[0;34m-\u001b[0m\u001b[0;36m1\u001b[0m\u001b[0;34m]\u001b[0m\u001b[0;34m)\u001b[0m\u001b[0;34m)\u001b[0m\u001b[0;34m\u001b[0m\u001b[0;34m\u001b[0m\u001b[0m\n\u001b[0m",
      "\u001b[0;32m/opt/conda/envs/detection/lib/python3.7/site-packages/PIL/Image.py\u001b[0m in \u001b[0;36msave\u001b[0;34m(self, fp, format, **params)\u001b[0m\n\u001b[1;32m   2233\u001b[0m \u001b[0;34m\u001b[0m\u001b[0m\n\u001b[1;32m   2234\u001b[0m         \u001b[0;32mtry\u001b[0m\u001b[0;34m:\u001b[0m\u001b[0;34m\u001b[0m\u001b[0;34m\u001b[0m\u001b[0m\n\u001b[0;32m-> 2235\u001b[0;31m             \u001b[0msave_handler\u001b[0m\u001b[0;34m(\u001b[0m\u001b[0mself\u001b[0m\u001b[0;34m,\u001b[0m \u001b[0mfp\u001b[0m\u001b[0;34m,\u001b[0m \u001b[0mfilename\u001b[0m\u001b[0;34m)\u001b[0m\u001b[0;34m\u001b[0m\u001b[0;34m\u001b[0m\u001b[0m\n\u001b[0m\u001b[1;32m   2236\u001b[0m         \u001b[0;32mfinally\u001b[0m\u001b[0;34m:\u001b[0m\u001b[0;34m\u001b[0m\u001b[0;34m\u001b[0m\u001b[0m\n\u001b[1;32m   2237\u001b[0m             \u001b[0;31m# do what we can to clean up\u001b[0m\u001b[0;34m\u001b[0m\u001b[0;34m\u001b[0m\u001b[0;34m\u001b[0m\u001b[0m\n",
      "\u001b[0;32m/opt/conda/envs/detection/lib/python3.7/site-packages/PIL/JpegImagePlugin.py\u001b[0m in \u001b[0;36m_save\u001b[0;34m(im, fp, filename)\u001b[0m\n\u001b[1;32m    780\u001b[0m     \u001b[0mbufsize\u001b[0m \u001b[0;34m=\u001b[0m \u001b[0mmax\u001b[0m\u001b[0;34m(\u001b[0m\u001b[0mImageFile\u001b[0m\u001b[0;34m.\u001b[0m\u001b[0mMAXBLOCK\u001b[0m\u001b[0;34m,\u001b[0m \u001b[0mbufsize\u001b[0m\u001b[0;34m,\u001b[0m \u001b[0mlen\u001b[0m\u001b[0;34m(\u001b[0m\u001b[0mexif\u001b[0m\u001b[0;34m)\u001b[0m \u001b[0;34m+\u001b[0m \u001b[0;36m5\u001b[0m\u001b[0;34m,\u001b[0m \u001b[0mlen\u001b[0m\u001b[0;34m(\u001b[0m\u001b[0mextra\u001b[0m\u001b[0;34m)\u001b[0m \u001b[0;34m+\u001b[0m \u001b[0;36m1\u001b[0m\u001b[0;34m)\u001b[0m\u001b[0;34m\u001b[0m\u001b[0;34m\u001b[0m\u001b[0m\n\u001b[1;32m    781\u001b[0m \u001b[0;34m\u001b[0m\u001b[0m\n\u001b[0;32m--> 782\u001b[0;31m     \u001b[0mImageFile\u001b[0m\u001b[0;34m.\u001b[0m\u001b[0m_save\u001b[0m\u001b[0;34m(\u001b[0m\u001b[0mim\u001b[0m\u001b[0;34m,\u001b[0m \u001b[0mfp\u001b[0m\u001b[0;34m,\u001b[0m \u001b[0;34m[\u001b[0m\u001b[0;34m(\u001b[0m\u001b[0;34m\"jpeg\"\u001b[0m\u001b[0;34m,\u001b[0m \u001b[0;34m(\u001b[0m\u001b[0;36m0\u001b[0m\u001b[0;34m,\u001b[0m \u001b[0;36m0\u001b[0m\u001b[0;34m)\u001b[0m \u001b[0;34m+\u001b[0m \u001b[0mim\u001b[0m\u001b[0;34m.\u001b[0m\u001b[0msize\u001b[0m\u001b[0;34m,\u001b[0m \u001b[0;36m0\u001b[0m\u001b[0;34m,\u001b[0m \u001b[0mrawmode\u001b[0m\u001b[0;34m)\u001b[0m\u001b[0;34m]\u001b[0m\u001b[0;34m,\u001b[0m \u001b[0mbufsize\u001b[0m\u001b[0;34m)\u001b[0m\u001b[0;34m\u001b[0m\u001b[0;34m\u001b[0m\u001b[0m\n\u001b[0m\u001b[1;32m    783\u001b[0m \u001b[0;34m\u001b[0m\u001b[0m\n\u001b[1;32m    784\u001b[0m \u001b[0;34m\u001b[0m\u001b[0m\n",
      "\u001b[0;32m/opt/conda/envs/detection/lib/python3.7/site-packages/PIL/ImageFile.py\u001b[0m in \u001b[0;36m_save\u001b[0;34m(im, fp, tile, bufsize)\u001b[0m\n\u001b[1;32m    534\u001b[0m                 \u001b[0ml\u001b[0m\u001b[0;34m,\u001b[0m \u001b[0ms\u001b[0m \u001b[0;34m=\u001b[0m \u001b[0me\u001b[0m\u001b[0;34m.\u001b[0m\u001b[0mencode_to_pyfd\u001b[0m\u001b[0;34m(\u001b[0m\u001b[0;34m)\u001b[0m\u001b[0;34m\u001b[0m\u001b[0;34m\u001b[0m\u001b[0m\n\u001b[1;32m    535\u001b[0m             \u001b[0;32melse\u001b[0m\u001b[0;34m:\u001b[0m\u001b[0;34m\u001b[0m\u001b[0;34m\u001b[0m\u001b[0m\n\u001b[0;32m--> 536\u001b[0;31m                 \u001b[0ms\u001b[0m \u001b[0;34m=\u001b[0m \u001b[0me\u001b[0m\u001b[0;34m.\u001b[0m\u001b[0mencode_to_file\u001b[0m\u001b[0;34m(\u001b[0m\u001b[0mfh\u001b[0m\u001b[0;34m,\u001b[0m \u001b[0mbufsize\u001b[0m\u001b[0;34m)\u001b[0m\u001b[0;34m\u001b[0m\u001b[0;34m\u001b[0m\u001b[0m\n\u001b[0m\u001b[1;32m    537\u001b[0m             \u001b[0;32mif\u001b[0m \u001b[0ms\u001b[0m \u001b[0;34m<\u001b[0m \u001b[0;36m0\u001b[0m\u001b[0;34m:\u001b[0m\u001b[0;34m\u001b[0m\u001b[0;34m\u001b[0m\u001b[0m\n\u001b[1;32m    538\u001b[0m                 \u001b[0;32mraise\u001b[0m \u001b[0mOSError\u001b[0m\u001b[0;34m(\u001b[0m\u001b[0;34mf\"encoder error {s} when writing image file\"\u001b[0m\u001b[0;34m)\u001b[0m\u001b[0;34m\u001b[0m\u001b[0;34m\u001b[0m\u001b[0m\n",
      "\u001b[0;31mKeyboardInterrupt\u001b[0m: "
     ]
    }
   ],
   "source": [
    "###\n",
    "# visualizing annots\n",
    "\n",
    "train_paths = glob(os.path.join(trainroot, '*'))\n",
    "test_paths = glob(os.path.join(testroot, '*'))\n",
    "print(f'{len(train_paths)} {len(test_paths)}')\n",
    "\n",
    "\n",
    "images = train_json['images']\n",
    "for image in tqdm(images):\n",
    "    img = Image.open(os.path.join(base, image['file_name']))\n",
    "    draw = ImageDraw.Draw(img)\n",
    "    for ann in annots:\n",
    "        if ann['image_id'] == image['id']:\n",
    "            x,y,w,h = ann['bbox']\n",
    "            pt1, pt2 = (x,y), (x+w, y+h)\n",
    "            drawbox(draw, cates[ann['category_id']], pt1, pt2)\n",
    "            img.save(os.path.join(resultroot, image['file_name'].split('/')[-1]))"
   ]
  },
  {
   "cell_type": "code",
   "execution_count": null,
   "metadata": {},
   "outputs": [],
   "source": []
  },
  {
   "cell_type": "code",
   "execution_count": null,
   "metadata": {},
   "outputs": [],
   "source": []
  }
 ],
 "metadata": {
  "kernelspec": {
   "display_name": "Python 3.7.11 64-bit ('detection': conda)",
   "name": "python3711jvsc74a57bd029b0cbc8c2bc4924fb253dd9334aba0cc9ad3225fd824ea55dea16089b664698"
  },
  "language_info": {
   "codemirror_mode": {
    "name": "ipython",
    "version": 3
   },
   "file_extension": ".py",
   "mimetype": "text/x-python",
   "name": "python",
   "nbconvert_exporter": "python",
   "pygments_lexer": "ipython3",
   "version": "3.7.11"
  },
  "orig_nbformat": 3
 },
 "nbformat": 4,
 "nbformat_minor": 2
}