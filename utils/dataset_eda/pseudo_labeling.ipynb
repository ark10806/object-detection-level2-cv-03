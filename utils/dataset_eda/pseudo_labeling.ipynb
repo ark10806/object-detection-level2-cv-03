{
 "cells": [
  {
   "cell_type": "code",
   "execution_count": 25,
   "id": "ab91805f",
   "metadata": {},
   "outputs": [],
   "source": [
    "import pandas as pd\n",
    "import json\n",
    "\n",
    "test_json_path = \"/opt/ml/detection/dataset/test.json\"\n",
    "submission_file_path = \"/opt/ml/detection/mmdetection_new/boostcamp/swinB1-5_B_U_yR_submission.csv\"\n",
    "pseudolabel_file_path = '/opt/ml/detection/dataset/pseudo_test.json'\n",
    "\n",
    "with open(test_json_path, \"r\") as test_json:\n",
    "    test_dict = json.load(test_json)\n",
    "\n",
    "pseudo_dict = {}\n",
    "\n",
    "pseudo_dict[\"info\"] = test_dict[\"info\"]\n",
    "pseudo_dict[\"licenses\"] = test_dict[\"licenses\"]\n",
    "pseudo_dict[\"images\"] = test_dict[\"images\"]\n",
    "pseudo_dict[\"categories\"] = test_dict[\"categories\"]\n",
    "pseudo_dict[\"annotations\"] = test_dict[\"annotations\"]\n",
    "\n",
    "submission_file = pd.read_csv(submission_file_path)\n",
    "\n",
    "cnt = 0 \n",
    "for idx, row in submission_file.iterrows():\n",
    "    row_unit = row[\"PredictionString\"].split(\" \")\n",
    "    for j in range(0, len(row_unit)-6, 6):\n",
    "        if float(row_unit[j+1]) > 0.5:\n",
    "            category_id = row_unit[j]\n",
    "            image_id = idx\n",
    "            bbox = [row_unit[j+2], row_unit[j+3],row_unit[j+4],row_unit[j+5]]\n",
    "            for idx in range(len(bbox)):\n",
    "                bbox[idx] = round(float(bbox[idx]),2)\n",
    "            is_crowd = 0\n",
    "            q = {'image_id':image_id, \"category_id\":int(category_id), \"area\" : round(float(row_unit[j+4]) * float(row_unit[j+5]),2), \"iscrowd\": 0, \"id\":cnt, \"bbox\":bbox}\n",
    "            pseudo_dict[\"annotations\"].append(q)\n",
    "            cnt += 1\n",
    "\n",
    "            "
   ]
  },
  {
   "cell_type": "code",
   "execution_count": 26,
   "id": "f7621a7e",
   "metadata": {},
   "outputs": [
    {
     "data": {
      "text/plain": [
       "{'image_id': 0,\n",
       " 'category_id': 7,\n",
       " 'area': 975352.86,\n",
       " 'iscrowd': 0,\n",
       " 'id': 0,\n",
       " 'bbox': [603.91, 521.07, 952.65, 1023.83]}"
      ]
     },
     "execution_count": 26,
     "metadata": {},
     "output_type": "execute_result"
    }
   ],
   "source": [
    "pseudo_dict['annotations'][0]"
   ]
  },
  {
   "cell_type": "code",
   "execution_count": 28,
   "id": "c63e94eb",
   "metadata": {},
   "outputs": [
    {
     "data": {
      "text/html": [
       "<div>\n",
       "<style scoped>\n",
       "    .dataframe tbody tr th:only-of-type {\n",
       "        vertical-align: middle;\n",
       "    }\n",
       "\n",
       "    .dataframe tbody tr th {\n",
       "        vertical-align: top;\n",
       "    }\n",
       "\n",
       "    .dataframe thead th {\n",
       "        text-align: right;\n",
       "    }\n",
       "</style>\n",
       "<table border=\"1\" class=\"dataframe\">\n",
       "  <thead>\n",
       "    <tr style=\"text-align: right;\">\n",
       "      <th></th>\n",
       "      <th>image_id</th>\n",
       "      <th>PredictionString</th>\n",
       "    </tr>\n",
       "  </thead>\n",
       "  <tbody>\n",
       "    <tr>\n",
       "      <th>0</th>\n",
       "      <td>test/0000.jpg</td>\n",
       "      <td>7 0.9907011389732361 603.9096069335938 521.074...</td>\n",
       "    </tr>\n",
       "    <tr>\n",
       "      <th>1</th>\n",
       "      <td>test/0001.jpg</td>\n",
       "      <td>5 0.7696418166160583 131.93116760253906 0.2005...</td>\n",
       "    </tr>\n",
       "    <tr>\n",
       "      <th>2</th>\n",
       "      <td>test/0002.jpg</td>\n",
       "      <td>1 0.9478424787521362 774.7786865234375 414.753...</td>\n",
       "    </tr>\n",
       "    <tr>\n",
       "      <th>3</th>\n",
       "      <td>test/0003.jpg</td>\n",
       "      <td>9 0.8673842549324036 154.95582580566406 264.45...</td>\n",
       "    </tr>\n",
       "    <tr>\n",
       "      <th>4</th>\n",
       "      <td>test/0004.jpg</td>\n",
       "      <td>1 0.8048049211502075 207.42279052734375 258.55...</td>\n",
       "    </tr>\n",
       "  </tbody>\n",
       "</table>\n",
       "</div>"
      ],
      "text/plain": [
       "        image_id                                   PredictionString\n",
       "0  test/0000.jpg  7 0.9907011389732361 603.9096069335938 521.074...\n",
       "1  test/0001.jpg  5 0.7696418166160583 131.93116760253906 0.2005...\n",
       "2  test/0002.jpg  1 0.9478424787521362 774.7786865234375 414.753...\n",
       "3  test/0003.jpg  9 0.8673842549324036 154.95582580566406 264.45...\n",
       "4  test/0004.jpg  1 0.8048049211502075 207.42279052734375 258.55..."
      ]
     },
     "execution_count": 28,
     "metadata": {},
     "output_type": "execute_result"
    }
   ],
   "source": [
    "with open(pseudolabel_file_path, 'w', encoding='utf-8') as f:\n",
    "    json.dump(pseudo_dict, f, ensure_ascii=False, indent=4)\n",
    "    \n",
    "submission_file.head()"
   ]
  }
 ],
 "metadata": {
  "kernelspec": {
   "display_name": "detection",
   "language": "python",
   "name": "detection"
  },
  "language_info": {
   "codemirror_mode": {
    "name": "ipython",
    "version": 3
   },
   "file_extension": ".py",
   "mimetype": "text/x-python",
   "name": "python",
   "nbconvert_exporter": "python",
   "pygments_lexer": "ipython3",
   "version": "3.7.11"
  }
 },
 "nbformat": 4,
 "nbformat_minor": 5
}
